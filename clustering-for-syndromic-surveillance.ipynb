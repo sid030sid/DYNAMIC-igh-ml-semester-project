{
 "cells": [
  {
   "attachments": {},
   "cell_type": "markdown",
   "metadata": {},
   "source": [
    "# Clustering for syndromic surveillance"
   ]
  },
  {
   "cell_type": "code",
   "execution_count": 1,
   "metadata": {},
   "outputs": [],
   "source": [
    "import pandas as pd\n",
    "import numpy as np\n",
    "import matplotlib.pyplot as plt\n",
    "import plotly.express as px\n",
    "import seaborn as sb"
   ]
  },
  {
   "attachments": {},
   "cell_type": "markdown",
   "metadata": {},
   "source": [
    "# Import and prepare data"
   ]
  },
  {
   "cell_type": "code",
   "execution_count": 2,
   "metadata": {},
   "outputs": [],
   "source": [
    "features = pd.read_pickle(\"data/rwanda/features.pickle\")\n",
    "diagnoses = pd.read_pickle(\"data/rwanda/diagnoses.pickle\")\n",
    "villages = pd.read_pickle(\"data/rwanda/rw-village-coordinates.pickle\")"
   ]
  },
  {
   "cell_type": "code",
   "execution_count": 4,
   "metadata": {},
   "outputs": [
    {
     "data": {
      "text/html": [
       "<div>\n",
       "<style scoped>\n",
       "    .dataframe tbody tr th:only-of-type {\n",
       "        vertical-align: middle;\n",
       "    }\n",
       "\n",
       "    .dataframe tbody tr th {\n",
       "        vertical-align: top;\n",
       "    }\n",
       "\n",
       "    .dataframe thead th {\n",
       "        text-align: right;\n",
       "    }\n",
       "</style>\n",
       "<table border=\"1\" class=\"dataframe\">\n",
       "  <thead>\n",
       "    <tr style=\"text-align: right;\">\n",
       "      <th></th>\n",
       "      <th>District</th>\n",
       "      <th>Sector</th>\n",
       "      <th>Cell</th>\n",
       "      <th>Village</th>\n",
       "      <th>coordinates</th>\n",
       "      <th>gps_coordinates</th>\n",
       "      <th>center_gps</th>\n",
       "      <th>latitude_village</th>\n",
       "      <th>longitude_village</th>\n",
       "    </tr>\n",
       "  </thead>\n",
       "  <tbody>\n",
       "    <tr>\n",
       "      <th>0</th>\n",
       "      <td>nyarugenge</td>\n",
       "      <td>gitega</td>\n",
       "      <td>akabahizi</td>\n",
       "      <td>gihanga</td>\n",
       "      <td>[(505804.1074000001, 4784697.3946), (505808.87...</td>\n",
       "      <td>[(-1.9473174395361728, 30.052174320526692), (-...</td>\n",
       "      <td>(-1.9481017833761631, 30.05229680936519)</td>\n",
       "      <td>-1.948102</td>\n",
       "      <td>30.052297</td>\n",
       "    </tr>\n",
       "    <tr>\n",
       "      <th>1</th>\n",
       "      <td>nyarugenge</td>\n",
       "      <td>gitega</td>\n",
       "      <td>akabahizi</td>\n",
       "      <td>iterambere</td>\n",
       "      <td>[(505725.3504999997, 4785070.964), (505750.761...</td>\n",
       "      <td>[(-1.9439387164006545, 30.051466256263986), (-...</td>\n",
       "      <td>(-1.9456671128296834, 30.052606152215212)</td>\n",
       "      <td>-1.945667</td>\n",
       "      <td>30.052606</td>\n",
       "    </tr>\n",
       "    <tr>\n",
       "      <th>2</th>\n",
       "      <td>nyarugenge</td>\n",
       "      <td>gitega</td>\n",
       "      <td>akabahizi</td>\n",
       "      <td>izuba</td>\n",
       "      <td>[(505689.33939999994, 4785047.2246), (505712.2...</td>\n",
       "      <td>[(-1.9441534370853488, 30.051142552237927), (-...</td>\n",
       "      <td>(-1.9447035908774273, 30.050792203288733)</td>\n",
       "      <td>-1.944704</td>\n",
       "      <td>30.050792</td>\n",
       "    </tr>\n",
       "    <tr>\n",
       "      <th>3</th>\n",
       "      <td>nyarugenge</td>\n",
       "      <td>gitega</td>\n",
       "      <td>akabahizi</td>\n",
       "      <td>nyaburanga</td>\n",
       "      <td>[(506082.3940000003, 4784751.6763), (506066.27...</td>\n",
       "      <td>[(-1.9468264094804004, 30.054675879698678), (-...</td>\n",
       "      <td>(-1.947536650856193, 30.053989256753532)</td>\n",
       "      <td>-1.947537</td>\n",
       "      <td>30.053989</td>\n",
       "    </tr>\n",
       "    <tr>\n",
       "      <th>4</th>\n",
       "      <td>nyarugenge</td>\n",
       "      <td>gitega</td>\n",
       "      <td>akabahizi</td>\n",
       "      <td>nyenyeri</td>\n",
       "      <td>[(505779.44519999996, 4784753.8181), (505787.7...</td>\n",
       "      <td>[(-1.9468071246056908, 30.051952611351428), (-...</td>\n",
       "      <td>(-1.9473031147058788, 30.051666486846646)</td>\n",
       "      <td>-1.947303</td>\n",
       "      <td>30.051666</td>\n",
       "    </tr>\n",
       "    <tr>\n",
       "      <th>...</th>\n",
       "      <td>...</td>\n",
       "      <td>...</td>\n",
       "      <td>...</td>\n",
       "      <td>...</td>\n",
       "      <td>...</td>\n",
       "      <td>...</td>\n",
       "      <td>...</td>\n",
       "      <td>...</td>\n",
       "      <td>...</td>\n",
       "    </tr>\n",
       "    <tr>\n",
       "      <th>14810</th>\n",
       "      <td>bugesera</td>\n",
       "      <td>shyara</td>\n",
       "      <td>rutare</td>\n",
       "      <td>gaseke</td>\n",
       "      <td>[(500470.19570000004, 4749405.5013999995), (50...</td>\n",
       "      <td>[(-2.266514935034641, 30.004227547447556), (-2...</td>\n",
       "      <td>(-2.2698722752970775, 30.00040273164282)</td>\n",
       "      <td>-2.269872</td>\n",
       "      <td>30.000403</td>\n",
       "    </tr>\n",
       "    <tr>\n",
       "      <th>14811</th>\n",
       "      <td>bugesera</td>\n",
       "      <td>shyara</td>\n",
       "      <td>rutare</td>\n",
       "      <td>kamweru</td>\n",
       "      <td>[(499906.30709999986, 4747938.3901), (499914.7...</td>\n",
       "      <td>[(-2.2797841651048216, 29.999157595874365), (-...</td>\n",
       "      <td>(-2.2836209316375453, 30.00400133954392)</td>\n",
       "      <td>-2.283621</td>\n",
       "      <td>30.004001</td>\n",
       "    </tr>\n",
       "    <tr>\n",
       "      <th>14812</th>\n",
       "      <td>bugesera</td>\n",
       "      <td>shyara</td>\n",
       "      <td>rutare</td>\n",
       "      <td>ruhanga</td>\n",
       "      <td>[(498708.4414999997, 4748230.242699999), (4987...</td>\n",
       "      <td>[(-2.2771444704109625, 29.988387463507063), (-...</td>\n",
       "      <td>(-2.2815142038693947, 29.98870886971765)</td>\n",
       "      <td>-2.281514</td>\n",
       "      <td>29.988709</td>\n",
       "    </tr>\n",
       "    <tr>\n",
       "      <th>14813</th>\n",
       "      <td>bugesera</td>\n",
       "      <td>shyara</td>\n",
       "      <td>rutare</td>\n",
       "      <td>rutare</td>\n",
       "      <td>[(500611.2845999999, 4748742.6085), (500635.35...</td>\n",
       "      <td>[(-2.272510436926198, 30.00549610575808), (-2....</td>\n",
       "      <td>(-2.277080507620433, 30.006476106560523)</td>\n",
       "      <td>-2.277081</td>\n",
       "      <td>30.006476</td>\n",
       "    </tr>\n",
       "    <tr>\n",
       "      <th>14814</th>\n",
       "      <td>bugesera</td>\n",
       "      <td>shyara</td>\n",
       "      <td>rutare</td>\n",
       "      <td>shyara</td>\n",
       "      <td>[(499343.4221999999, 4749244.8101), (499382.59...</td>\n",
       "      <td>[(-2.2679682947008137, 29.994096678108583), (-...</td>\n",
       "      <td>(-2.2746881515899693, 29.996003996110282)</td>\n",
       "      <td>-2.274688</td>\n",
       "      <td>29.996004</td>\n",
       "    </tr>\n",
       "  </tbody>\n",
       "</table>\n",
       "<p>14815 rows × 9 columns</p>\n",
       "</div>"
      ],
      "text/plain": [
       "         District  Sector       Cell     Village  \\\n",
       "0      nyarugenge  gitega  akabahizi     gihanga   \n",
       "1      nyarugenge  gitega  akabahizi  iterambere   \n",
       "2      nyarugenge  gitega  akabahizi       izuba   \n",
       "3      nyarugenge  gitega  akabahizi  nyaburanga   \n",
       "4      nyarugenge  gitega  akabahizi    nyenyeri   \n",
       "...           ...     ...        ...         ...   \n",
       "14810    bugesera  shyara     rutare      gaseke   \n",
       "14811    bugesera  shyara     rutare     kamweru   \n",
       "14812    bugesera  shyara     rutare     ruhanga   \n",
       "14813    bugesera  shyara     rutare      rutare   \n",
       "14814    bugesera  shyara     rutare      shyara   \n",
       "\n",
       "                                             coordinates  \\\n",
       "0      [(505804.1074000001, 4784697.3946), (505808.87...   \n",
       "1      [(505725.3504999997, 4785070.964), (505750.761...   \n",
       "2      [(505689.33939999994, 4785047.2246), (505712.2...   \n",
       "3      [(506082.3940000003, 4784751.6763), (506066.27...   \n",
       "4      [(505779.44519999996, 4784753.8181), (505787.7...   \n",
       "...                                                  ...   \n",
       "14810  [(500470.19570000004, 4749405.5013999995), (50...   \n",
       "14811  [(499906.30709999986, 4747938.3901), (499914.7...   \n",
       "14812  [(498708.4414999997, 4748230.242699999), (4987...   \n",
       "14813  [(500611.2845999999, 4748742.6085), (500635.35...   \n",
       "14814  [(499343.4221999999, 4749244.8101), (499382.59...   \n",
       "\n",
       "                                         gps_coordinates  \\\n",
       "0      [(-1.9473174395361728, 30.052174320526692), (-...   \n",
       "1      [(-1.9439387164006545, 30.051466256263986), (-...   \n",
       "2      [(-1.9441534370853488, 30.051142552237927), (-...   \n",
       "3      [(-1.9468264094804004, 30.054675879698678), (-...   \n",
       "4      [(-1.9468071246056908, 30.051952611351428), (-...   \n",
       "...                                                  ...   \n",
       "14810  [(-2.266514935034641, 30.004227547447556), (-2...   \n",
       "14811  [(-2.2797841651048216, 29.999157595874365), (-...   \n",
       "14812  [(-2.2771444704109625, 29.988387463507063), (-...   \n",
       "14813  [(-2.272510436926198, 30.00549610575808), (-2....   \n",
       "14814  [(-2.2679682947008137, 29.994096678108583), (-...   \n",
       "\n",
       "                                      center_gps  latitude_village  \\\n",
       "0       (-1.9481017833761631, 30.05229680936519)         -1.948102   \n",
       "1      (-1.9456671128296834, 30.052606152215212)         -1.945667   \n",
       "2      (-1.9447035908774273, 30.050792203288733)         -1.944704   \n",
       "3       (-1.947536650856193, 30.053989256753532)         -1.947537   \n",
       "4      (-1.9473031147058788, 30.051666486846646)         -1.947303   \n",
       "...                                          ...               ...   \n",
       "14810   (-2.2698722752970775, 30.00040273164282)         -2.269872   \n",
       "14811   (-2.2836209316375453, 30.00400133954392)         -2.283621   \n",
       "14812   (-2.2815142038693947, 29.98870886971765)         -2.281514   \n",
       "14813   (-2.277080507620433, 30.006476106560523)         -2.277081   \n",
       "14814  (-2.2746881515899693, 29.996003996110282)         -2.274688   \n",
       "\n",
       "       longitude_village  \n",
       "0              30.052297  \n",
       "1              30.052606  \n",
       "2              30.050792  \n",
       "3              30.053989  \n",
       "4              30.051666  \n",
       "...                  ...  \n",
       "14810          30.000403  \n",
       "14811          30.004001  \n",
       "14812          29.988709  \n",
       "14813          30.006476  \n",
       "14814          29.996004  \n",
       "\n",
       "[14815 rows x 9 columns]"
      ]
     },
     "execution_count": 4,
     "metadata": {},
     "output_type": "execute_result"
    }
   ],
   "source": [
    "villages"
   ]
  },
  {
   "cell_type": "code",
   "execution_count": null,
   "metadata": {},
   "outputs": [],
   "source": [
    "complaints_older_kids = [\n",
    "    \"CC21 - General - 8341\",\n",
    "    \"CC32 - Fever - 8081\",\n",
    "    \"CC13 - Respiratory (Cough or difficult breathing) - 7808\",\n",
    "    \"CC17 - Gastrointestinal (diarrhea, vomiting, feeding) - 7875\",\n",
    "    \"CC10 - Skin / hair - 8346\",\n",
    "    \"CC11 - Eye - 7803\",\n",
    "    \"CC12 - Ear/Throat/Mouth - 8342\",\n",
    "    \"CC18 - Accident /Muskulo-skeletal (incl. burns, wounds, poison) - 8343\",\n",
    "    \"CC15 - Genitourinary (UTI, STI) - 8371\",\n",
    "    \"CC16 - Neuro (Headache, stiff neck, neck pain) - 8372\",\n",
    "    \"CC35 - Other - 8120\"]"
   ]
  },
  {
   "cell_type": "code",
   "execution_count": null,
   "metadata": {},
   "outputs": [],
   "source": [
    "complaints_infants = [\n",
    "    \"CC22 - General Assessment - 8352\",\n",
    "    \"CC33 - Fever or convulsions or lethargy - 7391\",\n",
    "    \"CC24 - Respiratory - 8370\",\n",
    "    \"CC25 - Diarrhea, abdominal, gastro-intestinal - 8076\",\n",
    "    \"CC27 - Eye complaint - 8066\",\n",
    "    \"CC28 - Ear or mouth complaint - 8072\",\n",
    "    \"CC23 - Yellow appearing skin or eyes (jaundice) - 7351\",\n",
    "    \"CC30 - Malformation of birth anomaly - 7389\",\n",
    "    \"CC29 - Feeding problem or weight concern - 8347\",\n",
    "    \"CC31 - Injuries (birth and non-birth related) - 7977\",\n",
    "    \"CC37 - Follow-up visit for a previous problem - 7521\",\n",
    "    \"CC36 - Other - 8122\"\n",
    "]"
   ]
  },
  {
   "attachments": {},
   "cell_type": "markdown",
   "metadata": {},
   "source": [
    "# Perform clustering\n",
    "Clustering approach selected based on the findings in `clustering-for-cdss-evaluation.ipynb`."
   ]
  },
  {
   "cell_type": "code",
   "execution_count": null,
   "metadata": {},
   "outputs": [],
   "source": []
  },
  {
   "attachments": {},
   "cell_type": "markdown",
   "metadata": {},
   "source": [
    "# Evaluation\n",
    "... through ...\n",
    "- diagnoses distribution\n",
    "- accuracy and shap values of lgbm classifier"
   ]
  },
  {
   "cell_type": "code",
   "execution_count": null,
   "metadata": {},
   "outputs": [],
   "source": []
  },
  {
   "attachments": {},
   "cell_type": "markdown",
   "metadata": {},
   "source": [
    "# Syndromic surveillance"
   ]
  },
  {
   "cell_type": "code",
   "execution_count": null,
   "metadata": {},
   "outputs": [],
   "source": []
  },
  {
   "attachments": {},
   "cell_type": "markdown",
   "metadata": {},
   "source": [
    "## Demographic analysis of clusters"
   ]
  },
  {
   "cell_type": "code",
   "execution_count": null,
   "metadata": {},
   "outputs": [],
   "source": []
  },
  {
   "attachments": {},
   "cell_type": "markdown",
   "metadata": {},
   "source": [
    "## Temporal analysis of clusters"
   ]
  },
  {
   "cell_type": "code",
   "execution_count": null,
   "metadata": {},
   "outputs": [],
   "source": []
  },
  {
   "attachments": {},
   "cell_type": "markdown",
   "metadata": {},
   "source": [
    "## Spatial analysis of clusters"
   ]
  },
  {
   "cell_type": "code",
   "execution_count": null,
   "metadata": {},
   "outputs": [],
   "source": []
  },
  {
   "attachments": {},
   "cell_type": "markdown",
   "metadata": {},
   "source": [
    "## Spatio-temporal analysis"
   ]
  },
  {
   "cell_type": "code",
   "execution_count": null,
   "metadata": {},
   "outputs": [],
   "source": []
  },
  {
   "attachments": {},
   "cell_type": "markdown",
   "metadata": {},
   "source": [
    "## Outbreak detection"
   ]
  },
  {
   "cell_type": "code",
   "execution_count": null,
   "metadata": {},
   "outputs": [],
   "source": []
  }
 ],
 "metadata": {
  "kernelspec": {
   "display_name": "Python 3",
   "language": "python",
   "name": "python3"
  },
  "language_info": {
   "codemirror_mode": {
    "name": "ipython",
    "version": 3
   },
   "file_extension": ".py",
   "mimetype": "text/x-python",
   "name": "python",
   "nbconvert_exporter": "python",
   "pygments_lexer": "ipython3",
   "version": "3.10.5"
  },
  "orig_nbformat": 4
 },
 "nbformat": 4,
 "nbformat_minor": 2
}
