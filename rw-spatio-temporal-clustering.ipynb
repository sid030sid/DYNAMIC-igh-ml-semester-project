{
 "cells": [
  {
   "attachments": {},
   "cell_type": "markdown",
   "metadata": {},
   "source": [
    "# **Spatio-temporal clustering for syndromic surveillance**"
   ]
  },
  {
   "cell_type": "code",
   "execution_count": null,
   "metadata": {},
   "outputs": [],
   "source": [
    "import pandas as pd\n",
    "import numpy as np\n",
    "import matplotlib.pyplot as plt"
   ]
  },
  {
   "cell_type": "code",
   "execution_count": null,
   "metadata": {},
   "outputs": [],
   "source": [
    "# import cleaned and prepared data of consultations in RW\n",
    "rw_data = pd.read_pickle(\"data/rw-cleaned-prepared-dynamic-data-phase1.pickle\")"
   ]
  },
  {
   "attachments": {},
   "cell_type": "markdown",
   "metadata": {},
   "source": [
    "# Data selection\n",
    "Only pick columns relevant for the spatio-temporal clustering of symptoms. Relevant columns are:\n",
    "1. time = \"medical_case_consultation_date\"\n",
    "2. space\n",
    "    - hf location = \"health_facility_longitude\" & \"health_facility_latitude\"\n",
    "    - location of patient's home: \"BD9 - Village (Umudugudu) - 8062\" (cleaned in columns: ....)\n",
    "3. demographic: \n",
    "    - age = \"patient_birthdate\"\n",
    "    - sex = \"patient_gender\"\n",
    "    - columns with BD in the beginning\n",
    "    - columns with BM in the beginning\n",
    "    - diagnosis (= potential labels for clusters) = columns with DF (, CH, A) in the beginning\n",
    "4. symptoms = columns with CC, PE and (S, OS, A) in the beginning"
   ]
  },
  {
   "cell_type": "code",
   "execution_count": null,
   "metadata": {},
   "outputs": [],
   "source": [
    "columns_to_keep = [\n",
    "    \"medical_case_id\",\n",
    "    \"medical_case_consultation_date\",\n",
    "    \"patient_id\",\n",
    "    \"patient_birthdate\",\n",
    "    \"patient_gender\",\n",
    "    \"health_facility_id\",\n",
    "    \"health_facility_group_id\",\n",
    "    \"health_facility_longitude\",\n",
    "    \"health_facility_latitude\",\n",
    "    \"health_facility_name\"\n",
    "]\n",
    "\n",
    "demographic_columns = [\n",
    "    \"patient_birthdate\",\n",
    "    \"patient_gender\"\n",
    "]\n",
    "\n",
    "spatio_temporal_columns = [\n",
    "    \"medical_case_consultation_date\",\n",
    "    \"health_facility_longitude\",\n",
    "    \"health_facility_latitude\",\n",
    "    \"health_facility_name\",\n",
    "]"
   ]
  },
  {
   "cell_type": "code",
   "execution_count": null,
   "metadata": {},
   "outputs": [],
   "source": [
    "# select symptom data\n",
    "rw_symptoms = rw_data[[col for col in rw_data.columns if col[0:2] == \"CC\" or col[0:2] == \"PE\"]]\n",
    "rw_symptoms"
   ]
  },
  {
   "attachments": {},
   "cell_type": "markdown",
   "metadata": {},
   "source": [
    "# Quality control of selected data for clustering\n",
    "- missingness\n",
    "- low variance"
   ]
  },
  {
   "attachments": {},
   "cell_type": "markdown",
   "metadata": {},
   "source": [
    "## Low variance"
   ]
  },
  {
   "cell_type": "code",
   "execution_count": null,
   "metadata": {},
   "outputs": [],
   "source": [
    "description_rw_symptoms = rw_symptoms.describe()\n",
    "description_rw_symptoms \n",
    "\n",
    "# check for low variance columns\n",
    "low_var_threshold = 10 # TODO should be different for binary columns\n",
    "var_rw_data = description_rw_symptoms.loc[[\"std\"]].transpose().dropna().sort_values(by=[\"std\"])\n",
    "\n",
    "# plot low variance columns\n",
    "var_rw_data[var_rw_data[\"std\"] <= low_var_threshold].plot(kind=\"bar\", rot=90, title=\"Low variance columns\")"
   ]
  },
  {
   "attachments": {},
   "cell_type": "markdown",
   "metadata": {},
   "source": [
    "## Missingness"
   ]
  },
  {
   "cell_type": "code",
   "execution_count": null,
   "metadata": {},
   "outputs": [],
   "source": [
    "# number of nan per column\n",
    "nnan_rw_symptoms = rw_symptoms.isnull().sum(axis = 0).to_frame(name=\"nnan\").sort_values(\"nnan\", ascending=False)\n",
    "nnan_rw_symptoms[\"nnan_share_in_%\"] = nnan_rw_symptoms[\"nnan\"] / rw_symptoms.shape[0] * 100\n",
    "nnan_rw_symptoms[\"group\"] = pd.cut(nnan_rw_symptoms[\"nnan_share_in_%\"], bins=[0, 1, 10, 20, 30, 40, 50, 60, 70, 80, 90, 100], right=True, include_lowest=True)\n",
    "print(nnan_rw_symptoms.groupby(\"group\").size())\n",
    "nnan_rw_symptoms.groupby(\"group\").size().plot(kind=\"bar\", title=\"Number of columns per NAN value amount category\")"
   ]
  },
  {
   "cell_type": "code",
   "execution_count": null,
   "metadata": {},
   "outputs": [],
   "source": [
    "# boxplot of share of nan values for each column\n",
    "plt.boxplot(nnan_rw_symptoms[\"nnan_share_in_%\"])\n",
    "plt.title(\"Share of nan values for each column\")\n",
    "plt.show()"
   ]
  },
  {
   "cell_type": "code",
   "execution_count": null,
   "metadata": {},
   "outputs": [],
   "source": [
    "# distribution of share of nan values for each column\n",
    "plt.hist(nnan_rw_symptoms[\"nnan_share_in_%\"])\n",
    "plt.title(\"Histogram of share of nan values for each column\")\n",
    "plt.show()"
   ]
  },
  {
   "cell_type": "code",
   "execution_count": null,
   "metadata": {},
   "outputs": [],
   "source": [
    "# columns with no nan\n",
    "print(nnan_rw_symptoms[nnan_rw_symptoms[\"nnan\"] == 0].size/nnan_rw_symptoms.size*100, \"%\", \"of columns contain no NaN values!\")\n",
    "nnan_rw_symptoms[nnan_rw_symptoms[\"nnan\"] == 0].index"
   ]
  },
  {
   "cell_type": "code",
   "execution_count": null,
   "metadata": {},
   "outputs": [],
   "source": [
    "# plot columns with too many NaN values\n",
    "nnan_threshold = 20 # in %\n",
    "print(nnan_rw_symptoms[nnan_rw_symptoms[\"nnan\"] / nnan_rw_symptoms.shape[0] * 100 <= nnan_threshold].shape[0] / nnan_rw_symptoms.shape[0] * 100, \"%\", \"of columns contain less or equal than\", nnan_threshold,\"%\", \"of NaN values!\")\n",
    "nnan_rw_symptoms[nnan_rw_symptoms[\"nnan\"] / nnan_rw_symptoms.shape[0] * 100 <= nnan_threshold].plot(kind=\"bar\", rot=90, title=f\"Columns with less or equal than {nnan_threshold}% of NaN values\")"
   ]
  },
  {
   "attachments": {},
   "cell_type": "markdown",
   "metadata": {},
   "source": [
    "# Data Cleaning"
   ]
  },
  {
   "cell_type": "code",
   "execution_count": null,
   "metadata": {},
   "outputs": [],
   "source": [
    "# convert \"yes\"/\"no\" columns to floats\n",
    "rw_symptoms = rw_symptoms.apply(lambda x : x.map({\"Yes\": 1, \"No\": 0}), axis=1)"
   ]
  },
  {
   "cell_type": "code",
   "execution_count": null,
   "metadata": {},
   "outputs": [],
   "source": [
    "# drop columns with too many NaN values based on nnan_threshold"
   ]
  },
  {
   "cell_type": "code",
   "execution_count": null,
   "metadata": {},
   "outputs": [],
   "source": [
    "# replace NaN values with 0 = False = No (TODO how to handle missingness needs to be discussed with ML and domain expert)"
   ]
  },
  {
   "attachments": {},
   "cell_type": "markdown",
   "metadata": {},
   "source": [
    "# Clustering"
   ]
  },
  {
   "attachments": {},
   "cell_type": "markdown",
   "metadata": {},
   "source": [
    "## K-Means"
   ]
  },
  {
   "cell_type": "code",
   "execution_count": null,
   "metadata": {},
   "outputs": [],
   "source": [
    "!pip install yellowbrick"
   ]
  },
  {
   "cell_type": "code",
   "execution_count": null,
   "metadata": {},
   "outputs": [],
   "source": [
    "from sklearn.cluster import KMeans\n",
    "from yellowbrick.cluster import KElbowVisualizer"
   ]
  },
  {
   "attachments": {},
   "cell_type": "markdown",
   "metadata": {},
   "source": [
    "### Configure data for K-means\n"
   ]
  },
  {
   "cell_type": "code",
   "execution_count": null,
   "metadata": {},
   "outputs": [],
   "source": [
    "KMeans_with_NAN_values = True\n",
    "KMeans_with_symptoms_and_demographic = True\n",
    "\n",
    "if KMeans_with_NAN_values:\n",
    "    # convert NAN to 0 indicating that the symptom was not present\n",
    "    data = rw_symptoms.fillna(0)\n",
    "else:\n",
    "    # drop columns which contain NAN values\n",
    "    data = rw_symptoms.dropna(axis=1)\n",
    "    print(\"Dropping columns with NAN, leads to\", rw_symptoms.shape[1]-data.shape[1],\"less columns.\")\n",
    "    print(data.shape[1], \"columns are used for clustering.\")\n",
    "\n",
    "if KMeans_with_symptoms_and_demographic:\n",
    "    data = data.append(axis=1)"
   ]
  },
  {
   "cell_type": "code",
   "execution_count": null,
   "metadata": {},
   "outputs": [],
   "source": [
    "# Finding the optimal number of clusters using the Elbow method with yellowbrick\n",
    "model = KMeans(n_init =10)\n",
    "visualizer = KElbowVisualizer(model, k=(1,11))\n",
    "visualizer.fit(data)\n",
    "n_clusters = visualizer.elbow_value_ # optimal number of clusters\n",
    "visualizer.show()"
   ]
  },
  {
   "cell_type": "code",
   "execution_count": null,
   "metadata": {},
   "outputs": [],
   "source": [
    "# Performing clustering with the optimal number of clusters\n",
    "kmeans = KMeans(n_clusters=n_clusters, n_init=10, random_state=0).fit(data)\n",
    "\n",
    "# Adding the column 'cluster' to the dataframe\n",
    "data[\"cluster\"] = kmeans.labels_"
   ]
  },
  {
   "cell_type": "code",
   "execution_count": null,
   "metadata": {},
   "outputs": [],
   "source": [
    "data.groupby(\"cluster\").size().plot(kind=\"bar\", title=\"Number of consultations per cluster\")"
   ]
  }
 ],
 "metadata": {
  "kernelspec": {
   "display_name": "Python 3",
   "language": "python",
   "name": "python3"
  },
  "language_info": {
   "codemirror_mode": {
    "name": "ipython",
    "version": 3
   },
   "file_extension": ".py",
   "mimetype": "text/x-python",
   "name": "python",
   "nbconvert_exporter": "python",
   "pygments_lexer": "ipython3",
   "version": "3.10.5"
  },
  "orig_nbformat": 4
 },
 "nbformat": 4,
 "nbformat_minor": 2
}
