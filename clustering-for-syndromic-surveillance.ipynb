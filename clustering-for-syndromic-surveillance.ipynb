{
 "cells": [
  {
   "attachments": {},
   "cell_type": "markdown",
   "metadata": {},
   "source": [
    "# Clustering for syndromic surveillance"
   ]
  },
  {
   "cell_type": "code",
   "execution_count": 1,
   "metadata": {},
   "outputs": [
    {
     "name": "stdout",
     "output_type": "stream",
     "text": [
      "Requirement already satisfied: yellowbrick in c:\\users\\sidla\\appdata\\local\\programs\\python\\python310\\lib\\site-packages (1.5)\n",
      "Requirement already satisfied: cycler>=0.10.0 in c:\\users\\sidla\\appdata\\local\\programs\\python\\python310\\lib\\site-packages (from yellowbrick) (0.11.0)\n",
      "Requirement already satisfied: scipy>=1.0.0 in c:\\users\\sidla\\appdata\\local\\programs\\python\\python310\\lib\\site-packages (from yellowbrick) (1.9.3)\n",
      "Requirement already satisfied: scikit-learn>=1.0.0 in c:\\users\\sidla\\appdata\\local\\programs\\python\\python310\\lib\\site-packages (from yellowbrick) (1.2.0)\n",
      "Requirement already satisfied: matplotlib!=3.0.0,>=2.0.2 in c:\\users\\sidla\\appdata\\local\\programs\\python\\python310\\lib\\site-packages (from yellowbrick) (3.5.2)\n",
      "Requirement already satisfied: numpy>=1.16.0 in c:\\users\\sidla\\appdata\\local\\programs\\python\\python310\\lib\\site-packages (from yellowbrick) (1.23.1)\n",
      "Requirement already satisfied: pyparsing>=2.2.1 in c:\\users\\sidla\\appdata\\local\\programs\\python\\python310\\lib\\site-packages (from matplotlib!=3.0.0,>=2.0.2->yellowbrick) (3.0.9)\n",
      "Requirement already satisfied: packaging>=20.0 in c:\\users\\sidla\\appdata\\local\\programs\\python\\python310\\lib\\site-packages (from matplotlib!=3.0.0,>=2.0.2->yellowbrick) (21.3)\n",
      "Requirement already satisfied: fonttools>=4.22.0 in c:\\users\\sidla\\appdata\\local\\programs\\python\\python310\\lib\\site-packages (from matplotlib!=3.0.0,>=2.0.2->yellowbrick) (4.34.4)\n",
      "Requirement already satisfied: python-dateutil>=2.7 in c:\\users\\sidla\\appdata\\local\\programs\\python\\python310\\lib\\site-packages (from matplotlib!=3.0.0,>=2.0.2->yellowbrick) (2.8.2)\n",
      "Requirement already satisfied: kiwisolver>=1.0.1 in c:\\users\\sidla\\appdata\\local\\programs\\python\\python310\\lib\\site-packages (from matplotlib!=3.0.0,>=2.0.2->yellowbrick) (1.4.4)\n",
      "Requirement already satisfied: pillow>=6.2.0 in c:\\users\\sidla\\appdata\\local\\programs\\python\\python310\\lib\\site-packages (from matplotlib!=3.0.0,>=2.0.2->yellowbrick) (9.2.0)\n",
      "Requirement already satisfied: joblib>=1.1.1 in c:\\users\\sidla\\appdata\\local\\programs\\python\\python310\\lib\\site-packages (from scikit-learn>=1.0.0->yellowbrick) (1.2.0)\n",
      "Requirement already satisfied: threadpoolctl>=2.0.0 in c:\\users\\sidla\\appdata\\local\\programs\\python\\python310\\lib\\site-packages (from scikit-learn>=1.0.0->yellowbrick) (3.1.0)\n",
      "Requirement already satisfied: six>=1.5 in c:\\users\\sidla\\appdata\\local\\programs\\python\\python310\\lib\\site-packages (from python-dateutil>=2.7->matplotlib!=3.0.0,>=2.0.2->yellowbrick) (1.16.0)\n",
      "Note: you may need to restart the kernel to use updated packages.\n"
     ]
    },
    {
     "name": "stderr",
     "output_type": "stream",
     "text": [
      "\n",
      "[notice] A new release of pip is available: 23.0.1 -> 23.1.2\n",
      "[notice] To update, run: python.exe -m pip install --upgrade pip\n"
     ]
    }
   ],
   "source": [
    "pip install yellowbrick"
   ]
  },
  {
   "cell_type": "code",
   "execution_count": 2,
   "metadata": {},
   "outputs": [],
   "source": [
    "import pandas as pd\n",
    "import numpy as np\n",
    "import matplotlib.pyplot as plt\n",
    "import plotly.express as px\n",
    "import seaborn as sb\n",
    "from sklearn.preprocessing import StandardScaler\n",
    "from sklearn.cluster import KMeans\n",
    "from yellowbrick.cluster import KElbowVisualizer"
   ]
  },
  {
   "attachments": {},
   "cell_type": "markdown",
   "metadata": {},
   "source": [
    "# Import and prepare data"
   ]
  },
  {
   "cell_type": "code",
   "execution_count": 3,
   "metadata": {},
   "outputs": [],
   "source": [
    "features = pd.read_pickle(\"data/rwanda/features.pickle\") # cleaned and prepared features as selected by domain experts with missing values\n",
    "diagnoses = pd.read_pickle(\"data/rwanda/diagnoses.pickle\")\n",
    "villages = pd.read_pickle(\"data/rwanda/rw-village-coordinates.pickle\")"
   ]
  },
  {
   "attachments": {},
   "cell_type": "markdown",
   "metadata": {},
   "source": [
    "# Perform clustering\n",
    "Clustering approach selected based on the findings in `clustering-for-cdss-evaluation.ipynb`."
   ]
  },
  {
   "cell_type": "code",
   "execution_count": 4,
   "metadata": {},
   "outputs": [
    {
     "name": "stdout",
     "output_type": "stream",
     "text": [
      "Number of missing values in features after preprocessing: 0\n"
     ]
    }
   ],
   "source": [
    "# imputate and numericalize based on domain and context\n",
    "preprocessed_features = features.copy()\n",
    "\n",
    "# rules for imputing and numericalisation\n",
    "domain_based_data_preprocessing = {\n",
    "        'patient_age': {\"method\":\"median\"}, # \"method\" refers to the NAN processing method\n",
    "        'patient_gender': {\"method\":\"median\", \"conversion\":{\"female\": 1, \"male\": 0}},\n",
    "        'PE212 - Respiratory rate (breaths/min) - 8469': {\"method\":\"domain\", \"conversion\":{np.nan : 14}},  # check wth doman if nan = 14 makes sense\n",
    "        'S39 - Cough - 7817': {\"method\":\"domain\", \"conversion\":{np.nan : 0, \"Yes\": 1, \"No\": 0}},\n",
    "        'PE18 - Chest indrawing - 7811': {\"method\":\"domain\", \"conversion\":{np.nan : 0, \"Yes\": 1, \"No\": 0}},\n",
    "        'S180 - How is the infant feeding currently? - 7516': {\"method\":\"domain\", \"conversion\":{np.nan : 0, 'Feeding well': 0, 'Not feeding well': 1, 'Not feeding at all': 2}},\n",
    "        'S46 - Convulsions in present illness - 8355': {\"method\":\"domain\", \"conversion\":{np.nan : 0, \"Yes\": 1, \"No\": 0}},\n",
    "        'BC - Axillary temperature - 7823 categorical': {\"method\":\"domain\", \"conversion\":{np.nan : 0, \"< 38 °C\": 0, \">= 38°C\": 1}}, # check wth doman if nan = 0 makes sense\n",
    "        'PE125 - Observation of movement - 8388': {\"method\":\"domain\", \"conversion\":{np.nan : 0, 'Movement without stimulation': 0, 'Movement only when stimulated': 1, 'No movement even when stimulated': 2}},\n",
    "        'S96 - Unable to drink or breastfeed - 7871': {\"method\":\"domain\", \"conversion\":{np.nan : 0, \"Yes\": 1, \"No\": 0}},\n",
    "        'S157 - Vomiting everything - 8026': {\"method\":\"domain\", \"conversion\":{np.nan : 0, \"Yes\": 1, \"No\": 0}},\n",
    "        'OS9 - Unconscious or Lethargic (Unusually sleepy) - 7378': {\"method\":\"domain\", \"conversion\":{np.nan : 0, \"Yes\": 1, \"No\": 0}},\n",
    "        'PE63 - Stiff neck - 8391': {\"method\":\"domain\", \"conversion\":{np.nan : 0, \"Present\": 1, \"Absent\": 0}}, \n",
    "        'PE19 - Stridor in calm child - 7812': {\"method\":\"domain\", \"conversion\":{np.nan : 0, \"Yes\": 1, \"No\": 0}},\n",
    "                'S42 - Duration of fever (days) - 7819 categorical': {\"method\":\"domain\", \"conversion\":{np.nan : 0, '< 4 days': 1, '>= 4 days < 7 days': 2, '>= 7 days < 14 days': 3, '>= 14 days': 4}},\n",
    "        'S124 - Significant weight loss - 7539': {\"method\":\"domain\", \"conversion\":{np.nan : 0, \"Yes\": 1, \"No\": 0}},\n",
    "        'S118 - Significant hemoptysis (>1 episode) - 7941': {\"method\":\"domain\", \"conversion\":{np.nan : 0, \"Yes\": 1, \"No\": 0}},\n",
    "                'S176 - Cough duration (days) - 7731 categorical': {\"method\":\"domain\", \"conversion\":{np.nan : 0, \"< 2 weeks\": 1, \">= 2 weeks\": 2}},\n",
    "        'E46 - Recent close contact with somebody with TB - 7820': {\"method\":\"domain\", \"conversion\":{np.nan : 0, \"Yes\": 1, \"No\": 0}},\n",
    "        'PE220 - Identifiable source of fever? - 8399': {\"method\":\"domain\", \"conversion\":{np.nan : 0, \"Yes\": 1, \"No\": 0}},\n",
    "        'A55 - Urinary dipstick - 7648': {\"method\":\"domain\", \"conversion\":{np.nan : 0, \"Pathologic\": 1, \"Normal\": 0}},\n",
    "        'PE134 - Measles rash and associated signs - 8386': {\"method\":\"domain\", \"conversion\":{np.nan : 0, \"Present\": 1, \"Absent\": 0}},\n",
    "        'PE109 - Scarlet fever rash - 8344': {\"method\":\"domain\", \"conversion\":{np.nan : 0, \"Present\": 1, \"Absent\": 0}},\n",
    "        'PE106 - Non specific viral rash - 7930': {\"method\":\"domain\", \"conversion\":{np.nan : 0, \"Present\": 1, \"Absent\": 0}},\n",
    "        'PE218 - Unexplained bleeding - 8107': {\"method\":\"domain\", \"conversion\":{np.nan : 0, \"Present\": 1, \"Absent\": 0}},\n",
    "        'S153 - Diarrhea (stools are looser or more watery than normal) - 7649': {\"method\":\"domain\", \"conversion\":{np.nan : 0, \"Yes\": 1, \"No\": 0}},\n",
    "                'S98 - Number of loose or liquid stools over the past 24 hours - 7882 categorical': {\"method\":\"domain\", \"conversion\":{np.nan : 0, '<3': 1, '>=3': 2, '>=4': 3, '>=5': 4, '>=6': 5}},\n",
    "        'S149 - Yellow appearing skin or eyes (jaundice) - 7630': {\"method\":\"domain\", \"conversion\":{np.nan : 0, \"Yes\": 1, \"No\": 0}},\n",
    "        'PE191 - Jaundice - 8036': {\"method\":\"domain\", \"conversion\":{np.nan : 0, \"Present\": 1, \"Absent\": 0}},\n",
    "        'S74 - Abnormal vaginal discharge - 8377': {\"method\":\"domain\", \"conversion\":{np.nan : 0, \"Yes\": 1, \"No\": 0}},\n",
    "        'S81 - Urethral discharge - 7810': {\"method\":\"domain\", \"conversion\":{np.nan : 0, \"Yes\": 1, \"No\": 0}}, \n",
    "        'S79 - Genital lesion - 7867': {\"method\":\"domain\", \"conversion\":{np.nan : 0, \"Yes\": 1, \"No\": 0}},\n",
    "                'BC7 - Weight for age (z-score) - 8434 categorical': {\"method\":\"domain\", \"conversion\":{np.nan : 0, \"more than -2 z-score\": 0, \"-2 z-score\": 1, \"less than -2 z-score\": 2}}, # check wth doman if nan =0 makes sense\n",
    "                'BC95 - Weight for height - 7451 categorical': {\"method\":\"domain\", \"conversion\":{np.nan : 0, \"more than -2 z-score\": 0, \"-2 z-score\": 1, \"less than -2 z-score\": 2}}, # check wth doman if nan = 0 makes sense\n",
    "                \"BC61 - MUAC for age z-score - 7839 categorical\": {\"method\":\"domain\", \"conversion\":{np.nan : 0, '> - 2 z-score': 0, \"-2 z-score\": 1, '< -2 z-score': 2}},\n",
    "        'malaria': {\"method\":\"domain\", \"conversion\":{np.nan : 0, \"Positive\": 1, \"Negative\": 0}},\n",
    "                'fever without source: presumed bacterial infection': {\"method\":\"domain\", \"conversion\":{np.nan : 0, 'Accepted': 1, 'Manually added': 1, 'Rejected': 0,}}, # check wth doman if nan = 0 makes sense\n",
    "                'fever without source: presumed viral illness': {\"method\":\"domain\", \"conversion\":{np.nan : 0, 'Accepted': 1, 'Manually added': 1, 'Rejected': 0,}}, # check wth doman if nan = 0 makes sense\n",
    "        'suspicion of tuberculosis': {\"method\":\"domain\", \"conversion\":{np.nan : 0, \"Accepted\": 1, \"Rejected\": 0}}# check wth doman if nan = 0 makes sense\n",
    "}\n",
    "\n",
    "# impute nan and numericalise features based on domain knowledge\n",
    "for feature in domain_based_data_preprocessing:\n",
    "        if \"conversion\" in domain_based_data_preprocessing[feature]: \n",
    "                preprocessed_features[feature] = preprocessed_features[feature].replace(domain_based_data_preprocessing[feature][\"conversion\"])\n",
    "        if domain_based_data_preprocessing[feature][\"method\"] == \"median\": \n",
    "                median=preprocessed_features[feature].median()\n",
    "                preprocessed_features[feature] = preprocessed_features[feature].fillna(median)\n",
    "        if domain_based_data_preprocessing[feature][\"method\"] == \"mean\": \n",
    "                mean=preprocessed_features[feature].mean()\n",
    "                preprocessed_features[feature] = preprocessed_features[feature].fillna(mean)\n",
    "\n",
    "# convert features to float \n",
    "preprocessed_features = preprocessed_features.astype(float)\n",
    "\n",
    "# standardize features\n",
    "scaler = StandardScaler()\n",
    "scaled_features = scaler.fit_transform(preprocessed_features)\n",
    "preprocessed_features = pd.DataFrame(scaled_features, columns=preprocessed_features.columns)\n",
    "\n",
    "# check if there are no missing values anymore  \n",
    "print(\"Number of missing values in features after preprocessing:\", preprocessed_features.isna().sum().sum())"
   ]
  },
  {
   "cell_type": "code",
   "execution_count": 5,
   "metadata": {},
   "outputs": [
    {
     "data": {
      "image/png": "[encoded data removed]",
      "text/plain": [
       "<Figure size 800x550 with 2 Axes>"
      ]
     },
     "metadata": {},
     "output_type": "display_data"
    },
    {
     "data": {
      "text/plain": [
       "<AxesSubplot:title={'center':'Distortion Score Elbow for KMeans Clustering'}, xlabel='k', ylabel='distortion score'>"
      ]
     },
     "execution_count": 5,
     "metadata": {},
     "output_type": "execute_result"
    }
   ],
   "source": [
    "# find k with elbow method\n",
    "model = KMeans(n_init=100, random_state=1)\n",
    "visualizer = KElbowVisualizer(model, k=(1,15))\n",
    "visualizer.fit(preprocessed_features)\n",
    "n_clusters = visualizer.elbow_value_ # optimal number of clusters\n",
    "visualizer.show()"
   ]
  },
  {
   "cell_type": "code",
   "execution_count": 6,
   "metadata": {},
   "outputs": [],
   "source": [
    "kmeans = KMeans(n_clusters=n_clusters, n_init=100, random_state=2).fit(preprocessed_features)\n",
    "labeled_preprocessed_features = preprocessed_features.copy()\n",
    "labeled_preprocessed_features[\"cluster\"] = kmeans.labels_.astype(\"str\")\n",
    "labeled_features = features.copy()\n",
    "labeled_features[\"cluster\"] = kmeans.labels_.astype(\"str\")"
   ]
  },
  {
   "cell_type": "code",
   "execution_count": 28,
   "metadata": {},
   "outputs": [],
   "source": [
    "# store final clustering result as pickle for syndromic surveillance notebook and dashboard\n",
    "labeled_preprocessed_features.to_pickle(\"data/rwanda/final_labeled_preprocessed_features\")\n",
    "labeled_preprocessed_features.to_pickle(\"data/dash/final_labeled_preprocessed_features\")"
   ]
  },
  {
   "attachments": {},
   "cell_type": "markdown",
   "metadata": {},
   "source": [
    "# Evaluation\n",
    "... through ...\n",
    "- basic analysis, e. g.number of consultations per cluster\n",
    "- feature distribution\n",
    "- diagnoses distribution\n",
    "- accuracy and shap values of lgbm classifier"
   ]
  },
  {
   "attachments": {},
   "cell_type": "markdown",
   "metadata": {},
   "source": [
    "## Basic analysis"
   ]
  },
  {
   "cell_type": "code",
   "execution_count": null,
   "metadata": {},
   "outputs": [],
   "source": []
  },
  {
   "attachments": {},
   "cell_type": "markdown",
   "metadata": {},
   "source": [
    "## Feature distribution"
   ]
  },
  {
   "cell_type": "code",
   "execution_count": 48,
   "metadata": {},
   "outputs": [],
   "source": [
    "# select feature whose dstribution per cluster you want to examine\n",
    "feature=features.columns[31]"
   ]
  },
  {
   "cell_type": "code",
   "execution_count": 46,
   "metadata": {},
   "outputs": [],
   "source": [
    "#show distribution of upper selected feature per cluster depending on data type of feature\n",
    "def show_feature_distribution_per_cluster(feature):\n",
    "    if \"float\" in str(labeled_features[feature].dtype) and len(labeled_features[feature].dropna().unique())>2: #if continues feature plot as boxplots\n",
    "        fig = px.box(labeled_features, x=\"cluster\", y=feature, title=f\"Distribution of '{feature}' per cluster\", labels={\"cluster\":\"Cluster\"})\n",
    "    else:\n",
    "        cluster_size=labeled_features.groupby(\"cluster\").size().reset_index(name=\"cluster_size\")\n",
    "        feature_per_cluster=labeled_features.groupby([\"cluster\", feature], dropna=False).size().reset_index(name=\"feature_size\")\n",
    "        feature_per_cluster[feature] = feature_per_cluster[feature].astype(str)\n",
    "        feature_per_cluster=feature_per_cluster.merge(cluster_size, on=\"cluster\")\n",
    "        feature_per_cluster[\"share_category\"] = feature_per_cluster[\"feature_size\"] / feature_per_cluster[\"cluster_size\"]\n",
    "        fig = px.bar(feature_per_cluster, x=\"cluster\", y=\"share_category\", color=feature, title=f\"Distribution of '{feature}' per cluster\", labels={\"cluster\":\"Cluster\", \"share_category\":\"Cluster share\", feature:\"Categories\"})\n",
    "        fig.update_yaxes(range=[0, 1])\n",
    "    return fig"
   ]
  },
  {
   "cell_type": "code",
   "execution_count": 49,
   "metadata": {},
   "outputs": [
    {
     "data": {
      "application/vnd.plotly.v1+json": {
       "config": {
        "plotlyServerURL": "https://plot.ly"
       },
       "data": [
        {
         "alignmentgroup": "True",
         "hovertemplate": "Categories=nan<br>Cluster=%{x}<br>Cluster share=%{y}<extra></extra>",
         "legendgroup": "nan",
         "marker": {
          "color": "#636efa",
          "pattern": {
           "shape": ""
          }
         },
         "name": "nan",
         "offsetgroup": "nan",
         "orientation": "v",
         "showlegend": true,
         "textposition": "auto",
         "type": "bar",
         "x": [
          "0",
          "1",
          "2"
         ],
         "xaxis": "x",
         "y": [
          1,
          0.9992001112888642,
          0.999616882702254
         ],
         "yaxis": "y"
        },
        {
         "alignmentgroup": "True",
         "hovertemplate": "Categories=No<br>Cluster=%{x}<br>Cluster share=%{y}<extra></extra>",
         "legendgroup": "No",
         "marker": {
          "color": "#EF553B",
          "pattern": {
           "shape": ""
          }
         },
         "name": "No",
         "offsetgroup": "No",
         "orientation": "v",
         "showlegend": true,
         "textposition": "auto",
         "type": "bar",
         "x": [
          "1",
          "2"
         ],
         "xaxis": "x",
         "y": [
          0.0006259998608889199,
          0.0003831172977459932
         ],
         "yaxis": "y"
        },
        {
         "alignmentgroup": "True",
         "hovertemplate": "Categories=Yes<br>Cluster=%{x}<br>Cluster share=%{y}<extra></extra>",
         "legendgroup": "Yes",
         "marker": {
          "color": "#00cc96",
          "pattern": {
           "shape": ""
          }
         },
         "name": "Yes",
         "offsetgroup": "Yes",
         "orientation": "v",
         "showlegend": true,
         "textposition": "auto",
         "type": "bar",
         "x": [
          "1"
         ],
         "xaxis": "x",
         "y": [
          0.00017388885024692216
         ],
         "yaxis": "y"
        }
       ],
       "layout": {
        "barmode": "relative",
        "legend": {
         "title": {
          "text": "Categories"
         },
         "tracegroupgap": 0
        },
        "template": {
         "data": {
          "bar": [
           {
            "error_x": {
             "color": "#2a3f5f"
            },
            "error_y": {
             "color": "#2a3f5f"
            },
            "marker": {
             "line": {
              "color": "#E5ECF6",
              "width": 0.5
             },
             "pattern": {
              "fillmode": "overlay",
              "size": 10,
              "solidity": 0.2
             }
            },
            "type": "bar"
           }
          ],
          "barpolar": [
           {
            "marker": {
             "line": {
              "color": "#E5ECF6",
              "width": 0.5
             },
             "pattern": {
              "fillmode": "overlay",
              "size": 10,
              "solidity": 0.2
             }
            },
            "type": "barpolar"
           }
          ],
          "carpet": [
           {
            "aaxis": {
             "endlinecolor": "#2a3f5f",
             "gridcolor": "white",
             "linecolor": "white",
             "minorgridcolor": "white",
             "startlinecolor": "#2a3f5f"
            },
            "baxis": {
             "endlinecolor": "#2a3f5f",
             "gridcolor": "white",
             "linecolor": "white",
             "minorgridcolor": "white",
             "startlinecolor": "#2a3f5f"
            },
            "type": "carpet"
           }
          ],
          "choropleth": [
           {
            "colorbar": {
             "outlinewidth": 0,
             "ticks": ""
            },
            "type": "choropleth"
           }
          ],
          "contour": [
           {
            "colorbar": {
             "outlinewidth": 0,
             "ticks": ""
            },
            "colorscale": [
             [
              0,
              "#0d0887"
             ],
             [
              0.1111111111111111,
              "#46039f"
             ],
             [
              0.2222222222222222,
              "#7201a8"
             ],
             [
              0.3333333333333333,
              "#9c179e"
             ],
             [
              0.4444444444444444,
              "#bd3786"
             ],
             [
              0.5555555555555556,
              "#d8576b"
             ],
             [
              0.6666666666666666,
              "#ed7953"
             ],
             [
              0.7777777777777778,
              "#fb9f3a"
             ],
             [
              0.8888888888888888,
              "#fdca26"
             ],
             [
              1,
              "#f0f921"
             ]
            ],
            "type": "contour"
           }
          ],
          "contourcarpet": [
           {
            "colorbar": {
             "outlinewidth": 0,
             "ticks": ""
            },
            "type": "contourcarpet"
           }
          ],
          "heatmap": [
           {
            "colorbar": {
             "outlinewidth": 0,
             "ticks": ""
            },
            "colorscale": [
             [
              0,
              "#0d0887"
             ],
             [
              0.1111111111111111,
              "#46039f"
             ],
             [
              0.2222222222222222,
              "#7201a8"
             ],
             [
              0.3333333333333333,
              "#9c179e"
             ],
             [
              0.4444444444444444,
              "#bd3786"
             ],
             [
              0.5555555555555556,
              "#d8576b"
             ],
             [
              0.6666666666666666,
              "#ed7953"
             ],
             [
              0.7777777777777778,
              "#fb9f3a"
             ],
             [
              0.8888888888888888,
              "#fdca26"
             ],
             [
              1,
              "#f0f921"
             ]
            ],
            "type": "heatmap"
           }
          ],
          "heatmapgl": [
           {
            "colorbar": {
             "outlinewidth": 0,
             "ticks": ""
            },
            "colorscale": [
             [
              0,
              "#0d0887"
             ],
             [
              0.1111111111111111,
              "#46039f"
             ],
             [
              0.2222222222222222,
              "#7201a8"
             ],
             [
              0.3333333333333333,
              "#9c179e"
             ],
             [
              0.4444444444444444,
              "#bd3786"
             ],
             [
              0.5555555555555556,
              "#d8576b"
             ],
             [
              0.6666666666666666,
              "#ed7953"
             ],
             [
              0.7777777777777778,
              "#fb9f3a"
             ],
             [
              0.8888888888888888,
              "#fdca26"
             ],
             [
              1,
              "#f0f921"
             ]
            ],
            "type": "heatmapgl"
           }
          ],
          "histogram": [
           {
            "marker": {
             "pattern": {
              "fillmode": "overlay",
              "size": 10,
              "solidity": 0.2
             }
            },
            "type": "histogram"
           }
          ],
          "histogram2d": [
           {
            "colorbar": {
             "outlinewidth": 0,
             "ticks": ""
            },
            "colorscale": [
             [
              0,
              "#0d0887"
             ],
             [
              0.1111111111111111,
              "#46039f"
             ],
             [
              0.2222222222222222,
              "#7201a8"
             ],
             [
              0.3333333333333333,
              "#9c179e"
             ],
             [
              0.4444444444444444,
              "#bd3786"
             ],
             [
              0.5555555555555556,
              "#d8576b"
             ],
             [
              0.6666666666666666,
              "#ed7953"
             ],
             [
              0.7777777777777778,
              "#fb9f3a"
             ],
             [
              0.8888888888888888,
              "#fdca26"
             ],
             [
              1,
              "#f0f921"
             ]
            ],
            "type": "histogram2d"
           }
          ],
          "histogram2dcontour": [
           {
            "colorbar": {
             "outlinewidth": 0,
             "ticks": ""
            },
            "colorscale": [
             [
              0,
              "#0d0887"
             ],
             [
              0.1111111111111111,
              "#46039f"
             ],
             [
              0.2222222222222222,
              "#7201a8"
             ],
             [
              0.3333333333333333,
              "#9c179e"
             ],
             [
              0.4444444444444444,
              "#bd3786"
             ],
             [
              0.5555555555555556,
              "#d8576b"
             ],
             [
              0.6666666666666666,
              "#ed7953"
             ],
             [
              0.7777777777777778,
              "#fb9f3a"
             ],
             [
              0.8888888888888888,
              "#fdca26"
             ],
             [
              1,
              "#f0f921"
             ]
            ],
            "type": "histogram2dcontour"
           }
          ],
          "mesh3d": [
           {
            "colorbar": {
             "outlinewidth": 0,
             "ticks": ""
            },
            "type": "mesh3d"
           }
          ],
          "parcoords": [
           {
            "line": {
             "colorbar": {
              "outlinewidth": 0,
              "ticks": ""
             }
            },
            "type": "parcoords"
           }
          ],
          "pie": [
           {
            "automargin": true,
            "type": "pie"
           }
          ],
          "scatter": [
           {
            "fillpattern": {
             "fillmode": "overlay",
             "size": 10,
             "solidity": 0.2
            },
            "type": "scatter"
           }
          ],
          "scatter3d": [
           {
            "line": {
             "colorbar": {
              "outlinewidth": 0,
              "ticks": ""
             }
            },
            "marker": {
             "colorbar": {
              "outlinewidth": 0,
              "ticks": ""
             }
            },
            "type": "scatter3d"
           }
          ],
          "scattercarpet": [
           {
            "marker": {
             "colorbar": {
              "outlinewidth": 0,
              "ticks": ""
             }
            },
            "type": "scattercarpet"
           }
          ],
          "scattergeo": [
           {
            "marker": {
             "colorbar": {
              "outlinewidth": 0,
              "ticks": ""
             }
            },
            "type": "scattergeo"
           }
          ],
          "scattergl": [
           {
            "marker": {
             "colorbar": {
              "outlinewidth": 0,
              "ticks": ""
             }
            },
            "type": "scattergl"
           }
          ],
          "scattermapbox": [
           {
            "marker": {
             "colorbar": {
              "outlinewidth": 0,
              "ticks": ""
             }
            },
            "type": "scattermapbox"
           }
          ],
          "scatterpolar": [
           {
            "marker": {
             "colorbar": {
              "outlinewidth": 0,
              "ticks": ""
             }
            },
            "type": "scatterpolar"
           }
          ],
          "scatterpolargl": [
           {
            "marker": {
             "colorbar": {
              "outlinewidth": 0,
              "ticks": ""
             }
            },
            "type": "scatterpolargl"
           }
          ],
          "scatterternary": [
           {
            "marker": {
             "colorbar": {
              "outlinewidth": 0,
              "ticks": ""
             }
            },
            "type": "scatterternary"
           }
          ],
          "surface": [
           {
            "colorbar": {
             "outlinewidth": 0,
             "ticks": ""
            },
            "colorscale": [
             [
              0,
              "#0d0887"
             ],
             [
              0.1111111111111111,
              "#46039f"
             ],
             [
              0.2222222222222222,
              "#7201a8"
             ],
             [
              0.3333333333333333,
              "#9c179e"
             ],
             [
              0.4444444444444444,
              "#bd3786"
             ],
             [
              0.5555555555555556,
              "#d8576b"
             ],
             [
              0.6666666666666666,
              "#ed7953"
             ],
             [
              0.7777777777777778,
              "#fb9f3a"
             ],
             [
              0.8888888888888888,
              "#fdca26"
             ],
             [
              1,
              "#f0f921"
             ]
            ],
            "type": "surface"
           }
          ],
          "table": [
           {
            "cells": {
             "fill": {
              "color": "#EBF0F8"
             },
             "line": {
              "color": "white"
             }
            },
            "header": {
             "fill": {
              "color": "#C8D4E3"
             },
             "line": {
              "color": "white"
             }
            },
            "type": "table"
           }
          ]
         },
         "layout": {
          "annotationdefaults": {
           "arrowcolor": "#2a3f5f",
           "arrowhead": 0,
           "arrowwidth": 1
          },
          "autotypenumbers": "strict",
          "coloraxis": {
           "colorbar": {
            "outlinewidth": 0,
            "ticks": ""
           }
          },
          "colorscale": {
           "diverging": [
            [
             0,
             "#8e0152"
            ],
            [
             0.1,
             "#c51b7d"
            ],
            [
             0.2,
             "#de77ae"
            ],
            [
             0.3,
             "#f1b6da"
            ],
            [
             0.4,
             "#fde0ef"
            ],
            [
             0.5,
             "#f7f7f7"
            ],
            [
             0.6,
             "#e6f5d0"
            ],
            [
             0.7,
             "#b8e186"
            ],
            [
             0.8,
             "#7fbc41"
            ],
            [
             0.9,
             "#4d9221"
            ],
            [
             1,
             "#276419"
            ]
           ],
           "sequential": [
            [
             0,
             "#0d0887"
            ],
            [
             0.1111111111111111,
             "#46039f"
            ],
            [
             0.2222222222222222,
             "#7201a8"
            ],
            [
             0.3333333333333333,
             "#9c179e"
            ],
            [
             0.4444444444444444,
             "#bd3786"
            ],
            [
             0.5555555555555556,
             "#d8576b"
            ],
            [
             0.6666666666666666,
             "#ed7953"
            ],
            [
             0.7777777777777778,
             "#fb9f3a"
            ],
            [
             0.8888888888888888,
             "#fdca26"
            ],
            [
             1,
             "#f0f921"
            ]
           ],
           "sequentialminus": [
            [
             0,
             "#0d0887"
            ],
            [
             0.1111111111111111,
             "#46039f"
            ],
            [
             0.2222222222222222,
             "#7201a8"
            ],
            [
             0.3333333333333333,
             "#9c179e"
            ],
            [
             0.4444444444444444,
             "#bd3786"
            ],
            [
             0.5555555555555556,
             "#d8576b"
            ],
            [
             0.6666666666666666,
             "#ed7953"
            ],
            [
             0.7777777777777778,
             "#fb9f3a"
            ],
            [
             0.8888888888888888,
             "#fdca26"
            ],
            [
             1,
             "#f0f921"
            ]
           ]
          },
          "colorway": [
           "#636efa",
           "#EF553B",
           "#00cc96",
           "#ab63fa",
           "#FFA15A",
           "#19d3f3",
           "#FF6692",
           "#B6E880",
           "#FF97FF",
           "#FECB52"
          ],
          "font": {
           "color": "#2a3f5f"
          },
          "geo": {
           "bgcolor": "white",
           "lakecolor": "white",
           "landcolor": "#E5ECF6",
           "showlakes": true,
           "showland": true,
           "subunitcolor": "white"
          },
          "hoverlabel": {
           "align": "left"
          },
          "hovermode": "closest",
          "mapbox": {
           "style": "light"
          },
          "paper_bgcolor": "white",
          "plot_bgcolor": "#E5ECF6",
          "polar": {
           "angularaxis": {
            "gridcolor": "white",
            "linecolor": "white",
            "ticks": ""
           },
           "bgcolor": "#E5ECF6",
           "radialaxis": {
            "gridcolor": "white",
            "linecolor": "white",
            "ticks": ""
           }
          },
          "scene": {
           "xaxis": {
            "backgroundcolor": "#E5ECF6",
            "gridcolor": "white",
            "gridwidth": 2,
            "linecolor": "white",
            "showbackground": true,
            "ticks": "",
            "zerolinecolor": "white"
           },
           "yaxis": {
            "backgroundcolor": "#E5ECF6",
            "gridcolor": "white",
            "gridwidth": 2,
            "linecolor": "white",
            "showbackground": true,
            "ticks": "",
            "zerolinecolor": "white"
           },
           "zaxis": {
            "backgroundcolor": "#E5ECF6",
            "gridcolor": "white",
            "gridwidth": 2,
            "linecolor": "white",
            "showbackground": true,
            "ticks": "",
            "zerolinecolor": "white"
           }
          },
          "shapedefaults": {
           "line": {
            "color": "#2a3f5f"
           }
          },
          "ternary": {
           "aaxis": {
            "gridcolor": "white",
            "linecolor": "white",
            "ticks": ""
           },
           "baxis": {
            "gridcolor": "white",
            "linecolor": "white",
            "ticks": ""
           },
           "bgcolor": "#E5ECF6",
           "caxis": {
            "gridcolor": "white",
            "linecolor": "white",
            "ticks": ""
           }
          },
          "title": {
           "x": 0.05
          },
          "xaxis": {
           "automargin": true,
           "gridcolor": "white",
           "linecolor": "white",
           "ticks": "",
           "title": {
            "standoff": 15
           },
           "zerolinecolor": "white",
           "zerolinewidth": 2
          },
          "yaxis": {
           "automargin": true,
           "gridcolor": "white",
           "linecolor": "white",
           "ticks": "",
           "title": {
            "standoff": 15
           },
           "zerolinecolor": "white",
           "zerolinewidth": 2
          }
         }
        },
        "title": {
         "text": "Distribution of 'S79 - Genital lesion - 7867' per cluster"
        },
        "xaxis": {
         "anchor": "y",
         "domain": [
          0,
          1
         ],
         "title": {
          "text": "Cluster"
         }
        },
        "yaxis": {
         "anchor": "x",
         "domain": [
          0,
          1
         ],
         "range": [
          0,
          1
         ],
         "title": {
          "text": "Cluster share"
         }
        }
       }
      }
     },
     "metadata": {},
     "output_type": "display_data"
    }
   ],
   "source": [
    "show_feature_distribution_per_cluster(feature).show()"
   ]
  },
  {
   "attachments": {},
   "cell_type": "markdown",
   "metadata": {},
   "source": [
    "## Diagnosis distribution"
   ]
  },
  {
   "cell_type": "code",
   "execution_count": 11,
   "metadata": {},
   "outputs": [
    {
     "name": "stderr",
     "output_type": "stream",
     "text": [
      "C:\\Users\\sidla\\AppData\\Local\\Temp\\ipykernel_20332\\556850888.py:9: FutureWarning:\n",
      "\n",
      "This dataframe has a column name that matches the 'value_name' column name of the resulting Dataframe. In the future this will raise an error, please set the 'value_name' parameter of DataFrame.melt to a unique name.\n",
      "\n"
     ]
    },
    {
     "name": "stdout",
     "output_type": "stream",
     "text": [
      "Diagnoses determining clusters: Empty DataFrame\n",
      "Columns: [diagnosis, number_cluster_appearance]\n",
      "Index: []\n"
     ]
    },
    {
     "data": {
      "application/vnd.plotly.v1+json": {
       "config": {
        "plotlyServerURL": "https://plot.ly"
       },
       "data": [
        {
         "alignmentgroup": "True",
         "hovertemplate": "Diagnosis=abscess<br>Cluster=%{x}<br>Share number of consultations=%{text}<extra></extra>",
         "legendgroup": "",
         "marker": {
          "color": "#636efa",
          "pattern": {
           "shape": ""
          }
         },
         "name": "",
         "offsetgroup": "",
         "orientation": "v",
         "showlegend": false,
         "text": [
          0,
          0.0004,
          0
         ],
         "textposition": "auto",
         "type": "bar",
         "x": [
          "0",
          "1",
          "2"
         ],
         "xaxis": "x",
         "y": [
          0,
          0.0004,
          0
         ],
         "yaxis": "y"
        }
       ],
       "frames": [
        {
         "data": [
          {
           "alignmentgroup": "True",
           "hovertemplate": "Diagnosis=abscess<br>Cluster=%{x}<br>Share number of consultations=%{text}<extra></extra>",
           "legendgroup": "",
           "marker": {
            "color": "#636efa",
            "pattern": {
             "shape": ""
            }
           },
           "name": "",
           "offsetgroup": "",
           "orientation": "v",
           "showlegend": false,
           "text": [
            0,
            0.0004,
            0
           ],
           "textposition": "auto",
           "type": "bar",
           "x": [
            "0",
            "1",
            "2"
           ],
           "xaxis": "x",
           "y": [
            0,
            0.0004,
            0
           ],
           "yaxis": "y"
          }
         ],
         "name": "abscess"
        },
        {
         "data": [
          {
           "alignmentgroup": "True",
           "hovertemplate": "Diagnosis=acute diarrhea<br>Cluster=%{x}<br>Share number of consultations=%{text}<extra></extra>",
           "legendgroup": "",
           "marker": {
            "color": "#636efa",
            "pattern": {
             "shape": ""
            }
           },
           "name": "",
           "offsetgroup": "",
           "orientation": "v",
           "showlegend": false,
           "text": [
            0.0899,
            0.0421,
            0.049
           ],
           "textposition": "auto",
           "type": "bar",
           "x": [
            "0",
            "1",
            "2"
           ],
           "xaxis": "x",
           "y": [
            0.0899,
            0.0421,
            0.049
           ],
           "yaxis": "y"
          }
         ],
         "name": "acute diarrhea"
        },
        {
         "data": [
          {
           "alignmentgroup": "True",
           "hovertemplate": "Diagnosis=acute limp or joint pain<br>Cluster=%{x}<br>Share number of consultations=%{text}<extra></extra>",
           "legendgroup": "",
           "marker": {
            "color": "#636efa",
            "pattern": {
             "shape": ""
            }
           },
           "name": "",
           "offsetgroup": "",
           "orientation": "v",
           "showlegend": false,
           "text": [
            0.0021,
            0.0017,
            0.0002
           ],
           "textposition": "auto",
           "type": "bar",
           "x": [
            "0",
            "1",
            "2"
           ],
           "xaxis": "x",
           "y": [
            0.0021,
            0.0017,
            0.0002
           ],
           "yaxis": "y"
          }
         ],
         "name": "acute limp or joint pain"
        },
        {
         "data": [
          {
           "alignmentgroup": "True",
           "hovertemplate": "Diagnosis=acute otitis media (ear infection)<br>Cluster=%{x}<br>Share number of consultations=%{text}<extra></extra>",
           "legendgroup": "",
           "marker": {
            "color": "#636efa",
            "pattern": {
             "shape": ""
            }
           },
           "name": "",
           "offsetgroup": "",
           "orientation": "v",
           "showlegend": false,
           "text": [
            0,
            0.0003,
            0
           ],
           "textposition": "auto",
           "type": "bar",
           "x": [
            "0",
            "1",
            "2"
           ],
           "xaxis": "x",
           "y": [
            0,
            0.0003,
            0
           ],
           "yaxis": "y"
          }
         ],
         "name": "acute otitis media (ear infection)"
        },
        {
         "data": [
          {
           "alignmentgroup": "True",
           "hovertemplate": "Diagnosis=allergic conjunctivitis<br>Cluster=%{x}<br>Share number of consultations=%{text}<extra></extra>",
           "legendgroup": "",
           "marker": {
            "color": "#636efa",
            "pattern": {
             "shape": ""
            }
           },
           "name": "",
           "offsetgroup": "",
           "orientation": "v",
           "showlegend": false,
           "text": [
            0.0059,
            0.0076,
            0.0034
           ],
           "textposition": "auto",
           "type": "bar",
           "x": [
            "0",
            "1",
            "2"
           ],
           "xaxis": "x",
           "y": [
            0.0059,
            0.0076,
            0.0034
           ],
           "yaxis": "y"
          }
         ],
         "name": "allergic conjunctivitis"
        },
        {
         "data": [
          {
           "alignmentgroup": "True",
           "hovertemplate": "Diagnosis=anaphylaxis<br>Cluster=%{x}<br>Share number of consultations=%{text}<extra></extra>",
           "legendgroup": "",
           "marker": {
            "color": "#636efa",
            "pattern": {
             "shape": ""
            }
           },
           "name": "",
           "offsetgroup": "",
           "orientation": "v",
           "showlegend": false,
           "text": [
            0,
            0.0001,
            0
           ],
           "textposition": "auto",
           "type": "bar",
           "x": [
            "0",
            "1",
            "2"
           ],
           "xaxis": "x",
           "y": [
            0,
            0.0001,
            0
           ],
           "yaxis": "y"
          }
         ],
         "name": "anaphylaxis"
        },
        {
         "data": [
          {
           "alignmentgroup": "True",
           "hovertemplate": "Diagnosis=bacterial acute pharyngitis<br>Cluster=%{x}<br>Share number of consultations=%{text}<extra></extra>",
           "legendgroup": "",
           "marker": {
            "color": "#636efa",
            "pattern": {
             "shape": ""
            }
           },
           "name": "",
           "offsetgroup": "",
           "orientation": "v",
           "showlegend": false,
           "text": [
            0.0233,
            0.0167,
            0.0375
           ],
           "textposition": "auto",
           "type": "bar",
           "x": [
            "0",
            "1",
            "2"
           ],
           "xaxis": "x",
           "y": [
            0.0233,
            0.0167,
            0.0375
           ],
           "yaxis": "y"
          }
         ],
         "name": "bacterial acute pharyngitis"
        },
        {
         "data": [
          {
           "alignmentgroup": "True",
           "hovertemplate": "Diagnosis=bacterial conjunctivitis<br>Cluster=%{x}<br>Share number of consultations=%{text}<extra></extra>",
           "legendgroup": "",
           "marker": {
            "color": "#636efa",
            "pattern": {
             "shape": ""
            }
           },
           "name": "",
           "offsetgroup": "",
           "orientation": "v",
           "showlegend": false,
           "text": [
            0.0032,
            0.005,
            0.003
           ],
           "textposition": "auto",
           "type": "bar",
           "x": [
            "0",
            "1",
            "2"
           ],
           "xaxis": "x",
           "y": [
            0.0032,
            0.005,
            0.003
           ],
           "yaxis": "y"
          }
         ],
         "name": "bacterial conjunctivitis"
        },
        {
         "data": [
          {
           "alignmentgroup": "True",
           "hovertemplate": "Diagnosis=bacterial conjunctivitis (< 5 y)<br>Cluster=%{x}<br>Share number of consultations=%{text}<extra></extra>",
           "legendgroup": "",
           "marker": {
            "color": "#636efa",
            "pattern": {
             "shape": ""
            }
           },
           "name": "",
           "offsetgroup": "",
           "orientation": "v",
           "showlegend": false,
           "text": [
            0.0201,
            0.0118,
            0.0142
           ],
           "textposition": "auto",
           "type": "bar",
           "x": [
            "0",
            "1",
            "2"
           ],
           "xaxis": "x",
           "y": [
            0.0201,
            0.0118,
            0.0142
           ],
           "yaxis": "y"
          }
         ],
         "name": "bacterial conjunctivitis (< 5 y)"
        },
        {
         "data": [
          {
           "alignmentgroup": "True",
           "hovertemplate": "Diagnosis=bacterial pneumonia<br>Cluster=%{x}<br>Share number of consultations=%{text}<extra></extra>",
           "legendgroup": "",
           "marker": {
            "color": "#636efa",
            "pattern": {
             "shape": ""
            }
           },
           "name": "",
           "offsetgroup": "",
           "orientation": "v",
           "showlegend": false,
           "text": [
            0.0646,
            0.0028,
            0.069
           ],
           "textposition": "auto",
           "type": "bar",
           "x": [
            "0",
            "1",
            "2"
           ],
           "xaxis": "x",
           "y": [
            0.0646,
            0.0028,
            0.069
           ],
           "yaxis": "y"
          }
         ],
         "name": "bacterial pneumonia"
        },
        {
         "data": [
          {
           "alignmentgroup": "True",
           "hovertemplate": "Diagnosis=balanitis<br>Cluster=%{x}<br>Share number of consultations=%{text}<extra></extra>",
           "legendgroup": "",
           "marker": {
            "color": "#636efa",
            "pattern": {
             "shape": ""
            }
           },
           "name": "",
           "offsetgroup": "",
           "orientation": "v",
           "showlegend": false,
           "text": [
            0.0009,
            0.001,
            0.0002
           ],
           "textposition": "auto",
           "type": "bar",
           "x": [
            "0",
            "1",
            "2"
           ],
           "xaxis": "x",
           "y": [
            0.0009,
            0.001,
            0.0002
           ],
           "yaxis": "y"
          }
         ],
         "name": "balanitis"
        },
        {
         "data": [
          {
           "alignmentgroup": "True",
           "hovertemplate": "Diagnosis=cellulitis<br>Cluster=%{x}<br>Share number of consultations=%{text}<extra></extra>",
           "legendgroup": "",
           "marker": {
            "color": "#636efa",
            "pattern": {
             "shape": ""
            }
           },
           "name": "",
           "offsetgroup": "",
           "orientation": "v",
           "showlegend": false,
           "text": [
            0,
            0.0005,
            0.0001
           ],
           "textposition": "auto",
           "type": "bar",
           "x": [
            "0",
            "1",
            "2"
           ],
           "xaxis": "x",
           "y": [
            0,
            0.0005,
            0.0001
           ],
           "yaxis": "y"
          }
         ],
         "name": "cellulitis"
        },
        {
         "data": [
          {
           "alignmentgroup": "True",
           "hovertemplate": "Diagnosis=chronic ear infection<br>Cluster=%{x}<br>Share number of consultations=%{text}<extra></extra>",
           "legendgroup": "",
           "marker": {
            "color": "#636efa",
            "pattern": {
             "shape": ""
            }
           },
           "name": "",
           "offsetgroup": "",
           "orientation": "v",
           "showlegend": false,
           "text": [
            0.0012,
            0.0009,
            0.0004
           ],
           "textposition": "auto",
           "type": "bar",
           "x": [
            "0",
            "1",
            "2"
           ],
           "xaxis": "x",
           "y": [
            0.0012,
            0.0009,
            0.0004
           ],
           "yaxis": "y"
          }
         ],
         "name": "chronic ear infection"
        },
        {
         "data": [
          {
           "alignmentgroup": "True",
           "hovertemplate": "Diagnosis=chronic limp or joint pain<br>Cluster=%{x}<br>Share number of consultations=%{text}<extra></extra>",
           "legendgroup": "",
           "marker": {
            "color": "#636efa",
            "pattern": {
             "shape": ""
            }
           },
           "name": "",
           "offsetgroup": "",
           "orientation": "v",
           "showlegend": false,
           "text": [
            0.0012,
            0.0013,
            0.0001
           ],
           "textposition": "auto",
           "type": "bar",
           "x": [
            "0",
            "1",
            "2"
           ],
           "xaxis": "x",
           "y": [
            0.0012,
            0.0013,
            0.0001
           ],
           "yaxis": "y"
          }
         ],
         "name": "chronic limp or joint pain"
        },
        {
         "data": [
          {
           "alignmentgroup": "True",
           "hovertemplate": "Diagnosis=cns danger signs<br>Cluster=%{x}<br>Share number of consultations=%{text}<extra></extra>",
           "legendgroup": "",
           "marker": {
            "color": "#636efa",
            "pattern": {
             "shape": ""
            }
           },
           "name": "",
           "offsetgroup": "",
           "orientation": "v",
           "showlegend": false,
           "text": [
            0.0003,
            0.0003,
            0.0002
           ],
           "textposition": "auto",
           "type": "bar",
           "x": [
            "0",
            "1",
            "2"
           ],
           "xaxis": "x",
           "y": [
            0.0003,
            0.0003,
            0.0002
           ],
           "yaxis": "y"
          }
         ],
         "name": "cns danger signs"
        },
        {
         "data": [
          {
           "alignmentgroup": "True",
           "hovertemplate": "Diagnosis=common cold<br>Cluster=%{x}<br>Share number of consultations=%{text}<extra></extra>",
           "legendgroup": "",
           "marker": {
            "color": "#636efa",
            "pattern": {
             "shape": ""
            }
           },
           "name": "",
           "offsetgroup": "",
           "orientation": "v",
           "showlegend": false,
           "text": [
            0.4544,
            0.0746,
            0.6594
           ],
           "textposition": "auto",
           "type": "bar",
           "x": [
            "0",
            "1",
            "2"
           ],
           "xaxis": "x",
           "y": [
            0.4544,
            0.0746,
            0.6594
           ],
           "yaxis": "y"
          }
         ],
         "name": "common cold"
        },
        {
         "data": [
          {
           "alignmentgroup": "True",
           "hovertemplate": "Diagnosis=complicated abscess<br>Cluster=%{x}<br>Share number of consultations=%{text}<extra></extra>",
           "legendgroup": "",
           "marker": {
            "color": "#636efa",
            "pattern": {
             "shape": ""
            }
           },
           "name": "",
           "offsetgroup": "",
           "orientation": "v",
           "showlegend": false,
           "text": [
            0.0024,
            0.0027,
            0.0011
           ],
           "textposition": "auto",
           "type": "bar",
           "x": [
            "0",
            "1",
            "2"
           ],
           "xaxis": "x",
           "y": [
            0.0024,
            0.0027,
            0.0011
           ],
           "yaxis": "y"
          }
         ],
         "name": "complicated abscess"
        },
        {
         "data": [
          {
           "alignmentgroup": "True",
           "hovertemplate": "Diagnosis=complicated acute ear infection<br>Cluster=%{x}<br>Share number of consultations=%{text}<extra></extra>",
           "legendgroup": "",
           "marker": {
            "color": "#636efa",
            "pattern": {
             "shape": ""
            }
           },
           "name": "",
           "offsetgroup": "",
           "orientation": "v",
           "showlegend": false,
           "text": [
            0.0109,
            0.0061,
            0.0101
           ],
           "textposition": "auto",
           "type": "bar",
           "x": [
            "0",
            "1",
            "2"
           ],
           "xaxis": "x",
           "y": [
            0.0109,
            0.0061,
            0.0101
           ],
           "yaxis": "y"
          }
         ],
         "name": "complicated acute ear infection"
        },
        {
         "data": [
          {
           "alignmentgroup": "True",
           "hovertemplate": "Diagnosis=complicated cellulitis<br>Cluster=%{x}<br>Share number of consultations=%{text}<extra></extra>",
           "legendgroup": "",
           "marker": {
            "color": "#636efa",
            "pattern": {
             "shape": ""
            }
           },
           "name": "",
           "offsetgroup": "",
           "orientation": "v",
           "showlegend": false,
           "text": [
            0.0018,
            0.001,
            0.0007
           ],
           "textposition": "auto",
           "type": "bar",
           "x": [
            "0",
            "1",
            "2"
           ],
           "xaxis": "x",
           "y": [
            0.0018,
            0.001,
            0.0007
           ],
           "yaxis": "y"
          }
         ],
         "name": "complicated cellulitis"
        },
        {
         "data": [
          {
           "alignmentgroup": "True",
           "hovertemplate": "Diagnosis=complicated chicken pox<br>Cluster=%{x}<br>Share number of consultations=%{text}<extra></extra>",
           "legendgroup": "",
           "marker": {
            "color": "#636efa",
            "pattern": {
             "shape": ""
            }
           },
           "name": "",
           "offsetgroup": "",
           "orientation": "v",
           "showlegend": false,
           "text": [
            0.0035,
            0.0007,
            0.0004
           ],
           "textposition": "auto",
           "type": "bar",
           "x": [
            "0",
            "1",
            "2"
           ],
           "xaxis": "x",
           "y": [
            0.0035,
            0.0007,
            0.0004
           ],
           "yaxis": "y"
          }
         ],
         "name": "complicated chicken pox"
        },
        {
         "data": [
          {
           "alignmentgroup": "True",
           "hovertemplate": "Diagnosis=complicated deep wound<br>Cluster=%{x}<br>Share number of consultations=%{text}<extra></extra>",
           "legendgroup": "",
           "marker": {
            "color": "#636efa",
            "pattern": {
             "shape": ""
            }
           },
           "name": "",
           "offsetgroup": "",
           "orientation": "v",
           "showlegend": false,
           "text": [
            0.0006,
            0.0015,
            0.0005
           ],
           "textposition": "auto",
           "type": "bar",
           "x": [
            "0",
            "1",
            "2"
           ],
           "xaxis": "x",
           "y": [
            0.0006,
            0.0015,
            0.0005
           ],
           "yaxis": "y"
          }
         ],
         "name": "complicated deep wound"
        },
        {
         "data": [
          {
           "alignmentgroup": "True",
           "hovertemplate": "Diagnosis=complicated impetigo<br>Cluster=%{x}<br>Share number of consultations=%{text}<extra></extra>",
           "legendgroup": "",
           "marker": {
            "color": "#636efa",
            "pattern": {
             "shape": ""
            }
           },
           "name": "",
           "offsetgroup": "",
           "orientation": "v",
           "showlegend": false,
           "text": [
            0,
            0.0008,
            0.0007
           ],
           "textposition": "auto",
           "type": "bar",
           "x": [
            "0",
            "1",
            "2"
           ],
           "xaxis": "x",
           "y": [
            0,
            0.0008,
            0.0007
           ],
           "yaxis": "y"
          }
         ],
         "name": "complicated impetigo"
        },
        {
         "data": [
          {
           "alignmentgroup": "True",
           "hovertemplate": "Diagnosis=complicated neck mass<br>Cluster=%{x}<br>Share number of consultations=%{text}<extra></extra>",
           "legendgroup": "",
           "marker": {
            "color": "#636efa",
            "pattern": {
             "shape": ""
            }
           },
           "name": "",
           "offsetgroup": "",
           "orientation": "v",
           "showlegend": false,
           "text": [
            0.0015,
            0.0005,
            0.0003
           ],
           "textposition": "auto",
           "type": "bar",
           "x": [
            "0",
            "1",
            "2"
           ],
           "xaxis": "x",
           "y": [
            0.0015,
            0.0005,
            0.0003
           ],
           "yaxis": "y"
          }
         ],
         "name": "complicated neck mass"
        },
        {
         "data": [
          {
           "alignmentgroup": "True",
           "hovertemplate": "Diagnosis=complicated prolonged fever<br>Cluster=%{x}<br>Share number of consultations=%{text}<extra></extra>",
           "legendgroup": "",
           "marker": {
            "color": "#636efa",
            "pattern": {
             "shape": ""
            }
           },
           "name": "",
           "offsetgroup": "",
           "orientation": "v",
           "showlegend": false,
           "text": [
            0.0041,
            0.0001,
            0.0011
           ],
           "textposition": "auto",
           "type": "bar",
           "x": [
            "0",
            "1",
            "2"
           ],
           "xaxis": "x",
           "y": [
            0.0041,
            0.0001,
            0.0011
           ],
           "yaxis": "y"
          }
         ],
         "name": "complicated prolonged fever"
        },
        {
         "data": [
          {
           "alignmentgroup": "True",
           "hovertemplate": "Diagnosis=complicated severe acute malnutrition<br>Cluster=%{x}<br>Share number of consultations=%{text}<extra></extra>",
           "legendgroup": "",
           "marker": {
            "color": "#636efa",
            "pattern": {
             "shape": ""
            }
           },
           "name": "",
           "offsetgroup": "",
           "orientation": "v",
           "showlegend": false,
           "text": [
            0.0162,
            0.0001,
            0.0001
           ],
           "textposition": "auto",
           "type": "bar",
           "x": [
            "0",
            "1",
            "2"
           ],
           "xaxis": "x",
           "y": [
            0.0162,
            0.0001,
            0.0001
           ],
           "yaxis": "y"
          }
         ],
         "name": "complicated severe acute malnutrition"
        },
        {
         "data": [
          {
           "alignmentgroup": "True",
           "hovertemplate": "Diagnosis=complicated superficial wound<br>Cluster=%{x}<br>Share number of consultations=%{text}<extra></extra>",
           "legendgroup": "",
           "marker": {
            "color": "#636efa",
            "pattern": {
             "shape": ""
            }
           },
           "name": "",
           "offsetgroup": "",
           "orientation": "v",
           "showlegend": false,
           "text": [
            0.0024,
            0.005,
            0.0013
           ],
           "textposition": "auto",
           "type": "bar",
           "x": [
            "0",
            "1",
            "2"
           ],
           "xaxis": "x",
           "y": [
            0.0024,
            0.005,
            0.0013
           ],
           "yaxis": "y"
          }
         ],
         "name": "complicated superficial wound"
        },
        {
         "data": [
          {
           "alignmentgroup": "True",
           "hovertemplate": "Diagnosis=concern for congenital syndrome or malformation<br>Cluster=%{x}<br>Share number of consultations=%{text}<extra></extra>",
           "legendgroup": "",
           "marker": {
            "color": "#636efa",
            "pattern": {
             "shape": ""
            }
           },
           "name": "",
           "offsetgroup": "",
           "orientation": "v",
           "showlegend": false,
           "text": [
            0,
            0.0003,
            0
           ],
           "textposition": "auto",
           "type": "bar",
           "x": [
            "0",
            "1",
            "2"
           ],
           "xaxis": "x",
           "y": [
            0,
            0.0003,
            0
           ],
           "yaxis": "y"
          }
         ],
         "name": "concern for congenital syndrome or malformation"
        },
        {
         "data": [
          {
           "alignmentgroup": "True",
           "hovertemplate": "Diagnosis=concern for feeding problem/ lack of weight gain<br>Cluster=%{x}<br>Share number of consultations=%{text}<extra></extra>",
           "legendgroup": "",
           "marker": {
            "color": "#636efa",
            "pattern": {
             "shape": ""
            }
           },
           "name": "",
           "offsetgroup": "",
           "orientation": "v",
           "showlegend": false,
           "text": [
            0,
            0,
            0
           ],
           "textposition": "auto",
           "type": "bar",
           "x": [
            "0",
            "1",
            "2"
           ],
           "xaxis": "x",
           "y": [
            0,
            0,
            0
           ],
           "yaxis": "y"
          }
         ],
         "name": "concern for feeding problem/ lack of weight gain"
        },
        {
         "data": [
          {
           "alignmentgroup": "True",
           "hovertemplate": "Diagnosis=confirmed clavicular fracture<br>Cluster=%{x}<br>Share number of consultations=%{text}<extra></extra>",
           "legendgroup": "",
           "marker": {
            "color": "#636efa",
            "pattern": {
             "shape": ""
            }
           },
           "name": "",
           "offsetgroup": "",
           "orientation": "v",
           "showlegend": false,
           "text": [
            0,
            0,
            0
           ],
           "textposition": "auto",
           "type": "bar",
           "x": [
            "0",
            "1",
            "2"
           ],
           "xaxis": "x",
           "y": [
            0,
            0,
            0
           ],
           "yaxis": "y"
          }
         ],
         "name": "confirmed clavicular fracture"
        },
        {
         "data": [
          {
           "alignmentgroup": "True",
           "hovertemplate": "Diagnosis=confirmed dislocation<br>Cluster=%{x}<br>Share number of consultations=%{text}<extra></extra>",
           "legendgroup": "",
           "marker": {
            "color": "#636efa",
            "pattern": {
             "shape": ""
            }
           },
           "name": "",
           "offsetgroup": "",
           "orientation": "v",
           "showlegend": false,
           "text": [
            0,
            0,
            0
           ],
           "textposition": "auto",
           "type": "bar",
           "x": [
            "0",
            "1",
            "2"
           ],
           "xaxis": "x",
           "y": [
            0,
            0,
            0
           ],
           "yaxis": "y"
          }
         ],
         "name": "confirmed dislocation"
        },
        {
         "data": [
          {
           "alignmentgroup": "True",
           "hovertemplate": "Diagnosis=confirmed fracture<br>Cluster=%{x}<br>Share number of consultations=%{text}<extra></extra>",
           "legendgroup": "",
           "marker": {
            "color": "#636efa",
            "pattern": {
             "shape": ""
            }
           },
           "name": "",
           "offsetgroup": "",
           "orientation": "v",
           "showlegend": false,
           "text": [
            0,
            0.0003,
            0.0001
           ],
           "textposition": "auto",
           "type": "bar",
           "x": [
            "0",
            "1",
            "2"
           ],
           "xaxis": "x",
           "y": [
            0,
            0.0003,
            0.0001
           ],
           "yaxis": "y"
          }
         ],
         "name": "confirmed fracture"
        },
        {
         "data": [
          {
           "alignmentgroup": "True",
           "hovertemplate": "Diagnosis=congenital muscular torticollis<br>Cluster=%{x}<br>Share number of consultations=%{text}<extra></extra>",
           "legendgroup": "",
           "marker": {
            "color": "#636efa",
            "pattern": {
             "shape": ""
            }
           },
           "name": "",
           "offsetgroup": "",
           "orientation": "v",
           "showlegend": false,
           "text": [
            0,
            0,
            0
           ],
           "textposition": "auto",
           "type": "bar",
           "x": [
            "0",
            "1",
            "2"
           ],
           "xaxis": "x",
           "y": [
            0,
            0,
            0
           ],
           "yaxis": "y"
          }
         ],
         "name": "congenital muscular torticollis"
        },
        {
         "data": [
          {
           "alignmentgroup": "True",
           "hovertemplate": "Diagnosis=conjunctivitis<br>Cluster=%{x}<br>Share number of consultations=%{text}<extra></extra>",
           "legendgroup": "",
           "marker": {
            "color": "#636efa",
            "pattern": {
             "shape": ""
            }
           },
           "name": "",
           "offsetgroup": "",
           "orientation": "v",
           "showlegend": false,
           "text": [
            0,
            0.0052,
            0.0017
           ],
           "textposition": "auto",
           "type": "bar",
           "x": [
            "0",
            "1",
            "2"
           ],
           "xaxis": "x",
           "y": [
            0,
            0.0052,
            0.0017
           ],
           "yaxis": "y"
          }
         ],
         "name": "conjunctivitis"
        },
        {
         "data": [
          {
           "alignmentgroup": "True",
           "hovertemplate": "Diagnosis=constipation<br>Cluster=%{x}<br>Share number of consultations=%{text}<extra></extra>",
           "legendgroup": "",
           "marker": {
            "color": "#636efa",
            "pattern": {
             "shape": ""
            }
           },
           "name": "",
           "offsetgroup": "",
           "orientation": "v",
           "showlegend": false,
           "text": [
            0.0012,
            0.0017,
            0.0008
           ],
           "textposition": "auto",
           "type": "bar",
           "x": [
            "0",
            "1",
            "2"
           ],
           "xaxis": "x",
           "y": [
            0.0012,
            0.0017,
            0.0008
           ],
           "yaxis": "y"
          }
         ],
         "name": "constipation"
        },
        {
         "data": [
          {
           "alignmentgroup": "True",
           "hovertemplate": "Diagnosis=contusion<br>Cluster=%{x}<br>Share number of consultations=%{text}<extra></extra>",
           "legendgroup": "",
           "marker": {
            "color": "#636efa",
            "pattern": {
             "shape": ""
            }
           },
           "name": "",
           "offsetgroup": "",
           "orientation": "v",
           "showlegend": false,
           "text": [
            0.0009,
            0.0011,
            0.0001
           ],
           "textposition": "auto",
           "type": "bar",
           "x": [
            "0",
            "1",
            "2"
           ],
           "xaxis": "x",
           "y": [
            0.0009,
            0.0011,
            0.0001
           ],
           "yaxis": "y"
          }
         ],
         "name": "contusion"
        },
        {
         "data": [
          {
           "alignmentgroup": "True",
           "hovertemplate": "Diagnosis=corneal abrasion<br>Cluster=%{x}<br>Share number of consultations=%{text}<extra></extra>",
           "legendgroup": "",
           "marker": {
            "color": "#636efa",
            "pattern": {
             "shape": ""
            }
           },
           "name": "",
           "offsetgroup": "",
           "orientation": "v",
           "showlegend": false,
           "text": [
            0.0003,
            0.0009,
            0.0005
           ],
           "textposition": "auto",
           "type": "bar",
           "x": [
            "0",
            "1",
            "2"
           ],
           "xaxis": "x",
           "y": [
            0.0003,
            0.0009,
            0.0005
           ],
           "yaxis": "y"
          }
         ],
         "name": "corneal abrasion"
        },
        {
         "data": [
          {
           "alignmentgroup": "True",
           "hovertemplate": "Diagnosis=critical illness<br>Cluster=%{x}<br>Share number of consultations=%{text}<extra></extra>",
           "legendgroup": "",
           "marker": {
            "color": "#636efa",
            "pattern": {
             "shape": ""
            }
           },
           "name": "",
           "offsetgroup": "",
           "orientation": "v",
           "showlegend": false,
           "text": [
            0,
            0.0003,
            0.0004
           ],
           "textposition": "auto",
           "type": "bar",
           "x": [
            "0",
            "1",
            "2"
           ],
           "xaxis": "x",
           "y": [
            0,
            0.0003,
            0.0004
           ],
           "yaxis": "y"
          }
         ],
         "name": "critical illness"
        },
        {
         "data": [
          {
           "alignmentgroup": "True",
           "hovertemplate": "Diagnosis=dental abscess<br>Cluster=%{x}<br>Share number of consultations=%{text}<extra></extra>",
           "legendgroup": "",
           "marker": {
            "color": "#636efa",
            "pattern": {
             "shape": ""
            }
           },
           "name": "",
           "offsetgroup": "",
           "orientation": "v",
           "showlegend": false,
           "text": [
            0.0056,
            0.0094,
            0.0019
           ],
           "textposition": "auto",
           "type": "bar",
           "x": [
            "0",
            "1",
            "2"
           ],
           "xaxis": "x",
           "y": [
            0.0056,
            0.0094,
            0.0019
           ],
           "yaxis": "y"
          }
         ],
         "name": "dental abscess"
        },
        {
         "data": [
          {
           "alignmentgroup": "True",
           "hovertemplate": "Diagnosis=diaper rash<br>Cluster=%{x}<br>Share number of consultations=%{text}<extra></extra>",
           "legendgroup": "",
           "marker": {
            "color": "#636efa",
            "pattern": {
             "shape": ""
            }
           },
           "name": "",
           "offsetgroup": "",
           "orientation": "v",
           "showlegend": false,
           "text": [
            0.0021,
            0.0025,
            0.0018
           ],
           "textposition": "auto",
           "type": "bar",
           "x": [
            "0",
            "1",
            "2"
           ],
           "xaxis": "x",
           "y": [
            0.0021,
            0.0025,
            0.0018
           ],
           "yaxis": "y"
          }
         ],
         "name": "diaper rash"
        },
        {
         "data": [
          {
           "alignmentgroup": "True",
           "hovertemplate": "Diagnosis=diarrhea with no dehydration<br>Cluster=%{x}<br>Share number of consultations=%{text}<extra></extra>",
           "legendgroup": "",
           "marker": {
            "color": "#636efa",
            "pattern": {
             "shape": ""
            }
           },
           "name": "",
           "offsetgroup": "",
           "orientation": "v",
           "showlegend": false,
           "text": [
            0,
            0.0023,
            0.0006
           ],
           "textposition": "auto",
           "type": "bar",
           "x": [
            "0",
            "1",
            "2"
           ],
           "xaxis": "x",
           "y": [
            0,
            0.0023,
            0.0006
           ],
           "yaxis": "y"
          }
         ],
         "name": "diarrhea with no dehydration"
        },
        {
         "data": [
          {
           "alignmentgroup": "True",
           "hovertemplate": "Diagnosis=diarrhea with some dehydration<br>Cluster=%{x}<br>Share number of consultations=%{text}<extra></extra>",
           "legendgroup": "",
           "marker": {
            "color": "#636efa",
            "pattern": {
             "shape": ""
            }
           },
           "name": "",
           "offsetgroup": "",
           "orientation": "v",
           "showlegend": false,
           "text": [
            0,
            0.0001,
            0
           ],
           "textposition": "auto",
           "type": "bar",
           "x": [
            "0",
            "1",
            "2"
           ],
           "xaxis": "x",
           "y": [
            0,
            0.0001,
            0
           ],
           "yaxis": "y"
          }
         ],
         "name": "diarrhea with some dehydration"
        },
        {
         "data": [
          {
           "alignmentgroup": "True",
           "hovertemplate": "Diagnosis=dysentery<br>Cluster=%{x}<br>Share number of consultations=%{text}<extra></extra>",
           "legendgroup": "",
           "marker": {
            "color": "#636efa",
            "pattern": {
             "shape": ""
            }
           },
           "name": "",
           "offsetgroup": "",
           "orientation": "v",
           "showlegend": false,
           "text": [
            0.0024,
            0.0014,
            0.001
           ],
           "textposition": "auto",
           "type": "bar",
           "x": [
            "0",
            "1",
            "2"
           ],
           "xaxis": "x",
           "y": [
            0.0024,
            0.0014,
            0.001
           ],
           "yaxis": "y"
          }
         ],
         "name": "dysentery"
        },
        {
         "data": [
          {
           "alignmentgroup": "True",
           "hovertemplate": "Diagnosis=eczema (atopic dermatitis)<br>Cluster=%{x}<br>Share number of consultations=%{text}<extra></extra>",
           "legendgroup": "",
           "marker": {
            "color": "#636efa",
            "pattern": {
             "shape": ""
            }
           },
           "name": "",
           "offsetgroup": "",
           "orientation": "v",
           "showlegend": false,
           "text": [
            0.0027,
            0.0025,
            0.0016
           ],
           "textposition": "auto",
           "type": "bar",
           "x": [
            "0",
            "1",
            "2"
           ],
           "xaxis": "x",
           "y": [
            0.0027,
            0.0025,
            0.0016
           ],
           "yaxis": "y"
          }
         ],
         "name": "eczema (atopic dermatitis)"
        },
        {
         "data": [
          {
           "alignmentgroup": "True",
           "hovertemplate": "Diagnosis=extensive folliculitis<br>Cluster=%{x}<br>Share number of consultations=%{text}<extra></extra>",
           "legendgroup": "",
           "marker": {
            "color": "#636efa",
            "pattern": {
             "shape": ""
            }
           },
           "name": "",
           "offsetgroup": "",
           "orientation": "v",
           "showlegend": false,
           "text": [
            0.0021,
            0.0017,
            0.0013
           ],
           "textposition": "auto",
           "type": "bar",
           "x": [
            "0",
            "1",
            "2"
           ],
           "xaxis": "x",
           "y": [
            0.0021,
            0.0017,
            0.0013
           ],
           "yaxis": "y"
          }
         ],
         "name": "extensive folliculitis"
        },
        {
         "data": [
          {
           "alignmentgroup": "True",
           "hovertemplate": "Diagnosis=febrile urinary tract infection<br>Cluster=%{x}<br>Share number of consultations=%{text}<extra></extra>",
           "legendgroup": "",
           "marker": {
            "color": "#636efa",
            "pattern": {
             "shape": ""
            }
           },
           "name": "",
           "offsetgroup": "",
           "orientation": "v",
           "showlegend": false,
           "text": [
            0.0006,
            0.0009,
            0.0006
           ],
           "textposition": "auto",
           "type": "bar",
           "x": [
            "0",
            "1",
            "2"
           ],
           "xaxis": "x",
           "y": [
            0.0006,
            0.0009,
            0.0006
           ],
           "yaxis": "y"
          }
         ],
         "name": "febrile urinary tract infection"
        },
        {
         "data": [
          {
           "alignmentgroup": "True",
           "hovertemplate": "Diagnosis=feeding problem (insufficient feeds)<br>Cluster=%{x}<br>Share number of consultations=%{text}<extra></extra>",
           "legendgroup": "",
           "marker": {
            "color": "#636efa",
            "pattern": {
             "shape": ""
            }
           },
           "name": "",
           "offsetgroup": "",
           "orientation": "v",
           "showlegend": false,
           "text": [
            0,
            0.0024,
            0.0013
           ],
           "textposition": "auto",
           "type": "bar",
           "x": [
            "0",
            "1",
            "2"
           ],
           "xaxis": "x",
           "y": [
            0,
            0.0024,
            0.0013
           ],
           "yaxis": "y"
          }
         ],
         "name": "feeding problem (insufficient feeds)"
        },
        {
         "data": [
          {
           "alignmentgroup": "True",
           "hovertemplate": "Diagnosis=feeding problem (lack of exclusive breastfeeding)<br>Cluster=%{x}<br>Share number of consultations=%{text}<extra></extra>",
           "legendgroup": "",
           "marker": {
            "color": "#636efa",
            "pattern": {
             "shape": ""
            }
           },
           "name": "",
           "offsetgroup": "",
           "orientation": "v",
           "showlegend": false,
           "text": [
            0,
            0.0001,
            0.0001
           ],
           "textposition": "auto",
           "type": "bar",
           "x": [
            "0",
            "1",
            "2"
           ],
           "xaxis": "x",
           "y": [
            0,
            0.0001,
            0.0001
           ],
           "yaxis": "y"
          }
         ],
         "name": "feeding problem (lack of exclusive breastfeeding)"
        },
        {
         "data": [
          {
           "alignmentgroup": "True",
           "hovertemplate": "Diagnosis=feeding problem (lactation)<br>Cluster=%{x}<br>Share number of consultations=%{text}<extra></extra>",
           "legendgroup": "",
           "marker": {
            "color": "#636efa",
            "pattern": {
             "shape": ""
            }
           },
           "name": "",
           "offsetgroup": "",
           "orientation": "v",
           "showlegend": false,
           "text": [
            0,
            0.0007,
            0.0001
           ],
           "textposition": "auto",
           "type": "bar",
           "x": [
            "0",
            "1",
            "2"
           ],
           "xaxis": "x",
           "y": [
            0,
            0.0007,
            0.0001
           ],
           "yaxis": "y"
          }
         ],
         "name": "feeding problem (lactation)"
        },
        {
         "data": [
          {
           "alignmentgroup": "True",
           "hovertemplate": "Diagnosis=folliculitis<br>Cluster=%{x}<br>Share number of consultations=%{text}<extra></extra>",
           "legendgroup": "",
           "marker": {
            "color": "#636efa",
            "pattern": {
             "shape": ""
            }
           },
           "name": "",
           "offsetgroup": "",
           "orientation": "v",
           "showlegend": false,
           "text": [
            0.0038,
            0.0037,
            0.0019
           ],
           "textposition": "auto",
           "type": "bar",
           "x": [
            "0",
            "1",
            "2"
           ],
           "xaxis": "x",
           "y": [
            0.0038,
            0.0037,
            0.0019
           ],
           "yaxis": "y"
          }
         ],
         "name": "folliculitis"
        },
        {
         "data": [
          {
           "alignmentgroup": "True",
           "hovertemplate": "Diagnosis=follow-up consultation<br>Cluster=%{x}<br>Share number of consultations=%{text}<extra></extra>",
           "legendgroup": "",
           "marker": {
            "color": "#636efa",
            "pattern": {
             "shape": ""
            }
           },
           "name": "",
           "offsetgroup": "",
           "orientation": "v",
           "showlegend": false,
           "text": [
            0.0139,
            0.0059,
            0.0118
           ],
           "textposition": "auto",
           "type": "bar",
           "x": [
            "0",
            "1",
            "2"
           ],
           "xaxis": "x",
           "y": [
            0.0139,
            0.0059,
            0.0118
           ],
           "yaxis": "y"
          }
         ],
         "name": "follow-up consultation"
        },
        {
         "data": [
          {
           "alignmentgroup": "True",
           "hovertemplate": "Diagnosis=foreign body in ear<br>Cluster=%{x}<br>Share number of consultations=%{text}<extra></extra>",
           "legendgroup": "",
           "marker": {
            "color": "#636efa",
            "pattern": {
             "shape": ""
            }
           },
           "name": "",
           "offsetgroup": "",
           "orientation": "v",
           "showlegend": false,
           "text": [
            0,
            0.0002,
            0.0001
           ],
           "textposition": "auto",
           "type": "bar",
           "x": [
            "0",
            "1",
            "2"
           ],
           "xaxis": "x",
           "y": [
            0,
            0.0002,
            0.0001
           ],
           "yaxis": "y"
          }
         ],
         "name": "foreign body in ear"
        },
        {
         "data": [
          {
           "alignmentgroup": "True",
           "hovertemplate": "Diagnosis=generalized (extensive) tinea corporis<br>Cluster=%{x}<br>Share number of consultations=%{text}<extra></extra>",
           "legendgroup": "",
           "marker": {
            "color": "#636efa",
            "pattern": {
             "shape": ""
            }
           },
           "name": "",
           "offsetgroup": "",
           "orientation": "v",
           "showlegend": false,
           "text": [
            0.0003,
            0.0008,
            0.0011
           ],
           "textposition": "auto",
           "type": "bar",
           "x": [
            "0",
            "1",
            "2"
           ],
           "xaxis": "x",
           "y": [
            0.0003,
            0.0008,
            0.0011
           ],
           "yaxis": "y"
          }
         ],
         "name": "generalized (extensive) tinea corporis"
        },
        {
         "data": [
          {
           "alignmentgroup": "True",
           "hovertemplate": "Diagnosis=heat rash<br>Cluster=%{x}<br>Share number of consultations=%{text}<extra></extra>",
           "legendgroup": "",
           "marker": {
            "color": "#636efa",
            "pattern": {
             "shape": ""
            }
           },
           "name": "",
           "offsetgroup": "",
           "orientation": "v",
           "showlegend": false,
           "text": [
            0.0068,
            0.0058,
            0.0045
           ],
           "textposition": "auto",
           "type": "bar",
           "x": [
            "0",
            "1",
            "2"
           ],
           "xaxis": "x",
           "y": [
            0.0068,
            0.0058,
            0.0045
           ],
           "yaxis": "y"
          }
         ],
         "name": "heat rash"
        },
        {
         "data": [
          {
           "alignmentgroup": "True",
           "hovertemplate": "Diagnosis=herpes simplex<br>Cluster=%{x}<br>Share number of consultations=%{text}<extra></extra>",
           "legendgroup": "",
           "marker": {
            "color": "#636efa",
            "pattern": {
             "shape": ""
            }
           },
           "name": "",
           "offsetgroup": "",
           "orientation": "v",
           "showlegend": false,
           "text": [
            0.0009,
            0.0005,
            0.0006
           ],
           "textposition": "auto",
           "type": "bar",
           "x": [
            "0",
            "1",
            "2"
           ],
           "xaxis": "x",
           "y": [
            0.0009,
            0.0005,
            0.0006
           ],
           "yaxis": "y"
          }
         ],
         "name": "herpes simplex"
        },
        {
         "data": [
          {
           "alignmentgroup": "True",
           "hovertemplate": "Diagnosis=hiv exposed<br>Cluster=%{x}<br>Share number of consultations=%{text}<extra></extra>",
           "legendgroup": "",
           "marker": {
            "color": "#636efa",
            "pattern": {
             "shape": ""
            }
           },
           "name": "",
           "offsetgroup": "",
           "orientation": "v",
           "showlegend": false,
           "text": [
            0.0027,
            0.0005,
            0.0009
           ],
           "textposition": "auto",
           "type": "bar",
           "x": [
            "0",
            "1",
            "2"
           ],
           "xaxis": "x",
           "y": [
            0.0027,
            0.0005,
            0.0009
           ],
           "yaxis": "y"
          }
         ],
         "name": "hiv exposed"
        },
        {
         "data": [
          {
           "alignmentgroup": "True",
           "hovertemplate": "Diagnosis=hyperglycemia<br>Cluster=%{x}<br>Share number of consultations=%{text}<extra></extra>",
           "legendgroup": "",
           "marker": {
            "color": "#636efa",
            "pattern": {
             "shape": ""
            }
           },
           "name": "",
           "offsetgroup": "",
           "orientation": "v",
           "showlegend": false,
           "text": [
            0.0307,
            0.0005,
            0.0008
           ],
           "textposition": "auto",
           "type": "bar",
           "x": [
            "0",
            "1",
            "2"
           ],
           "xaxis": "x",
           "y": [
            0.0307,
            0.0005,
            0.0008
           ],
           "yaxis": "y"
          }
         ],
         "name": "hyperglycemia"
        },
        {
         "data": [
          {
           "alignmentgroup": "True",
           "hovertemplate": "Diagnosis=hypoglycemia<br>Cluster=%{x}<br>Share number of consultations=%{text}<extra></extra>",
           "legendgroup": "",
           "marker": {
            "color": "#636efa",
            "pattern": {
             "shape": ""
            }
           },
           "name": "",
           "offsetgroup": "",
           "orientation": "v",
           "showlegend": false,
           "text": [
            0,
            0,
            0
           ],
           "textposition": "auto",
           "type": "bar",
           "x": [
            "0",
            "1",
            "2"
           ],
           "xaxis": "x",
           "y": [
            0,
            0,
            0
           ],
           "yaxis": "y"
          }
         ],
         "name": "hypoglycemia"
        },
        {
         "data": [
          {
           "alignmentgroup": "True",
           "hovertemplate": "Diagnosis=imci anemia<br>Cluster=%{x}<br>Share number of consultations=%{text}<extra></extra>",
           "legendgroup": "",
           "marker": {
            "color": "#636efa",
            "pattern": {
             "shape": ""
            }
           },
           "name": "",
           "offsetgroup": "",
           "orientation": "v",
           "showlegend": false,
           "text": [
            0.0003,
            0.0002,
            0.0003
           ],
           "textposition": "auto",
           "type": "bar",
           "x": [
            "0",
            "1",
            "2"
           ],
           "xaxis": "x",
           "y": [
            0.0003,
            0.0002,
            0.0003
           ],
           "yaxis": "y"
          }
         ],
         "name": "imci anemia"
        },
        {
         "data": [
          {
           "alignmentgroup": "True",
           "hovertemplate": "Diagnosis=imci severe anemia<br>Cluster=%{x}<br>Share number of consultations=%{text}<extra></extra>",
           "legendgroup": "",
           "marker": {
            "color": "#636efa",
            "pattern": {
             "shape": ""
            }
           },
           "name": "",
           "offsetgroup": "",
           "orientation": "v",
           "showlegend": false,
           "text": [
            0,
            0,
            0
           ],
           "textposition": "auto",
           "type": "bar",
           "x": [
            "0",
            "1",
            "2"
           ],
           "xaxis": "x",
           "y": [
            0,
            0,
            0
           ],
           "yaxis": "y"
          }
         ],
         "name": "imci severe anemia"
        },
        {
         "data": [
          {
           "alignmentgroup": "True",
           "hovertemplate": "Diagnosis=imci/imai pneumonia<br>Cluster=%{x}<br>Share number of consultations=%{text}<extra></extra>",
           "legendgroup": "",
           "marker": {
            "color": "#636efa",
            "pattern": {
             "shape": ""
            }
           },
           "name": "",
           "offsetgroup": "",
           "orientation": "v",
           "showlegend": false,
           "text": [
            0.0094,
            0.0001,
            0.0079
           ],
           "textposition": "auto",
           "type": "bar",
           "x": [
            "0",
            "1",
            "2"
           ],
           "xaxis": "x",
           "y": [
            0.0094,
            0.0001,
            0.0079
           ],
           "yaxis": "y"
          }
         ],
         "name": "imci/imai pneumonia"
        },
        {
         "data": [
          {
           "alignmentgroup": "True",
           "hovertemplate": "Diagnosis=improved conjunctivitis<br>Cluster=%{x}<br>Share number of consultations=%{text}<extra></extra>",
           "legendgroup": "",
           "marker": {
            "color": "#636efa",
            "pattern": {
             "shape": ""
            }
           },
           "name": "",
           "offsetgroup": "",
           "orientation": "v",
           "showlegend": false,
           "text": [
            0,
            0,
            0.0001
           ],
           "textposition": "auto",
           "type": "bar",
           "x": [
            "0",
            "1",
            "2"
           ],
           "xaxis": "x",
           "y": [
            0,
            0,
            0.0001
           ],
           "yaxis": "y"
          }
         ],
         "name": "improved conjunctivitis"
        },
        {
         "data": [
          {
           "alignmentgroup": "True",
           "hovertemplate": "Diagnosis=improved local skin infection<br>Cluster=%{x}<br>Share number of consultations=%{text}<extra></extra>",
           "legendgroup": "",
           "marker": {
            "color": "#636efa",
            "pattern": {
             "shape": ""
            }
           },
           "name": "",
           "offsetgroup": "",
           "orientation": "v",
           "showlegend": false,
           "text": [
            0,
            0.0001,
            0.0001
           ],
           "textposition": "auto",
           "type": "bar",
           "x": [
            "0",
            "1",
            "2"
           ],
           "xaxis": "x",
           "y": [
            0,
            0.0001,
            0.0001
           ],
           "yaxis": "y"
          }
         ],
         "name": "improved local skin infection"
        },
        {
         "data": [
          {
           "alignmentgroup": "True",
           "hovertemplate": "Diagnosis=improved pneumonia<br>Cluster=%{x}<br>Share number of consultations=%{text}<extra></extra>",
           "legendgroup": "",
           "marker": {
            "color": "#636efa",
            "pattern": {
             "shape": ""
            }
           },
           "name": "",
           "offsetgroup": "",
           "orientation": "v",
           "showlegend": false,
           "text": [
            0,
            0,
            0
           ],
           "textposition": "auto",
           "type": "bar",
           "x": [
            "0",
            "1",
            "2"
           ],
           "xaxis": "x",
           "y": [
            0,
            0,
            0
           ],
           "yaxis": "y"
          }
         ],
         "name": "improved pneumonia"
        },
        {
         "data": [
          {
           "alignmentgroup": "True",
           "hovertemplate": "Diagnosis=inguinal hernia<br>Cluster=%{x}<br>Share number of consultations=%{text}<extra></extra>",
           "legendgroup": "",
           "marker": {
            "color": "#636efa",
            "pattern": {
             "shape": ""
            }
           },
           "name": "",
           "offsetgroup": "",
           "orientation": "v",
           "showlegend": false,
           "text": [
            0.0003,
            0.0005,
            0.0001
           ],
           "textposition": "auto",
           "type": "bar",
           "x": [
            "0",
            "1",
            "2"
           ],
           "xaxis": "x",
           "y": [
            0.0003,
            0.0005,
            0.0001
           ],
           "yaxis": "y"
          }
         ],
         "name": "inguinal hernia"
        },
        {
         "data": [
          {
           "alignmentgroup": "True",
           "hovertemplate": "Diagnosis=intestinal parasitic infection: nematode<br>Cluster=%{x}<br>Share number of consultations=%{text}<extra></extra>",
           "legendgroup": "",
           "marker": {
            "color": "#636efa",
            "pattern": {
             "shape": ""
            }
           },
           "name": "",
           "offsetgroup": "",
           "orientation": "v",
           "showlegend": false,
           "text": [
            0.0121,
            0.0077,
            0.0156
           ],
           "textposition": "auto",
           "type": "bar",
           "x": [
            "0",
            "1",
            "2"
           ],
           "xaxis": "x",
           "y": [
            0.0121,
            0.0077,
            0.0156
           ],
           "yaxis": "y"
          }
         ],
         "name": "intestinal parasitic infection: nematode"
        },
        {
         "data": [
          {
           "alignmentgroup": "True",
           "hovertemplate": "Diagnosis=intestinal parasitic infection: protozoa<br>Cluster=%{x}<br>Share number of consultations=%{text}<extra></extra>",
           "legendgroup": "",
           "marker": {
            "color": "#636efa",
            "pattern": {
             "shape": ""
            }
           },
           "name": "",
           "offsetgroup": "",
           "orientation": "v",
           "showlegend": false,
           "text": [
            0.0439,
            0.0186,
            0.0362
           ],
           "textposition": "auto",
           "type": "bar",
           "x": [
            "0",
            "1",
            "2"
           ],
           "xaxis": "x",
           "y": [
            0.0439,
            0.0186,
            0.0362
           ],
           "yaxis": "y"
          }
         ],
         "name": "intestinal parasitic infection: protozoa"
        },
        {
         "data": [
          {
           "alignmentgroup": "True",
           "hovertemplate": "Diagnosis=known sickle cell disease<br>Cluster=%{x}<br>Share number of consultations=%{text}<extra></extra>",
           "legendgroup": "",
           "marker": {
            "color": "#636efa",
            "pattern": {
             "shape": ""
            }
           },
           "name": "",
           "offsetgroup": "",
           "orientation": "v",
           "showlegend": false,
           "text": [
            0.0003,
            0,
            0
           ],
           "textposition": "auto",
           "type": "bar",
           "x": [
            "0",
            "1",
            "2"
           ],
           "xaxis": "x",
           "y": [
            0.0003,
            0,
            0
           ],
           "yaxis": "y"
          }
         ],
         "name": "known sickle cell disease"
        },
        {
         "data": [
          {
           "alignmentgroup": "True",
           "hovertemplate": "Diagnosis=local skin infection<br>Cluster=%{x}<br>Share number of consultations=%{text}<extra></extra>",
           "legendgroup": "",
           "marker": {
            "color": "#636efa",
            "pattern": {
             "shape": ""
            }
           },
           "name": "",
           "offsetgroup": "",
           "orientation": "v",
           "showlegend": false,
           "text": [
            0,
            0.0018,
            0.0004
           ],
           "textposition": "auto",
           "type": "bar",
           "x": [
            "0",
            "1",
            "2"
           ],
           "xaxis": "x",
           "y": [
            0,
            0.0018,
            0.0004
           ],
           "yaxis": "y"
          }
         ],
         "name": "local skin infection"
        },
        {
         "data": [
          {
           "alignmentgroup": "True",
           "hovertemplate": "Diagnosis=loss of appetite<br>Cluster=%{x}<br>Share number of consultations=%{text}<extra></extra>",
           "legendgroup": "",
           "marker": {
            "color": "#636efa",
            "pattern": {
             "shape": ""
            }
           },
           "name": "",
           "offsetgroup": "",
           "orientation": "v",
           "showlegend": false,
           "text": [
            0.0088,
            0.0099,
            0.0007
           ],
           "textposition": "auto",
           "type": "bar",
           "x": [
            "0",
            "1",
            "2"
           ],
           "xaxis": "x",
           "y": [
            0.0088,
            0.0099,
            0.0007
           ],
           "yaxis": "y"
          }
         ],
         "name": "loss of appetite"
        },
        {
         "data": [
          {
           "alignmentgroup": "True",
           "hovertemplate": "Diagnosis=low weight for age<br>Cluster=%{x}<br>Share number of consultations=%{text}<extra></extra>",
           "legendgroup": "",
           "marker": {
            "color": "#636efa",
            "pattern": {
             "shape": ""
            }
           },
           "name": "",
           "offsetgroup": "",
           "orientation": "v",
           "showlegend": false,
           "text": [
            0,
            0.0008,
            0.0006
           ],
           "textposition": "auto",
           "type": "bar",
           "x": [
            "0",
            "1",
            "2"
           ],
           "xaxis": "x",
           "y": [
            0,
            0.0008,
            0.0006
           ],
           "yaxis": "y"
          }
         ],
         "name": "low weight for age"
        },
        {
         "data": [
          {
           "alignmentgroup": "True",
           "hovertemplate": "Diagnosis=lower urinary tract infection (cystitis)<br>Cluster=%{x}<br>Share number of consultations=%{text}<extra></extra>",
           "legendgroup": "",
           "marker": {
            "color": "#636efa",
            "pattern": {
             "shape": ""
            }
           },
           "name": "",
           "offsetgroup": "",
           "orientation": "v",
           "showlegend": false,
           "text": [
            0.0044,
            0.0057,
            0.0031
           ],
           "textposition": "auto",
           "type": "bar",
           "x": [
            "0",
            "1",
            "2"
           ],
           "xaxis": "x",
           "y": [
            0.0044,
            0.0057,
            0.0031
           ],
           "yaxis": "y"
          }
         ],
         "name": "lower urinary tract infection (cystitis)"
        },
        {
         "data": [
          {
           "alignmentgroup": "True",
           "hovertemplate": "Diagnosis=major burn<br>Cluster=%{x}<br>Share number of consultations=%{text}<extra></extra>",
           "legendgroup": "",
           "marker": {
            "color": "#636efa",
            "pattern": {
             "shape": ""
            }
           },
           "name": "",
           "offsetgroup": "",
           "orientation": "v",
           "showlegend": false,
           "text": [
            0,
            0.0006,
            0.0001
           ],
           "textposition": "auto",
           "type": "bar",
           "x": [
            "0",
            "1",
            "2"
           ],
           "xaxis": "x",
           "y": [
            0,
            0.0006,
            0.0001
           ],
           "yaxis": "y"
          }
         ],
         "name": "major burn"
        },
        {
         "data": [
          {
           "alignmentgroup": "True",
           "hovertemplate": "Diagnosis=major head injury<br>Cluster=%{x}<br>Share number of consultations=%{text}<extra></extra>",
           "legendgroup": "",
           "marker": {
            "color": "#636efa",
            "pattern": {
             "shape": ""
            }
           },
           "name": "",
           "offsetgroup": "",
           "orientation": "v",
           "showlegend": false,
           "text": [
            0,
            0.0001,
            0
           ],
           "textposition": "auto",
           "type": "bar",
           "x": [
            "0",
            "1",
            "2"
           ],
           "xaxis": "x",
           "y": [
            0,
            0.0001,
            0
           ],
           "yaxis": "y"
          }
         ],
         "name": "major head injury"
        },
        {
         "data": [
          {
           "alignmentgroup": "True",
           "hovertemplate": "Diagnosis=major trauma<br>Cluster=%{x}<br>Share number of consultations=%{text}<extra></extra>",
           "legendgroup": "",
           "marker": {
            "color": "#636efa",
            "pattern": {
             "shape": ""
            }
           },
           "name": "",
           "offsetgroup": "",
           "orientation": "v",
           "showlegend": false,
           "text": [
            0,
            0.0017,
            0
           ],
           "textposition": "auto",
           "type": "bar",
           "x": [
            "0",
            "1",
            "2"
           ],
           "xaxis": "x",
           "y": [
            0,
            0.0017,
            0
           ],
           "yaxis": "y"
          }
         ],
         "name": "major trauma"
        },
        {
         "data": [
          {
           "alignmentgroup": "True",
           "hovertemplate": "Diagnosis=mastitis<br>Cluster=%{x}<br>Share number of consultations=%{text}<extra></extra>",
           "legendgroup": "",
           "marker": {
            "color": "#636efa",
            "pattern": {
             "shape": ""
            }
           },
           "name": "",
           "offsetgroup": "",
           "orientation": "v",
           "showlegend": false,
           "text": [
            0,
            0.0005,
            0.0001
           ],
           "textposition": "auto",
           "type": "bar",
           "x": [
            "0",
            "1",
            "2"
           ],
           "xaxis": "x",
           "y": [
            0,
            0.0005,
            0.0001
           ],
           "yaxis": "y"
          }
         ],
         "name": "mastitis"
        },
        {
         "data": [
          {
           "alignmentgroup": "True",
           "hovertemplate": "Diagnosis=mastoiditis<br>Cluster=%{x}<br>Share number of consultations=%{text}<extra></extra>",
           "legendgroup": "",
           "marker": {
            "color": "#636efa",
            "pattern": {
             "shape": ""
            }
           },
           "name": "",
           "offsetgroup": "",
           "orientation": "v",
           "showlegend": false,
           "text": [
            0.0009,
            0.0018,
            0.0014
           ],
           "textposition": "auto",
           "type": "bar",
           "x": [
            "0",
            "1",
            "2"
           ],
           "xaxis": "x",
           "y": [
            0.0009,
            0.0018,
            0.0014
           ],
           "yaxis": "y"
          }
         ],
         "name": "mastoiditis"
        },
        {
         "data": [
          {
           "alignmentgroup": "True",
           "hovertemplate": "Diagnosis=mild croup<br>Cluster=%{x}<br>Share number of consultations=%{text}<extra></extra>",
           "legendgroup": "",
           "marker": {
            "color": "#636efa",
            "pattern": {
             "shape": ""
            }
           },
           "name": "",
           "offsetgroup": "",
           "orientation": "v",
           "showlegend": false,
           "text": [
            0.0091,
            0.0002,
            0.0252
           ],
           "textposition": "auto",
           "type": "bar",
           "x": [
            "0",
            "1",
            "2"
           ],
           "xaxis": "x",
           "y": [
            0.0091,
            0.0002,
            0.0252
           ],
           "yaxis": "y"
          }
         ],
         "name": "mild croup"
        },
        {
         "data": [
          {
           "alignmentgroup": "True",
           "hovertemplate": "Diagnosis=mild/moderate anemia<br>Cluster=%{x}<br>Share number of consultations=%{text}<extra></extra>",
           "legendgroup": "",
           "marker": {
            "color": "#636efa",
            "pattern": {
             "shape": ""
            }
           },
           "name": "",
           "offsetgroup": "",
           "orientation": "v",
           "showlegend": false,
           "text": [
            0.1351,
            0.0242,
            0.0959
           ],
           "textposition": "auto",
           "type": "bar",
           "x": [
            "0",
            "1",
            "2"
           ],
           "xaxis": "x",
           "y": [
            0.1351,
            0.0242,
            0.0959
           ],
           "yaxis": "y"
          }
         ],
         "name": "mild/moderate anemia"
        },
        {
         "data": [
          {
           "alignmentgroup": "True",
           "hovertemplate": "Diagnosis=minor burn<br>Cluster=%{x}<br>Share number of consultations=%{text}<extra></extra>",
           "legendgroup": "",
           "marker": {
            "color": "#636efa",
            "pattern": {
             "shape": ""
            }
           },
           "name": "",
           "offsetgroup": "",
           "orientation": "v",
           "showlegend": false,
           "text": [
            0.0012,
            0.0003,
            0.0001
           ],
           "textposition": "auto",
           "type": "bar",
           "x": [
            "0",
            "1",
            "2"
           ],
           "xaxis": "x",
           "y": [
            0.0012,
            0.0003,
            0.0001
           ],
           "yaxis": "y"
          }
         ],
         "name": "minor burn"
        },
        {
         "data": [
          {
           "alignmentgroup": "True",
           "hovertemplate": "Diagnosis=minor head injury<br>Cluster=%{x}<br>Share number of consultations=%{text}<extra></extra>",
           "legendgroup": "",
           "marker": {
            "color": "#636efa",
            "pattern": {
             "shape": ""
            }
           },
           "name": "",
           "offsetgroup": "",
           "orientation": "v",
           "showlegend": false,
           "text": [
            0,
            0.0002,
            0
           ],
           "textposition": "auto",
           "type": "bar",
           "x": [
            "0",
            "1",
            "2"
           ],
           "xaxis": "x",
           "y": [
            0,
            0.0002,
            0
           ],
           "yaxis": "y"
          }
         ],
         "name": "minor head injury"
        },
        {
         "data": [
          {
           "alignmentgroup": "True",
           "hovertemplate": "Diagnosis=moderate head injury<br>Cluster=%{x}<br>Share number of consultations=%{text}<extra></extra>",
           "legendgroup": "",
           "marker": {
            "color": "#636efa",
            "pattern": {
             "shape": ""
            }
           },
           "name": "",
           "offsetgroup": "",
           "orientation": "v",
           "showlegend": false,
           "text": [
            0,
            0.0002,
            0.0001
           ],
           "textposition": "auto",
           "type": "bar",
           "x": [
            "0",
            "1",
            "2"
           ],
           "xaxis": "x",
           "y": [
            0,
            0.0002,
            0.0001
           ],
           "yaxis": "y"
          }
         ],
         "name": "moderate head injury"
        },
        {
         "data": [
          {
           "alignmentgroup": "True",
           "hovertemplate": "Diagnosis=moderate malnutrition<br>Cluster=%{x}<br>Share number of consultations=%{text}<extra></extra>",
           "legendgroup": "",
           "marker": {
            "color": "#636efa",
            "pattern": {
             "shape": ""
            }
           },
           "name": "",
           "offsetgroup": "",
           "orientation": "v",
           "showlegend": false,
           "text": [
            0.1413,
            0.0101,
            0.0211
           ],
           "textposition": "auto",
           "type": "bar",
           "x": [
            "0",
            "1",
            "2"
           ],
           "xaxis": "x",
           "y": [
            0.1413,
            0.0101,
            0.0211
           ],
           "yaxis": "y"
          }
         ],
         "name": "moderate malnutrition"
        },
        {
         "data": [
          {
           "alignmentgroup": "True",
           "hovertemplate": "Diagnosis=molluscum contagiosum<br>Cluster=%{x}<br>Share number of consultations=%{text}<extra></extra>",
           "legendgroup": "",
           "marker": {
            "color": "#636efa",
            "pattern": {
             "shape": ""
            }
           },
           "name": "",
           "offsetgroup": "",
           "orientation": "v",
           "showlegend": false,
           "text": [
            0.0029,
            0.0032,
            0.0035
           ],
           "textposition": "auto",
           "type": "bar",
           "x": [
            "0",
            "1",
            "2"
           ],
           "xaxis": "x",
           "y": [
            0.0029,
            0.0032,
            0.0035
           ],
           "yaxis": "y"
          }
         ],
         "name": "molluscum contagiosum"
        },
        {
         "data": [
          {
           "alignmentgroup": "True",
           "hovertemplate": "Diagnosis=mumps<br>Cluster=%{x}<br>Share number of consultations=%{text}<extra></extra>",
           "legendgroup": "",
           "marker": {
            "color": "#636efa",
            "pattern": {
             "shape": ""
            }
           },
           "name": "",
           "offsetgroup": "",
           "orientation": "v",
           "showlegend": false,
           "text": [
            0.0015,
            0.0009,
            0.0012
           ],
           "textposition": "auto",
           "type": "bar",
           "x": [
            "0",
            "1",
            "2"
           ],
           "xaxis": "x",
           "y": [
            0.0015,
            0.0009,
            0.0012
           ],
           "yaxis": "y"
          }
         ],
         "name": "mumps"
        },
        {
         "data": [
          {
           "alignmentgroup": "True",
           "hovertemplate": "Diagnosis=neonatal conjunctivitis<br>Cluster=%{x}<br>Share number of consultations=%{text}<extra></extra>",
           "legendgroup": "",
           "marker": {
            "color": "#636efa",
            "pattern": {
             "shape": ""
            }
           },
           "name": "",
           "offsetgroup": "",
           "orientation": "v",
           "showlegend": false,
           "text": [
            0,
            0.0017,
            0.0003
           ],
           "textposition": "auto",
           "type": "bar",
           "x": [
            "0",
            "1",
            "2"
           ],
           "xaxis": "x",
           "y": [
            0,
            0.0017,
            0.0003
           ],
           "yaxis": "y"
          }
         ],
         "name": "neonatal conjunctivitis"
        },
        {
         "data": [
          {
           "alignmentgroup": "True",
           "hovertemplate": "Diagnosis=non specific viral rash<br>Cluster=%{x}<br>Share number of consultations=%{text}<extra></extra>",
           "legendgroup": "",
           "marker": {
            "color": "#636efa",
            "pattern": {
             "shape": ""
            }
           },
           "name": "",
           "offsetgroup": "",
           "orientation": "v",
           "showlegend": false,
           "text": [
            0.0074,
            0.0074,
            0.0089
           ],
           "textposition": "auto",
           "type": "bar",
           "x": [
            "0",
            "1",
            "2"
           ],
           "xaxis": "x",
           "y": [
            0.0074,
            0.0074,
            0.0089
           ],
           "yaxis": "y"
          }
         ],
         "name": "non specific viral rash"
        },
        {
         "data": [
          {
           "alignmentgroup": "True",
           "hovertemplate": "Diagnosis=non-severe abdominal condition<br>Cluster=%{x}<br>Share number of consultations=%{text}<extra></extra>",
           "legendgroup": "",
           "marker": {
            "color": "#636efa",
            "pattern": {
             "shape": ""
            }
           },
           "name": "",
           "offsetgroup": "",
           "orientation": "v",
           "showlegend": false,
           "text": [
            0.1498,
            0.0832,
            0.1448
           ],
           "textposition": "auto",
           "type": "bar",
           "x": [
            "0",
            "1",
            "2"
           ],
           "xaxis": "x",
           "y": [
            0.1498,
            0.0832,
            0.1448
           ],
           "yaxis": "y"
          }
         ],
         "name": "non-severe abdominal condition"
        },
        {
         "data": [
          {
           "alignmentgroup": "True",
           "hovertemplate": "Diagnosis=non-severe headache<br>Cluster=%{x}<br>Share number of consultations=%{text}<extra></extra>",
           "legendgroup": "",
           "marker": {
            "color": "#636efa",
            "pattern": {
             "shape": ""
            }
           },
           "name": "",
           "offsetgroup": "",
           "orientation": "v",
           "showlegend": false,
           "text": [
            0.0345,
            0.0253,
            0.0594
           ],
           "textposition": "auto",
           "type": "bar",
           "x": [
            "0",
            "1",
            "2"
           ],
           "xaxis": "x",
           "y": [
            0.0345,
            0.0253,
            0.0594
           ],
           "yaxis": "y"
          }
         ],
         "name": "non-severe headache"
        },
        {
         "data": [
          {
           "alignmentgroup": "True",
           "hovertemplate": "Diagnosis=non-severe measles<br>Cluster=%{x}<br>Share number of consultations=%{text}<extra></extra>",
           "legendgroup": "",
           "marker": {
            "color": "#636efa",
            "pattern": {
             "shape": ""
            }
           },
           "name": "",
           "offsetgroup": "",
           "orientation": "v",
           "showlegend": false,
           "text": [
            0.0006,
            0.0011,
            0.0009
           ],
           "textposition": "auto",
           "type": "bar",
           "x": [
            "0",
            "1",
            "2"
           ],
           "xaxis": "x",
           "y": [
            0.0006,
            0.0011,
            0.0009
           ],
           "yaxis": "y"
          }
         ],
         "name": "non-severe measles"
        },
        {
         "data": [
          {
           "alignmentgroup": "True",
           "hovertemplate": "Diagnosis=omphalitis<br>Cluster=%{x}<br>Share number of consultations=%{text}<extra></extra>",
           "legendgroup": "",
           "marker": {
            "color": "#636efa",
            "pattern": {
             "shape": ""
            }
           },
           "name": "",
           "offsetgroup": "",
           "orientation": "v",
           "showlegend": false,
           "text": [
            0,
            0.0003,
            0.0001
           ],
           "textposition": "auto",
           "type": "bar",
           "x": [
            "0",
            "1",
            "2"
           ],
           "xaxis": "x",
           "y": [
            0,
            0.0003,
            0.0001
           ],
           "yaxis": "y"
          }
         ],
         "name": "omphalitis"
        },
        {
         "data": [
          {
           "alignmentgroup": "True",
           "hovertemplate": "Diagnosis=omphalitis complicated / severe<br>Cluster=%{x}<br>Share number of consultations=%{text}<extra></extra>",
           "legendgroup": "",
           "marker": {
            "color": "#636efa",
            "pattern": {
             "shape": ""
            }
           },
           "name": "",
           "offsetgroup": "",
           "orientation": "v",
           "showlegend": false,
           "text": [
            0,
            0.0001,
            0
           ],
           "textposition": "auto",
           "type": "bar",
           "x": [
            "0",
            "1",
            "2"
           ],
           "xaxis": "x",
           "y": [
            0,
            0.0001,
            0
           ],
           "yaxis": "y"
          }
         ],
         "name": "omphalitis complicated / severe"
        },
        {
         "data": [
          {
           "alignmentgroup": "True",
           "hovertemplate": "Diagnosis=ongoing low weight for age with feeding problem<br>Cluster=%{x}<br>Share number of consultations=%{text}<extra></extra>",
           "legendgroup": "",
           "marker": {
            "color": "#636efa",
            "pattern": {
             "shape": ""
            }
           },
           "name": "",
           "offsetgroup": "",
           "orientation": "v",
           "showlegend": false,
           "text": [
            0,
            0,
            0
           ],
           "textposition": "auto",
           "type": "bar",
           "x": [
            "0",
            "1",
            "2"
           ],
           "xaxis": "x",
           "y": [
            0,
            0,
            0
           ],
           "yaxis": "y"
          }
         ],
         "name": "ongoing low weight for age with feeding problem"
        },
        {
         "data": [
          {
           "alignmentgroup": "True",
           "hovertemplate": "Diagnosis=oral aphthous ulcers<br>Cluster=%{x}<br>Share number of consultations=%{text}<extra></extra>",
           "legendgroup": "",
           "marker": {
            "color": "#636efa",
            "pattern": {
             "shape": ""
            }
           },
           "name": "",
           "offsetgroup": "",
           "orientation": "v",
           "showlegend": false,
           "text": [
            0.0115,
            0.0067,
            0.0125
           ],
           "textposition": "auto",
           "type": "bar",
           "x": [
            "0",
            "1",
            "2"
           ],
           "xaxis": "x",
           "y": [
            0.0115,
            0.0067,
            0.0125
           ],
           "yaxis": "y"
          }
         ],
         "name": "oral aphthous ulcers"
        },
        {
         "data": [
          {
           "alignmentgroup": "True",
           "hovertemplate": "Diagnosis=oral candidiasis<br>Cluster=%{x}<br>Share number of consultations=%{text}<extra></extra>",
           "legendgroup": "",
           "marker": {
            "color": "#636efa",
            "pattern": {
             "shape": ""
            }
           },
           "name": "",
           "offsetgroup": "",
           "orientation": "v",
           "showlegend": false,
           "text": [
            0.0097,
            0.0073,
            0.0066
           ],
           "textposition": "auto",
           "type": "bar",
           "x": [
            "0",
            "1",
            "2"
           ],
           "xaxis": "x",
           "y": [
            0.0097,
            0.0073,
            0.0066
           ],
           "yaxis": "y"
          }
         ],
         "name": "oral candidiasis"
        },
        {
         "data": [
          {
           "alignmentgroup": "True",
           "hovertemplate": "Diagnosis=oral thrush<br>Cluster=%{x}<br>Share number of consultations=%{text}<extra></extra>",
           "legendgroup": "",
           "marker": {
            "color": "#636efa",
            "pattern": {
             "shape": ""
            }
           },
           "name": "",
           "offsetgroup": "",
           "orientation": "v",
           "showlegend": false,
           "text": [
            0,
            0.0009,
            0.0005
           ],
           "textposition": "auto",
           "type": "bar",
           "x": [
            "0",
            "1",
            "2"
           ],
           "xaxis": "x",
           "y": [
            0,
            0.0009,
            0.0005
           ],
           "yaxis": "y"
          }
         ],
         "name": "oral thrush"
        },
        {
         "data": [
          {
           "alignmentgroup": "True",
           "hovertemplate": "Diagnosis=orbital cellulitis<br>Cluster=%{x}<br>Share number of consultations=%{text}<extra></extra>",
           "legendgroup": "",
           "marker": {
            "color": "#636efa",
            "pattern": {
             "shape": ""
            }
           },
           "name": "",
           "offsetgroup": "",
           "orientation": "v",
           "showlegend": false,
           "text": [
            0.0029,
            0.0034,
            0.002
           ],
           "textposition": "auto",
           "type": "bar",
           "x": [
            "0",
            "1",
            "2"
           ],
           "xaxis": "x",
           "y": [
            0.0029,
            0.0034,
            0.002
           ],
           "yaxis": "y"
          }
         ],
         "name": "orbital cellulitis"
        },
        {
         "data": [
          {
           "alignmentgroup": "True",
           "hovertemplate": "Diagnosis=osteomyelitis/septic arthritis<br>Cluster=%{x}<br>Share number of consultations=%{text}<extra></extra>",
           "legendgroup": "",
           "marker": {
            "color": "#636efa",
            "pattern": {
             "shape": ""
            }
           },
           "name": "",
           "offsetgroup": "",
           "orientation": "v",
           "showlegend": false,
           "text": [
            0.0003,
            0,
            0
           ],
           "textposition": "auto",
           "type": "bar",
           "x": [
            "0",
            "1",
            "2"
           ],
           "xaxis": "x",
           "y": [
            0.0003,
            0,
            0
           ],
           "yaxis": "y"
          }
         ],
         "name": "osteomyelitis/septic arthritis"
        },
        {
         "data": [
          {
           "alignmentgroup": "True",
           "hovertemplate": "Diagnosis=oxyuriasis (rectal symptoms/worms in stool)<br>Cluster=%{x}<br>Share number of consultations=%{text}<extra></extra>",
           "legendgroup": "",
           "marker": {
            "color": "#636efa",
            "pattern": {
             "shape": ""
            }
           },
           "name": "",
           "offsetgroup": "",
           "orientation": "v",
           "showlegend": false,
           "text": [
            0.0239,
            0.0151,
            0.0296
           ],
           "textposition": "auto",
           "type": "bar",
           "x": [
            "0",
            "1",
            "2"
           ],
           "xaxis": "x",
           "y": [
            0.0239,
            0.0151,
            0.0296
           ],
           "yaxis": "y"
          }
         ],
         "name": "oxyuriasis (rectal symptoms/worms in stool)"
        },
        {
         "data": [
          {
           "alignmentgroup": "True",
           "hovertemplate": "Diagnosis=pathologic-prolonged jaundice<br>Cluster=%{x}<br>Share number of consultations=%{text}<extra></extra>",
           "legendgroup": "",
           "marker": {
            "color": "#636efa",
            "pattern": {
             "shape": ""
            }
           },
           "name": "",
           "offsetgroup": "",
           "orientation": "v",
           "showlegend": false,
           "text": [
            0,
            0.0002,
            0
           ],
           "textposition": "auto",
           "type": "bar",
           "x": [
            "0",
            "1",
            "2"
           ],
           "xaxis": "x",
           "y": [
            0,
            0.0002,
            0
           ],
           "yaxis": "y"
          }
         ],
         "name": "pathologic-prolonged jaundice"
        },
        {
         "data": [
          {
           "alignmentgroup": "True",
           "hovertemplate": "Diagnosis=pathologic-severe jaundice<br>Cluster=%{x}<br>Share number of consultations=%{text}<extra></extra>",
           "legendgroup": "",
           "marker": {
            "color": "#636efa",
            "pattern": {
             "shape": ""
            }
           },
           "name": "",
           "offsetgroup": "",
           "orientation": "v",
           "showlegend": false,
           "text": [
            0,
            0.0002,
            0
           ],
           "textposition": "auto",
           "type": "bar",
           "x": [
            "0",
            "1",
            "2"
           ],
           "xaxis": "x",
           "y": [
            0,
            0.0002,
            0
           ],
           "yaxis": "y"
          }
         ],
         "name": "pathologic-severe jaundice"
        },
        {
         "data": [
          {
           "alignmentgroup": "True",
           "hovertemplate": "Diagnosis=pediculosis (head lice)<br>Cluster=%{x}<br>Share number of consultations=%{text}<extra></extra>",
           "legendgroup": "",
           "marker": {
            "color": "#636efa",
            "pattern": {
             "shape": ""
            }
           },
           "name": "",
           "offsetgroup": "",
           "orientation": "v",
           "showlegend": false,
           "text": [
            0.0009,
            0.0017,
            0.0011
           ],
           "textposition": "auto",
           "type": "bar",
           "x": [
            "0",
            "1",
            "2"
           ],
           "xaxis": "x",
           "y": [
            0.0009,
            0.0017,
            0.0011
           ],
           "yaxis": "y"
          }
         ],
         "name": "pediculosis (head lice)"
        },
        {
         "data": [
          {
           "alignmentgroup": "True",
           "hovertemplate": "Diagnosis=persistent diarrhea<br>Cluster=%{x}<br>Share number of consultations=%{text}<extra></extra>",
           "legendgroup": "",
           "marker": {
            "color": "#636efa",
            "pattern": {
             "shape": ""
            }
           },
           "name": "",
           "offsetgroup": "",
           "orientation": "v",
           "showlegend": false,
           "text": [
            0.0003,
            0.0001,
            0.0001
           ],
           "textposition": "auto",
           "type": "bar",
           "x": [
            "0",
            "1",
            "2"
           ],
           "xaxis": "x",
           "y": [
            0.0003,
            0.0001,
            0.0001
           ],
           "yaxis": "y"
          }
         ],
         "name": "persistent diarrhea"
        },
        {
         "data": [
          {
           "alignmentgroup": "True",
           "hovertemplate": "Diagnosis=persisting dysentery<br>Cluster=%{x}<br>Share number of consultations=%{text}<extra></extra>",
           "legendgroup": "",
           "marker": {
            "color": "#636efa",
            "pattern": {
             "shape": ""
            }
           },
           "name": "",
           "offsetgroup": "",
           "orientation": "v",
           "showlegend": false,
           "text": [
            0,
            0,
            0
           ],
           "textposition": "auto",
           "type": "bar",
           "x": [
            "0",
            "1",
            "2"
           ],
           "xaxis": "x",
           "y": [
            0,
            0,
            0
           ],
           "yaxis": "y"
          }
         ],
         "name": "persisting dysentery"
        },
        {
         "data": [
          {
           "alignmentgroup": "True",
           "hovertemplate": "Diagnosis=persisting pyelonephritis<br>Cluster=%{x}<br>Share number of consultations=%{text}<extra></extra>",
           "legendgroup": "",
           "marker": {
            "color": "#636efa",
            "pattern": {
             "shape": ""
            }
           },
           "name": "",
           "offsetgroup": "",
           "orientation": "v",
           "showlegend": false,
           "text": [
            0,
            0.0001,
            0.0001
           ],
           "textposition": "auto",
           "type": "bar",
           "x": [
            "0",
            "1",
            "2"
           ],
           "xaxis": "x",
           "y": [
            0,
            0.0001,
            0.0001
           ],
           "yaxis": "y"
          }
         ],
         "name": "persisting pyelonephritis"
        },
        {
         "data": [
          {
           "alignmentgroup": "True",
           "hovertemplate": "Diagnosis=physiologic rash : erythema toxicum<br>Cluster=%{x}<br>Share number of consultations=%{text}<extra></extra>",
           "legendgroup": "",
           "marker": {
            "color": "#636efa",
            "pattern": {
             "shape": ""
            }
           },
           "name": "",
           "offsetgroup": "",
           "orientation": "v",
           "showlegend": false,
           "text": [
            0,
            0.0001,
            0
           ],
           "textposition": "auto",
           "type": "bar",
           "x": [
            "0",
            "1",
            "2"
           ],
           "xaxis": "x",
           "y": [
            0,
            0.0001,
            0
           ],
           "yaxis": "y"
          }
         ],
         "name": "physiologic rash : erythema toxicum"
        },
        {
         "data": [
          {
           "alignmentgroup": "True",
           "hovertemplate": "Diagnosis=physiologic rash : transient neonatal pustural melanosis<br>Cluster=%{x}<br>Share number of consultations=%{text}<extra></extra>",
           "legendgroup": "",
           "marker": {
            "color": "#636efa",
            "pattern": {
             "shape": ""
            }
           },
           "name": "",
           "offsetgroup": "",
           "orientation": "v",
           "showlegend": false,
           "text": [
            0,
            0.0001,
            0
           ],
           "textposition": "auto",
           "type": "bar",
           "x": [
            "0",
            "1",
            "2"
           ],
           "xaxis": "x",
           "y": [
            0,
            0.0001,
            0
           ],
           "yaxis": "y"
          }
         ],
         "name": "physiologic rash : transient neonatal pustural melanosis"
        },
        {
         "data": [
          {
           "alignmentgroup": "True",
           "hovertemplate": "Diagnosis=physiological jaundice<br>Cluster=%{x}<br>Share number of consultations=%{text}<extra></extra>",
           "legendgroup": "",
           "marker": {
            "color": "#636efa",
            "pattern": {
             "shape": ""
            }
           },
           "name": "",
           "offsetgroup": "",
           "orientation": "v",
           "showlegend": false,
           "text": [
            0,
            0.0001,
            0
           ],
           "textposition": "auto",
           "type": "bar",
           "x": [
            "0",
            "1",
            "2"
           ],
           "xaxis": "x",
           "y": [
            0,
            0.0001,
            0
           ],
           "yaxis": "y"
          }
         ],
         "name": "physiological jaundice"
        },
        {
         "data": [
          {
           "alignmentgroup": "True",
           "hovertemplate": "Diagnosis=pityriasis versicolor<br>Cluster=%{x}<br>Share number of consultations=%{text}<extra></extra>",
           "legendgroup": "",
           "marker": {
            "color": "#636efa",
            "pattern": {
             "shape": ""
            }
           },
           "name": "",
           "offsetgroup": "",
           "orientation": "v",
           "showlegend": false,
           "text": [
            0,
            0.0008,
            0.0002
           ],
           "textposition": "auto",
           "type": "bar",
           "x": [
            "0",
            "1",
            "2"
           ],
           "xaxis": "x",
           "y": [
            0,
            0.0008,
            0.0002
           ],
           "yaxis": "y"
          }
         ],
         "name": "pityriasis versicolor"
        },
        {
         "data": [
          {
           "alignmentgroup": "True",
           "hovertemplate": "Diagnosis=pneumonia<br>Cluster=%{x}<br>Share number of consultations=%{text}<extra></extra>",
           "legendgroup": "",
           "marker": {
            "color": "#636efa",
            "pattern": {
             "shape": ""
            }
           },
           "name": "",
           "offsetgroup": "",
           "orientation": "v",
           "showlegend": false,
           "text": [
            0,
            0.0002,
            0.0004
           ],
           "textposition": "auto",
           "type": "bar",
           "x": [
            "0",
            "1",
            "2"
           ],
           "xaxis": "x",
           "y": [
            0,
            0.0002,
            0.0004
           ],
           "yaxis": "y"
          }
         ],
         "name": "pneumonia"
        },
        {
         "data": [
          {
           "alignmentgroup": "True",
           "hovertemplate": "Diagnosis=preseptal cellulitis<br>Cluster=%{x}<br>Share number of consultations=%{text}<extra></extra>",
           "legendgroup": "",
           "marker": {
            "color": "#636efa",
            "pattern": {
             "shape": ""
            }
           },
           "name": "",
           "offsetgroup": "",
           "orientation": "v",
           "showlegend": false,
           "text": [
            0.0006,
            0.0007,
            0.0003
           ],
           "textposition": "auto",
           "type": "bar",
           "x": [
            "0",
            "1",
            "2"
           ],
           "xaxis": "x",
           "y": [
            0.0006,
            0.0007,
            0.0003
           ],
           "yaxis": "y"
          }
         ],
         "name": "preseptal cellulitis"
        },
        {
         "data": [
          {
           "alignmentgroup": "True",
           "hovertemplate": "Diagnosis=primary syphilis<br>Cluster=%{x}<br>Share number of consultations=%{text}<extra></extra>",
           "legendgroup": "",
           "marker": {
            "color": "#636efa",
            "pattern": {
             "shape": ""
            }
           },
           "name": "",
           "offsetgroup": "",
           "orientation": "v",
           "showlegend": false,
           "text": [
            0,
            0.0001,
            0.0001
           ],
           "textposition": "auto",
           "type": "bar",
           "x": [
            "0",
            "1",
            "2"
           ],
           "xaxis": "x",
           "y": [
            0,
            0.0001,
            0.0001
           ],
           "yaxis": "y"
          }
         ],
         "name": "primary syphilis"
        },
        {
         "data": [
          {
           "alignmentgroup": "True",
           "hovertemplate": "Diagnosis=prolonged fever<br>Cluster=%{x}<br>Share number of consultations=%{text}<extra></extra>",
           "legendgroup": "",
           "marker": {
            "color": "#636efa",
            "pattern": {
             "shape": ""
            }
           },
           "name": "",
           "offsetgroup": "",
           "orientation": "v",
           "showlegend": false,
           "text": [
            0.0029,
            0.0007,
            0.0048
           ],
           "textposition": "auto",
           "type": "bar",
           "x": [
            "0",
            "1",
            "2"
           ],
           "xaxis": "x",
           "y": [
            0.0029,
            0.0007,
            0.0048
           ],
           "yaxis": "y"
          }
         ],
         "name": "prolonged fever"
        },
        {
         "data": [
          {
           "alignmentgroup": "True",
           "hovertemplate": "Diagnosis=pyelonephritis<br>Cluster=%{x}<br>Share number of consultations=%{text}<extra></extra>",
           "legendgroup": "",
           "marker": {
            "color": "#636efa",
            "pattern": {
             "shape": ""
            }
           },
           "name": "",
           "offsetgroup": "",
           "orientation": "v",
           "showlegend": false,
           "text": [
            0.0024,
            0.0013,
            0.0029
           ],
           "textposition": "auto",
           "type": "bar",
           "x": [
            "0",
            "1",
            "2"
           ],
           "xaxis": "x",
           "y": [
            0.0024,
            0.0013,
            0.0029
           ],
           "yaxis": "y"
          }
         ],
         "name": "pyelonephritis"
        },
        {
         "data": [
          {
           "alignmentgroup": "True",
           "hovertemplate": "Diagnosis=reactive airway disease<br>Cluster=%{x}<br>Share number of consultations=%{text}<extra></extra>",
           "legendgroup": "",
           "marker": {
            "color": "#636efa",
            "pattern": {
             "shape": ""
            }
           },
           "name": "",
           "offsetgroup": "",
           "orientation": "v",
           "showlegend": false,
           "text": [
            0.0015,
            0.0001,
            0.0013
           ],
           "textposition": "auto",
           "type": "bar",
           "x": [
            "0",
            "1",
            "2"
           ],
           "xaxis": "x",
           "y": [
            0.0015,
            0.0001,
            0.0013
           ],
           "yaxis": "y"
          }
         ],
         "name": "reactive airway disease"
        },
        {
         "data": [
          {
           "alignmentgroup": "True",
           "hovertemplate": "Diagnosis=respiratory tract infection (viral suspected)<br>Cluster=%{x}<br>Share number of consultations=%{text}<extra></extra>",
           "legendgroup": "",
           "marker": {
            "color": "#636efa",
            "pattern": {
             "shape": ""
            }
           },
           "name": "",
           "offsetgroup": "",
           "orientation": "v",
           "showlegend": false,
           "text": [
            0,
            0.0037,
            0.0165
           ],
           "textposition": "auto",
           "type": "bar",
           "x": [
            "0",
            "1",
            "2"
           ],
           "xaxis": "x",
           "y": [
            0,
            0.0037,
            0.0165
           ],
           "yaxis": "y"
          }
         ],
         "name": "respiratory tract infection (viral suspected)"
        },
        {
         "data": [
          {
           "alignmentgroup": "True",
           "hovertemplate": "Diagnosis=scabies<br>Cluster=%{x}<br>Share number of consultations=%{text}<extra></extra>",
           "legendgroup": "",
           "marker": {
            "color": "#636efa",
            "pattern": {
             "shape": ""
            }
           },
           "name": "",
           "offsetgroup": "",
           "orientation": "v",
           "showlegend": false,
           "text": [
            0.013,
            0.0085,
            0.0066
           ],
           "textposition": "auto",
           "type": "bar",
           "x": [
            "0",
            "1",
            "2"
           ],
           "xaxis": "x",
           "y": [
            0.013,
            0.0085,
            0.0066
           ],
           "yaxis": "y"
          }
         ],
         "name": "scabies"
        },
        {
         "data": [
          {
           "alignmentgroup": "True",
           "hovertemplate": "Diagnosis=scarlet fever<br>Cluster=%{x}<br>Share number of consultations=%{text}<extra></extra>",
           "legendgroup": "",
           "marker": {
            "color": "#636efa",
            "pattern": {
             "shape": ""
            }
           },
           "name": "",
           "offsetgroup": "",
           "orientation": "v",
           "showlegend": false,
           "text": [
            0.0009,
            0.0015,
            0.0007
           ],
           "textposition": "auto",
           "type": "bar",
           "x": [
            "0",
            "1",
            "2"
           ],
           "xaxis": "x",
           "y": [
            0.0009,
            0.0015,
            0.0007
           ],
           "yaxis": "y"
          }
         ],
         "name": "scarlet fever"
        },
        {
         "data": [
          {
           "alignmentgroup": "True",
           "hovertemplate": "Diagnosis=severe abdominal condition (possible bowel obstruction / hernia / appendicitis)<br>Cluster=%{x}<br>Share number of consultations=%{text}<extra></extra>",
           "legendgroup": "",
           "marker": {
            "color": "#636efa",
            "pattern": {
             "shape": ""
            }
           },
           "name": "",
           "offsetgroup": "",
           "orientation": "v",
           "showlegend": false,
           "text": [
            0.0032,
            0.003,
            0.0013
           ],
           "textposition": "auto",
           "type": "bar",
           "x": [
            "0",
            "1",
            "2"
           ],
           "xaxis": "x",
           "y": [
            0.0032,
            0.003,
            0.0013
           ],
           "yaxis": "y"
          }
         ],
         "name": "severe abdominal condition (possible bowel obstruction / hernia / appendicitis)"
        },
        {
         "data": [
          {
           "alignmentgroup": "True",
           "hovertemplate": "Diagnosis=severe abdominal problem<br>Cluster=%{x}<br>Share number of consultations=%{text}<extra></extra>",
           "legendgroup": "",
           "marker": {
            "color": "#636efa",
            "pattern": {
             "shape": ""
            }
           },
           "name": "",
           "offsetgroup": "",
           "orientation": "v",
           "showlegend": false,
           "text": [
            0,
            0.0011,
            0.0002
           ],
           "textposition": "auto",
           "type": "bar",
           "x": [
            "0",
            "1",
            "2"
           ],
           "xaxis": "x",
           "y": [
            0,
            0.0011,
            0.0002
           ],
           "yaxis": "y"
          }
         ],
         "name": "severe abdominal problem"
        },
        {
         "data": [
          {
           "alignmentgroup": "True",
           "hovertemplate": "Diagnosis=severe anemia<br>Cluster=%{x}<br>Share number of consultations=%{text}<extra></extra>",
           "legendgroup": "",
           "marker": {
            "color": "#636efa",
            "pattern": {
             "shape": ""
            }
           },
           "name": "",
           "offsetgroup": "",
           "orientation": "v",
           "showlegend": false,
           "text": [
            0.0024,
            0.0006,
            0.001
           ],
           "textposition": "auto",
           "type": "bar",
           "x": [
            "0",
            "1",
            "2"
           ],
           "xaxis": "x",
           "y": [
            0.0024,
            0.0006,
            0.001
           ],
           "yaxis": "y"
          }
         ],
         "name": "severe anemia"
        },
        {
         "data": [
          {
           "alignmentgroup": "True",
           "hovertemplate": "Diagnosis=severe clinical infection or severe illness<br>Cluster=%{x}<br>Share number of consultations=%{text}<extra></extra>",
           "legendgroup": "",
           "marker": {
            "color": "#636efa",
            "pattern": {
             "shape": ""
            }
           },
           "name": "",
           "offsetgroup": "",
           "orientation": "v",
           "showlegend": false,
           "text": [
            0,
            0.0033,
            0.0026
           ],
           "textposition": "auto",
           "type": "bar",
           "x": [
            "0",
            "1",
            "2"
           ],
           "xaxis": "x",
           "y": [
            0,
            0.0033,
            0.0026
           ],
           "yaxis": "y"
          }
         ],
         "name": "severe clinical infection or severe illness"
        },
        {
         "data": [
          {
           "alignmentgroup": "True",
           "hovertemplate": "Diagnosis=severe complicated measles<br>Cluster=%{x}<br>Share number of consultations=%{text}<extra></extra>",
           "legendgroup": "",
           "marker": {
            "color": "#636efa",
            "pattern": {
             "shape": ""
            }
           },
           "name": "",
           "offsetgroup": "",
           "orientation": "v",
           "showlegend": false,
           "text": [
            0.0003,
            0.0001,
            0
           ],
           "textposition": "auto",
           "type": "bar",
           "x": [
            "0",
            "1",
            "2"
           ],
           "xaxis": "x",
           "y": [
            0.0003,
            0.0001,
            0
           ],
           "yaxis": "y"
          }
         ],
         "name": "severe complicated measles"
        },
        {
         "data": [
          {
           "alignmentgroup": "True",
           "hovertemplate": "Diagnosis=severe croup<br>Cluster=%{x}<br>Share number of consultations=%{text}<extra></extra>",
           "legendgroup": "",
           "marker": {
            "color": "#636efa",
            "pattern": {
             "shape": ""
            }
           },
           "name": "",
           "offsetgroup": "",
           "orientation": "v",
           "showlegend": false,
           "text": [
            0.0009,
            0.0001,
            0.0019
           ],
           "textposition": "auto",
           "type": "bar",
           "x": [
            "0",
            "1",
            "2"
           ],
           "xaxis": "x",
           "y": [
            0.0009,
            0.0001,
            0.0019
           ],
           "yaxis": "y"
          }
         ],
         "name": "severe croup"
        },
        {
         "data": [
          {
           "alignmentgroup": "True",
           "hovertemplate": "Diagnosis=severe dehydration<br>Cluster=%{x}<br>Share number of consultations=%{text}<extra></extra>",
           "legendgroup": "",
           "marker": {
            "color": "#636efa",
            "pattern": {
             "shape": ""
            }
           },
           "name": "",
           "offsetgroup": "",
           "orientation": "v",
           "showlegend": false,
           "text": [
            0.0053,
            0.0014,
            0.0022
           ],
           "textposition": "auto",
           "type": "bar",
           "x": [
            "0",
            "1",
            "2"
           ],
           "xaxis": "x",
           "y": [
            0.0053,
            0.0014,
            0.0022
           ],
           "yaxis": "y"
          }
         ],
         "name": "severe dehydration"
        },
        {
         "data": [
          {
           "alignmentgroup": "True",
           "hovertemplate": "Diagnosis=severe eye disease<br>Cluster=%{x}<br>Share number of consultations=%{text}<extra></extra>",
           "legendgroup": "",
           "marker": {
            "color": "#636efa",
            "pattern": {
             "shape": ""
            }
           },
           "name": "",
           "offsetgroup": "",
           "orientation": "v",
           "showlegend": false,
           "text": [
            0.0136,
            0.0154,
            0.0085
           ],
           "textposition": "auto",
           "type": "bar",
           "x": [
            "0",
            "1",
            "2"
           ],
           "xaxis": "x",
           "y": [
            0.0136,
            0.0154,
            0.0085
           ],
           "yaxis": "y"
          }
         ],
         "name": "severe eye disease"
        },
        {
         "data": [
          {
           "alignmentgroup": "True",
           "hovertemplate": "Diagnosis=severe eye problem<br>Cluster=%{x}<br>Share number of consultations=%{text}<extra></extra>",
           "legendgroup": "",
           "marker": {
            "color": "#636efa",
            "pattern": {
             "shape": ""
            }
           },
           "name": "",
           "offsetgroup": "",
           "orientation": "v",
           "showlegend": false,
           "text": [
            0,
            0.0004,
            0
           ],
           "textposition": "auto",
           "type": "bar",
           "x": [
            "0",
            "1",
            "2"
           ],
           "xaxis": "x",
           "y": [
            0,
            0.0004,
            0
           ],
           "yaxis": "y"
          }
         ],
         "name": "severe eye problem"
        },
        {
         "data": [
          {
           "alignmentgroup": "True",
           "hovertemplate": "Diagnosis=severe malaria<br>Cluster=%{x}<br>Share number of consultations=%{text}<extra></extra>",
           "legendgroup": "",
           "marker": {
            "color": "#636efa",
            "pattern": {
             "shape": ""
            }
           },
           "name": "",
           "offsetgroup": "",
           "orientation": "v",
           "showlegend": false,
           "text": [
            0.0006,
            0.0002,
            0.0003
           ],
           "textposition": "auto",
           "type": "bar",
           "x": [
            "0",
            "1",
            "2"
           ],
           "xaxis": "x",
           "y": [
            0.0006,
            0.0002,
            0.0003
           ],
           "yaxis": "y"
          }
         ],
         "name": "severe malaria"
        },
        {
         "data": [
          {
           "alignmentgroup": "True",
           "hovertemplate": "Diagnosis=severe persistent diarrhea<br>Cluster=%{x}<br>Share number of consultations=%{text}<extra></extra>",
           "legendgroup": "",
           "marker": {
            "color": "#636efa",
            "pattern": {
             "shape": ""
            }
           },
           "name": "",
           "offsetgroup": "",
           "orientation": "v",
           "showlegend": false,
           "text": [
            0.0003,
            0,
            0.0001
           ],
           "textposition": "auto",
           "type": "bar",
           "x": [
            "0",
            "1",
            "2"
           ],
           "xaxis": "x",
           "y": [
            0.0003,
            0,
            0.0001
           ],
           "yaxis": "y"
          }
         ],
         "name": "severe persistent diarrhea"
        },
        {
         "data": [
          {
           "alignmentgroup": "True",
           "hovertemplate": "Diagnosis=severe pneumonia<br>Cluster=%{x}<br>Share number of consultations=%{text}<extra></extra>",
           "legendgroup": "",
           "marker": {
            "color": "#636efa",
            "pattern": {
             "shape": ""
            }
           },
           "name": "",
           "offsetgroup": "",
           "orientation": "v",
           "showlegend": false,
           "text": [
            0.0091,
            0.0003,
            0.0093
           ],
           "textposition": "auto",
           "type": "bar",
           "x": [
            "0",
            "1",
            "2"
           ],
           "xaxis": "x",
           "y": [
            0.0091,
            0.0003,
            0.0093
           ],
           "yaxis": "y"
          }
         ],
         "name": "severe pneumonia"
        },
        {
         "data": [
          {
           "alignmentgroup": "True",
           "hovertemplate": "Diagnosis=severe pneumonia or severe respiratory illness<br>Cluster=%{x}<br>Share number of consultations=%{text}<extra></extra>",
           "legendgroup": "",
           "marker": {
            "color": "#636efa",
            "pattern": {
             "shape": ""
            }
           },
           "name": "",
           "offsetgroup": "",
           "orientation": "v",
           "showlegend": false,
           "text": [
            0,
            0,
            0.0001
           ],
           "textposition": "auto",
           "type": "bar",
           "x": [
            "0",
            "1",
            "2"
           ],
           "xaxis": "x",
           "y": [
            0,
            0,
            0.0001
           ],
           "yaxis": "y"
          }
         ],
         "name": "severe pneumonia or severe respiratory illness"
        },
        {
         "data": [
          {
           "alignmentgroup": "True",
           "hovertemplate": "Diagnosis=severe skin infection<br>Cluster=%{x}<br>Share number of consultations=%{text}<extra></extra>",
           "legendgroup": "",
           "marker": {
            "color": "#636efa",
            "pattern": {
             "shape": ""
            }
           },
           "name": "",
           "offsetgroup": "",
           "orientation": "v",
           "showlegend": false,
           "text": [
            0,
            0.0014,
            0.0003
           ],
           "textposition": "auto",
           "type": "bar",
           "x": [
            "0",
            "1",
            "2"
           ],
           "xaxis": "x",
           "y": [
            0,
            0.0014,
            0.0003
           ],
           "yaxis": "y"
          }
         ],
         "name": "severe skin infection"
        },
        {
         "data": [
          {
           "alignmentgroup": "True",
           "hovertemplate": "Diagnosis=significant hemoptysis<br>Cluster=%{x}<br>Share number of consultations=%{text}<extra></extra>",
           "legendgroup": "",
           "marker": {
            "color": "#636efa",
            "pattern": {
             "shape": ""
            }
           },
           "name": "",
           "offsetgroup": "",
           "orientation": "v",
           "showlegend": false,
           "text": [
            0.0012,
            0,
            0
           ],
           "textposition": "auto",
           "type": "bar",
           "x": [
            "0",
            "1",
            "2"
           ],
           "xaxis": "x",
           "y": [
            0.0012,
            0,
            0
           ],
           "yaxis": "y"
          }
         ],
         "name": "significant hemoptysis"
        },
        {
         "data": [
          {
           "alignmentgroup": "True",
           "hovertemplate": "Diagnosis=simple abscess<br>Cluster=%{x}<br>Share number of consultations=%{text}<extra></extra>",
           "legendgroup": "",
           "marker": {
            "color": "#636efa",
            "pattern": {
             "shape": ""
            }
           },
           "name": "",
           "offsetgroup": "",
           "orientation": "v",
           "showlegend": false,
           "text": [
            0.0032,
            0.0038,
            0.0015
           ],
           "textposition": "auto",
           "type": "bar",
           "x": [
            "0",
            "1",
            "2"
           ],
           "xaxis": "x",
           "y": [
            0.0032,
            0.0038,
            0.0015
           ],
           "yaxis": "y"
          }
         ],
         "name": "simple abscess"
        },
        {
         "data": [
          {
           "alignmentgroup": "True",
           "hovertemplate": "Diagnosis=some dehydration<br>Cluster=%{x}<br>Share number of consultations=%{text}<extra></extra>",
           "legendgroup": "",
           "marker": {
            "color": "#636efa",
            "pattern": {
             "shape": ""
            }
           },
           "name": "",
           "offsetgroup": "",
           "orientation": "v",
           "showlegend": false,
           "text": [
            0.008,
            0.0025,
            0.0027
           ],
           "textposition": "auto",
           "type": "bar",
           "x": [
            "0",
            "1",
            "2"
           ],
           "xaxis": "x",
           "y": [
            0.008,
            0.0025,
            0.0027
           ],
           "yaxis": "y"
          }
         ],
         "name": "some dehydration"
        },
        {
         "data": [
          {
           "alignmentgroup": "True",
           "hovertemplate": "Diagnosis=suspected malaria<br>Cluster=%{x}<br>Share number of consultations=%{text}<extra></extra>",
           "legendgroup": "",
           "marker": {
            "color": "#636efa",
            "pattern": {
             "shape": ""
            }
           },
           "name": "",
           "offsetgroup": "",
           "orientation": "v",
           "showlegend": false,
           "text": [
            0.0009,
            0.0003,
            0.0008
           ],
           "textposition": "auto",
           "type": "bar",
           "x": [
            "0",
            "1",
            "2"
           ],
           "xaxis": "x",
           "y": [
            0.0009,
            0.0003,
            0.0008
           ],
           "yaxis": "y"
          }
         ],
         "name": "suspected malaria"
        },
        {
         "data": [
          {
           "alignmentgroup": "True",
           "hovertemplate": "Diagnosis=suspected malaria (malaria test not available)<br>Cluster=%{x}<br>Share number of consultations=%{text}<extra></extra>",
           "legendgroup": "",
           "marker": {
            "color": "#636efa",
            "pattern": {
             "shape": ""
            }
           },
           "name": "",
           "offsetgroup": "",
           "orientation": "v",
           "showlegend": false,
           "text": [
            0,
            0,
            0.0001
           ],
           "textposition": "auto",
           "type": "bar",
           "x": [
            "0",
            "1",
            "2"
           ],
           "xaxis": "x",
           "y": [
            0,
            0,
            0.0001
           ],
           "yaxis": "y"
          }
         ],
         "name": "suspected malaria (malaria test not available)"
        },
        {
         "data": [
          {
           "alignmentgroup": "True",
           "hovertemplate": "Diagnosis=suspected severe malaria<br>Cluster=%{x}<br>Share number of consultations=%{text}<extra></extra>",
           "legendgroup": "",
           "marker": {
            "color": "#636efa",
            "pattern": {
             "shape": ""
            }
           },
           "name": "",
           "offsetgroup": "",
           "orientation": "v",
           "showlegend": false,
           "text": [
            0,
            0,
            0.0001
           ],
           "textposition": "auto",
           "type": "bar",
           "x": [
            "0",
            "1",
            "2"
           ],
           "xaxis": "x",
           "y": [
            0,
            0,
            0.0001
           ],
           "yaxis": "y"
          }
         ],
         "name": "suspected severe malaria"
        },
        {
         "data": [
          {
           "alignmentgroup": "True",
           "hovertemplate": "Diagnosis=suspected testicular torsion<br>Cluster=%{x}<br>Share number of consultations=%{text}<extra></extra>",
           "legendgroup": "",
           "marker": {
            "color": "#636efa",
            "pattern": {
             "shape": ""
            }
           },
           "name": "",
           "offsetgroup": "",
           "orientation": "v",
           "showlegend": false,
           "text": [
            0,
            0.0002,
            0.0001
           ],
           "textposition": "auto",
           "type": "bar",
           "x": [
            "0",
            "1",
            "2"
           ],
           "xaxis": "x",
           "y": [
            0,
            0.0002,
            0.0001
           ],
           "yaxis": "y"
          }
         ],
         "name": "suspected testicular torsion"
        },
        {
         "data": [
          {
           "alignmentgroup": "True",
           "hovertemplate": "Diagnosis=suspicion of foreign object in airways<br>Cluster=%{x}<br>Share number of consultations=%{text}<extra></extra>",
           "legendgroup": "",
           "marker": {
            "color": "#636efa",
            "pattern": {
             "shape": ""
            }
           },
           "name": "",
           "offsetgroup": "",
           "orientation": "v",
           "showlegend": false,
           "text": [
            0.0003,
            0,
            0.0001
           ],
           "textposition": "auto",
           "type": "bar",
           "x": [
            "0",
            "1",
            "2"
           ],
           "xaxis": "x",
           "y": [
            0.0003,
            0,
            0.0001
           ],
           "yaxis": "y"
          }
         ],
         "name": "suspicion of foreign object in airways"
        },
        {
         "data": [
          {
           "alignmentgroup": "True",
           "hovertemplate": "Diagnosis=suspicion of fracture/dislocation<br>Cluster=%{x}<br>Share number of consultations=%{text}<extra></extra>",
           "legendgroup": "",
           "marker": {
            "color": "#636efa",
            "pattern": {
             "shape": ""
            }
           },
           "name": "",
           "offsetgroup": "",
           "orientation": "v",
           "showlegend": false,
           "text": [
            0.0006,
            0.0013,
            0.0003
           ],
           "textposition": "auto",
           "type": "bar",
           "x": [
            "0",
            "1",
            "2"
           ],
           "xaxis": "x",
           "y": [
            0.0006,
            0.0013,
            0.0003
           ],
           "yaxis": "y"
          }
         ],
         "name": "suspicion of fracture/dislocation"
        },
        {
         "data": [
          {
           "alignmentgroup": "True",
           "hovertemplate": "Diagnosis=suspicion of meningitis<br>Cluster=%{x}<br>Share number of consultations=%{text}<extra></extra>",
           "legendgroup": "",
           "marker": {
            "color": "#636efa",
            "pattern": {
             "shape": ""
            }
           },
           "name": "",
           "offsetgroup": "",
           "orientation": "v",
           "showlegend": false,
           "text": [
            0,
            0,
            0.0001
           ],
           "textposition": "auto",
           "type": "bar",
           "x": [
            "0",
            "1",
            "2"
           ],
           "xaxis": "x",
           "y": [
            0,
            0,
            0.0001
           ],
           "yaxis": "y"
          }
         ],
         "name": "suspicion of meningitis"
        },
        {
         "data": [
          {
           "alignmentgroup": "True",
           "hovertemplate": "Diagnosis=suspicion of poisoning<br>Cluster=%{x}<br>Share number of consultations=%{text}<extra></extra>",
           "legendgroup": "",
           "marker": {
            "color": "#636efa",
            "pattern": {
             "shape": ""
            }
           },
           "name": "",
           "offsetgroup": "",
           "orientation": "v",
           "showlegend": false,
           "text": [
            0,
            0,
            0
           ],
           "textposition": "auto",
           "type": "bar",
           "x": [
            "0",
            "1",
            "2"
           ],
           "xaxis": "x",
           "y": [
            0,
            0,
            0
           ],
           "yaxis": "y"
          }
         ],
         "name": "suspicion of poisoning"
        },
        {
         "data": [
          {
           "alignmentgroup": "True",
           "hovertemplate": "Diagnosis=tinea capitis<br>Cluster=%{x}<br>Share number of consultations=%{text}<extra></extra>",
           "legendgroup": "",
           "marker": {
            "color": "#636efa",
            "pattern": {
             "shape": ""
            }
           },
           "name": "",
           "offsetgroup": "",
           "orientation": "v",
           "showlegend": false,
           "text": [
            0.0032,
            0.0029,
            0.0026
           ],
           "textposition": "auto",
           "type": "bar",
           "x": [
            "0",
            "1",
            "2"
           ],
           "xaxis": "x",
           "y": [
            0.0032,
            0.0029,
            0.0026
           ],
           "yaxis": "y"
          }
         ],
         "name": "tinea capitis"
        },
        {
         "data": [
          {
           "alignmentgroup": "True",
           "hovertemplate": "Diagnosis=tinea corporis<br>Cluster=%{x}<br>Share number of consultations=%{text}<extra></extra>",
           "legendgroup": "",
           "marker": {
            "color": "#636efa",
            "pattern": {
             "shape": ""
            }
           },
           "name": "",
           "offsetgroup": "",
           "orientation": "v",
           "showlegend": false,
           "text": [
            0.0018,
            0.0022,
            0.0018
           ],
           "textposition": "auto",
           "type": "bar",
           "x": [
            "0",
            "1",
            "2"
           ],
           "xaxis": "x",
           "y": [
            0.0018,
            0.0022,
            0.0018
           ],
           "yaxis": "y"
          }
         ],
         "name": "tinea corporis"
        },
        {
         "data": [
          {
           "alignmentgroup": "True",
           "hovertemplate": "Diagnosis=tooth pain<br>Cluster=%{x}<br>Share number of consultations=%{text}<extra></extra>",
           "legendgroup": "",
           "marker": {
            "color": "#636efa",
            "pattern": {
             "shape": ""
            }
           },
           "name": "",
           "offsetgroup": "",
           "orientation": "v",
           "showlegend": false,
           "text": [
            0.0103,
            0.0138,
            0.0043
           ],
           "textposition": "auto",
           "type": "bar",
           "x": [
            "0",
            "1",
            "2"
           ],
           "xaxis": "x",
           "y": [
            0.0103,
            0.0138,
            0.0043
           ],
           "yaxis": "y"
          }
         ],
         "name": "tooth pain"
        },
        {
         "data": [
          {
           "alignmentgroup": "True",
           "hovertemplate": "Diagnosis=typhoid fever<br>Cluster=%{x}<br>Share number of consultations=%{text}<extra></extra>",
           "legendgroup": "",
           "marker": {
            "color": "#636efa",
            "pattern": {
             "shape": ""
            }
           },
           "name": "",
           "offsetgroup": "",
           "orientation": "v",
           "showlegend": false,
           "text": [
            0.0003,
            0,
            0
           ],
           "textposition": "auto",
           "type": "bar",
           "x": [
            "0",
            "1",
            "2"
           ],
           "xaxis": "x",
           "y": [
            0.0003,
            0,
            0
           ],
           "yaxis": "y"
          }
         ],
         "name": "typhoid fever"
        },
        {
         "data": [
          {
           "alignmentgroup": "True",
           "hovertemplate": "Diagnosis=uncomplicated acute ear infection<br>Cluster=%{x}<br>Share number of consultations=%{text}<extra></extra>",
           "legendgroup": "",
           "marker": {
            "color": "#636efa",
            "pattern": {
             "shape": ""
            }
           },
           "name": "",
           "offsetgroup": "",
           "orientation": "v",
           "showlegend": false,
           "text": [
            0.0027,
            0.0047,
            0.0065
           ],
           "textposition": "auto",
           "type": "bar",
           "x": [
            "0",
            "1",
            "2"
           ],
           "xaxis": "x",
           "y": [
            0.0027,
            0.0047,
            0.0065
           ],
           "yaxis": "y"
          }
         ],
         "name": "uncomplicated acute ear infection"
        },
        {
         "data": [
          {
           "alignmentgroup": "True",
           "hovertemplate": "Diagnosis=uncomplicated cellulitis<br>Cluster=%{x}<br>Share number of consultations=%{text}<extra></extra>",
           "legendgroup": "",
           "marker": {
            "color": "#636efa",
            "pattern": {
             "shape": ""
            }
           },
           "name": "",
           "offsetgroup": "",
           "orientation": "v",
           "showlegend": false,
           "text": [
            0.0012,
            0.0014,
            0.0011
           ],
           "textposition": "auto",
           "type": "bar",
           "x": [
            "0",
            "1",
            "2"
           ],
           "xaxis": "x",
           "y": [
            0.0012,
            0.0014,
            0.0011
           ],
           "yaxis": "y"
          }
         ],
         "name": "uncomplicated cellulitis"
        },
        {
         "data": [
          {
           "alignmentgroup": "True",
           "hovertemplate": "Diagnosis=uncomplicated chicken pox<br>Cluster=%{x}<br>Share number of consultations=%{text}<extra></extra>",
           "legendgroup": "",
           "marker": {
            "color": "#636efa",
            "pattern": {
             "shape": ""
            }
           },
           "name": "",
           "offsetgroup": "",
           "orientation": "v",
           "showlegend": false,
           "text": [
            0.0056,
            0.0091,
            0.0038
           ],
           "textposition": "auto",
           "type": "bar",
           "x": [
            "0",
            "1",
            "2"
           ],
           "xaxis": "x",
           "y": [
            0.0056,
            0.0091,
            0.0038
           ],
           "yaxis": "y"
          }
         ],
         "name": "uncomplicated chicken pox"
        },
        {
         "data": [
          {
           "alignmentgroup": "True",
           "hovertemplate": "Diagnosis=uncomplicated deep wound<br>Cluster=%{x}<br>Share number of consultations=%{text}<extra></extra>",
           "legendgroup": "",
           "marker": {
            "color": "#636efa",
            "pattern": {
             "shape": ""
            }
           },
           "name": "",
           "offsetgroup": "",
           "orientation": "v",
           "showlegend": false,
           "text": [
            0.0012,
            0.0014,
            0
           ],
           "textposition": "auto",
           "type": "bar",
           "x": [
            "0",
            "1",
            "2"
           ],
           "xaxis": "x",
           "y": [
            0.0012,
            0.0014,
            0
           ],
           "yaxis": "y"
          }
         ],
         "name": "uncomplicated deep wound"
        },
        {
         "data": [
          {
           "alignmentgroup": "True",
           "hovertemplate": "Diagnosis=uncomplicated impetigo<br>Cluster=%{x}<br>Share number of consultations=%{text}<extra></extra>",
           "legendgroup": "",
           "marker": {
            "color": "#636efa",
            "pattern": {
             "shape": ""
            }
           },
           "name": "",
           "offsetgroup": "",
           "orientation": "v",
           "showlegend": false,
           "text": [
            0.0006,
            0.0016,
            0.0006
           ],
           "textposition": "auto",
           "type": "bar",
           "x": [
            "0",
            "1",
            "2"
           ],
           "xaxis": "x",
           "y": [
            0.0006,
            0.0016,
            0.0006
           ],
           "yaxis": "y"
          }
         ],
         "name": "uncomplicated impetigo"
        },
        {
         "data": [
          {
           "alignmentgroup": "True",
           "hovertemplate": "Diagnosis=uncomplicated infectious lymphadenitis<br>Cluster=%{x}<br>Share number of consultations=%{text}<extra></extra>",
           "legendgroup": "",
           "marker": {
            "color": "#636efa",
            "pattern": {
             "shape": ""
            }
           },
           "name": "",
           "offsetgroup": "",
           "orientation": "v",
           "showlegend": false,
           "text": [
            0,
            0.0002,
            0.0003
           ],
           "textposition": "auto",
           "type": "bar",
           "x": [
            "0",
            "1",
            "2"
           ],
           "xaxis": "x",
           "y": [
            0,
            0.0002,
            0.0003
           ],
           "yaxis": "y"
          }
         ],
         "name": "uncomplicated infectious lymphadenitis"
        },
        {
         "data": [
          {
           "alignmentgroup": "True",
           "hovertemplate": "Diagnosis=uncomplicated lymphadenopathy<br>Cluster=%{x}<br>Share number of consultations=%{text}<extra></extra>",
           "legendgroup": "",
           "marker": {
            "color": "#636efa",
            "pattern": {
             "shape": ""
            }
           },
           "name": "",
           "offsetgroup": "",
           "orientation": "v",
           "showlegend": false,
           "text": [
            0.0012,
            0.0006,
            0.0028
           ],
           "textposition": "auto",
           "type": "bar",
           "x": [
            "0",
            "1",
            "2"
           ],
           "xaxis": "x",
           "y": [
            0.0012,
            0.0006,
            0.0028
           ],
           "yaxis": "y"
          }
         ],
         "name": "uncomplicated lymphadenopathy"
        },
        {
         "data": [
          {
           "alignmentgroup": "True",
           "hovertemplate": "Diagnosis=uncomplicated malaria<br>Cluster=%{x}<br>Share number of consultations=%{text}<extra></extra>",
           "legendgroup": "",
           "marker": {
            "color": "#636efa",
            "pattern": {
             "shape": ""
            }
           },
           "name": "",
           "offsetgroup": "",
           "orientation": "v",
           "showlegend": false,
           "text": [
            0.0088,
            0.0046,
            0.0078
           ],
           "textposition": "auto",
           "type": "bar",
           "x": [
            "0",
            "1",
            "2"
           ],
           "xaxis": "x",
           "y": [
            0.0088,
            0.0046,
            0.0078
           ],
           "yaxis": "y"
          }
         ],
         "name": "uncomplicated malaria"
        },
        {
         "data": [
          {
           "alignmentgroup": "True",
           "hovertemplate": "Diagnosis=uncomplicated severe acute malnutrition<br>Cluster=%{x}<br>Share number of consultations=%{text}<extra></extra>",
           "legendgroup": "",
           "marker": {
            "color": "#636efa",
            "pattern": {
             "shape": ""
            }
           },
           "name": "",
           "offsetgroup": "",
           "orientation": "v",
           "showlegend": false,
           "text": [
            0.0646,
            0.0003,
            0.001
           ],
           "textposition": "auto",
           "type": "bar",
           "x": [
            "0",
            "1",
            "2"
           ],
           "xaxis": "x",
           "y": [
            0.0646,
            0.0003,
            0.001
           ],
           "yaxis": "y"
          }
         ],
         "name": "uncomplicated severe acute malnutrition"
        },
        {
         "data": [
          {
           "alignmentgroup": "True",
           "hovertemplate": "Diagnosis=uncomplicated superficial wound<br>Cluster=%{x}<br>Share number of consultations=%{text}<extra></extra>",
           "legendgroup": "",
           "marker": {
            "color": "#636efa",
            "pattern": {
             "shape": ""
            }
           },
           "name": "",
           "offsetgroup": "",
           "orientation": "v",
           "showlegend": false,
           "text": [
            0.0056,
            0.0048,
            0.0009
           ],
           "textposition": "auto",
           "type": "bar",
           "x": [
            "0",
            "1",
            "2"
           ],
           "xaxis": "x",
           "y": [
            0.0056,
            0.0048,
            0.0009
           ],
           "yaxis": "y"
          }
         ],
         "name": "uncomplicated superficial wound"
        },
        {
         "data": [
          {
           "alignmentgroup": "True",
           "hovertemplate": "Diagnosis=uncomplicated suspicion of poisoning<br>Cluster=%{x}<br>Share number of consultations=%{text}<extra></extra>",
           "legendgroup": "",
           "marker": {
            "color": "#636efa",
            "pattern": {
             "shape": ""
            }
           },
           "name": "",
           "offsetgroup": "",
           "orientation": "v",
           "showlegend": false,
           "text": [
            0,
            0.0002,
            0
           ],
           "textposition": "auto",
           "type": "bar",
           "x": [
            "0",
            "1",
            "2"
           ],
           "xaxis": "x",
           "y": [
            0,
            0.0002,
            0
           ],
           "yaxis": "y"
          }
         ],
         "name": "uncomplicated suspicion of poisoning"
        },
        {
         "data": [
          {
           "alignmentgroup": "True",
           "hovertemplate": "Diagnosis=uncomplicated vomiting<br>Cluster=%{x}<br>Share number of consultations=%{text}<extra></extra>",
           "legendgroup": "",
           "marker": {
            "color": "#636efa",
            "pattern": {
             "shape": ""
            }
           },
           "name": "",
           "offsetgroup": "",
           "orientation": "v",
           "showlegend": false,
           "text": [
            0,
            0.0021,
            0.0013
           ],
           "textposition": "auto",
           "type": "bar",
           "x": [
            "0",
            "1",
            "2"
           ],
           "xaxis": "x",
           "y": [
            0,
            0.0021,
            0.0013
           ],
           "yaxis": "y"
          }
         ],
         "name": "uncomplicated vomiting"
        },
        {
         "data": [
          {
           "alignmentgroup": "True",
           "hovertemplate": "Diagnosis=unimproved local skin infection<br>Cluster=%{x}<br>Share number of consultations=%{text}<extra></extra>",
           "legendgroup": "",
           "marker": {
            "color": "#636efa",
            "pattern": {
             "shape": ""
            }
           },
           "name": "",
           "offsetgroup": "",
           "orientation": "v",
           "showlegend": false,
           "text": [
            0,
            0,
            0
           ],
           "textposition": "auto",
           "type": "bar",
           "x": [
            "0",
            "1",
            "2"
           ],
           "xaxis": "x",
           "y": [
            0,
            0,
            0
           ],
           "yaxis": "y"
          }
         ],
         "name": "unimproved local skin infection"
        },
        {
         "data": [
          {
           "alignmentgroup": "True",
           "hovertemplate": "Diagnosis=urticaria<br>Cluster=%{x}<br>Share number of consultations=%{text}<extra></extra>",
           "legendgroup": "",
           "marker": {
            "color": "#636efa",
            "pattern": {
             "shape": ""
            }
           },
           "name": "",
           "offsetgroup": "",
           "orientation": "v",
           "showlegend": false,
           "text": [
            0.0027,
            0.0037,
            0.0022
           ],
           "textposition": "auto",
           "type": "bar",
           "x": [
            "0",
            "1",
            "2"
           ],
           "xaxis": "x",
           "y": [
            0.0027,
            0.0037,
            0.0022
           ],
           "yaxis": "y"
          }
         ],
         "name": "urticaria"
        },
        {
         "data": [
          {
           "alignmentgroup": "True",
           "hovertemplate": "Diagnosis=vaginal candidiasis<br>Cluster=%{x}<br>Share number of consultations=%{text}<extra></extra>",
           "legendgroup": "",
           "marker": {
            "color": "#636efa",
            "pattern": {
             "shape": ""
            }
           },
           "name": "",
           "offsetgroup": "",
           "orientation": "v",
           "showlegend": false,
           "text": [
            0,
            0.0001,
            0.0001
           ],
           "textposition": "auto",
           "type": "bar",
           "x": [
            "0",
            "1",
            "2"
           ],
           "xaxis": "x",
           "y": [
            0,
            0.0001,
            0.0001
           ],
           "yaxis": "y"
          }
         ],
         "name": "vaginal candidiasis"
        },
        {
         "data": [
          {
           "alignmentgroup": "True",
           "hovertemplate": "Diagnosis=vaginal discharge syndrome (presumed gonorrhea/ chlamydia / trichomoniasis / bacterial vaginosis)<br>Cluster=%{x}<br>Share number of consultations=%{text}<extra></extra>",
           "legendgroup": "",
           "marker": {
            "color": "#636efa",
            "pattern": {
             "shape": ""
            }
           },
           "name": "",
           "offsetgroup": "",
           "orientation": "v",
           "showlegend": false,
           "text": [
            0,
            0,
            0.0001
           ],
           "textposition": "auto",
           "type": "bar",
           "x": [
            "0",
            "1",
            "2"
           ],
           "xaxis": "x",
           "y": [
            0,
            0,
            0.0001
           ],
           "yaxis": "y"
          }
         ],
         "name": "vaginal discharge syndrome (presumed gonorrhea/ chlamydia / trichomoniasis / bacterial vaginosis)"
        },
        {
         "data": [
          {
           "alignmentgroup": "True",
           "hovertemplate": "Diagnosis=very low weight for age<br>Cluster=%{x}<br>Share number of consultations=%{text}<extra></extra>",
           "legendgroup": "",
           "marker": {
            "color": "#636efa",
            "pattern": {
             "shape": ""
            }
           },
           "name": "",
           "offsetgroup": "",
           "orientation": "v",
           "showlegend": false,
           "text": [
            0.077,
            0.0004,
            0.0001
           ],
           "textposition": "auto",
           "type": "bar",
           "x": [
            "0",
            "1",
            "2"
           ],
           "xaxis": "x",
           "y": [
            0.077,
            0.0004,
            0.0001
           ],
           "yaxis": "y"
          }
         ],
         "name": "very low weight for age"
        },
        {
         "data": [
          {
           "alignmentgroup": "True",
           "hovertemplate": "Diagnosis=very severe febrile disease<br>Cluster=%{x}<br>Share number of consultations=%{text}<extra></extra>",
           "legendgroup": "",
           "marker": {
            "color": "#636efa",
            "pattern": {
             "shape": ""
            }
           },
           "name": "",
           "offsetgroup": "",
           "orientation": "v",
           "showlegend": false,
           "text": [
            0.0021,
            0.001,
            0.0004
           ],
           "textposition": "auto",
           "type": "bar",
           "x": [
            "0",
            "1",
            "2"
           ],
           "xaxis": "x",
           "y": [
            0.0021,
            0.001,
            0.0004
           ],
           "yaxis": "y"
          }
         ],
         "name": "very severe febrile disease"
        },
        {
         "data": [
          {
           "alignmentgroup": "True",
           "hovertemplate": "Diagnosis=viral acute pharyngitis<br>Cluster=%{x}<br>Share number of consultations=%{text}<extra></extra>",
           "legendgroup": "",
           "marker": {
            "color": "#636efa",
            "pattern": {
             "shape": ""
            }
           },
           "name": "",
           "offsetgroup": "",
           "orientation": "v",
           "showlegend": false,
           "text": [
            0.0097,
            0.0035,
            0.0155
           ],
           "textposition": "auto",
           "type": "bar",
           "x": [
            "0",
            "1",
            "2"
           ],
           "xaxis": "x",
           "y": [
            0.0097,
            0.0035,
            0.0155
           ],
           "yaxis": "y"
          }
         ],
         "name": "viral acute pharyngitis"
        },
        {
         "data": [
          {
           "alignmentgroup": "True",
           "hovertemplate": "Diagnosis=viral conjunctivitis<br>Cluster=%{x}<br>Share number of consultations=%{text}<extra></extra>",
           "legendgroup": "",
           "marker": {
            "color": "#636efa",
            "pattern": {
             "shape": ""
            }
           },
           "name": "",
           "offsetgroup": "",
           "orientation": "v",
           "showlegend": false,
           "text": [
            0.0015,
            0.0015,
            0.0003
           ],
           "textposition": "auto",
           "type": "bar",
           "x": [
            "0",
            "1",
            "2"
           ],
           "xaxis": "x",
           "y": [
            0.0015,
            0.0015,
            0.0003
           ],
           "yaxis": "y"
          }
         ],
         "name": "viral conjunctivitis"
        },
        {
         "data": [
          {
           "alignmentgroup": "True",
           "hovertemplate": "Diagnosis=viral conjunctivitis (< 5y)<br>Cluster=%{x}<br>Share number of consultations=%{text}<extra></extra>",
           "legendgroup": "",
           "marker": {
            "color": "#636efa",
            "pattern": {
             "shape": ""
            }
           },
           "name": "",
           "offsetgroup": "",
           "orientation": "v",
           "showlegend": false,
           "text": [
            0.0147,
            0.0081,
            0.0069
           ],
           "textposition": "auto",
           "type": "bar",
           "x": [
            "0",
            "1",
            "2"
           ],
           "xaxis": "x",
           "y": [
            0.0147,
            0.0081,
            0.0069
           ],
           "yaxis": "y"
          }
         ],
         "name": "viral conjunctivitis (< 5y)"
        },
        {
         "data": [
          {
           "alignmentgroup": "True",
           "hovertemplate": "Diagnosis=viral pneumonia<br>Cluster=%{x}<br>Share number of consultations=%{text}<extra></extra>",
           "legendgroup": "",
           "marker": {
            "color": "#636efa",
            "pattern": {
             "shape": ""
            }
           },
           "name": "",
           "offsetgroup": "",
           "orientation": "v",
           "showlegend": false,
           "text": [
            0.0498,
            0.0008,
            0.1449
           ],
           "textposition": "auto",
           "type": "bar",
           "x": [
            "0",
            "1",
            "2"
           ],
           "xaxis": "x",
           "y": [
            0.0498,
            0.0008,
            0.1449
           ],
           "yaxis": "y"
          }
         ],
         "name": "viral pneumonia"
        },
        {
         "data": [
          {
           "alignmentgroup": "True",
           "hovertemplate": "Diagnosis=vulvovaginitis<br>Cluster=%{x}<br>Share number of consultations=%{text}<extra></extra>",
           "legendgroup": "",
           "marker": {
            "color": "#636efa",
            "pattern": {
             "shape": ""
            }
           },
           "name": "",
           "offsetgroup": "",
           "orientation": "v",
           "showlegend": false,
           "text": [
            0.0027,
            0.0035,
            0.002
           ],
           "textposition": "auto",
           "type": "bar",
           "x": [
            "0",
            "1",
            "2"
           ],
           "xaxis": "x",
           "y": [
            0.0027,
            0.0035,
            0.002
           ],
           "yaxis": "y"
          }
         ],
         "name": "vulvovaginitis"
        }
       ],
       "layout": {
        "barmode": "group",
        "legend": {
         "tracegroupgap": 0
        },
        "sliders": [
         {
          "active": 0,
          "currentvalue": {
           "prefix": "Diagnosis="
          },
          "len": 0.9,
          "pad": {
           "b": 10,
           "t": 60
          },
          "steps": [
           {
            "args": [
             [
              "abscess"
             ],
             {
              "frame": {
               "duration": 0,
               "redraw": true
              },
              "fromcurrent": true,
              "mode": "immediate",
              "transition": {
               "duration": 0,
               "easing": "linear"
              }
             }
            ],
            "label": "abscess",
            "method": "animate"
           },
           {
            "args": [
             [
              "acute diarrhea"
             ],
             {
              "frame": {
               "duration": 0,
               "redraw": true
              },
              "fromcurrent": true,
              "mode": "immediate",
              "transition": {
               "duration": 0,
               "easing": "linear"
              }
             }
            ],
            "label": "acute diarrhea",
            "method": "animate"
           },
           {
            "args": [
             [
              "acute limp or joint pain"
             ],
             {
              "frame": {
               "duration": 0,
               "redraw": true
              },
              "fromcurrent": true,
              "mode": "immediate",
              "transition": {
               "duration": 0,
               "easing": "linear"
              }
             }
            ],
            "label": "acute limp or joint pain",
            "method": "animate"
           },
           {
            "args": [
             [
              "acute otitis media (ear infection)"
             ],
             {
              "frame": {
               "duration": 0,
               "redraw": true
              },
              "fromcurrent": true,
              "mode": "immediate",
              "transition": {
               "duration": 0,
               "easing": "linear"
              }
             }
            ],
            "label": "acute otitis media (ear infection)",
            "method": "animate"
           },
           {
            "args": [
             [
              "allergic conjunctivitis"
             ],
             {
              "frame": {
               "duration": 0,
               "redraw": true
              },
              "fromcurrent": true,
              "mode": "immediate",
              "transition": {
               "duration": 0,
               "easing": "linear"
              }
             }
            ],
            "label": "allergic conjunctivitis",
            "method": "animate"
           },
           {
            "args": [
             [
              "anaphylaxis"
             ],
             {
              "frame": {
               "duration": 0,
               "redraw": true
              },
              "fromcurrent": true,
              "mode": "immediate",
              "transition": {
               "duration": 0,
               "easing": "linear"
              }
             }
            ],
            "label": "anaphylaxis",
            "method": "animate"
           },
           {
            "args": [
             [
              "bacterial acute pharyngitis"
             ],
             {
              "frame": {
               "duration": 0,
               "redraw": true
              },
              "fromcurrent": true,
              "mode": "immediate",
              "transition": {
               "duration": 0,
               "easing": "linear"
              }
             }
            ],
            "label": "bacterial acute pharyngitis",
            "method": "animate"
           },
           {
            "args": [
             [
              "bacterial conjunctivitis"
             ],
             {
              "frame": {
               "duration": 0,
               "redraw": true
              },
              "fromcurrent": true,
              "mode": "immediate",
              "transition": {
               "duration": 0,
               "easing": "linear"
              }
             }
            ],
            "label": "bacterial conjunctivitis",
            "method": "animate"
           },
           {
            "args": [
             [
              "bacterial conjunctivitis (< 5 y)"
             ],
             {
              "frame": {
               "duration": 0,
               "redraw": true
              },
              "fromcurrent": true,
              "mode": "immediate",
              "transition": {
               "duration": 0,
               "easing": "linear"
              }
             }
            ],
            "label": "bacterial conjunctivitis (< 5 y)",
            "method": "animate"
           },
           {
            "args": [
             [
              "bacterial pneumonia"
             ],
             {
              "frame": {
               "duration": 0,
               "redraw": true
              },
              "fromcurrent": true,
              "mode": "immediate",
              "transition": {
               "duration": 0,
               "easing": "linear"
              }
             }
            ],
            "label": "bacterial pneumonia",
            "method": "animate"
           },
           {
            "args": [
             [
              "balanitis"
             ],
             {
              "frame": {
               "duration": 0,
               "redraw": true
              },
              "fromcurrent": true,
              "mode": "immediate",
              "transition": {
               "duration": 0,
               "easing": "linear"
              }
             }
            ],
            "label": "balanitis",
            "method": "animate"
           },
           {
            "args": [
             [
              "cellulitis"
             ],
             {
              "frame": {
               "duration": 0,
               "redraw": true
              },
              "fromcurrent": true,
              "mode": "immediate",
              "transition": {
               "duration": 0,
               "easing": "linear"
              }
             }
            ],
            "label": "cellulitis",
            "method": "animate"
           },
           {
            "args": [
             [
              "chronic ear infection"
             ],
             {
              "frame": {
               "duration": 0,
               "redraw": true
              },
              "fromcurrent": true,
              "mode": "immediate",
              "transition": {
               "duration": 0,
               "easing": "linear"
              }
             }
            ],
            "label": "chronic ear infection",
            "method": "animate"
           },
           {
            "args": [
             [
              "chronic limp or joint pain"
             ],
             {
              "frame": {
               "duration": 0,
               "redraw": true
              },
              "fromcurrent": true,
              "mode": "immediate",
              "transition": {
               "duration": 0,
               "easing": "linear"
              }
             }
            ],
            "label": "chronic limp or joint pain",
            "method": "animate"
           },
           {
            "args": [
             [
              "cns danger signs"
             ],
             {
              "frame": {
               "duration": 0,
               "redraw": true
              },
              "fromcurrent": true,
              "mode": "immediate",
              "transition": {
               "duration": 0,
               "easing": "linear"
              }
             }
            ],
            "label": "cns danger signs",
            "method": "animate"
           },
           {
            "args": [
             [
              "common cold"
             ],
             {
              "frame": {
               "duration": 0,
               "redraw": true
              },
              "fromcurrent": true,
              "mode": "immediate",
              "transition": {
               "duration": 0,
               "easing": "linear"
              }
             }
            ],
            "label": "common cold",
            "method": "animate"
           },
           {
            "args": [
             [
              "complicated abscess"
             ],
             {
              "frame": {
               "duration": 0,
               "redraw": true
              },
              "fromcurrent": true,
              "mode": "immediate",
              "transition": {
               "duration": 0,
               "easing": "linear"
              }
             }
            ],
            "label": "complicated abscess",
            "method": "animate"
           },
           {
            "args": [
             [
              "complicated acute ear infection"
             ],
             {
              "frame": {
               "duration": 0,
               "redraw": true
              },
              "fromcurrent": true,
              "mode": "immediate",
              "transition": {
               "duration": 0,
               "easing": "linear"
              }
             }
            ],
            "label": "complicated acute ear infection",
            "method": "animate"
           },
           {
            "args": [
             [
              "complicated cellulitis"
             ],
             {
              "frame": {
               "duration": 0,
               "redraw": true
              },
              "fromcurrent": true,
              "mode": "immediate",
              "transition": {
               "duration": 0,
               "easing": "linear"
              }
             }
            ],
            "label": "complicated cellulitis",
            "method": "animate"
           },
           {
            "args": [
             [
              "complicated chicken pox"
             ],
             {
              "frame": {
               "duration": 0,
               "redraw": true
              },
              "fromcurrent": true,
              "mode": "immediate",
              "transition": {
               "duration": 0,
               "easing": "linear"
              }
             }
            ],
            "label": "complicated chicken pox",
            "method": "animate"
           },
           {
            "args": [
             [
              "complicated deep wound"
             ],
             {
              "frame": {
               "duration": 0,
               "redraw": true
              },
              "fromcurrent": true,
              "mode": "immediate",
              "transition": {
               "duration": 0,
               "easing": "linear"
              }
             }
            ],
            "label": "complicated deep wound",
            "method": "animate"
           },
           {
            "args": [
             [
              "complicated impetigo"
             ],
             {
              "frame": {
               "duration": 0,
               "redraw": true
              },
              "fromcurrent": true,
              "mode": "immediate",
              "transition": {
               "duration": 0,
               "easing": "linear"
              }
             }
            ],
            "label": "complicated impetigo",
            "method": "animate"
           },
           {
            "args": [
             [
              "complicated neck mass"
             ],
             {
              "frame": {
               "duration": 0,
               "redraw": true
              },
              "fromcurrent": true,
              "mode": "immediate",
              "transition": {
               "duration": 0,
               "easing": "linear"
              }
             }
            ],
            "label": "complicated neck mass",
            "method": "animate"
           },
           {
            "args": [
             [
              "complicated prolonged fever"
             ],
             {
              "frame": {
               "duration": 0,
               "redraw": true
              },
              "fromcurrent": true,
              "mode": "immediate",
              "transition": {
               "duration": 0,
               "easing": "linear"
              }
             }
            ],
            "label": "complicated prolonged fever",
            "method": "animate"
           },
           {
            "args": [
             [
              "complicated severe acute malnutrition"
             ],
             {
              "frame": {
               "duration": 0,
               "redraw": true
              },
              "fromcurrent": true,
              "mode": "immediate",
              "transition": {
               "duration": 0,
               "easing": "linear"
              }
             }
            ],
            "label": "complicated severe acute malnutrition",
            "method": "animate"
           },
           {
            "args": [
             [
              "complicated superficial wound"
             ],
             {
              "frame": {
               "duration": 0,
               "redraw": true
              },
              "fromcurrent": true,
              "mode": "immediate",
              "transition": {
               "duration": 0,
               "easing": "linear"
              }
             }
            ],
            "label": "complicated superficial wound",
            "method": "animate"
           },
           {
            "args": [
             [
              "concern for congenital syndrome or malformation"
             ],
             {
              "frame": {
               "duration": 0,
               "redraw": true
              },
              "fromcurrent": true,
              "mode": "immediate",
              "transition": {
               "duration": 0,
               "easing": "linear"
              }
             }
            ],
            "label": "concern for congenital syndrome or malformation",
            "method": "animate"
           },
           {
            "args": [
             [
              "concern for feeding problem/ lack of weight gain"
             ],
             {
              "frame": {
               "duration": 0,
               "redraw": true
              },
              "fromcurrent": true,
              "mode": "immediate",
              "transition": {
               "duration": 0,
               "easing": "linear"
              }
             }
            ],
            "label": "concern for feeding problem/ lack of weight gain",
            "method": "animate"
           },
           {
            "args": [
             [
              "confirmed clavicular fracture"
             ],
             {
              "frame": {
               "duration": 0,
               "redraw": true
              },
              "fromcurrent": true,
              "mode": "immediate",
              "transition": {
               "duration": 0,
               "easing": "linear"
              }
             }
            ],
            "label": "confirmed clavicular fracture",
            "method": "animate"
           },
           {
            "args": [
             [
              "confirmed dislocation"
             ],
             {
              "frame": {
               "duration": 0,
               "redraw": true
              },
              "fromcurrent": true,
              "mode": "immediate",
              "transition": {
               "duration": 0,
               "easing": "linear"
              }
             }
            ],
            "label": "confirmed dislocation",
            "method": "animate"
           },
           {
            "args": [
             [
              "confirmed fracture"
             ],
             {
              "frame": {
               "duration": 0,
               "redraw": true
              },
              "fromcurrent": true,
              "mode": "immediate",
              "transition": {
               "duration": 0,
               "easing": "linear"
              }
             }
            ],
            "label": "confirmed fracture",
            "method": "animate"
           },
           {
            "args": [
             [
              "congenital muscular torticollis"
             ],
             {
              "frame": {
               "duration": 0,
               "redraw": true
              },
              "fromcurrent": true,
              "mode": "immediate",
              "transition": {
               "duration": 0,
               "easing": "linear"
              }
             }
            ],
            "label": "congenital muscular torticollis",
            "method": "animate"
           },
           {
            "args": [
             [
              "conjunctivitis"
             ],
             {
              "frame": {
               "duration": 0,
               "redraw": true
              },
              "fromcurrent": true,
              "mode": "immediate",
              "transition": {
               "duration": 0,
               "easing": "linear"
              }
             }
            ],
            "label": "conjunctivitis",
            "method": "animate"
           },
           {
            "args": [
             [
              "constipation"
             ],
             {
              "frame": {
               "duration": 0,
               "redraw": true
              },
              "fromcurrent": true,
              "mode": "immediate",
              "transition": {
               "duration": 0,
               "easing": "linear"
              }
             }
            ],
            "label": "constipation",
            "method": "animate"
           },
           {
            "args": [
             [
              "contusion"
             ],
             {
              "frame": {
               "duration": 0,
               "redraw": true
              },
              "fromcurrent": true,
              "mode": "immediate",
              "transition": {
               "duration": 0,
               "easing": "linear"
              }
             }
            ],
            "label": "contusion",
            "method": "animate"
           },
           {
            "args": [
             [
              "corneal abrasion"
             ],
             {
              "frame": {
               "duration": 0,
               "redraw": true
              },
              "fromcurrent": true,
              "mode": "immediate",
              "transition": {
               "duration": 0,
               "easing": "linear"
              }
             }
            ],
            "label": "corneal abrasion",
            "method": "animate"
           },
           {
            "args": [
             [
              "critical illness"
             ],
             {
              "frame": {
               "duration": 0,
               "redraw": true
              },
              "fromcurrent": true,
              "mode": "immediate",
              "transition": {
               "duration": 0,
               "easing": "linear"
              }
             }
            ],
            "label": "critical illness",
            "method": "animate"
           },
           {
            "args": [
             [
              "dental abscess"
             ],
             {
              "frame": {
               "duration": 0,
               "redraw": true
              },
              "fromcurrent": true,
              "mode": "immediate",
              "transition": {
               "duration": 0,
               "easing": "linear"
              }
             }
            ],
            "label": "dental abscess",
            "method": "animate"
           },
           {
            "args": [
             [
              "diaper rash"
             ],
             {
              "frame": {
               "duration": 0,
               "redraw": true
              },
              "fromcurrent": true,
              "mode": "immediate",
              "transition": {
               "duration": 0,
               "easing": "linear"
              }
             }
            ],
            "label": "diaper rash",
            "method": "animate"
           },
           {
            "args": [
             [
              "diarrhea with no dehydration"
             ],
             {
              "frame": {
               "duration": 0,
               "redraw": true
              },
              "fromcurrent": true,
              "mode": "immediate",
              "transition": {
               "duration": 0,
               "easing": "linear"
              }
             }
            ],
            "label": "diarrhea with no dehydration",
            "method": "animate"
           },
           {
            "args": [
             [
              "diarrhea with some dehydration"
             ],
             {
              "frame": {
               "duration": 0,
               "redraw": true
              },
              "fromcurrent": true,
              "mode": "immediate",
              "transition": {
               "duration": 0,
               "easing": "linear"
              }
             }
            ],
            "label": "diarrhea with some dehydration",
            "method": "animate"
           },
           {
            "args": [
             [
              "dysentery"
             ],
             {
              "frame": {
               "duration": 0,
               "redraw": true
              },
              "fromcurrent": true,
              "mode": "immediate",
              "transition": {
               "duration": 0,
               "easing": "linear"
              }
             }
            ],
            "label": "dysentery",
            "method": "animate"
           },
           {
            "args": [
             [
              "eczema (atopic dermatitis)"
             ],
             {
              "frame": {
               "duration": 0,
               "redraw": true
              },
              "fromcurrent": true,
              "mode": "immediate",
              "transition": {
               "duration": 0,
               "easing": "linear"
              }
             }
            ],
            "label": "eczema (atopic dermatitis)",
            "method": "animate"
           },
           {
            "args": [
             [
              "extensive folliculitis"
             ],
             {
              "frame": {
               "duration": 0,
               "redraw": true
              },
              "fromcurrent": true,
              "mode": "immediate",
              "transition": {
               "duration": 0,
               "easing": "linear"
              }
             }
            ],
            "label": "extensive folliculitis",
            "method": "animate"
           },
           {
            "args": [
             [
              "febrile urinary tract infection"
             ],
             {
              "frame": {
               "duration": 0,
               "redraw": true
              },
              "fromcurrent": true,
              "mode": "immediate",
              "transition": {
               "duration": 0,
               "easing": "linear"
              }
             }
            ],
            "label": "febrile urinary tract infection",
            "method": "animate"
           },
           {
            "args": [
             [
              "feeding problem (insufficient feeds)"
             ],
             {
              "frame": {
               "duration": 0,
               "redraw": true
              },
              "fromcurrent": true,
              "mode": "immediate",
              "transition": {
               "duration": 0,
               "easing": "linear"
              }
             }
            ],
            "label": "feeding problem (insufficient feeds)",
            "method": "animate"
           },
           {
            "args": [
             [
              "feeding problem (lack of exclusive breastfeeding)"
             ],
             {
              "frame": {
               "duration": 0,
               "redraw": true
              },
              "fromcurrent": true,
              "mode": "immediate",
              "transition": {
               "duration": 0,
               "easing": "linear"
              }
             }
            ],
            "label": "feeding problem (lack of exclusive breastfeeding)",
            "method": "animate"
           },
           {
            "args": [
             [
              "feeding problem (lactation)"
             ],
             {
              "frame": {
               "duration": 0,
               "redraw": true
              },
              "fromcurrent": true,
              "mode": "immediate",
              "transition": {
               "duration": 0,
               "easing": "linear"
              }
             }
            ],
            "label": "feeding problem (lactation)",
            "method": "animate"
           },
           {
            "args": [
             [
              "folliculitis"
             ],
             {
              "frame": {
               "duration": 0,
               "redraw": true
              },
              "fromcurrent": true,
              "mode": "immediate",
              "transition": {
               "duration": 0,
               "easing": "linear"
              }
             }
            ],
            "label": "folliculitis",
            "method": "animate"
           },
           {
            "args": [
             [
              "follow-up consultation"
             ],
             {
              "frame": {
               "duration": 0,
               "redraw": true
              },
              "fromcurrent": true,
              "mode": "immediate",
              "transition": {
               "duration": 0,
               "easing": "linear"
              }
             }
            ],
            "label": "follow-up consultation",
            "method": "animate"
           },
           {
            "args": [
             [
              "foreign body in ear"
             ],
             {
              "frame": {
               "duration": 0,
               "redraw": true
              },
              "fromcurrent": true,
              "mode": "immediate",
              "transition": {
               "duration": 0,
               "easing": "linear"
              }
             }
            ],
            "label": "foreign body in ear",
            "method": "animate"
           },
           {
            "args": [
             [
              "generalized (extensive) tinea corporis"
             ],
             {
              "frame": {
               "duration": 0,
               "redraw": true
              },
              "fromcurrent": true,
              "mode": "immediate",
              "transition": {
               "duration": 0,
               "easing": "linear"
              }
             }
            ],
            "label": "generalized (extensive) tinea corporis",
            "method": "animate"
           },
           {
            "args": [
             [
              "heat rash"
             ],
             {
              "frame": {
               "duration": 0,
               "redraw": true
              },
              "fromcurrent": true,
              "mode": "immediate",
              "transition": {
               "duration": 0,
               "easing": "linear"
              }
             }
            ],
            "label": "heat rash",
            "method": "animate"
           },
           {
            "args": [
             [
              "herpes simplex"
             ],
             {
              "frame": {
               "duration": 0,
               "redraw": true
              },
              "fromcurrent": true,
              "mode": "immediate",
              "transition": {
               "duration": 0,
               "easing": "linear"
              }
             }
            ],
            "label": "herpes simplex",
            "method": "animate"
           },
           {
            "args": [
             [
              "hiv exposed"
             ],
             {
              "frame": {
               "duration": 0,
               "redraw": true
              },
              "fromcurrent": true,
              "mode": "immediate",
              "transition": {
               "duration": 0,
               "easing": "linear"
              }
             }
            ],
            "label": "hiv exposed",
            "method": "animate"
           },
           {
            "args": [
             [
              "hyperglycemia"
             ],
             {
              "frame": {
               "duration": 0,
               "redraw": true
              },
              "fromcurrent": true,
              "mode": "immediate",
              "transition": {
               "duration": 0,
               "easing": "linear"
              }
             }
            ],
            "label": "hyperglycemia",
            "method": "animate"
           },
           {
            "args": [
             [
              "hypoglycemia"
             ],
             {
              "frame": {
               "duration": 0,
               "redraw": true
              },
              "fromcurrent": true,
              "mode": "immediate",
              "transition": {
               "duration": 0,
               "easing": "linear"
              }
             }
            ],
            "label": "hypoglycemia",
            "method": "animate"
           },
           {
            "args": [
             [
              "imci anemia"
             ],
             {
              "frame": {
               "duration": 0,
               "redraw": true
              },
              "fromcurrent": true,
              "mode": "immediate",
              "transition": {
               "duration": 0,
               "easing": "linear"
              }
             }
            ],
            "label": "imci anemia",
            "method": "animate"
           },
           {
            "args": [
             [
              "imci severe anemia"
             ],
             {
              "frame": {
               "duration": 0,
               "redraw": true
              },
              "fromcurrent": true,
              "mode": "immediate",
              "transition": {
               "duration": 0,
               "easing": "linear"
              }
             }
            ],
            "label": "imci severe anemia",
            "method": "animate"
           },
           {
            "args": [
             [
              "imci/imai pneumonia"
             ],
             {
              "frame": {
               "duration": 0,
               "redraw": true
              },
              "fromcurrent": true,
              "mode": "immediate",
              "transition": {
               "duration": 0,
               "easing": "linear"
              }
             }
            ],
            "label": "imci/imai pneumonia",
            "method": "animate"
           },
           {
            "args": [
             [
              "improved conjunctivitis"
             ],
             {
              "frame": {
               "duration": 0,
               "redraw": true
              },
              "fromcurrent": true,
              "mode": "immediate",
              "transition": {
               "duration": 0,
               "easing": "linear"
              }
             }
            ],
            "label": "improved conjunctivitis",
            "method": "animate"
           },
           {
            "args": [
             [
              "improved local skin infection"
             ],
             {
              "frame": {
               "duration": 0,
               "redraw": true
              },
              "fromcurrent": true,
              "mode": "immediate",
              "transition": {
               "duration": 0,
               "easing": "linear"
              }
             }
            ],
            "label": "improved local skin infection",
            "method": "animate"
           },
           {
            "args": [
             [
              "improved pneumonia"
             ],
             {
              "frame": {
               "duration": 0,
               "redraw": true
              },
              "fromcurrent": true,
              "mode": "immediate",
              "transition": {
               "duration": 0,
               "easing": "linear"
              }
             }
            ],
            "label": "improved pneumonia",
            "method": "animate"
           },
           {
            "args": [
             [
              "inguinal hernia"
             ],
             {
              "frame": {
               "duration": 0,
               "redraw": true
              },
              "fromcurrent": true,
              "mode": "immediate",
              "transition": {
               "duration": 0,
               "easing": "linear"
              }
             }
            ],
            "label": "inguinal hernia",
            "method": "animate"
           },
           {
            "args": [
             [
              "intestinal parasitic infection: nematode"
             ],
             {
              "frame": {
               "duration": 0,
               "redraw": true
              },
              "fromcurrent": true,
              "mode": "immediate",
              "transition": {
               "duration": 0,
               "easing": "linear"
              }
             }
            ],
            "label": "intestinal parasitic infection: nematode",
            "method": "animate"
           },
           {
            "args": [
             [
              "intestinal parasitic infection: protozoa"
             ],
             {
              "frame": {
               "duration": 0,
               "redraw": true
              },
              "fromcurrent": true,
              "mode": "immediate",
              "transition": {
               "duration": 0,
               "easing": "linear"
              }
             }
            ],
            "label": "intestinal parasitic infection: protozoa",
            "method": "animate"
           },
           {
            "args": [
             [
              "known sickle cell disease"
             ],
             {
              "frame": {
               "duration": 0,
               "redraw": true
              },
              "fromcurrent": true,
              "mode": "immediate",
              "transition": {
               "duration": 0,
               "easing": "linear"
              }
             }
            ],
            "label": "known sickle cell disease",
            "method": "animate"
           },
           {
            "args": [
             [
              "local skin infection"
             ],
             {
              "frame": {
               "duration": 0,
               "redraw": true
              },
              "fromcurrent": true,
              "mode": "immediate",
              "transition": {
               "duration": 0,
               "easing": "linear"
              }
             }
            ],
            "label": "local skin infection",
            "method": "animate"
           },
           {
            "args": [
             [
              "loss of appetite"
             ],
             {
              "frame": {
               "duration": 0,
               "redraw": true
              },
              "fromcurrent": true,
              "mode": "immediate",
              "transition": {
               "duration": 0,
               "easing": "linear"
              }
             }
            ],
            "label": "loss of appetite",
            "method": "animate"
           },
           {
            "args": [
             [
              "low weight for age"
             ],
             {
              "frame": {
               "duration": 0,
               "redraw": true
              },
              "fromcurrent": true,
              "mode": "immediate",
              "transition": {
               "duration": 0,
               "easing": "linear"
              }
             }
            ],
            "label": "low weight for age",
            "method": "animate"
           },
           {
            "args": [
             [
              "lower urinary tract infection (cystitis)"
             ],
             {
              "frame": {
               "duration": 0,
               "redraw": true
              },
              "fromcurrent": true,
              "mode": "immediate",
              "transition": {
               "duration": 0,
               "easing": "linear"
              }
             }
            ],
            "label": "lower urinary tract infection (cystitis)",
            "method": "animate"
           },
           {
            "args": [
             [
              "major burn"
             ],
             {
              "frame": {
               "duration": 0,
               "redraw": true
              },
              "fromcurrent": true,
              "mode": "immediate",
              "transition": {
               "duration": 0,
               "easing": "linear"
              }
             }
            ],
            "label": "major burn",
            "method": "animate"
           },
           {
            "args": [
             [
              "major head injury"
             ],
             {
              "frame": {
               "duration": 0,
               "redraw": true
              },
              "fromcurrent": true,
              "mode": "immediate",
              "transition": {
               "duration": 0,
               "easing": "linear"
              }
             }
            ],
            "label": "major head injury",
            "method": "animate"
           },
           {
            "args": [
             [
              "major trauma"
             ],
             {
              "frame": {
               "duration": 0,
               "redraw": true
              },
              "fromcurrent": true,
              "mode": "immediate",
              "transition": {
               "duration": 0,
               "easing": "linear"
              }
             }
            ],
            "label": "major trauma",
            "method": "animate"
           },
           {
            "args": [
             [
              "mastitis"
             ],
             {
              "frame": {
               "duration": 0,
               "redraw": true
              },
              "fromcurrent": true,
              "mode": "immediate",
              "transition": {
               "duration": 0,
               "easing": "linear"
              }
             }
            ],
            "label": "mastitis",
            "method": "animate"
           },
           {
            "args": [
             [
              "mastoiditis"
             ],
             {
              "frame": {
               "duration": 0,
               "redraw": true
              },
              "fromcurrent": true,
              "mode": "immediate",
              "transition": {
               "duration": 0,
               "easing": "linear"
              }
             }
            ],
            "label": "mastoiditis",
            "method": "animate"
           },
           {
            "args": [
             [
              "mild croup"
             ],
             {
              "frame": {
               "duration": 0,
               "redraw": true
              },
              "fromcurrent": true,
              "mode": "immediate",
              "transition": {
               "duration": 0,
               "easing": "linear"
              }
             }
            ],
            "label": "mild croup",
            "method": "animate"
           },
           {
            "args": [
             [
              "mild/moderate anemia"
             ],
             {
              "frame": {
               "duration": 0,
               "redraw": true
              },
              "fromcurrent": true,
              "mode": "immediate",
              "transition": {
               "duration": 0,
               "easing": "linear"
              }
             }
            ],
            "label": "mild/moderate anemia",
            "method": "animate"
           },
           {
            "args": [
             [
              "minor burn"
             ],
             {
              "frame": {
               "duration": 0,
               "redraw": true
              },
              "fromcurrent": true,
              "mode": "immediate",
              "transition": {
               "duration": 0,
               "easing": "linear"
              }
             }
            ],
            "label": "minor burn",
            "method": "animate"
           },
           {
            "args": [
             [
              "minor head injury"
             ],
             {
              "frame": {
               "duration": 0,
               "redraw": true
              },
              "fromcurrent": true,
              "mode": "immediate",
              "transition": {
               "duration": 0,
               "easing": "linear"
              }
             }
            ],
            "label": "minor head injury",
            "method": "animate"
           },
           {
            "args": [
             [
              "moderate head injury"
             ],
             {
              "frame": {
               "duration": 0,
               "redraw": true
              },
              "fromcurrent": true,
              "mode": "immediate",
              "transition": {
               "duration": 0,
               "easing": "linear"
              }
             }
            ],
            "label": "moderate head injury",
            "method": "animate"
           },
           {
            "args": [
             [
              "moderate malnutrition"
             ],
             {
              "frame": {
               "duration": 0,
               "redraw": true
              },
              "fromcurrent": true,
              "mode": "immediate",
              "transition": {
               "duration": 0,
               "easing": "linear"
              }
             }
            ],
            "label": "moderate malnutrition",
            "method": "animate"
           },
           {
            "args": [
             [
              "molluscum contagiosum"
             ],
             {
              "frame": {
               "duration": 0,
               "redraw": true
              },
              "fromcurrent": true,
              "mode": "immediate",
              "transition": {
               "duration": 0,
               "easing": "linear"
              }
             }
            ],
            "label": "molluscum contagiosum",
            "method": "animate"
           },
           {
            "args": [
             [
              "mumps"
             ],
             {
              "frame": {
               "duration": 0,
               "redraw": true
              },
              "fromcurrent": true,
              "mode": "immediate",
              "transition": {
               "duration": 0,
               "easing": "linear"
              }
             }
            ],
            "label": "mumps",
            "method": "animate"
           },
           {
            "args": [
             [
              "neonatal conjunctivitis"
             ],
             {
              "frame": {
               "duration": 0,
               "redraw": true
              },
              "fromcurrent": true,
              "mode": "immediate",
              "transition": {
               "duration": 0,
               "easing": "linear"
              }
             }
            ],
            "label": "neonatal conjunctivitis",
            "method": "animate"
           },
           {
            "args": [
             [
              "non specific viral rash"
             ],
             {
              "frame": {
               "duration": 0,
               "redraw": true
              },
              "fromcurrent": true,
              "mode": "immediate",
              "transition": {
               "duration": 0,
               "easing": "linear"
              }
             }
            ],
            "label": "non specific viral rash",
            "method": "animate"
           },
           {
            "args": [
             [
              "non-severe abdominal condition"
             ],
             {
              "frame": {
               "duration": 0,
               "redraw": true
              },
              "fromcurrent": true,
              "mode": "immediate",
              "transition": {
               "duration": 0,
               "easing": "linear"
              }
             }
            ],
            "label": "non-severe abdominal condition",
            "method": "animate"
           },
           {
            "args": [
             [
              "non-severe headache"
             ],
             {
              "frame": {
               "duration": 0,
               "redraw": true
              },
              "fromcurrent": true,
              "mode": "immediate",
              "transition": {
               "duration": 0,
               "easing": "linear"
              }
             }
            ],
            "label": "non-severe headache",
            "method": "animate"
           },
           {
            "args": [
             [
              "non-severe measles"
             ],
             {
              "frame": {
               "duration": 0,
               "redraw": true
              },
              "fromcurrent": true,
              "mode": "immediate",
              "transition": {
               "duration": 0,
               "easing": "linear"
              }
             }
            ],
            "label": "non-severe measles",
            "method": "animate"
           },
           {
            "args": [
             [
              "omphalitis"
             ],
             {
              "frame": {
               "duration": 0,
               "redraw": true
              },
              "fromcurrent": true,
              "mode": "immediate",
              "transition": {
               "duration": 0,
               "easing": "linear"
              }
             }
            ],
            "label": "omphalitis",
            "method": "animate"
           },
           {
            "args": [
             [
              "omphalitis complicated / severe"
             ],
             {
              "frame": {
               "duration": 0,
               "redraw": true
              },
              "fromcurrent": true,
              "mode": "immediate",
              "transition": {
               "duration": 0,
               "easing": "linear"
              }
             }
            ],
            "label": "omphalitis complicated / severe",
            "method": "animate"
           },
           {
            "args": [
             [
              "ongoing low weight for age with feeding problem"
             ],
             {
              "frame": {
               "duration": 0,
               "redraw": true
              },
              "fromcurrent": true,
              "mode": "immediate",
              "transition": {
               "duration": 0,
               "easing": "linear"
              }
             }
            ],
            "label": "ongoing low weight for age with feeding problem",
            "method": "animate"
           },
           {
            "args": [
             [
              "oral aphthous ulcers"
             ],
             {
              "frame": {
               "duration": 0,
               "redraw": true
              },
              "fromcurrent": true,
              "mode": "immediate",
              "transition": {
               "duration": 0,
               "easing": "linear"
              }
             }
            ],
            "label": "oral aphthous ulcers",
            "method": "animate"
           },
           {
            "args": [
             [
              "oral candidiasis"
             ],
             {
              "frame": {
               "duration": 0,
               "redraw": true
              },
              "fromcurrent": true,
              "mode": "immediate",
              "transition": {
               "duration": 0,
               "easing": "linear"
              }
             }
            ],
            "label": "oral candidiasis",
            "method": "animate"
           },
           {
            "args": [
             [
              "oral thrush"
             ],
             {
              "frame": {
               "duration": 0,
               "redraw": true
              },
              "fromcurrent": true,
              "mode": "immediate",
              "transition": {
               "duration": 0,
               "easing": "linear"
              }
             }
            ],
            "label": "oral thrush",
            "method": "animate"
           },
           {
            "args": [
             [
              "orbital cellulitis"
             ],
             {
              "frame": {
               "duration": 0,
               "redraw": true
              },
              "fromcurrent": true,
              "mode": "immediate",
              "transition": {
               "duration": 0,
               "easing": "linear"
              }
             }
            ],
            "label": "orbital cellulitis",
            "method": "animate"
           },
           {
            "args": [
             [
              "osteomyelitis/septic arthritis"
             ],
             {
              "frame": {
               "duration": 0,
               "redraw": true
              },
              "fromcurrent": true,
              "mode": "immediate",
              "transition": {
               "duration": 0,
               "easing": "linear"
              }
             }
            ],
            "label": "osteomyelitis/septic arthritis",
            "method": "animate"
           },
           {
            "args": [
             [
              "oxyuriasis (rectal symptoms/worms in stool)"
             ],
             {
              "frame": {
               "duration": 0,
               "redraw": true
              },
              "fromcurrent": true,
              "mode": "immediate",
              "transition": {
               "duration": 0,
               "easing": "linear"
              }
             }
            ],
            "label": "oxyuriasis (rectal symptoms/worms in stool)",
            "method": "animate"
           },
           {
            "args": [
             [
              "pathologic-prolonged jaundice"
             ],
             {
              "frame": {
               "duration": 0,
               "redraw": true
              },
              "fromcurrent": true,
              "mode": "immediate",
              "transition": {
               "duration": 0,
               "easing": "linear"
              }
             }
            ],
            "label": "pathologic-prolonged jaundice",
            "method": "animate"
           },
           {
            "args": [
             [
              "pathologic-severe jaundice"
             ],
             {
              "frame": {
               "duration": 0,
               "redraw": true
              },
              "fromcurrent": true,
              "mode": "immediate",
              "transition": {
               "duration": 0,
               "easing": "linear"
              }
             }
            ],
            "label": "pathologic-severe jaundice",
            "method": "animate"
           },
           {
            "args": [
             [
              "pediculosis (head lice)"
             ],
             {
              "frame": {
               "duration": 0,
               "redraw": true
              },
              "fromcurrent": true,
              "mode": "immediate",
              "transition": {
               "duration": 0,
               "easing": "linear"
              }
             }
            ],
            "label": "pediculosis (head lice)",
            "method": "animate"
           },
           {
            "args": [
             [
              "persistent diarrhea"
             ],
             {
              "frame": {
               "duration": 0,
               "redraw": true
              },
              "fromcurrent": true,
              "mode": "immediate",
              "transition": {
               "duration": 0,
               "easing": "linear"
              }
             }
            ],
            "label": "persistent diarrhea",
            "method": "animate"
           },
           {
            "args": [
             [
              "persisting dysentery"
             ],
             {
              "frame": {
               "duration": 0,
               "redraw": true
              },
              "fromcurrent": true,
              "mode": "immediate",
              "transition": {
               "duration": 0,
               "easing": "linear"
              }
             }
            ],
            "label": "persisting dysentery",
            "method": "animate"
           },
           {
            "args": [
             [
              "persisting pyelonephritis"
             ],
             {
              "frame": {
               "duration": 0,
               "redraw": true
              },
              "fromcurrent": true,
              "mode": "immediate",
              "transition": {
               "duration": 0,
               "easing": "linear"
              }
             }
            ],
            "label": "persisting pyelonephritis",
            "method": "animate"
           },
           {
            "args": [
             [
              "physiologic rash : erythema toxicum"
             ],
             {
              "frame": {
               "duration": 0,
               "redraw": true
              },
              "fromcurrent": true,
              "mode": "immediate",
              "transition": {
               "duration": 0,
               "easing": "linear"
              }
             }
            ],
            "label": "physiologic rash : erythema toxicum",
            "method": "animate"
           },
           {
            "args": [
             [
              "physiologic rash : transient neonatal pustural melanosis"
             ],
             {
              "frame": {
               "duration": 0,
               "redraw": true
              },
              "fromcurrent": true,
              "mode": "immediate",
              "transition": {
               "duration": 0,
               "easing": "linear"
              }
             }
            ],
            "label": "physiologic rash : transient neonatal pustural melanosis",
            "method": "animate"
           },
           {
            "args": [
             [
              "physiological jaundice"
             ],
             {
              "frame": {
               "duration": 0,
               "redraw": true
              },
              "fromcurrent": true,
              "mode": "immediate",
              "transition": {
               "duration": 0,
               "easing": "linear"
              }
             }
            ],
            "label": "physiological jaundice",
            "method": "animate"
           },
           {
            "args": [
             [
              "pityriasis versicolor"
             ],
             {
              "frame": {
               "duration": 0,
               "redraw": true
              },
              "fromcurrent": true,
              "mode": "immediate",
              "transition": {
               "duration": 0,
               "easing": "linear"
              }
             }
            ],
            "label": "pityriasis versicolor",
            "method": "animate"
           },
           {
            "args": [
             [
              "pneumonia"
             ],
             {
              "frame": {
               "duration": 0,
               "redraw": true
              },
              "fromcurrent": true,
              "mode": "immediate",
              "transition": {
               "duration": 0,
               "easing": "linear"
              }
             }
            ],
            "label": "pneumonia",
            "method": "animate"
           },
           {
            "args": [
             [
              "preseptal cellulitis"
             ],
             {
              "frame": {
               "duration": 0,
               "redraw": true
              },
              "fromcurrent": true,
              "mode": "immediate",
              "transition": {
               "duration": 0,
               "easing": "linear"
              }
             }
            ],
            "label": "preseptal cellulitis",
            "method": "animate"
           },
           {
            "args": [
             [
              "primary syphilis"
             ],
             {
              "frame": {
               "duration": 0,
               "redraw": true
              },
              "fromcurrent": true,
              "mode": "immediate",
              "transition": {
               "duration": 0,
               "easing": "linear"
              }
             }
            ],
            "label": "primary syphilis",
            "method": "animate"
           },
           {
            "args": [
             [
              "prolonged fever"
             ],
             {
              "frame": {
               "duration": 0,
               "redraw": true
              },
              "fromcurrent": true,
              "mode": "immediate",
              "transition": {
               "duration": 0,
               "easing": "linear"
              }
             }
            ],
            "label": "prolonged fever",
            "method": "animate"
           },
           {
            "args": [
             [
              "pyelonephritis"
             ],
             {
              "frame": {
               "duration": 0,
               "redraw": true
              },
              "fromcurrent": true,
              "mode": "immediate",
              "transition": {
               "duration": 0,
               "easing": "linear"
              }
             }
            ],
            "label": "pyelonephritis",
            "method": "animate"
           },
           {
            "args": [
             [
              "reactive airway disease"
             ],
             {
              "frame": {
               "duration": 0,
               "redraw": true
              },
              "fromcurrent": true,
              "mode": "immediate",
              "transition": {
               "duration": 0,
               "easing": "linear"
              }
             }
            ],
            "label": "reactive airway disease",
            "method": "animate"
           },
           {
            "args": [
             [
              "respiratory tract infection (viral suspected)"
             ],
             {
              "frame": {
               "duration": 0,
               "redraw": true
              },
              "fromcurrent": true,
              "mode": "immediate",
              "transition": {
               "duration": 0,
               "easing": "linear"
              }
             }
            ],
            "label": "respiratory tract infection (viral suspected)",
            "method": "animate"
           },
           {
            "args": [
             [
              "scabies"
             ],
             {
              "frame": {
               "duration": 0,
               "redraw": true
              },
              "fromcurrent": true,
              "mode": "immediate",
              "transition": {
               "duration": 0,
               "easing": "linear"
              }
             }
            ],
            "label": "scabies",
            "method": "animate"
           },
           {
            "args": [
             [
              "scarlet fever"
             ],
             {
              "frame": {
               "duration": 0,
               "redraw": true
              },
              "fromcurrent": true,
              "mode": "immediate",
              "transition": {
               "duration": 0,
               "easing": "linear"
              }
             }
            ],
            "label": "scarlet fever",
            "method": "animate"
           },
           {
            "args": [
             [
              "severe abdominal condition (possible bowel obstruction / hernia / appendicitis)"
             ],
             {
              "frame": {
               "duration": 0,
               "redraw": true
              },
              "fromcurrent": true,
              "mode": "immediate",
              "transition": {
               "duration": 0,
               "easing": "linear"
              }
             }
            ],
            "label": "severe abdominal condition (possible bowel obstruction / hernia / appendicitis)",
            "method": "animate"
           },
           {
            "args": [
             [
              "severe abdominal problem"
             ],
             {
              "frame": {
               "duration": 0,
               "redraw": true
              },
              "fromcurrent": true,
              "mode": "immediate",
              "transition": {
               "duration": 0,
               "easing": "linear"
              }
             }
            ],
            "label": "severe abdominal problem",
            "method": "animate"
           },
           {
            "args": [
             [
              "severe anemia"
             ],
             {
              "frame": {
               "duration": 0,
               "redraw": true
              },
              "fromcurrent": true,
              "mode": "immediate",
              "transition": {
               "duration": 0,
               "easing": "linear"
              }
             }
            ],
            "label": "severe anemia",
            "method": "animate"
           },
           {
            "args": [
             [
              "severe clinical infection or severe illness"
             ],
             {
              "frame": {
               "duration": 0,
               "redraw": true
              },
              "fromcurrent": true,
              "mode": "immediate",
              "transition": {
               "duration": 0,
               "easing": "linear"
              }
             }
            ],
            "label": "severe clinical infection or severe illness",
            "method": "animate"
           },
           {
            "args": [
             [
              "severe complicated measles"
             ],
             {
              "frame": {
               "duration": 0,
               "redraw": true
              },
              "fromcurrent": true,
              "mode": "immediate",
              "transition": {
               "duration": 0,
               "easing": "linear"
              }
             }
            ],
            "label": "severe complicated measles",
            "method": "animate"
           },
           {
            "args": [
             [
              "severe croup"
             ],
             {
              "frame": {
               "duration": 0,
               "redraw": true
              },
              "fromcurrent": true,
              "mode": "immediate",
              "transition": {
               "duration": 0,
               "easing": "linear"
              }
             }
            ],
            "label": "severe croup",
            "method": "animate"
           },
           {
            "args": [
             [
              "severe dehydration"
             ],
             {
              "frame": {
               "duration": 0,
               "redraw": true
              },
              "fromcurrent": true,
              "mode": "immediate",
              "transition": {
               "duration": 0,
               "easing": "linear"
              }
             }
            ],
            "label": "severe dehydration",
            "method": "animate"
           },
           {
            "args": [
             [
              "severe eye disease"
             ],
             {
              "frame": {
               "duration": 0,
               "redraw": true
              },
              "fromcurrent": true,
              "mode": "immediate",
              "transition": {
               "duration": 0,
               "easing": "linear"
              }
             }
            ],
            "label": "severe eye disease",
            "method": "animate"
           },
           {
            "args": [
             [
              "severe eye problem"
             ],
             {
              "frame": {
               "duration": 0,
               "redraw": true
              },
              "fromcurrent": true,
              "mode": "immediate",
              "transition": {
               "duration": 0,
               "easing": "linear"
              }
             }
            ],
            "label": "severe eye problem",
            "method": "animate"
           },
           {
            "args": [
             [
              "severe malaria"
             ],
             {
              "frame": {
               "duration": 0,
               "redraw": true
              },
              "fromcurrent": true,
              "mode": "immediate",
              "transition": {
               "duration": 0,
               "easing": "linear"
              }
             }
            ],
            "label": "severe malaria",
            "method": "animate"
           },
           {
            "args": [
             [
              "severe persistent diarrhea"
             ],
             {
              "frame": {
               "duration": 0,
               "redraw": true
              },
              "fromcurrent": true,
              "mode": "immediate",
              "transition": {
               "duration": 0,
               "easing": "linear"
              }
             }
            ],
            "label": "severe persistent diarrhea",
            "method": "animate"
           },
           {
            "args": [
             [
              "severe pneumonia"
             ],
             {
              "frame": {
               "duration": 0,
               "redraw": true
              },
              "fromcurrent": true,
              "mode": "immediate",
              "transition": {
               "duration": 0,
               "easing": "linear"
              }
             }
            ],
            "label": "severe pneumonia",
            "method": "animate"
           },
           {
            "args": [
             [
              "severe pneumonia or severe respiratory illness"
             ],
             {
              "frame": {
               "duration": 0,
               "redraw": true
              },
              "fromcurrent": true,
              "mode": "immediate",
              "transition": {
               "duration": 0,
               "easing": "linear"
              }
             }
            ],
            "label": "severe pneumonia or severe respiratory illness",
            "method": "animate"
           },
           {
            "args": [
             [
              "severe skin infection"
             ],
             {
              "frame": {
               "duration": 0,
               "redraw": true
              },
              "fromcurrent": true,
              "mode": "immediate",
              "transition": {
               "duration": 0,
               "easing": "linear"
              }
             }
            ],
            "label": "severe skin infection",
            "method": "animate"
           },
           {
            "args": [
             [
              "significant hemoptysis"
             ],
             {
              "frame": {
               "duration": 0,
               "redraw": true
              },
              "fromcurrent": true,
              "mode": "immediate",
              "transition": {
               "duration": 0,
               "easing": "linear"
              }
             }
            ],
            "label": "significant hemoptysis",
            "method": "animate"
           },
           {
            "args": [
             [
              "simple abscess"
             ],
             {
              "frame": {
               "duration": 0,
               "redraw": true
              },
              "fromcurrent": true,
              "mode": "immediate",
              "transition": {
               "duration": 0,
               "easing": "linear"
              }
             }
            ],
            "label": "simple abscess",
            "method": "animate"
           },
           {
            "args": [
             [
              "some dehydration"
             ],
             {
              "frame": {
               "duration": 0,
               "redraw": true
              },
              "fromcurrent": true,
              "mode": "immediate",
              "transition": {
               "duration": 0,
               "easing": "linear"
              }
             }
            ],
            "label": "some dehydration",
            "method": "animate"
           },
           {
            "args": [
             [
              "suspected malaria"
             ],
             {
              "frame": {
               "duration": 0,
               "redraw": true
              },
              "fromcurrent": true,
              "mode": "immediate",
              "transition": {
               "duration": 0,
               "easing": "linear"
              }
             }
            ],
            "label": "suspected malaria",
            "method": "animate"
           },
           {
            "args": [
             [
              "suspected malaria (malaria test not available)"
             ],
             {
              "frame": {
               "duration": 0,
               "redraw": true
              },
              "fromcurrent": true,
              "mode": "immediate",
              "transition": {
               "duration": 0,
               "easing": "linear"
              }
             }
            ],
            "label": "suspected malaria (malaria test not available)",
            "method": "animate"
           },
           {
            "args": [
             [
              "suspected severe malaria"
             ],
             {
              "frame": {
               "duration": 0,
               "redraw": true
              },
              "fromcurrent": true,
              "mode": "immediate",
              "transition": {
               "duration": 0,
               "easing": "linear"
              }
             }
            ],
            "label": "suspected severe malaria",
            "method": "animate"
           },
           {
            "args": [
             [
              "suspected testicular torsion"
             ],
             {
              "frame": {
               "duration": 0,
               "redraw": true
              },
              "fromcurrent": true,
              "mode": "immediate",
              "transition": {
               "duration": 0,
               "easing": "linear"
              }
             }
            ],
            "label": "suspected testicular torsion",
            "method": "animate"
           },
           {
            "args": [
             [
              "suspicion of foreign object in airways"
             ],
             {
              "frame": {
               "duration": 0,
               "redraw": true
              },
              "fromcurrent": true,
              "mode": "immediate",
              "transition": {
               "duration": 0,
               "easing": "linear"
              }
             }
            ],
            "label": "suspicion of foreign object in airways",
            "method": "animate"
           },
           {
            "args": [
             [
              "suspicion of fracture/dislocation"
             ],
             {
              "frame": {
               "duration": 0,
               "redraw": true
              },
              "fromcurrent": true,
              "mode": "immediate",
              "transition": {
               "duration": 0,
               "easing": "linear"
              }
             }
            ],
            "label": "suspicion of fracture/dislocation",
            "method": "animate"
           },
           {
            "args": [
             [
              "suspicion of meningitis"
             ],
             {
              "frame": {
               "duration": 0,
               "redraw": true
              },
              "fromcurrent": true,
              "mode": "immediate",
              "transition": {
               "duration": 0,
               "easing": "linear"
              }
             }
            ],
            "label": "suspicion of meningitis",
            "method": "animate"
           },
           {
            "args": [
             [
              "suspicion of poisoning"
             ],
             {
              "frame": {
               "duration": 0,
               "redraw": true
              },
              "fromcurrent": true,
              "mode": "immediate",
              "transition": {
               "duration": 0,
               "easing": "linear"
              }
             }
            ],
            "label": "suspicion of poisoning",
            "method": "animate"
           },
           {
            "args": [
             [
              "tinea capitis"
             ],
             {
              "frame": {
               "duration": 0,
               "redraw": true
              },
              "fromcurrent": true,
              "mode": "immediate",
              "transition": {
               "duration": 0,
               "easing": "linear"
              }
             }
            ],
            "label": "tinea capitis",
            "method": "animate"
           },
           {
            "args": [
             [
              "tinea corporis"
             ],
             {
              "frame": {
               "duration": 0,
               "redraw": true
              },
              "fromcurrent": true,
              "mode": "immediate",
              "transition": {
               "duration": 0,
               "easing": "linear"
              }
             }
            ],
            "label": "tinea corporis",
            "method": "animate"
           },
           {
            "args": [
             [
              "tooth pain"
             ],
             {
              "frame": {
               "duration": 0,
               "redraw": true
              },
              "fromcurrent": true,
              "mode": "immediate",
              "transition": {
               "duration": 0,
               "easing": "linear"
              }
             }
            ],
            "label": "tooth pain",
            "method": "animate"
           },
           {
            "args": [
             [
              "typhoid fever"
             ],
             {
              "frame": {
               "duration": 0,
               "redraw": true
              },
              "fromcurrent": true,
              "mode": "immediate",
              "transition": {
               "duration": 0,
               "easing": "linear"
              }
             }
            ],
            "label": "typhoid fever",
            "method": "animate"
           },
           {
            "args": [
             [
              "uncomplicated acute ear infection"
             ],
             {
              "frame": {
               "duration": 0,
               "redraw": true
              },
              "fromcurrent": true,
              "mode": "immediate",
              "transition": {
               "duration": 0,
               "easing": "linear"
              }
             }
            ],
            "label": "uncomplicated acute ear infection",
            "method": "animate"
           },
           {
            "args": [
             [
              "uncomplicated cellulitis"
             ],
             {
              "frame": {
               "duration": 0,
               "redraw": true
              },
              "fromcurrent": true,
              "mode": "immediate",
              "transition": {
               "duration": 0,
               "easing": "linear"
              }
             }
            ],
            "label": "uncomplicated cellulitis",
            "method": "animate"
           },
           {
            "args": [
             [
              "uncomplicated chicken pox"
             ],
             {
              "frame": {
               "duration": 0,
               "redraw": true
              },
              "fromcurrent": true,
              "mode": "immediate",
              "transition": {
               "duration": 0,
               "easing": "linear"
              }
             }
            ],
            "label": "uncomplicated chicken pox",
            "method": "animate"
           },
           {
            "args": [
             [
              "uncomplicated deep wound"
             ],
             {
              "frame": {
               "duration": 0,
               "redraw": true
              },
              "fromcurrent": true,
              "mode": "immediate",
              "transition": {
               "duration": 0,
               "easing": "linear"
              }
             }
            ],
            "label": "uncomplicated deep wound",
            "method": "animate"
           },
           {
            "args": [
             [
              "uncomplicated impetigo"
             ],
             {
              "frame": {
               "duration": 0,
               "redraw": true
              },
              "fromcurrent": true,
              "mode": "immediate",
              "transition": {
               "duration": 0,
               "easing": "linear"
              }
             }
            ],
            "label": "uncomplicated impetigo",
            "method": "animate"
           },
           {
            "args": [
             [
              "uncomplicated infectious lymphadenitis"
             ],
             {
              "frame": {
               "duration": 0,
               "redraw": true
              },
              "fromcurrent": true,
              "mode": "immediate",
              "transition": {
               "duration": 0,
               "easing": "linear"
              }
             }
            ],
            "label": "uncomplicated infectious lymphadenitis",
            "method": "animate"
           },
           {
            "args": [
             [
              "uncomplicated lymphadenopathy"
             ],
             {
              "frame": {
               "duration": 0,
               "redraw": true
              },
              "fromcurrent": true,
              "mode": "immediate",
              "transition": {
               "duration": 0,
               "easing": "linear"
              }
             }
            ],
            "label": "uncomplicated lymphadenopathy",
            "method": "animate"
           },
           {
            "args": [
             [
              "uncomplicated malaria"
             ],
             {
              "frame": {
               "duration": 0,
               "redraw": true
              },
              "fromcurrent": true,
              "mode": "immediate",
              "transition": {
               "duration": 0,
               "easing": "linear"
              }
             }
            ],
            "label": "uncomplicated malaria",
            "method": "animate"
           },
           {
            "args": [
             [
              "uncomplicated severe acute malnutrition"
             ],
             {
              "frame": {
               "duration": 0,
               "redraw": true
              },
              "fromcurrent": true,
              "mode": "immediate",
              "transition": {
               "duration": 0,
               "easing": "linear"
              }
             }
            ],
            "label": "uncomplicated severe acute malnutrition",
            "method": "animate"
           },
           {
            "args": [
             [
              "uncomplicated superficial wound"
             ],
             {
              "frame": {
               "duration": 0,
               "redraw": true
              },
              "fromcurrent": true,
              "mode": "immediate",
              "transition": {
               "duration": 0,
               "easing": "linear"
              }
             }
            ],
            "label": "uncomplicated superficial wound",
            "method": "animate"
           },
           {
            "args": [
             [
              "uncomplicated suspicion of poisoning"
             ],
             {
              "frame": {
               "duration": 0,
               "redraw": true
              },
              "fromcurrent": true,
              "mode": "immediate",
              "transition": {
               "duration": 0,
               "easing": "linear"
              }
             }
            ],
            "label": "uncomplicated suspicion of poisoning",
            "method": "animate"
           },
           {
            "args": [
             [
              "uncomplicated vomiting"
             ],
             {
              "frame": {
               "duration": 0,
               "redraw": true
              },
              "fromcurrent": true,
              "mode": "immediate",
              "transition": {
               "duration": 0,
               "easing": "linear"
              }
             }
            ],
            "label": "uncomplicated vomiting",
            "method": "animate"
           },
           {
            "args": [
             [
              "unimproved local skin infection"
             ],
             {
              "frame": {
               "duration": 0,
               "redraw": true
              },
              "fromcurrent": true,
              "mode": "immediate",
              "transition": {
               "duration": 0,
               "easing": "linear"
              }
             }
            ],
            "label": "unimproved local skin infection",
            "method": "animate"
           },
           {
            "args": [
             [
              "urticaria"
             ],
             {
              "frame": {
               "duration": 0,
               "redraw": true
              },
              "fromcurrent": true,
              "mode": "immediate",
              "transition": {
               "duration": 0,
               "easing": "linear"
              }
             }
            ],
            "label": "urticaria",
            "method": "animate"
           },
           {
            "args": [
             [
              "vaginal candidiasis"
             ],
             {
              "frame": {
               "duration": 0,
               "redraw": true
              },
              "fromcurrent": true,
              "mode": "immediate",
              "transition": {
               "duration": 0,
               "easing": "linear"
              }
             }
            ],
            "label": "vaginal candidiasis",
            "method": "animate"
           },
           {
            "args": [
             [
              "vaginal discharge syndrome (presumed gonorrhea/ chlamydia / trichomoniasis / bacterial vaginosis)"
             ],
             {
              "frame": {
               "duration": 0,
               "redraw": true
              },
              "fromcurrent": true,
              "mode": "immediate",
              "transition": {
               "duration": 0,
               "easing": "linear"
              }
             }
            ],
            "label": "vaginal discharge syndrome (presumed gonorrhea/ chlamydia / trichomoniasis / bacterial vaginosis)",
            "method": "animate"
           },
           {
            "args": [
             [
              "very low weight for age"
             ],
             {
              "frame": {
               "duration": 0,
               "redraw": true
              },
              "fromcurrent": true,
              "mode": "immediate",
              "transition": {
               "duration": 0,
               "easing": "linear"
              }
             }
            ],
            "label": "very low weight for age",
            "method": "animate"
           },
           {
            "args": [
             [
              "very severe febrile disease"
             ],
             {
              "frame": {
               "duration": 0,
               "redraw": true
              },
              "fromcurrent": true,
              "mode": "immediate",
              "transition": {
               "duration": 0,
               "easing": "linear"
              }
             }
            ],
            "label": "very severe febrile disease",
            "method": "animate"
           },
           {
            "args": [
             [
              "viral acute pharyngitis"
             ],
             {
              "frame": {
               "duration": 0,
               "redraw": true
              },
              "fromcurrent": true,
              "mode": "immediate",
              "transition": {
               "duration": 0,
               "easing": "linear"
              }
             }
            ],
            "label": "viral acute pharyngitis",
            "method": "animate"
           },
           {
            "args": [
             [
              "viral conjunctivitis"
             ],
             {
              "frame": {
               "duration": 0,
               "redraw": true
              },
              "fromcurrent": true,
              "mode": "immediate",
              "transition": {
               "duration": 0,
               "easing": "linear"
              }
             }
            ],
            "label": "viral conjunctivitis",
            "method": "animate"
           },
           {
            "args": [
             [
              "viral conjunctivitis (< 5y)"
             ],
             {
              "frame": {
               "duration": 0,
               "redraw": true
              },
              "fromcurrent": true,
              "mode": "immediate",
              "transition": {
               "duration": 0,
               "easing": "linear"
              }
             }
            ],
            "label": "viral conjunctivitis (< 5y)",
            "method": "animate"
           },
           {
            "args": [
             [
              "viral pneumonia"
             ],
             {
              "frame": {
               "duration": 0,
               "redraw": true
              },
              "fromcurrent": true,
              "mode": "immediate",
              "transition": {
               "duration": 0,
               "easing": "linear"
              }
             }
            ],
            "label": "viral pneumonia",
            "method": "animate"
           },
           {
            "args": [
             [
              "vulvovaginitis"
             ],
             {
              "frame": {
               "duration": 0,
               "redraw": true
              },
              "fromcurrent": true,
              "mode": "immediate",
              "transition": {
               "duration": 0,
               "easing": "linear"
              }
             }
            ],
            "label": "vulvovaginitis",
            "method": "animate"
           }
          ],
          "x": 0.1,
          "xanchor": "left",
          "y": 0,
          "yanchor": "top"
         }
        ],
        "template": {
         "data": {
          "bar": [
           {
            "error_x": {
             "color": "#2a3f5f"
            },
            "error_y": {
             "color": "#2a3f5f"
            },
            "marker": {
             "line": {
              "color": "#E5ECF6",
              "width": 0.5
             },
             "pattern": {
              "fillmode": "overlay",
              "size": 10,
              "solidity": 0.2
             }
            },
            "type": "bar"
           }
          ],
          "barpolar": [
           {
            "marker": {
             "line": {
              "color": "#E5ECF6",
              "width": 0.5
             },
             "pattern": {
              "fillmode": "overlay",
              "size": 10,
              "solidity": 0.2
             }
            },
            "type": "barpolar"
           }
          ],
          "carpet": [
           {
            "aaxis": {
             "endlinecolor": "#2a3f5f",
             "gridcolor": "white",
             "linecolor": "white",
             "minorgridcolor": "white",
             "startlinecolor": "#2a3f5f"
            },
            "baxis": {
             "endlinecolor": "#2a3f5f",
             "gridcolor": "white",
             "linecolor": "white",
             "minorgridcolor": "white",
             "startlinecolor": "#2a3f5f"
            },
            "type": "carpet"
           }
          ],
          "choropleth": [
           {
            "colorbar": {
             "outlinewidth": 0,
             "ticks": ""
            },
            "type": "choropleth"
           }
          ],
          "contour": [
           {
            "colorbar": {
             "outlinewidth": 0,
             "ticks": ""
            },
            "colorscale": [
             [
              0,
              "#0d0887"
             ],
             [
              0.1111111111111111,
              "#46039f"
             ],
             [
              0.2222222222222222,
              "#7201a8"
             ],
             [
              0.3333333333333333,
              "#9c179e"
             ],
             [
              0.4444444444444444,
              "#bd3786"
             ],
             [
              0.5555555555555556,
              "#d8576b"
             ],
             [
              0.6666666666666666,
              "#ed7953"
             ],
             [
              0.7777777777777778,
              "#fb9f3a"
             ],
             [
              0.8888888888888888,
              "#fdca26"
             ],
             [
              1,
              "#f0f921"
             ]
            ],
            "type": "contour"
           }
          ],
          "contourcarpet": [
           {
            "colorbar": {
             "outlinewidth": 0,
             "ticks": ""
            },
            "type": "contourcarpet"
           }
          ],
          "heatmap": [
           {
            "colorbar": {
             "outlinewidth": 0,
             "ticks": ""
            },
            "colorscale": [
             [
              0,
              "#0d0887"
             ],
             [
              0.1111111111111111,
              "#46039f"
             ],
             [
              0.2222222222222222,
              "#7201a8"
             ],
             [
              0.3333333333333333,
              "#9c179e"
             ],
             [
              0.4444444444444444,
              "#bd3786"
             ],
             [
              0.5555555555555556,
              "#d8576b"
             ],
             [
              0.6666666666666666,
              "#ed7953"
             ],
             [
              0.7777777777777778,
              "#fb9f3a"
             ],
             [
              0.8888888888888888,
              "#fdca26"
             ],
             [
              1,
              "#f0f921"
             ]
            ],
            "type": "heatmap"
           }
          ],
          "heatmapgl": [
           {
            "colorbar": {
             "outlinewidth": 0,
             "ticks": ""
            },
            "colorscale": [
             [
              0,
              "#0d0887"
             ],
             [
              0.1111111111111111,
              "#46039f"
             ],
             [
              0.2222222222222222,
              "#7201a8"
             ],
             [
              0.3333333333333333,
              "#9c179e"
             ],
             [
              0.4444444444444444,
              "#bd3786"
             ],
             [
              0.5555555555555556,
              "#d8576b"
             ],
             [
              0.6666666666666666,
              "#ed7953"
             ],
             [
              0.7777777777777778,
              "#fb9f3a"
             ],
             [
              0.8888888888888888,
              "#fdca26"
             ],
             [
              1,
              "#f0f921"
             ]
            ],
            "type": "heatmapgl"
           }
          ],
          "histogram": [
           {
            "marker": {
             "pattern": {
              "fillmode": "overlay",
              "size": 10,
              "solidity": 0.2
             }
            },
            "type": "histogram"
           }
          ],
          "histogram2d": [
           {
            "colorbar": {
             "outlinewidth": 0,
             "ticks": ""
            },
            "colorscale": [
             [
              0,
              "#0d0887"
             ],
             [
              0.1111111111111111,
              "#46039f"
             ],
             [
              0.2222222222222222,
              "#7201a8"
             ],
             [
              0.3333333333333333,
              "#9c179e"
             ],
             [
              0.4444444444444444,
              "#bd3786"
             ],
             [
              0.5555555555555556,
              "#d8576b"
             ],
             [
              0.6666666666666666,
              "#ed7953"
             ],
             [
              0.7777777777777778,
              "#fb9f3a"
             ],
             [
              0.8888888888888888,
              "#fdca26"
             ],
             [
              1,
              "#f0f921"
             ]
            ],
            "type": "histogram2d"
           }
          ],
          "histogram2dcontour": [
           {
            "colorbar": {
             "outlinewidth": 0,
             "ticks": ""
            },
            "colorscale": [
             [
              0,
              "#0d0887"
             ],
             [
              0.1111111111111111,
              "#46039f"
             ],
             [
              0.2222222222222222,
              "#7201a8"
             ],
             [
              0.3333333333333333,
              "#9c179e"
             ],
             [
              0.4444444444444444,
              "#bd3786"
             ],
             [
              0.5555555555555556,
              "#d8576b"
             ],
             [
              0.6666666666666666,
              "#ed7953"
             ],
             [
              0.7777777777777778,
              "#fb9f3a"
             ],
             [
              0.8888888888888888,
              "#fdca26"
             ],
             [
              1,
              "#f0f921"
             ]
            ],
            "type": "histogram2dcontour"
           }
          ],
          "mesh3d": [
           {
            "colorbar": {
             "outlinewidth": 0,
             "ticks": ""
            },
            "type": "mesh3d"
           }
          ],
          "parcoords": [
           {
            "line": {
             "colorbar": {
              "outlinewidth": 0,
              "ticks": ""
             }
            },
            "type": "parcoords"
           }
          ],
          "pie": [
           {
            "automargin": true,
            "type": "pie"
           }
          ],
          "scatter": [
           {
            "fillpattern": {
             "fillmode": "overlay",
             "size": 10,
             "solidity": 0.2
            },
            "type": "scatter"
           }
          ],
          "scatter3d": [
           {
            "line": {
             "colorbar": {
              "outlinewidth": 0,
              "ticks": ""
             }
            },
            "marker": {
             "colorbar": {
              "outlinewidth": 0,
              "ticks": ""
             }
            },
            "type": "scatter3d"
           }
          ],
          "scattercarpet": [
           {
            "marker": {
             "colorbar": {
              "outlinewidth": 0,
              "ticks": ""
             }
            },
            "type": "scattercarpet"
           }
          ],
          "scattergeo": [
           {
            "marker": {
             "colorbar": {
              "outlinewidth": 0,
              "ticks": ""
             }
            },
            "type": "scattergeo"
           }
          ],
          "scattergl": [
           {
            "marker": {
             "colorbar": {
              "outlinewidth": 0,
              "ticks": ""
             }
            },
            "type": "scattergl"
           }
          ],
          "scattermapbox": [
           {
            "marker": {
             "colorbar": {
              "outlinewidth": 0,
              "ticks": ""
             }
            },
            "type": "scattermapbox"
           }
          ],
          "scatterpolar": [
           {
            "marker": {
             "colorbar": {
              "outlinewidth": 0,
              "ticks": ""
             }
            },
            "type": "scatterpolar"
           }
          ],
          "scatterpolargl": [
           {
            "marker": {
             "colorbar": {
              "outlinewidth": 0,
              "ticks": ""
             }
            },
            "type": "scatterpolargl"
           }
          ],
          "scatterternary": [
           {
            "marker": {
             "colorbar": {
              "outlinewidth": 0,
              "ticks": ""
             }
            },
            "type": "scatterternary"
           }
          ],
          "surface": [
           {
            "colorbar": {
             "outlinewidth": 0,
             "ticks": ""
            },
            "colorscale": [
             [
              0,
              "#0d0887"
             ],
             [
              0.1111111111111111,
              "#46039f"
             ],
             [
              0.2222222222222222,
              "#7201a8"
             ],
             [
              0.3333333333333333,
              "#9c179e"
             ],
             [
              0.4444444444444444,
              "#bd3786"
             ],
             [
              0.5555555555555556,
              "#d8576b"
             ],
             [
              0.6666666666666666,
              "#ed7953"
             ],
             [
              0.7777777777777778,
              "#fb9f3a"
             ],
             [
              0.8888888888888888,
              "#fdca26"
             ],
             [
              1,
              "#f0f921"
             ]
            ],
            "type": "surface"
           }
          ],
          "table": [
           {
            "cells": {
             "fill": {
              "color": "#EBF0F8"
             },
             "line": {
              "color": "white"
             }
            },
            "header": {
             "fill": {
              "color": "#C8D4E3"
             },
             "line": {
              "color": "white"
             }
            },
            "type": "table"
           }
          ]
         },
         "layout": {
          "annotationdefaults": {
           "arrowcolor": "#2a3f5f",
           "arrowhead": 0,
           "arrowwidth": 1
          },
          "autotypenumbers": "strict",
          "coloraxis": {
           "colorbar": {
            "outlinewidth": 0,
            "ticks": ""
           }
          },
          "colorscale": {
           "diverging": [
            [
             0,
             "#8e0152"
            ],
            [
             0.1,
             "#c51b7d"
            ],
            [
             0.2,
             "#de77ae"
            ],
            [
             0.3,
             "#f1b6da"
            ],
            [
             0.4,
             "#fde0ef"
            ],
            [
             0.5,
             "#f7f7f7"
            ],
            [
             0.6,
             "#e6f5d0"
            ],
            [
             0.7,
             "#b8e186"
            ],
            [
             0.8,
             "#7fbc41"
            ],
            [
             0.9,
             "#4d9221"
            ],
            [
             1,
             "#276419"
            ]
           ],
           "sequential": [
            [
             0,
             "#0d0887"
            ],
            [
             0.1111111111111111,
             "#46039f"
            ],
            [
             0.2222222222222222,
             "#7201a8"
            ],
            [
             0.3333333333333333,
             "#9c179e"
            ],
            [
             0.4444444444444444,
             "#bd3786"
            ],
            [
             0.5555555555555556,
             "#d8576b"
            ],
            [
             0.6666666666666666,
             "#ed7953"
            ],
            [
             0.7777777777777778,
             "#fb9f3a"
            ],
            [
             0.8888888888888888,
             "#fdca26"
            ],
            [
             1,
             "#f0f921"
            ]
           ],
           "sequentialminus": [
            [
             0,
             "#0d0887"
            ],
            [
             0.1111111111111111,
             "#46039f"
            ],
            [
             0.2222222222222222,
             "#7201a8"
            ],
            [
             0.3333333333333333,
             "#9c179e"
            ],
            [
             0.4444444444444444,
             "#bd3786"
            ],
            [
             0.5555555555555556,
             "#d8576b"
            ],
            [
             0.6666666666666666,
             "#ed7953"
            ],
            [
             0.7777777777777778,
             "#fb9f3a"
            ],
            [
             0.8888888888888888,
             "#fdca26"
            ],
            [
             1,
             "#f0f921"
            ]
           ]
          },
          "colorway": [
           "#636efa",
           "#EF553B",
           "#00cc96",
           "#ab63fa",
           "#FFA15A",
           "#19d3f3",
           "#FF6692",
           "#B6E880",
           "#FF97FF",
           "#FECB52"
          ],
          "font": {
           "color": "#2a3f5f"
          },
          "geo": {
           "bgcolor": "white",
           "lakecolor": "white",
           "landcolor": "#E5ECF6",
           "showlakes": true,
           "showland": true,
           "subunitcolor": "white"
          },
          "hoverlabel": {
           "align": "left"
          },
          "hovermode": "closest",
          "mapbox": {
           "style": "light"
          },
          "paper_bgcolor": "white",
          "plot_bgcolor": "#E5ECF6",
          "polar": {
           "angularaxis": {
            "gridcolor": "white",
            "linecolor": "white",
            "ticks": ""
           },
           "bgcolor": "#E5ECF6",
           "radialaxis": {
            "gridcolor": "white",
            "linecolor": "white",
            "ticks": ""
           }
          },
          "scene": {
           "xaxis": {
            "backgroundcolor": "#E5ECF6",
            "gridcolor": "white",
            "gridwidth": 2,
            "linecolor": "white",
            "showbackground": true,
            "ticks": "",
            "zerolinecolor": "white"
           },
           "yaxis": {
            "backgroundcolor": "#E5ECF6",
            "gridcolor": "white",
            "gridwidth": 2,
            "linecolor": "white",
            "showbackground": true,
            "ticks": "",
            "zerolinecolor": "white"
           },
           "zaxis": {
            "backgroundcolor": "#E5ECF6",
            "gridcolor": "white",
            "gridwidth": 2,
            "linecolor": "white",
            "showbackground": true,
            "ticks": "",
            "zerolinecolor": "white"
           }
          },
          "shapedefaults": {
           "line": {
            "color": "#2a3f5f"
           }
          },
          "ternary": {
           "aaxis": {
            "gridcolor": "white",
            "linecolor": "white",
            "ticks": ""
           },
           "baxis": {
            "gridcolor": "white",
            "linecolor": "white",
            "ticks": ""
           },
           "bgcolor": "#E5ECF6",
           "caxis": {
            "gridcolor": "white",
            "linecolor": "white",
            "ticks": ""
           }
          },
          "title": {
           "x": 0.05
          },
          "xaxis": {
           "automargin": true,
           "gridcolor": "white",
           "linecolor": "white",
           "ticks": "",
           "title": {
            "standoff": 15
           },
           "zerolinecolor": "white",
           "zerolinewidth": 2
          },
          "yaxis": {
           "automargin": true,
           "gridcolor": "white",
           "linecolor": "white",
           "ticks": "",
           "title": {
            "standoff": 15
           },
           "zerolinecolor": "white",
           "zerolinewidth": 2
          }
         }
        },
        "title": {
         "text": "Number of consultations with respective diagnosis per cluster"
        },
        "updatemenus": [
         {
          "buttons": [
           {
            "args": [
             null,
             {
              "frame": {
               "duration": 500,
               "redraw": true
              },
              "fromcurrent": true,
              "mode": "immediate",
              "transition": {
               "duration": 500,
               "easing": "linear"
              }
             }
            ],
            "label": "&#9654;",
            "method": "animate"
           },
           {
            "args": [
             [
              null
             ],
             {
              "frame": {
               "duration": 0,
               "redraw": true
              },
              "fromcurrent": true,
              "mode": "immediate",
              "transition": {
               "duration": 0,
               "easing": "linear"
              }
             }
            ],
            "label": "&#9724;",
            "method": "animate"
           }
          ],
          "direction": "left",
          "pad": {
           "r": 10,
           "t": 70
          },
          "showactive": false,
          "type": "buttons",
          "x": 0.1,
          "xanchor": "right",
          "y": 0,
          "yanchor": "top"
         }
        ],
        "xaxis": {
         "anchor": "y",
         "domain": [
          0,
          1
         ],
         "title": {
          "text": "Cluster"
         }
        },
        "yaxis": {
         "anchor": "x",
         "domain": [
          0,
          1
         ],
         "range": [
          0,
          1
         ],
         "title": {
          "text": "Share number of consultations"
         }
        }
       }
      }
     },
     "metadata": {},
     "output_type": "display_data"
    }
   ],
   "source": [
    "diagnoses_per_cluster = diagnoses.copy()\n",
    "\n",
    "# add cluster result to diagnoses\n",
    "diagnoses_per_cluster[\"cluster\"] = labeled_features[\"cluster\"]\n",
    "number_consultations_per_cluster = diagnoses_per_cluster.groupby(\"cluster\").size().reset_index(name=\"number_consultations\")\n",
    "diagnoses_per_cluster = diagnoses_per_cluster.groupby(\"cluster\").sum().reset_index()\n",
    "diagnoses_per_cluster = diagnoses_per_cluster.merge(number_consultations_per_cluster, on=\"cluster\")\n",
    "\n",
    "number_diagnoses_per_cluster = pd.melt(\n",
    "    diagnoses_per_cluster,\n",
    "    id_vars=[\"cluster\"], \n",
    "    value_vars=diagnoses_per_cluster.columns.drop([\"cluster\", \"number_consultations\"]),\n",
    "    var_name=\"diagnosis\", value_name=\"number_consultations\"\n",
    ")\n",
    "\n",
    "for d in diagnoses.columns:\n",
    "    diagnoses_per_cluster[d] = diagnoses_per_cluster[d] / diagnoses_per_cluster[\"number_consultations\"]\n",
    "\n",
    "share_diagnoses_per_cluster = pd.melt(\n",
    "    diagnoses_per_cluster,\n",
    "    id_vars=[\"cluster\"], \n",
    "    value_vars=diagnoses_per_cluster.columns.drop([\"cluster\", \"number_consultations\"]),\n",
    "    var_name=\"diagnosis\", value_name=\"share_number_consultations\"\n",
    ")\n",
    "share_diagnoses_per_cluster[\"share_number_consultations\"] = np.round(share_diagnoses_per_cluster[\"share_number_consultations\"], 4)\n",
    "\n",
    "clusters = range(int(diagnoses_per_cluster[\"cluster\"].max())+1)\n",
    "\n",
    "# print diagnoses and the clusters if they are not present in every cluster\n",
    "diagnoses_cluster_appearance = number_diagnoses_per_cluster.groupby(\"diagnosis\").size().reset_index(name=\"number_cluster_appearance\")\n",
    "print(\"Diagnoses determining clusters:\", diagnoses_cluster_appearance[diagnoses_cluster_appearance[\"number_cluster_appearance\"]<len(clusters)])\n",
    "\n",
    "# plot diagnoses distribution\n",
    "fig_diagnoses = px.bar(\n",
    "    share_diagnoses_per_cluster, \n",
    "    x=\"cluster\", \n",
    "    y=\"share_number_consultations\", \n",
    "    animation_frame=\"diagnosis\",\n",
    "    barmode=\"group\", \n",
    "    text=\"share_number_consultations\",\n",
    "    title=f\"Number of consultations with respective diagnosis per cluster\",\n",
    "    labels={\"share_number_consultations\": \"Share number of consultations\", \"diagnosis\":\"Diagnosis\", \"cluster\":\"Cluster\"}  \n",
    ")\n",
    "fig_diagnoses.update_yaxes(range=[0, 1])\n",
    "fig_diagnoses.show()"
   ]
  },
  {
   "attachments": {},
   "cell_type": "markdown",
   "metadata": {},
   "source": [
    "## Accuracy and SHAP values of LightGBM classifier"
   ]
  },
  {
   "cell_type": "code",
   "execution_count": 22,
   "metadata": {},
   "outputs": [],
   "source": [
    "# build lgbm classifier with diagnoses as features to see how well they explain the labels\n",
    "import lightgbm as lgb # was chosen as mutlinominal regression did not converge and because it is later used due to its advantage of being able to take in categorical values\n",
    "from sklearn.model_selection import cross_val_score\n",
    "import shap\n",
    "import re\n",
    "\n",
    "# function for evaluate cluster result based on accuracy and shap values of lgbm classifier\n",
    "def evaluate_with_lgbm_classifier(data, labels, title, path):\n",
    "    # rename columns so that lgbm can read them\n",
    "    data.columns = [re.sub(r'(>)|(<)', lambda m: 'higher' if m.group(1) else 'lower', c) for c in data.columns] # essental to ensure that columns are stll dstnct after next lne of code\n",
    "    data.columns = [re.sub('[^A-Za-z0-9_]+', ' ', c) for c in data.columns]\n",
    "\n",
    "    # check how good the clusters are: the higher F1 the better\n",
    "    clf = lgb.LGBMClassifier() #colsample_by_tree=0.8\n",
    "    cv_scores = cross_val_score(clf, data, labels, scoring='f1_weighted')\n",
    "    mean_cv_scores = np.mean(cv_scores)\n",
    "    print(f\"CV F1 score of classifier is {mean_cv_scores}\")\n",
    "\n",
    "    # check how features are used to explain the label\n",
    "    clf.fit(data, labels) # fit model\n",
    "\n",
    "    #SHAP values to determine how features are used for classification\n",
    "    explainer = shap.TreeExplainer(clf)\n",
    "    shap_values = explainer.shap_values(data)\n",
    "    shap.summary_plot(shap_values, data, plot_type=\"bar\", plot_size=(15, 10), show=False)\n",
    "    plt.title(title)\n",
    "    plt.savefig(path)\n",
    "    plt.show()\n",
    "\n",
    "    return mean_cv_scores"
   ]
  },
  {
   "cell_type": "code",
   "execution_count": 23,
   "metadata": {},
   "outputs": [],
   "source": [
    "labels=labeled_features[\"cluster\"]\n",
    "\n",
    "# to gather classifier results\n",
    "accuracy_scores = []"
   ]
  },
  {
   "attachments": {},
   "cell_type": "markdown",
   "metadata": {},
   "source": [
    "### Feature based classifier"
   ]
  },
  {
   "cell_type": "code",
   "execution_count": 24,
   "metadata": {},
   "outputs": [
    {
     "name": "stdout",
     "output_type": "stream",
     "text": [
      "CV F1 score of classifier is 0.9983884459827426\n"
     ]
    },
    {
     "data": {
      "image/png": "[encoded data removed]",
      "text/plain": [
       "<Figure size 1500x1000 with 1 Axes>"
      ]
     },
     "metadata": {},
     "output_type": "display_data"
    }
   ],
   "source": [
    "accuracy_scores.append({\n",
    "    \"classifier\": \"Feature based classifier\",\n",
    "    \"accuracy\": evaluate_with_lgbm_classifier(\n",
    "        labeled_preprocessed_features.drop([\"cluster\"], axis=1), \n",
    "        labels, \n",
    "        f\"Average impact of features on classification of cluster labels\",\n",
    "        \"plots/syndromic_surveillance/clustering_evaluation/shap_values_feature_based_classifier\"\n",
    "    )\n",
    "})"
   ]
  },
  {
   "attachments": {},
   "cell_type": "markdown",
   "metadata": {},
   "source": [
    "### Diagnosis based classifier"
   ]
  },
  {
   "cell_type": "code",
   "execution_count": 25,
   "metadata": {},
   "outputs": [
    {
     "name": "stdout",
     "output_type": "stream",
     "text": [
      "CV F1 score of classifier is 0.8454553792621645\n"
     ]
    },
    {
     "data": {
      "image/png": "[encoded data removed]",
      "text/plain": [
       "<Figure size 1500x1000 with 1 Axes>"
      ]
     },
     "metadata": {},
     "output_type": "display_data"
    }
   ],
   "source": [
    "accuracy_scores.append({\n",
    "    \"classifier\": \"Diagnosis based classifier\",\n",
    "    \"accuracy\": evaluate_with_lgbm_classifier(\n",
    "        diagnoses, \n",
    "        labels, \n",
    "        f\"Average impact of diagnoses on classification of cluster labels\",\n",
    "        \"plots/syndromic_surveillance/clustering_evaluation/shap_values_diagnosis_based_classifier\"\n",
    "    )\n",
    "})"
   ]
  },
  {
   "attachments": {},
   "cell_type": "markdown",
   "metadata": {},
   "source": [
    "### Missingness based classifier"
   ]
  },
  {
   "cell_type": "code",
   "execution_count": 26,
   "metadata": {},
   "outputs": [
    {
     "name": "stdout",
     "output_type": "stream",
     "text": [
      "CV F1 score of classifier is 0.8910630980354215\n"
     ]
    },
    {
     "data": {
      "image/png": "[encoded data removed]",
      "text/plain": [
       "<Figure size 1500x1000 with 1 Axes>"
      ]
     },
     "metadata": {},
     "output_type": "display_data"
    }
   ],
   "source": [
    "accuracy_scores.append({\n",
    "    \"classifier\": \"Missingness based classifier\",\n",
    "    \"accuracy\": evaluate_with_lgbm_classifier(\n",
    "        features.isna()*1, \n",
    "        labels, \n",
    "        f\"Average impact of features' missingness on classification of cluster labels\",\n",
    "        \"plots/syndromic_surveillance/clustering_evaluation/shap_values_missingness_based_classifier\"\n",
    "    )\n",
    "})"
   ]
  },
  {
   "attachments": {},
   "cell_type": "markdown",
   "metadata": {},
   "source": [
    "### Summary classifiers"
   ]
  },
  {
   "cell_type": "code",
   "execution_count": 27,
   "metadata": {},
   "outputs": [
    {
     "data": {
      "application/vnd.plotly.v1+json": {
       "config": {
        "plotlyServerURL": "https://plot.ly"
       },
       "data": [
        {
         "alignmentgroup": "True",
         "hovertemplate": "Classifier=%{x}<br>Cross-validated F1 score=%{text}<extra></extra>",
         "legendgroup": "",
         "marker": {
          "color": "#636efa",
          "pattern": {
           "shape": ""
          }
         },
         "name": "",
         "offsetgroup": "",
         "orientation": "v",
         "showlegend": false,
         "text": [
          0.9984,
          0.8455,
          0.8911
         ],
         "textposition": "auto",
         "type": "bar",
         "x": [
          "Feature based classifier",
          "Diagnosis based classifier",
          "Missingness based classifier"
         ],
         "xaxis": "x",
         "y": [
          0.9984,
          0.8455,
          0.8911
         ],
         "yaxis": "y"
        }
       ],
       "layout": {
        "barmode": "relative",
        "legend": {
         "tracegroupgap": 0
        },
        "template": {
         "data": {
          "bar": [
           {
            "error_x": {
             "color": "#2a3f5f"
            },
            "error_y": {
             "color": "#2a3f5f"
            },
            "marker": {
             "line": {
              "color": "#E5ECF6",
              "width": 0.5
             },
             "pattern": {
              "fillmode": "overlay",
              "size": 10,
              "solidity": 0.2
             }
            },
            "type": "bar"
           }
          ],
          "barpolar": [
           {
            "marker": {
             "line": {
              "color": "#E5ECF6",
              "width": 0.5
             },
             "pattern": {
              "fillmode": "overlay",
              "size": 10,
              "solidity": 0.2
             }
            },
            "type": "barpolar"
           }
          ],
          "carpet": [
           {
            "aaxis": {
             "endlinecolor": "#2a3f5f",
             "gridcolor": "white",
             "linecolor": "white",
             "minorgridcolor": "white",
             "startlinecolor": "#2a3f5f"
            },
            "baxis": {
             "endlinecolor": "#2a3f5f",
             "gridcolor": "white",
             "linecolor": "white",
             "minorgridcolor": "white",
             "startlinecolor": "#2a3f5f"
            },
            "type": "carpet"
           }
          ],
          "choropleth": [
           {
            "colorbar": {
             "outlinewidth": 0,
             "ticks": ""
            },
            "type": "choropleth"
           }
          ],
          "contour": [
           {
            "colorbar": {
             "outlinewidth": 0,
             "ticks": ""
            },
            "colorscale": [
             [
              0,
              "#0d0887"
             ],
             [
              0.1111111111111111,
              "#46039f"
             ],
             [
              0.2222222222222222,
              "#7201a8"
             ],
             [
              0.3333333333333333,
              "#9c179e"
             ],
             [
              0.4444444444444444,
              "#bd3786"
             ],
             [
              0.5555555555555556,
              "#d8576b"
             ],
             [
              0.6666666666666666,
              "#ed7953"
             ],
             [
              0.7777777777777778,
              "#fb9f3a"
             ],
             [
              0.8888888888888888,
              "#fdca26"
             ],
             [
              1,
              "#f0f921"
             ]
            ],
            "type": "contour"
           }
          ],
          "contourcarpet": [
           {
            "colorbar": {
             "outlinewidth": 0,
             "ticks": ""
            },
            "type": "contourcarpet"
           }
          ],
          "heatmap": [
           {
            "colorbar": {
             "outlinewidth": 0,
             "ticks": ""
            },
            "colorscale": [
             [
              0,
              "#0d0887"
             ],
             [
              0.1111111111111111,
              "#46039f"
             ],
             [
              0.2222222222222222,
              "#7201a8"
             ],
             [
              0.3333333333333333,
              "#9c179e"
             ],
             [
              0.4444444444444444,
              "#bd3786"
             ],
             [
              0.5555555555555556,
              "#d8576b"
             ],
             [
              0.6666666666666666,
              "#ed7953"
             ],
             [
              0.7777777777777778,
              "#fb9f3a"
             ],
             [
              0.8888888888888888,
              "#fdca26"
             ],
             [
              1,
              "#f0f921"
             ]
            ],
            "type": "heatmap"
           }
          ],
          "heatmapgl": [
           {
            "colorbar": {
             "outlinewidth": 0,
             "ticks": ""
            },
            "colorscale": [
             [
              0,
              "#0d0887"
             ],
             [
              0.1111111111111111,
              "#46039f"
             ],
             [
              0.2222222222222222,
              "#7201a8"
             ],
             [
              0.3333333333333333,
              "#9c179e"
             ],
             [
              0.4444444444444444,
              "#bd3786"
             ],
             [
              0.5555555555555556,
              "#d8576b"
             ],
             [
              0.6666666666666666,
              "#ed7953"
             ],
             [
              0.7777777777777778,
              "#fb9f3a"
             ],
             [
              0.8888888888888888,
              "#fdca26"
             ],
             [
              1,
              "#f0f921"
             ]
            ],
            "type": "heatmapgl"
           }
          ],
          "histogram": [
           {
            "marker": {
             "pattern": {
              "fillmode": "overlay",
              "size": 10,
              "solidity": 0.2
             }
            },
            "type": "histogram"
           }
          ],
          "histogram2d": [
           {
            "colorbar": {
             "outlinewidth": 0,
             "ticks": ""
            },
            "colorscale": [
             [
              0,
              "#0d0887"
             ],
             [
              0.1111111111111111,
              "#46039f"
             ],
             [
              0.2222222222222222,
              "#7201a8"
             ],
             [
              0.3333333333333333,
              "#9c179e"
             ],
             [
              0.4444444444444444,
              "#bd3786"
             ],
             [
              0.5555555555555556,
              "#d8576b"
             ],
             [
              0.6666666666666666,
              "#ed7953"
             ],
             [
              0.7777777777777778,
              "#fb9f3a"
             ],
             [
              0.8888888888888888,
              "#fdca26"
             ],
             [
              1,
              "#f0f921"
             ]
            ],
            "type": "histogram2d"
           }
          ],
          "histogram2dcontour": [
           {
            "colorbar": {
             "outlinewidth": 0,
             "ticks": ""
            },
            "colorscale": [
             [
              0,
              "#0d0887"
             ],
             [
              0.1111111111111111,
              "#46039f"
             ],
             [
              0.2222222222222222,
              "#7201a8"
             ],
             [
              0.3333333333333333,
              "#9c179e"
             ],
             [
              0.4444444444444444,
              "#bd3786"
             ],
             [
              0.5555555555555556,
              "#d8576b"
             ],
             [
              0.6666666666666666,
              "#ed7953"
             ],
             [
              0.7777777777777778,
              "#fb9f3a"
             ],
             [
              0.8888888888888888,
              "#fdca26"
             ],
             [
              1,
              "#f0f921"
             ]
            ],
            "type": "histogram2dcontour"
           }
          ],
          "mesh3d": [
           {
            "colorbar": {
             "outlinewidth": 0,
             "ticks": ""
            },
            "type": "mesh3d"
           }
          ],
          "parcoords": [
           {
            "line": {
             "colorbar": {
              "outlinewidth": 0,
              "ticks": ""
             }
            },
            "type": "parcoords"
           }
          ],
          "pie": [
           {
            "automargin": true,
            "type": "pie"
           }
          ],
          "scatter": [
           {
            "fillpattern": {
             "fillmode": "overlay",
             "size": 10,
             "solidity": 0.2
            },
            "type": "scatter"
           }
          ],
          "scatter3d": [
           {
            "line": {
             "colorbar": {
              "outlinewidth": 0,
              "ticks": ""
             }
            },
            "marker": {
             "colorbar": {
              "outlinewidth": 0,
              "ticks": ""
             }
            },
            "type": "scatter3d"
           }
          ],
          "scattercarpet": [
           {
            "marker": {
             "colorbar": {
              "outlinewidth": 0,
              "ticks": ""
             }
            },
            "type": "scattercarpet"
           }
          ],
          "scattergeo": [
           {
            "marker": {
             "colorbar": {
              "outlinewidth": 0,
              "ticks": ""
             }
            },
            "type": "scattergeo"
           }
          ],
          "scattergl": [
           {
            "marker": {
             "colorbar": {
              "outlinewidth": 0,
              "ticks": ""
             }
            },
            "type": "scattergl"
           }
          ],
          "scattermapbox": [
           {
            "marker": {
             "colorbar": {
              "outlinewidth": 0,
              "ticks": ""
             }
            },
            "type": "scattermapbox"
           }
          ],
          "scatterpolar": [
           {
            "marker": {
             "colorbar": {
              "outlinewidth": 0,
              "ticks": ""
             }
            },
            "type": "scatterpolar"
           }
          ],
          "scatterpolargl": [
           {
            "marker": {
             "colorbar": {
              "outlinewidth": 0,
              "ticks": ""
             }
            },
            "type": "scatterpolargl"
           }
          ],
          "scatterternary": [
           {
            "marker": {
             "colorbar": {
              "outlinewidth": 0,
              "ticks": ""
             }
            },
            "type": "scatterternary"
           }
          ],
          "surface": [
           {
            "colorbar": {
             "outlinewidth": 0,
             "ticks": ""
            },
            "colorscale": [
             [
              0,
              "#0d0887"
             ],
             [
              0.1111111111111111,
              "#46039f"
             ],
             [
              0.2222222222222222,
              "#7201a8"
             ],
             [
              0.3333333333333333,
              "#9c179e"
             ],
             [
              0.4444444444444444,
              "#bd3786"
             ],
             [
              0.5555555555555556,
              "#d8576b"
             ],
             [
              0.6666666666666666,
              "#ed7953"
             ],
             [
              0.7777777777777778,
              "#fb9f3a"
             ],
             [
              0.8888888888888888,
              "#fdca26"
             ],
             [
              1,
              "#f0f921"
             ]
            ],
            "type": "surface"
           }
          ],
          "table": [
           {
            "cells": {
             "fill": {
              "color": "#EBF0F8"
             },
             "line": {
              "color": "white"
             }
            },
            "header": {
             "fill": {
              "color": "#C8D4E3"
             },
             "line": {
              "color": "white"
             }
            },
            "type": "table"
           }
          ]
         },
         "layout": {
          "annotationdefaults": {
           "arrowcolor": "#2a3f5f",
           "arrowhead": 0,
           "arrowwidth": 1
          },
          "autotypenumbers": "strict",
          "coloraxis": {
           "colorbar": {
            "outlinewidth": 0,
            "ticks": ""
           }
          },
          "colorscale": {
           "diverging": [
            [
             0,
             "#8e0152"
            ],
            [
             0.1,
             "#c51b7d"
            ],
            [
             0.2,
             "#de77ae"
            ],
            [
             0.3,
             "#f1b6da"
            ],
            [
             0.4,
             "#fde0ef"
            ],
            [
             0.5,
             "#f7f7f7"
            ],
            [
             0.6,
             "#e6f5d0"
            ],
            [
             0.7,
             "#b8e186"
            ],
            [
             0.8,
             "#7fbc41"
            ],
            [
             0.9,
             "#4d9221"
            ],
            [
             1,
             "#276419"
            ]
           ],
           "sequential": [
            [
             0,
             "#0d0887"
            ],
            [
             0.1111111111111111,
             "#46039f"
            ],
            [
             0.2222222222222222,
             "#7201a8"
            ],
            [
             0.3333333333333333,
             "#9c179e"
            ],
            [
             0.4444444444444444,
             "#bd3786"
            ],
            [
             0.5555555555555556,
             "#d8576b"
            ],
            [
             0.6666666666666666,
             "#ed7953"
            ],
            [
             0.7777777777777778,
             "#fb9f3a"
            ],
            [
             0.8888888888888888,
             "#fdca26"
            ],
            [
             1,
             "#f0f921"
            ]
           ],
           "sequentialminus": [
            [
             0,
             "#0d0887"
            ],
            [
             0.1111111111111111,
             "#46039f"
            ],
            [
             0.2222222222222222,
             "#7201a8"
            ],
            [
             0.3333333333333333,
             "#9c179e"
            ],
            [
             0.4444444444444444,
             "#bd3786"
            ],
            [
             0.5555555555555556,
             "#d8576b"
            ],
            [
             0.6666666666666666,
             "#ed7953"
            ],
            [
             0.7777777777777778,
             "#fb9f3a"
            ],
            [
             0.8888888888888888,
             "#fdca26"
            ],
            [
             1,
             "#f0f921"
            ]
           ]
          },
          "colorway": [
           "#636efa",
           "#EF553B",
           "#00cc96",
           "#ab63fa",
           "#FFA15A",
           "#19d3f3",
           "#FF6692",
           "#B6E880",
           "#FF97FF",
           "#FECB52"
          ],
          "font": {
           "color": "#2a3f5f"
          },
          "geo": {
           "bgcolor": "white",
           "lakecolor": "white",
           "landcolor": "#E5ECF6",
           "showlakes": true,
           "showland": true,
           "subunitcolor": "white"
          },
          "hoverlabel": {
           "align": "left"
          },
          "hovermode": "closest",
          "mapbox": {
           "style": "light"
          },
          "paper_bgcolor": "white",
          "plot_bgcolor": "#E5ECF6",
          "polar": {
           "angularaxis": {
            "gridcolor": "white",
            "linecolor": "white",
            "ticks": ""
           },
           "bgcolor": "#E5ECF6",
           "radialaxis": {
            "gridcolor": "white",
            "linecolor": "white",
            "ticks": ""
           }
          },
          "scene": {
           "xaxis": {
            "backgroundcolor": "#E5ECF6",
            "gridcolor": "white",
            "gridwidth": 2,
            "linecolor": "white",
            "showbackground": true,
            "ticks": "",
            "zerolinecolor": "white"
           },
           "yaxis": {
            "backgroundcolor": "#E5ECF6",
            "gridcolor": "white",
            "gridwidth": 2,
            "linecolor": "white",
            "showbackground": true,
            "ticks": "",
            "zerolinecolor": "white"
           },
           "zaxis": {
            "backgroundcolor": "#E5ECF6",
            "gridcolor": "white",
            "gridwidth": 2,
            "linecolor": "white",
            "showbackground": true,
            "ticks": "",
            "zerolinecolor": "white"
           }
          },
          "shapedefaults": {
           "line": {
            "color": "#2a3f5f"
           }
          },
          "ternary": {
           "aaxis": {
            "gridcolor": "white",
            "linecolor": "white",
            "ticks": ""
           },
           "baxis": {
            "gridcolor": "white",
            "linecolor": "white",
            "ticks": ""
           },
           "bgcolor": "#E5ECF6",
           "caxis": {
            "gridcolor": "white",
            "linecolor": "white",
            "ticks": ""
           }
          },
          "title": {
           "x": 0.05
          },
          "xaxis": {
           "automargin": true,
           "gridcolor": "white",
           "linecolor": "white",
           "ticks": "",
           "title": {
            "standoff": 15
           },
           "zerolinecolor": "white",
           "zerolinewidth": 2
          },
          "yaxis": {
           "automargin": true,
           "gridcolor": "white",
           "linecolor": "white",
           "ticks": "",
           "title": {
            "standoff": 15
           },
           "zerolinecolor": "white",
           "zerolinewidth": 2
          }
         }
        },
        "title": {
         "text": "Overview: accuracy of classifiers for clustering label"
        },
        "xaxis": {
         "anchor": "y",
         "domain": [
          0,
          1
         ],
         "title": {
          "text": "Classifier"
         }
        },
        "yaxis": {
         "anchor": "x",
         "domain": [
          0,
          1
         ],
         "range": [
          0,
          1
         ],
         "title": {
          "text": "Cross-validated F1 score"
         }
        }
       }
      }
     },
     "metadata": {},
     "output_type": "display_data"
    }
   ],
   "source": [
    "summary_classifiers = pd.DataFrame(accuracy_scores)\n",
    "summary_classifiers[\"accuracy\"] = np.round(summary_classifiers[\"accuracy\"], 4)\n",
    "fig_summary_classifiers_accuracy = px.bar(summary_classifiers, \n",
    "    x=\"classifier\", \n",
    "    y=\"accuracy\", \n",
    "    text=\"accuracy\",\n",
    "    title=\"Overview: accuracy of classifiers for clustering label\",\n",
    "    labels={\"accuracy\": \"Cross-validated F1 score\", \"classifier\" : \"Classifier\"}\n",
    ")\n",
    "fig_summary_classifiers_accuracy.update_layout(yaxis_range=[0, 1])\n",
    "fig_summary_classifiers_accuracy.write_image(\"plots/syndromic_surveillance/clustering_evaluation/summary_classifiers_accuracy.png\")\n",
    "fig_summary_classifiers_accuracy.show()"
   ]
  }
 ],
 "metadata": {
  "kernelspec": {
   "display_name": "Python 3",
   "language": "python",
   "name": "python3"
  },
  "language_info": {
   "codemirror_mode": {
    "name": "ipython",
    "version": 3
   },
   "file_extension": ".py",
   "mimetype": "text/x-python",
   "name": "python",
   "nbconvert_exporter": "python",
   "pygments_lexer": "ipython3",
   "version": "3.10.5"
  },
  "orig_nbformat": 4
 },
 "nbformat": 4,
 "nbformat_minor": 2
}
