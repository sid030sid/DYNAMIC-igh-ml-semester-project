{
 "cells": [
  {
   "attachments": {},
   "cell_type": "markdown",
   "metadata": {},
   "source": [
    "# Evaluation of clustering"
   ]
  },
  {
   "cell_type": "code",
   "execution_count": null,
   "metadata": {},
   "outputs": [],
   "source": [
    "import pandas as pd\n",
    "import numpy as np\n",
    "import matplotlib.pyplot as plt\n",
    "import plotly.express as px\n",
    "import seaborn as sb\n",
    "import os"
   ]
  },
  {
   "attachments": {},
   "cell_type": "markdown",
   "metadata": {},
   "source": [
    "# Import\n",
    "- features\n",
    "- diagnoses\n",
    "- featurs of consultation with at least one of the top 10 diagnoses\n",
    "- features after dimensionality reduction\n",
    "- results of all clustering approaches"
   ]
  },
  {
   "cell_type": "code",
   "execution_count": null,
   "metadata": {},
   "outputs": [],
   "source": [
    "# import features\n",
    "features = pd.read_pickle(\"data/rwanda/features.pickle\")\n",
    "\n",
    "# import diagnoses\n",
    "diagnoses = pd.read_pickle(\"data/rwanda/diagnoses.pickle\")\n",
    "\n",
    "# import features in 2D after dimensionality reduction\n",
    "features_after_dimensionality_reduction = pd.read_pickle(\"data/rwanda/features_after_dimensionality_reduction.pickle\")\n",
    "\n",
    "# import features of consultations with at least one top 10 diagnosis\n",
    "features_consultations_with_at_least_one_top_10_diagnosis = pd.read_pickle(\"data/rwanda/features_consultations_with_at_least_one_top_10_diagnosis\")\n",
    "\n",
    "# import diagnoses of consultations with at least one top 10 diagnosis\n",
    "diagnoses_consultations_with_at_least_one_top_10_diagnosis = pd.read_pickle(\"data/rwanda/diagnoses_consultations_with_at_least_one_top_10_diagnosis\")\n",
    "\n",
    "# import clustering results\n",
    "clustering_result_files = os.listdir(\"data/rwanda/clustering_results\")\n",
    "\n",
    "clustering_results = []\n",
    "for file in clustering_result_files:\n",
    "    clustering_results.append({\"method\":file.replace(\".pickle\", \"\").replace(\"k_\", \"K-\").replace(\"_\", \" \"),\"result\":pd.read_pickle(\"data/rwanda/clustering_results/\"+file)})"
   ]
  },
  {
   "attachments": {},
   "cell_type": "markdown",
   "metadata": {},
   "source": [
    "# Basic comparison clustering results"
   ]
  },
  {
   "cell_type": "code",
   "execution_count": null,
   "metadata": {},
   "outputs": [],
   "source": [
    "for clustering in clustering_results:\n",
    "    # number of consultations per cluster\n",
    "    fig = px.bar(\n",
    "        clustering[\"result\"].groupby(\"cluster\").size().reset_index(name=\"number_consultations\"),\n",
    "        x=\"cluster\",\n",
    "        y=\"number_consultations\",\n",
    "        labels={\n",
    "            \"cluster\":\"Cluster\",\n",
    "            \"number_consultations\":\"Number consultations\",\n",
    "        },\n",
    "        title=f\"Number of consultations per cluster <br><sup>for clustering approach: '{clustering['method']}'</sup>\"\n",
    "    )\n",
    "    fig.show()"
   ]
  },
  {
   "cell_type": "code",
   "execution_count": null,
   "metadata": {},
   "outputs": [],
   "source": [
    "# which consultations switched their clusters"
   ]
  },
  {
   "cell_type": "code",
   "execution_count": null,
   "metadata": {},
   "outputs": [],
   "source": [
    "# comparison silhouette score\n",
    "from sklearn.metrics import silhouette_score\n",
    "\n",
    "methods = []\n",
    "silhouette_score_results = []\n",
    "for clustering in clustering_results:\n",
    "     data = clustering[\"result\"]\n",
    "     methods.append(clustering[\"method\"])\n",
    "     try:\n",
    "          score = silhouette_score(data.drop([\"cluster\"], axis=1), data[\"cluster\"], metric='euclidean') \n",
    "          silhouette_score_results.append(score)\n",
    "     except:\n",
    "          silhouette_score_results.append(np.nan)\n",
    "\n",
    "silhouette_score_per_clustering_method = pd.DataFrame({\"Clustering approach\": methods, \"Silhouette score\": silhouette_score_results})\n",
    "silhouette_score_per_clustering_method[\" \"] = \"\"\n",
    "fig_silhouette_scores = px.bar(\n",
    "     silhouette_score_per_clustering_method, \n",
    "     x=\" \", \n",
    "     y=\"Silhouette score\", \n",
    "     title=\"Silhouette score of clustering approaches\",\n",
    "     color=\"Clustering approach\",\n",
    "     barmode=\"group\"\n",
    ")\n",
    "\"\"\"new_labels = {}\n",
    "for approach in silhouette_score_per_clustering_method[\"Clustering approach\"]:\n",
    "     new_labels[approach] = \" \"\n",
    "fig_silhouette_scores.update_xaxes(labelalias=new_labels)\"\"\"\n",
    "fig_silhouette_scores.show()"
   ]
  },
  {
   "attachments": {},
   "cell_type": "markdown",
   "metadata": {},
   "source": [
    "# Visualisation after dimensionality reduction "
   ]
  },
  {
   "cell_type": "code",
   "execution_count": null,
   "metadata": {},
   "outputs": [],
   "source": [
    "\"\"\"\"dim_reduced_features_with_labels = dim_reduced_features.merge(consultations_with_top10_diagnoses[top10_diagnoses[\"diagnosis\"]].reset_index(), how=\"left\", left_index=True, right_index=True)\n",
    "dim_reduced_features_with_labels = pd.melt(dim_reduced_features_with_labels,  id_vars=[\"Dimension 1\",\"Dimension 2\"], value_vars=top10_diagnoses[\"diagnosis\"], var_name=\"Diagnosis\", value_name=\"Given\")\n",
    "dim_reduced_features_with_labels = dim_reduced_features_with_labels[dim_reduced_features_with_labels[\"Given\"] == 1]\"\"\"\""
   ]
  },
  {
   "cell_type": "code",
   "execution_count": null,
   "metadata": {},
   "outputs": [],
   "source": [
    "diagnoses_consultations_with_at_least_one_top_10_diagnosis.shape"
   ]
  },
  {
   "cell_type": "code",
   "execution_count": null,
   "metadata": {},
   "outputs": [],
   "source": [
    "diagnoses_consultations_with_at_least_one_top_10_diagnosis.index.nunique()"
   ]
  },
  {
   "cell_type": "code",
   "execution_count": null,
   "metadata": {},
   "outputs": [],
   "source": [
    "features_after_dimensionality_reduction.merge(diagnoses_consultations_with_at_least_one_top_10_diagnosis, how=\"left\", left_index=True, right_index=True).fillna(\"Not clustered\")"
   ]
  },
  {
   "cell_type": "code",
   "execution_count": null,
   "metadata": {},
   "outputs": [],
   "source": [
    "diagnoses_consultations_with_at_least_one_top_10_diagnosis"
   ]
  },
  {
   "cell_type": "code",
   "execution_count": null,
   "metadata": {},
   "outputs": [],
   "source": [
    "features_consultations_with_at_least_one_top_10_diagnosis"
   ]
  },
  {
   "cell_type": "code",
   "execution_count": null,
   "metadata": {},
   "outputs": [],
   "source": [
    "features_after_dimensionality_reduction"
   ]
  },
  {
   "cell_type": "code",
   "execution_count": null,
   "metadata": {},
   "outputs": [],
   "source": [
    "for clustering in clustering_results:\n",
    "    data = features_after_dimensionality_reduction \n",
    "    data[\"Cluster\"] = clustering[\"result\"]\n",
    "    fig = px.scatter(\n",
    "        data, \n",
    "        x=\"Dimension 1\", \n",
    "        y=\"Dimension 2\", \n",
    "        color=\"Cluster\", \n",
    "        title=f\"Clustering result after UMAP dimensionality reduction <br><sup>for clustering approach:'{clustering['method']}'</sup>\"\n",
    "    )\n",
    "    fig.show()"
   ]
  },
  {
   "attachments": {},
   "cell_type": "markdown",
   "metadata": {},
   "source": [
    "# Descriptive statistics\n",
    "- feature distribution per cluster --> which feature decides the clustering result?\n",
    "- diagnoses distribution per cluster --> which cluster corresponds to which diagnosis?"
   ]
  },
  {
   "cell_type": "code",
   "execution_count": null,
   "metadata": {},
   "outputs": [],
   "source": []
  },
  {
   "attachments": {},
   "cell_type": "markdown",
   "metadata": {},
   "source": [
    "# Supervised learning"
   ]
  },
  {
   "cell_type": "code",
   "execution_count": null,
   "metadata": {},
   "outputs": [],
   "source": [
    "# function for building classifier\n",
    "\n",
    "# function for computing and visualising feature importance through shap"
   ]
  },
  {
   "attachments": {},
   "cell_type": "markdown",
   "metadata": {},
   "source": [
    "## Feature based classifier for cluster labels\n",
    "- Accuracy throucg cv f1 score --> how well did the cluster approach cluster?\n",
    "- feature importance through SHAP value analysis --> how many and which features determine which cluster?"
   ]
  },
  {
   "attachments": {},
   "cell_type": "markdown",
   "metadata": {},
   "source": [
    "## Diagnosis based classifier for cluster labels\n",
    "- Accuracy through cv f1 score --> how well do diagnoses explain clustering?\n",
    "- feature importance through SHAP value analysis --> how many and which diagnoses determine which cluster?"
   ]
  },
  {
   "attachments": {},
   "cell_type": "markdown",
   "metadata": {},
   "source": [
    "## Missingness based classifier for cluster labels\n",
    "- Accuracy throuch cv f1 score --> how well does missingness of features explain clustering?\n",
    "- feature importance through SHAP value analysis --> how many and which features' missingness determine which cluster?"
   ]
  }
 ],
 "metadata": {
  "kernelspec": {
   "display_name": "Python 3",
   "language": "python",
   "name": "python3"
  },
  "language_info": {
   "codemirror_mode": {
    "name": "ipython",
    "version": 3
   },
   "file_extension": ".py",
   "mimetype": "text/x-python",
   "name": "python",
   "nbconvert_exporter": "python",
   "pygments_lexer": "ipython3",
   "version": "3.10.5"
  },
  "orig_nbformat": 4
 },
 "nbformat": 4,
 "nbformat_minor": 2
}
