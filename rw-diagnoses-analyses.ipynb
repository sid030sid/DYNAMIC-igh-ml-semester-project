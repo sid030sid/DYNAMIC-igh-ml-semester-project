{
 "cells": [
  {
   "attachments": {},
   "cell_type": "markdown",
   "metadata": {},
   "source": [
    "# Diagnoses analyses\n",
    "Diagnoses are the leafs of the decision tree underlying DYNAMCic's CDSS. This analysis' aim is twofold:\n",
    "1. examine if diagnoses are missing in the decision tree?\n",
    "2. examine if patients are correctly diagnosed?"
   ]
  },
  {
   "cell_type": "code",
   "execution_count": 1,
   "metadata": {},
   "outputs": [],
   "source": [
    "import pandas as pd\n",
    "import numpy as np\n",
    "import matplotlib.pyplot as plt\n",
    "import plotly.express as px\n",
    "import seaborn as sb"
   ]
  },
  {
   "attachments": {},
   "cell_type": "markdown",
   "metadata": {},
   "source": [
    "# import and preprocess symptoms and diagnoss"
   ]
  },
  {
   "attachments": {},
   "cell_type": "markdown",
   "metadata": {},
   "source": [
    "## get symptoms"
   ]
  },
  {
   "cell_type": "code",
   "execution_count": 2,
   "metadata": {},
   "outputs": [],
   "source": [
    "# import cleaned and prepared data of consultations in RW\n",
    "rw_data = pd.read_pickle(\"data/rw-cleaned-prepared-dynamic-data-phase1.pickle\")"
   ]
  },
  {
   "cell_type": "code",
   "execution_count": 3,
   "metadata": {},
   "outputs": [
    {
     "name": "stdout",
     "output_type": "stream",
     "text": [
      "Adding the following 12 symptoms to symptoms_of_interest:\n",
      " ['DF130 - fever without source: presumed bacterial infection - 30851', 'DF - fever without source: presumed bacterial infection - 26194', 'DF130 - fever without source: presumed bacterial infection - 8480', 'DF130 - fever without source: presumed bacterial infection - 30602', 'DF129 - fever without source: presumed viral illness - 30853', 'DF - fever without source: presumed viral illness - 26192', 'DF129 - fever without source: presumed viral illness - 8481', 'DF129 - fever without source: presumed viral illness - 30604', 'DF9 - suspicion of tuberculosis - 30886', 'DF - suspicion of tuberculosis - 26232', 'DF9 - suspicion of tuberculosis - 8539', 'DF9 - suspicion of tuberculosis - 30643']\n"
     ]
    }
   ],
   "source": [
    "# faturs\n",
    "demographic_columns = [\n",
    "    #\"patient_id\",\n",
    "    \"patient_age\",\n",
    "    \"patient_gender\"\n",
    "]\n",
    "\n",
    "# selected based on domain experts\n",
    "symptoms_of_interest = [\"PE212 - Respiratory rate (breaths/min) - 8469\",\n",
    "    \"S39 - Cough - 7817\", \n",
    "    \"PE18 - Chest indrawing - 7811\",\n",
    "    \"S180 - How is the infant feeding currently? - 7516\",\n",
    "    \"S46 - Convulsions in present illness - 8355\",\n",
    "    \"BC - Axillary temperature - 7823 categorical\",\n",
    "    \"PE125 - Observation of movement - 8388\",\n",
    "    \"S96 - Unable to drink or breastfeed - 7871\",\n",
    "    \"S157 - Vomiting everything - 8026\",\n",
    "    \"OS9 - Unconscious or Lethargic (Unusually sleepy) - 7378\",\n",
    "    \"PE63 - Stiff neck - 8391\",\n",
    "    \"PE19 - Stridor in calm child - 7812\",\n",
    "    \"S42 - Duration of fever (days) - 7819 categorical\",\n",
    "    \"S124 - Significant weight loss - 7539\",\n",
    "    \"S118 - Significant hemoptysis (>1 episode) - 7941\",\n",
    "    \"S176 - Cough duration (days) - 7731 categorical\",\n",
    "    \"E46 - Recent close contact with somebody with TB - 7820\",\n",
    "    \"PE220 - Identifiable source of fever? - 8399\",\n",
    "    \"A55 - Urinary dipstick - 7648\",\n",
    "    \"PE134 - Measles rash and associated signs - 8386\",\n",
    "    \"PE109 - Scarlet fever rash - 8344\",\n",
    "    \"PE106 - Non specific viral rash - 7930\",\n",
    "    \"PE218 - Unexplained bleeding - 8107\",\n",
    "    \"S153 - Diarrhea (stools are looser or more watery than normal) - 7649\",\n",
    "    \"S98 - Number of loose or liquid stools over the past 24 hours - 7882 categorical\",\n",
    "    \"S149 - Yellow appearing skin or eyes (jaundice) - 7630\",\n",
    "    \"PE191 - Jaundice - 8036\",\n",
    "    \"S74 - Abnormal vaginal discharge - 8377\",\n",
    "    \"S81 - Urethral discharge - 7810\",\n",
    "    \"S79 - Genital lesion - 7867\",\n",
    "    \"BC7 - Weight for age (z-score) - 8434 categorical\",\n",
    "    \"BC95 - Weight for height - 7451 categorical\",\n",
    "    \"BC61 - MUAC for age z-score - 7839 categorical\"#formr: \"BC - MUAC in cm - 7833 categorical\"\n",
    "]\n",
    "\n",
    "# add symptoms which appear in several columns because they are actually diagnoses\n",
    "symptoms_to_find = [\"fever without source: presumed bacterial infection\", \"fever without source: presumed viral illness\", \"suspicion of tuberculosis\"]\n",
    "symptoms_to_add = [s for symp in symptoms_to_find for s in rw_data.columns if symp in s]\n",
    "print(\"Adding the following\", len(symptoms_to_add), \"symptoms to symptoms_of_interest:\\n\", symptoms_to_add)\n",
    "symptoms_of_interest = symptoms_of_interest + symptoms_to_add"
   ]
  },
  {
   "cell_type": "code",
   "execution_count": 4,
   "metadata": {},
   "outputs": [
    {
     "name": "stderr",
     "output_type": "stream",
     "text": [
      "C:\\Users\\sidla\\AppData\\Local\\Temp\\ipykernel_21984\\379360076.py:5: SettingWithCopyWarning: \n",
      "A value is trying to be set on a copy of a slice from a DataFrame.\n",
      "Try using .loc[row_indexer,col_indexer] = value instead\n",
      "\n",
      "See the caveats in the documentation: https://pandas.pydata.org/pandas-docs/stable/user_guide/indexing.html#returning-a-view-versus-a-copy\n",
      "  data[\"malaria\"] = rw_data[\"A50 - Microscopy for malarial parasites - 7837 categorical\"]#[e if e == np.nan else rw_data[\"A51 - Malaria rapid diagnostic test - 7838 categorical\"][i] for i, e in enumerate(rw_data[\"A50 - Microscopy for malarial parasites - 7837 categorical\"])]\n"
     ]
    }
   ],
   "source": [
    "# select features for clustering\n",
    "data = rw_data[np.concatenate((demographic_columns, symptoms_of_interest))]\n",
    "\n",
    "# engineer malaria feature based on instructions of domain experts\n",
    "data[\"malaria\"] = rw_data[\"A50 - Microscopy for malarial parasites - 7837 categorical\"]#[e if e == np.nan else rw_data[\"A51 - Malaria rapid diagnostic test - 7838 categorical\"][i] for i, e in enumerate(rw_data[\"A50 - Microscopy for malarial parasites - 7837 categorical\"])]\n",
    "data.loc[data[\"malaria\"].isna(), \"malaria\"] == rw_data.loc[data[\"malaria\"].isna(), \"A51 - Malaria rapid diagnostic test - 7838 categorical\"]\n",
    "\n",
    "# number of consultation which have no value in \"A50 - Microscopy for malarial parasites - 7837 categorical\" but a value in \"A50 - Microscopy for malarial parasites - 7837 categorical\"\n",
    "sum(rw_data[\"A50 - Microscopy for malarial parasites - 7837 categorical\"].isna() & ~rw_data[\"A50 - Microscopy for malarial parasites - 7837 categorical\"].isna())\n",
    "\n",
    "# engineer diagnoses features: \n",
    "# get features which are diagnosis, merge them and add replace them with merged and final feature\n",
    "list_diagnoses_as_features = [col for col in data.columns if col[0:2] == \"DF\"]\n",
    "diagnoses_data_as_features = data[list_diagnoses_as_features]\n",
    "diagnoses_data_as_features.columns = [col.split(\" - \")[1] for col in diagnoses_data_as_features.columns]\n",
    "diagnoses_data_as_features = diagnoses_data_as_features.groupby(diagnoses_data_as_features.columns, axis=1, dropna=False).sum(min_count=1)\n",
    "\n",
    "data = data[[col for col in data.columns if not (col in list_diagnoses_as_features)]] # remove old diagnoses features\n",
    "\n",
    "# add final and merged diagnoses features\n",
    "for col in diagnoses_data_as_features.columns:\n",
    "    data[col] = diagnoses_data_as_features[col]\n",
    "\n",
    "# normalize NAN values in data\n",
    "data = data.apply(lambda x : x.replace({\n",
    "    \"not_available\": np.nan, \n",
    "    'Test/Assessment is unavailable': np.nan, # for malaria feature\n",
    "    'Unavailable': np.nan\n",
    "    }), \n",
    "    axis=1\n",
    ")\n",
    "\n",
    "# convert to float if possible\n",
    "data = data.astype(float, errors=\"ignore\")"
   ]
  },
  {
   "attachments": {},
   "cell_type": "markdown",
   "metadata": {},
   "source": [
    "## get diagnoses"
   ]
  },
  {
   "cell_type": "code",
   "execution_count": 5,
   "metadata": {},
   "outputs": [
    {
     "name": "stdout",
     "output_type": "stream",
     "text": [
      "number of diagnoses of interest: 1169\n"
     ]
    }
   ],
   "source": [
    "diagnoses_to_consider = [\"Abortion\",\n",
    "   \"Abscess\",\n",
    "   \"Acute diarrhea\",\n",
    "   \"Acute limp or joint pain\",\n",
    "   \"Acute otitis media (ear infection)\",\n",
    "   \"Allergic conjunctivitis\",\n",
    "   \"Anaphylaxis\",\n",
    "   \"Bacterial acute pharyngitis\",\n",
    "   \"Bacterial conjunctivitis\",\n",
    "   \"Bacterial conjunctivitis (< 5 y)\",\n",
    "   \"Bacterial pneumonia\",\n",
    "   \"Balanitis\",\n",
    "   \"Bronchial asthma\",\n",
    "   \"Burn\",\n",
    "   \"Cellulitis\",\n",
    "   \"Chronic ear infection\",\n",
    "   \"Chronic limp or joint pain\",\n",
    "   \"CNS Danger signs\",\n",
    "   \"Common Cold\",\n",
    "   \"Complicated abscess\",\n",
    "   \"Complicated acute ear infection\",\n",
    "   \"Complicated cellulitis\",\n",
    "   \"Complicated chicken pox\",\n",
    "   \"Complicated deep wound\",\n",
    "   \"Complicated impetigo\",\n",
    "   \"Complicated neck mass\",\n",
    "   \"Complicated prolonged fever\",\n",
    "   \"Complicated severe acute malnutrition\",\n",
    "   \"Complicated superficial wound\",\n",
    "   \"Concern for congenital syndrome or malformation\",\n",
    "   \"Confirmed dislocation\",\n",
    "   \"Congenital condition\",\n",
    "   \"Congenital muscular torticollis\",\n",
    "   \"Conjunctivitis\",\n",
    "   \"Constipation\",\n",
    "   \"Contusion\",\n",
    "   \"Convulsions\",\n",
    "   \"Corneal abrasion\",\n",
    "   \"Critical illness\",\n",
    "   \"Dental abscess\",\n",
    "   \"Dental emergency\",\n",
    "   \"Diaper rash\",\n",
    "   \"Diarrhea with no dehydration\",\n",
    "   \"Diarrhea with severe dehydration\",\n",
    "   \"Diarrhea with some dehydration\",\n",
    "   \"Dysentery\",\n",
    "   \"Dysentery (Bloody diarrhea)\",\n",
    "   \"Ear infection (otitis), acute\",\n",
    "   \"Ear infection (otitis), chronic\",\n",
    "   \"Eczema (Atopic dermatitis)\",\n",
    "   \"Emergency / danger signs\",\n",
    "   \"Epilepsy\",\n",
    "   \"Extensive folliculitis\",\n",
    "   \"Eye disease, infectious\",\n",
    "   \"Eye disease, non-infectious\",\n",
    "   \"Febrile urinary tract infection\",\n",
    "   \"Feeding problem\",\n",
    "   \"Feeding problem (Insufficient feeds)\",\n",
    "   \"Feeding problem (lack of exclusive breastfeeding)\",\n",
    "   \"Feeding problem (lactation)\",\n",
    "   \"Fever without source\",\n",
    "   \"Folliculitis\",\n",
    "   \"Follow-up consultation\",\n",
    "   \"Foreign body in ear\",\n",
    "   \"Fracture\",\n",
    "   \"Generalized (extensive) tinea corporis\",\n",
    "   \"Heat rash\",\n",
    "   \"Herpes simplex - Oral lesions (herpes labialis)\",\n",
    "   \"HIV exposed\",\n",
    "   \"Hyperglycemia\",\n",
    "   \"Hypoglycemia\",\n",
    "   \"IMCI Anemia\",\n",
    "   \"IMCI Severe Anemia\",\n",
    "   \"IMCI/IMAI pneumonia\",\n",
    "   \"Improved conjunctivitis\",\n",
    "   \"Influenza\",\n",
    "   \"Inguinal hernia\",\n",
    "   \"Intestinal parasites\",\n",
    "   \"Intestinal parasitic infection: Nematode\",\n",
    "   \"Intestinal parasitic infection: Protozoa\",\n",
    "   \"Local skin infection\",\n",
    "   \"Loss of appetite\",\n",
    "   \"Low weight for age\",\n",
    "   \"Lower urinary tract infection (cystitis)\",\n",
    "   \"Major burn\",\n",
    "   \"Major head injury\",\n",
    "   \"Major trauma\",\n",
    "   \"Malaria\",\n",
    "   \"Mastitis\",\n",
    "   \"Mastoiditis\",\n",
    "   \"Measles\",\n",
    "   \"Meningitis\",\n",
    "   \"Mild croup\",\n",
    "   \"Mild/Moderate anemia\",\n",
    "   \"Minor burn\",\n",
    "   \"Minor head injury\",\n",
    "   \"Moderate head injury\",\n",
    "   \"Moderate malnutrition\",\n",
    "   \"Molluscum contagiosum\",\n",
    "   \"Mumps\",\n",
    "   \"Neonatal conjunctivitis - (includes possible gonococcal / chlamydia infection )\",\n",
    "   \"Neonatal sepsis\",\n",
    "   \"Non-severe abdominal condition\",\n",
    "   \"Non-severe headache\",\n",
    "   \"Non-severe measles\",\n",
    "   \"Non specific viral rash\",\n",
    "   \"Omphalitis\",\n",
    "   \"Omphalitis complicated / severe\",\n",
    "   \"Oral aphthous ulcers\",\n",
    "   \"Oral candidiasis\",\n",
    "   \"Oral thrush\",\n",
    "   \"Orbital cellulitis\",\n",
    "   \"Osteomyelitis / septic arthritis\",\n",
    "   \"Osteomyelitis/septic arthritis\",\n",
    "   \"Oxyuriasis (rectal symptoms/worms in stool)\",\n",
    "   \"Pathologic-prolonged jaundice\",\n",
    "   \"Pathologic-severe jaundice\",\n",
    "   \"Pediculosis (Head lice)\",\n",
    "   \"Pelvic Inflammatory disease\",\n",
    "   \"Persistent diarrhea\",\n",
    "   \"Physical trauma\",\n",
    "   \"Physiologic rash : Erythema toxicum\",\n",
    "   \"Physiologic rash : transient neonatal pustural melanosis\",\n",
    "   \"Physiological jaundice\",\n",
    "   \"Pityriasis versicolor\",\n",
    "   \"Pneumonia\",\n",
    "   \"Pneumonia, non-severe\",\n",
    "   \"Pneumonia, severe\",\n",
    "   \"Preseptal cellulitis\",\n",
    "   \"Primary Syphilis\",\n",
    "   \"Prolonged fever\",\n",
    "   \"Pyelonephritis\",\n",
    "   \"Reactive airway disease\",\n",
    "   \"Respiratory tract infection (viral suspected)\",\n",
    "   \"Road traffic accident\",\n",
    "   \"Scabies\",\n",
    "   \"Scarlet fever\",\n",
    "   \"Severe abdominal condition\",\n",
    "   \"Severe abdominal condition (possible bowel obstruction / hernia / appendicitis)\",\n",
    "   \"Severe abdominal problem\",\n",
    "   \"Severe anemia\",\n",
    "   \"Severe Clinical infection or Severe illness\",\n",
    "   \"Severe Croup\",\n",
    "   \"Severe dehydration\",\n",
    "   \"Severe eye disease\",\n",
    "   \"Severe eye problem\",\n",
    "   \"Severe malaria\",\n",
    "   \"Severe malnutrition\",\n",
    "   \"Severe pneumonia\",\n",
    "   \"Severe skin infection\",\n",
    "   \"Sexually transmitted infection (STI)\",\n",
    "   \"Sickle cell disease\",\n",
    "   \"Significant hemoptysis\",\n",
    "   \"Simple abscess\",\n",
    "   \"Skin Condition, non-infectious\",\n",
    "   \"Skin infection, fungal\",\n",
    "   \"Skin infection, non-fungal\",\n",
    "   \"Some dehydration\",\n",
    "   \"STI Genital discharge syndrome\",\n",
    "   \"Suspected malaria\",\n",
    "   \"Suspected severe malaria\",\n",
    "   \"Suspected testicular torsion\",\n",
    "   \"Suspicion of foreign object in airways\",\n",
    "   \"Suspicion of fracture/dislocation\",\n",
    "   \"Suspicion of meningitis\",\n",
    "   \"Suspicion of poisoning\",\n",
    "   \"Suspicion of tuberculosis\",\n",
    "   \"Tinea capitis\",\n",
    "   \"Tinea corporis\",\n",
    "   \"Tooth pain\",\n",
    "   \"Typhoid Fever\",\n",
    "   \"Uncomplicated acute ear infection\",\n",
    "   \"Uncomplicated cellulitis\",\n",
    "   \"Uncomplicated chicken pox\",\n",
    "   \"Uncomplicated deep wound\",\n",
    "   \"Uncomplicated impetigo\",\n",
    "   \"Uncomplicated infectious lymphadenitis\",\n",
    "   \"Uncomplicated lymphadenopathy\",\n",
    "   \"Uncomplicated Malaria\",\n",
    "   \"Uncomplicated severe acute malnutrition\",\n",
    "   \"Uncomplicated superficial wound\",\n",
    "   \"Uncomplicated suspicion of poisoning\",\n",
    "   \"Uncomplicated vomiting\",\n",
    "   \"Upper respiratory infection\",\n",
    "   \"Urinary tract infection (UTI)\",\n",
    "   \"Urticaria\",\n",
    "   \"Vaginal candidiasis\",\n",
    "   \"Vaginal discharge syndrome (Presumed Gonorrhea/ Chlamydia / Trichomoniasis / Bacterial Vaginosis)\",\n",
    "   \"Very low weight for age\",\n",
    "   \"Very severe febrile disease\",\n",
    "   \"Viral acute pharyngitis\",\n",
    "   \"Viral conjunctivitis\",\n",
    "   \"Viral conjunctivitis (< 5y)\",\n",
    "   \"Viral pneumonia\",\n",
    "   \"Vulvovaginitis\",\n",
    "   \"Wound\"]\n",
    "diagnoses_of_interest = [col for n in diagnoses_to_consider for col in rw_data.columns if (n.lower() in col) & (col[0:2] == \"DF\") & (~(col in symptoms_of_interest))]\n",
    "print(\"number of diagnoses of interest:\", len(diagnoses_of_interest))"
   ]
  },
  {
   "cell_type": "code",
   "execution_count": 6,
   "metadata": {},
   "outputs": [
    {
     "name": "stdout",
     "output_type": "stream",
     "text": [
      "After cleaning and merging columns of the same diagnosis, 169 diagnoses are considered. Before there were 627 diagnoses.\n",
      "Percentage binary diagnoses: 1.0\n"
     ]
    }
   ],
   "source": [
    "# get diagnosed diagnoses\n",
    "raw_rw_diagnoses = rw_data[diagnoses_of_interest]\n",
    "raw_rw_diagnoses = raw_rw_diagnoses.dropna(axis=1, how='all') # drop diagnoses which were not diagnosed once\n",
    "\n",
    "# normalize: Accepted = 1, Rejected = 0, NAN = 0, assume doctor's diagnosis = CDSS's diagnosis (= \"Manually added\": 1)\n",
    "raw_rw_diagnoses = raw_rw_diagnoses.apply(lambda x : x.replace({\"Accepted\": 1, \"Rejected\": 0, \"Manually added\": 1}), axis=1) \n",
    "\n",
    "\n",
    "# merge diagnoses that are separated over several columns \n",
    "# (e. g. DF9 - suspicion of tuberculosis – 30886, DF - suspicion of tuberculosis – 26232 are two columns for the same diagnosis)\n",
    "list_diagnoses = [d.split(\" - \")[1] for d in raw_rw_diagnoses.columns]\n",
    "rw_diagnoses = raw_rw_diagnoses.groupby(list_diagnoses, axis=1, dropna=False).sum(min_count=1) #min_count=1 ensures that sum of only NAN is NAN and that same diagnoses are correctly merged\n",
    "\n",
    "# NAN = Rejected = 0\n",
    "rw_diagnoses = rw_diagnoses.fillna(0)\n",
    "\n",
    "# summarize diagnoses used for further analysis\n",
    "print(\"After cleaning and merging columns of the same diagnosis,\", rw_diagnoses.shape[1], \"diagnoses are considered. Before there were\", raw_rw_diagnoses.shape[1], \"diagnoses.\")\n",
    "\n",
    "# find diagnoses that were merged and summed together so that value is bigger than 1 (and thus not binary anymore)\n",
    "for c in rw_diagnoses.columns:\n",
    "    if(all(val > 1.0 for val in rw_diagnoses[c].unique())):\n",
    "        print(c+\":\", rw_diagnoses[c].unique())\n",
    "        \n",
    "# check if all diagnoses are binary\n",
    "binary_rw_diagnoses = rw_diagnoses.nunique(dropna=True).loc[lambda x : x <= 2].index\n",
    "print(\"Percentage binary diagnoses:\", len(binary_rw_diagnoses)/rw_diagnoses.shape[1])\n",
    "\n",
    "# print non binary diagnosis\n",
    "for non_binary_diagnosis in [c for c in rw_diagnoses.columns if not c in binary_rw_diagnoses]:\n",
    "    print(non_binary_diagnosis+\":\", rw_diagnoses[non_binary_diagnosis].unique())"
   ]
  },
  {
   "attachments": {},
   "cell_type": "markdown",
   "metadata": {},
   "source": [
    "# General analyses of diagnoses"
   ]
  },
  {
   "cell_type": "code",
   "execution_count": 7,
   "metadata": {},
   "outputs": [
    {
     "name": "stdout",
     "output_type": "stream",
     "text": [
      "share of top 10 diagnoses: 0.9003884225034456\n"
     ]
    },
    {
     "data": {
      "application/vnd.plotly.v1+json": {
       "config": {
        "plotlyServerURL": "https://plot.ly"
       },
       "data": [
        {
         "alignmentgroup": "True",
         "hovertemplate": "diagnosis=%{x}<br>number_consultations=%{y}<extra></extra>",
         "legendgroup": "",
         "marker": {
          "color": "#636efa",
          "pattern": {
           "shape": ""
          }
         },
         "name": "",
         "offsetgroup": "",
         "orientation": "v",
         "showlegend": false,
         "textposition": "auto",
         "type": "bar",
         "x": [
          "common cold",
          "non-severe abdominal condition",
          "viral pneumonia",
          "bacterial pneumonia",
          "mild/moderate anemia",
          "acute diarrhea",
          "bacterial conjunctivitis (< 5 y)",
          "non-severe headache",
          "intestinal parasitic infection: protozoa",
          "viral conjunctivitis (< 5y)"
         ],
         "xaxis": "x",
         "y": [
          14038,
          10346,
          4930,
          2764,
          2658,
          2291,
          1887,
          1778,
          1251,
          1173
         ],
         "yaxis": "y"
        }
       ],
       "layout": {
        "barmode": "relative",
        "legend": {
         "tracegroupgap": 0
        },
        "margin": {
         "t": 60
        },
        "template": {
         "data": {
          "bar": [
           {
            "error_x": {
             "color": "#2a3f5f"
            },
            "error_y": {
             "color": "#2a3f5f"
            },
            "marker": {
             "line": {
              "color": "#E5ECF6",
              "width": 0.5
             },
             "pattern": {
              "fillmode": "overlay",
              "size": 10,
              "solidity": 0.2
             }
            },
            "type": "bar"
           }
          ],
          "barpolar": [
           {
            "marker": {
             "line": {
              "color": "#E5ECF6",
              "width": 0.5
             },
             "pattern": {
              "fillmode": "overlay",
              "size": 10,
              "solidity": 0.2
             }
            },
            "type": "barpolar"
           }
          ],
          "carpet": [
           {
            "aaxis": {
             "endlinecolor": "#2a3f5f",
             "gridcolor": "white",
             "linecolor": "white",
             "minorgridcolor": "white",
             "startlinecolor": "#2a3f5f"
            },
            "baxis": {
             "endlinecolor": "#2a3f5f",
             "gridcolor": "white",
             "linecolor": "white",
             "minorgridcolor": "white",
             "startlinecolor": "#2a3f5f"
            },
            "type": "carpet"
           }
          ],
          "choropleth": [
           {
            "colorbar": {
             "outlinewidth": 0,
             "ticks": ""
            },
            "type": "choropleth"
           }
          ],
          "contour": [
           {
            "colorbar": {
             "outlinewidth": 0,
             "ticks": ""
            },
            "colorscale": [
             [
              0,
              "#0d0887"
             ],
             [
              0.1111111111111111,
              "#46039f"
             ],
             [
              0.2222222222222222,
              "#7201a8"
             ],
             [
              0.3333333333333333,
              "#9c179e"
             ],
             [
              0.4444444444444444,
              "#bd3786"
             ],
             [
              0.5555555555555556,
              "#d8576b"
             ],
             [
              0.6666666666666666,
              "#ed7953"
             ],
             [
              0.7777777777777778,
              "#fb9f3a"
             ],
             [
              0.8888888888888888,
              "#fdca26"
             ],
             [
              1,
              "#f0f921"
             ]
            ],
            "type": "contour"
           }
          ],
          "contourcarpet": [
           {
            "colorbar": {
             "outlinewidth": 0,
             "ticks": ""
            },
            "type": "contourcarpet"
           }
          ],
          "heatmap": [
           {
            "colorbar": {
             "outlinewidth": 0,
             "ticks": ""
            },
            "colorscale": [
             [
              0,
              "#0d0887"
             ],
             [
              0.1111111111111111,
              "#46039f"
             ],
             [
              0.2222222222222222,
              "#7201a8"
             ],
             [
              0.3333333333333333,
              "#9c179e"
             ],
             [
              0.4444444444444444,
              "#bd3786"
             ],
             [
              0.5555555555555556,
              "#d8576b"
             ],
             [
              0.6666666666666666,
              "#ed7953"
             ],
             [
              0.7777777777777778,
              "#fb9f3a"
             ],
             [
              0.8888888888888888,
              "#fdca26"
             ],
             [
              1,
              "#f0f921"
             ]
            ],
            "type": "heatmap"
           }
          ],
          "heatmapgl": [
           {
            "colorbar": {
             "outlinewidth": 0,
             "ticks": ""
            },
            "colorscale": [
             [
              0,
              "#0d0887"
             ],
             [
              0.1111111111111111,
              "#46039f"
             ],
             [
              0.2222222222222222,
              "#7201a8"
             ],
             [
              0.3333333333333333,
              "#9c179e"
             ],
             [
              0.4444444444444444,
              "#bd3786"
             ],
             [
              0.5555555555555556,
              "#d8576b"
             ],
             [
              0.6666666666666666,
              "#ed7953"
             ],
             [
              0.7777777777777778,
              "#fb9f3a"
             ],
             [
              0.8888888888888888,
              "#fdca26"
             ],
             [
              1,
              "#f0f921"
             ]
            ],
            "type": "heatmapgl"
           }
          ],
          "histogram": [
           {
            "marker": {
             "pattern": {
              "fillmode": "overlay",
              "size": 10,
              "solidity": 0.2
             }
            },
            "type": "histogram"
           }
          ],
          "histogram2d": [
           {
            "colorbar": {
             "outlinewidth": 0,
             "ticks": ""
            },
            "colorscale": [
             [
              0,
              "#0d0887"
             ],
             [
              0.1111111111111111,
              "#46039f"
             ],
             [
              0.2222222222222222,
              "#7201a8"
             ],
             [
              0.3333333333333333,
              "#9c179e"
             ],
             [
              0.4444444444444444,
              "#bd3786"
             ],
             [
              0.5555555555555556,
              "#d8576b"
             ],
             [
              0.6666666666666666,
              "#ed7953"
             ],
             [
              0.7777777777777778,
              "#fb9f3a"
             ],
             [
              0.8888888888888888,
              "#fdca26"
             ],
             [
              1,
              "#f0f921"
             ]
            ],
            "type": "histogram2d"
           }
          ],
          "histogram2dcontour": [
           {
            "colorbar": {
             "outlinewidth": 0,
             "ticks": ""
            },
            "colorscale": [
             [
              0,
              "#0d0887"
             ],
             [
              0.1111111111111111,
              "#46039f"
             ],
             [
              0.2222222222222222,
              "#7201a8"
             ],
             [
              0.3333333333333333,
              "#9c179e"
             ],
             [
              0.4444444444444444,
              "#bd3786"
             ],
             [
              0.5555555555555556,
              "#d8576b"
             ],
             [
              0.6666666666666666,
              "#ed7953"
             ],
             [
              0.7777777777777778,
              "#fb9f3a"
             ],
             [
              0.8888888888888888,
              "#fdca26"
             ],
             [
              1,
              "#f0f921"
             ]
            ],
            "type": "histogram2dcontour"
           }
          ],
          "mesh3d": [
           {
            "colorbar": {
             "outlinewidth": 0,
             "ticks": ""
            },
            "type": "mesh3d"
           }
          ],
          "parcoords": [
           {
            "line": {
             "colorbar": {
              "outlinewidth": 0,
              "ticks": ""
             }
            },
            "type": "parcoords"
           }
          ],
          "pie": [
           {
            "automargin": true,
            "type": "pie"
           }
          ],
          "scatter": [
           {
            "fillpattern": {
             "fillmode": "overlay",
             "size": 10,
             "solidity": 0.2
            },
            "type": "scatter"
           }
          ],
          "scatter3d": [
           {
            "line": {
             "colorbar": {
              "outlinewidth": 0,
              "ticks": ""
             }
            },
            "marker": {
             "colorbar": {
              "outlinewidth": 0,
              "ticks": ""
             }
            },
            "type": "scatter3d"
           }
          ],
          "scattercarpet": [
           {
            "marker": {
             "colorbar": {
              "outlinewidth": 0,
              "ticks": ""
             }
            },
            "type": "scattercarpet"
           }
          ],
          "scattergeo": [
           {
            "marker": {
             "colorbar": {
              "outlinewidth": 0,
              "ticks": ""
             }
            },
            "type": "scattergeo"
           }
          ],
          "scattergl": [
           {
            "marker": {
             "colorbar": {
              "outlinewidth": 0,
              "ticks": ""
             }
            },
            "type": "scattergl"
           }
          ],
          "scattermapbox": [
           {
            "marker": {
             "colorbar": {
              "outlinewidth": 0,
              "ticks": ""
             }
            },
            "type": "scattermapbox"
           }
          ],
          "scatterpolar": [
           {
            "marker": {
             "colorbar": {
              "outlinewidth": 0,
              "ticks": ""
             }
            },
            "type": "scatterpolar"
           }
          ],
          "scatterpolargl": [
           {
            "marker": {
             "colorbar": {
              "outlinewidth": 0,
              "ticks": ""
             }
            },
            "type": "scatterpolargl"
           }
          ],
          "scatterternary": [
           {
            "marker": {
             "colorbar": {
              "outlinewidth": 0,
              "ticks": ""
             }
            },
            "type": "scatterternary"
           }
          ],
          "surface": [
           {
            "colorbar": {
             "outlinewidth": 0,
             "ticks": ""
            },
            "colorscale": [
             [
              0,
              "#0d0887"
             ],
             [
              0.1111111111111111,
              "#46039f"
             ],
             [
              0.2222222222222222,
              "#7201a8"
             ],
             [
              0.3333333333333333,
              "#9c179e"
             ],
             [
              0.4444444444444444,
              "#bd3786"
             ],
             [
              0.5555555555555556,
              "#d8576b"
             ],
             [
              0.6666666666666666,
              "#ed7953"
             ],
             [
              0.7777777777777778,
              "#fb9f3a"
             ],
             [
              0.8888888888888888,
              "#fdca26"
             ],
             [
              1,
              "#f0f921"
             ]
            ],
            "type": "surface"
           }
          ],
          "table": [
           {
            "cells": {
             "fill": {
              "color": "#EBF0F8"
             },
             "line": {
              "color": "white"
             }
            },
            "header": {
             "fill": {
              "color": "#C8D4E3"
             },
             "line": {
              "color": "white"
             }
            },
            "type": "table"
           }
          ]
         },
         "layout": {
          "annotationdefaults": {
           "arrowcolor": "#2a3f5f",
           "arrowhead": 0,
           "arrowwidth": 1
          },
          "autotypenumbers": "strict",
          "coloraxis": {
           "colorbar": {
            "outlinewidth": 0,
            "ticks": ""
           }
          },
          "colorscale": {
           "diverging": [
            [
             0,
             "#8e0152"
            ],
            [
             0.1,
             "#c51b7d"
            ],
            [
             0.2,
             "#de77ae"
            ],
            [
             0.3,
             "#f1b6da"
            ],
            [
             0.4,
             "#fde0ef"
            ],
            [
             0.5,
             "#f7f7f7"
            ],
            [
             0.6,
             "#e6f5d0"
            ],
            [
             0.7,
             "#b8e186"
            ],
            [
             0.8,
             "#7fbc41"
            ],
            [
             0.9,
             "#4d9221"
            ],
            [
             1,
             "#276419"
            ]
           ],
           "sequential": [
            [
             0,
             "#0d0887"
            ],
            [
             0.1111111111111111,
             "#46039f"
            ],
            [
             0.2222222222222222,
             "#7201a8"
            ],
            [
             0.3333333333333333,
             "#9c179e"
            ],
            [
             0.4444444444444444,
             "#bd3786"
            ],
            [
             0.5555555555555556,
             "#d8576b"
            ],
            [
             0.6666666666666666,
             "#ed7953"
            ],
            [
             0.7777777777777778,
             "#fb9f3a"
            ],
            [
             0.8888888888888888,
             "#fdca26"
            ],
            [
             1,
             "#f0f921"
            ]
           ],
           "sequentialminus": [
            [
             0,
             "#0d0887"
            ],
            [
             0.1111111111111111,
             "#46039f"
            ],
            [
             0.2222222222222222,
             "#7201a8"
            ],
            [
             0.3333333333333333,
             "#9c179e"
            ],
            [
             0.4444444444444444,
             "#bd3786"
            ],
            [
             0.5555555555555556,
             "#d8576b"
            ],
            [
             0.6666666666666666,
             "#ed7953"
            ],
            [
             0.7777777777777778,
             "#fb9f3a"
            ],
            [
             0.8888888888888888,
             "#fdca26"
            ],
            [
             1,
             "#f0f921"
            ]
           ]
          },
          "colorway": [
           "#636efa",
           "#EF553B",
           "#00cc96",
           "#ab63fa",
           "#FFA15A",
           "#19d3f3",
           "#FF6692",
           "#B6E880",
           "#FF97FF",
           "#FECB52"
          ],
          "font": {
           "color": "#2a3f5f"
          },
          "geo": {
           "bgcolor": "white",
           "lakecolor": "white",
           "landcolor": "#E5ECF6",
           "showlakes": true,
           "showland": true,
           "subunitcolor": "white"
          },
          "hoverlabel": {
           "align": "left"
          },
          "hovermode": "closest",
          "mapbox": {
           "style": "light"
          },
          "paper_bgcolor": "white",
          "plot_bgcolor": "#E5ECF6",
          "polar": {
           "angularaxis": {
            "gridcolor": "white",
            "linecolor": "white",
            "ticks": ""
           },
           "bgcolor": "#E5ECF6",
           "radialaxis": {
            "gridcolor": "white",
            "linecolor": "white",
            "ticks": ""
           }
          },
          "scene": {
           "xaxis": {
            "backgroundcolor": "#E5ECF6",
            "gridcolor": "white",
            "gridwidth": 2,
            "linecolor": "white",
            "showbackground": true,
            "ticks": "",
            "zerolinecolor": "white"
           },
           "yaxis": {
            "backgroundcolor": "#E5ECF6",
            "gridcolor": "white",
            "gridwidth": 2,
            "linecolor": "white",
            "showbackground": true,
            "ticks": "",
            "zerolinecolor": "white"
           },
           "zaxis": {
            "backgroundcolor": "#E5ECF6",
            "gridcolor": "white",
            "gridwidth": 2,
            "linecolor": "white",
            "showbackground": true,
            "ticks": "",
            "zerolinecolor": "white"
           }
          },
          "shapedefaults": {
           "line": {
            "color": "#2a3f5f"
           }
          },
          "ternary": {
           "aaxis": {
            "gridcolor": "white",
            "linecolor": "white",
            "ticks": ""
           },
           "baxis": {
            "gridcolor": "white",
            "linecolor": "white",
            "ticks": ""
           },
           "bgcolor": "#E5ECF6",
           "caxis": {
            "gridcolor": "white",
            "linecolor": "white",
            "ticks": ""
           }
          },
          "title": {
           "x": 0.05
          },
          "xaxis": {
           "automargin": true,
           "gridcolor": "white",
           "linecolor": "white",
           "ticks": "",
           "title": {
            "standoff": 15
           },
           "zerolinecolor": "white",
           "zerolinewidth": 2
          },
          "yaxis": {
           "automargin": true,
           "gridcolor": "white",
           "linecolor": "white",
           "ticks": "",
           "title": {
            "standoff": 15
           },
           "zerolinecolor": "white",
           "zerolinewidth": 2
          }
         }
        },
        "xaxis": {
         "anchor": "y",
         "domain": [
          0,
          1
         ],
         "title": {
          "text": "diagnosis"
         }
        },
        "yaxis": {
         "anchor": "x",
         "domain": [
          0,
          1
         ],
         "title": {
          "text": "number_consultations"
         }
        }
       }
      }
     },
     "metadata": {},
     "output_type": "display_data"
    }
   ],
   "source": [
    "# top 10 most common diagnoses\n",
    "top10_diagnoses = rw_diagnoses.sum().sort_values(ascending=False).to_frame().reset_index().head(10)\n",
    "top10_diagnoses.columns = [\"diagnosis\", \"number_consultations\"]\n",
    "print(\"share of top 10 diagnoses:\", top10_diagnoses[\"number_consultations\"].sum()/rw_diagnoses.shape[0])\n",
    "fg = px.bar(top10_diagnoses, x=\"diagnosis\", y=\"number_consultations\" )\n",
    "fg.show()"
   ]
  },
  {
   "cell_type": "code",
   "execution_count": 8,
   "metadata": {},
   "outputs": [],
   "source": [
    "# identified symptoms per diagnosis part of top 10"
   ]
  },
  {
   "cell_type": "code",
   "execution_count": 9,
   "metadata": {},
   "outputs": [],
   "source": [
    "# top 10 most common pairs of diagnoses"
   ]
  },
  {
   "cell_type": "code",
   "execution_count": 10,
   "metadata": {},
   "outputs": [],
   "source": [
    "# top 10 most common tri-pairs of diagnoses"
   ]
  },
  {
   "attachments": {},
   "cell_type": "markdown",
   "metadata": {},
   "source": [
    "# Are diagnoses missing - i.e. is the decision tree of DYNAMiC's CDSS complete?\n",
    "Methodology:\n",
    "1. filter for patients diagnosed with at last one of the top 10\n",
    "2. cluster them into 10-20 groups based on their demographics (age, gender) and symptoms as features\n",
    "3. examine diagnoses per cluster: clusters decided by one diagnoses particularly?\n",
    "4. examine symptoms per cluster:\n",
    "    - do symptoms in cluster match the diagnosis of the same cluster found in step before? --> Are patients correctly assigned to diagnoses?\n",
    "    - do clusters not assignable to diagnoses in step before have symptoms that indicate a diagnoses that has been missed by the decision tree?\n",
    "\n",
    "Note: [read](https://christophm.github.io/interpretable-ml-book/) on SHAP values for better interpretation"
   ]
  },
  {
   "cell_type": "code",
   "execution_count": 11,
   "metadata": {},
   "outputs": [
    {
     "data": {
      "application/vnd.plotly.v1+json": {
       "config": {
        "plotlyServerURL": "https://plot.ly"
       },
       "data": [
        {
         "alignmentgroup": "True",
         "hovertemplate": "number diagnoses per consultation=%{x}<br>count=%{y}<extra></extra>",
         "legendgroup": "",
         "marker": {
          "color": "#636efa",
          "pattern": {
           "shape": ""
          }
         },
         "name": "",
         "offsetgroup": "",
         "orientation": "v",
         "showlegend": false,
         "textposition": "auto",
         "type": "bar",
         "x": [
          0,
          1,
          2,
          3,
          4,
          5,
          6,
          7,
          8
         ],
         "xaxis": "x",
         "y": [
          24699,
          11224,
          6462,
          3643,
          1377,
          377,
          87,
          12,
          5
         ],
         "yaxis": "y"
        }
       ],
       "layout": {
        "barmode": "relative",
        "legend": {
         "tracegroupgap": 0
        },
        "template": {
         "data": {
          "bar": [
           {
            "error_x": {
             "color": "#2a3f5f"
            },
            "error_y": {
             "color": "#2a3f5f"
            },
            "marker": {
             "line": {
              "color": "#E5ECF6",
              "width": 0.5
             },
             "pattern": {
              "fillmode": "overlay",
              "size": 10,
              "solidity": 0.2
             }
            },
            "type": "bar"
           }
          ],
          "barpolar": [
           {
            "marker": {
             "line": {
              "color": "#E5ECF6",
              "width": 0.5
             },
             "pattern": {
              "fillmode": "overlay",
              "size": 10,
              "solidity": 0.2
             }
            },
            "type": "barpolar"
           }
          ],
          "carpet": [
           {
            "aaxis": {
             "endlinecolor": "#2a3f5f",
             "gridcolor": "white",
             "linecolor": "white",
             "minorgridcolor": "white",
             "startlinecolor": "#2a3f5f"
            },
            "baxis": {
             "endlinecolor": "#2a3f5f",
             "gridcolor": "white",
             "linecolor": "white",
             "minorgridcolor": "white",
             "startlinecolor": "#2a3f5f"
            },
            "type": "carpet"
           }
          ],
          "choropleth": [
           {
            "colorbar": {
             "outlinewidth": 0,
             "ticks": ""
            },
            "type": "choropleth"
           }
          ],
          "contour": [
           {
            "colorbar": {
             "outlinewidth": 0,
             "ticks": ""
            },
            "colorscale": [
             [
              0,
              "#0d0887"
             ],
             [
              0.1111111111111111,
              "#46039f"
             ],
             [
              0.2222222222222222,
              "#7201a8"
             ],
             [
              0.3333333333333333,
              "#9c179e"
             ],
             [
              0.4444444444444444,
              "#bd3786"
             ],
             [
              0.5555555555555556,
              "#d8576b"
             ],
             [
              0.6666666666666666,
              "#ed7953"
             ],
             [
              0.7777777777777778,
              "#fb9f3a"
             ],
             [
              0.8888888888888888,
              "#fdca26"
             ],
             [
              1,
              "#f0f921"
             ]
            ],
            "type": "contour"
           }
          ],
          "contourcarpet": [
           {
            "colorbar": {
             "outlinewidth": 0,
             "ticks": ""
            },
            "type": "contourcarpet"
           }
          ],
          "heatmap": [
           {
            "colorbar": {
             "outlinewidth": 0,
             "ticks": ""
            },
            "colorscale": [
             [
              0,
              "#0d0887"
             ],
             [
              0.1111111111111111,
              "#46039f"
             ],
             [
              0.2222222222222222,
              "#7201a8"
             ],
             [
              0.3333333333333333,
              "#9c179e"
             ],
             [
              0.4444444444444444,
              "#bd3786"
             ],
             [
              0.5555555555555556,
              "#d8576b"
             ],
             [
              0.6666666666666666,
              "#ed7953"
             ],
             [
              0.7777777777777778,
              "#fb9f3a"
             ],
             [
              0.8888888888888888,
              "#fdca26"
             ],
             [
              1,
              "#f0f921"
             ]
            ],
            "type": "heatmap"
           }
          ],
          "heatmapgl": [
           {
            "colorbar": {
             "outlinewidth": 0,
             "ticks": ""
            },
            "colorscale": [
             [
              0,
              "#0d0887"
             ],
             [
              0.1111111111111111,
              "#46039f"
             ],
             [
              0.2222222222222222,
              "#7201a8"
             ],
             [
              0.3333333333333333,
              "#9c179e"
             ],
             [
              0.4444444444444444,
              "#bd3786"
             ],
             [
              0.5555555555555556,
              "#d8576b"
             ],
             [
              0.6666666666666666,
              "#ed7953"
             ],
             [
              0.7777777777777778,
              "#fb9f3a"
             ],
             [
              0.8888888888888888,
              "#fdca26"
             ],
             [
              1,
              "#f0f921"
             ]
            ],
            "type": "heatmapgl"
           }
          ],
          "histogram": [
           {
            "marker": {
             "pattern": {
              "fillmode": "overlay",
              "size": 10,
              "solidity": 0.2
             }
            },
            "type": "histogram"
           }
          ],
          "histogram2d": [
           {
            "colorbar": {
             "outlinewidth": 0,
             "ticks": ""
            },
            "colorscale": [
             [
              0,
              "#0d0887"
             ],
             [
              0.1111111111111111,
              "#46039f"
             ],
             [
              0.2222222222222222,
              "#7201a8"
             ],
             [
              0.3333333333333333,
              "#9c179e"
             ],
             [
              0.4444444444444444,
              "#bd3786"
             ],
             [
              0.5555555555555556,
              "#d8576b"
             ],
             [
              0.6666666666666666,
              "#ed7953"
             ],
             [
              0.7777777777777778,
              "#fb9f3a"
             ],
             [
              0.8888888888888888,
              "#fdca26"
             ],
             [
              1,
              "#f0f921"
             ]
            ],
            "type": "histogram2d"
           }
          ],
          "histogram2dcontour": [
           {
            "colorbar": {
             "outlinewidth": 0,
             "ticks": ""
            },
            "colorscale": [
             [
              0,
              "#0d0887"
             ],
             [
              0.1111111111111111,
              "#46039f"
             ],
             [
              0.2222222222222222,
              "#7201a8"
             ],
             [
              0.3333333333333333,
              "#9c179e"
             ],
             [
              0.4444444444444444,
              "#bd3786"
             ],
             [
              0.5555555555555556,
              "#d8576b"
             ],
             [
              0.6666666666666666,
              "#ed7953"
             ],
             [
              0.7777777777777778,
              "#fb9f3a"
             ],
             [
              0.8888888888888888,
              "#fdca26"
             ],
             [
              1,
              "#f0f921"
             ]
            ],
            "type": "histogram2dcontour"
           }
          ],
          "mesh3d": [
           {
            "colorbar": {
             "outlinewidth": 0,
             "ticks": ""
            },
            "type": "mesh3d"
           }
          ],
          "parcoords": [
           {
            "line": {
             "colorbar": {
              "outlinewidth": 0,
              "ticks": ""
             }
            },
            "type": "parcoords"
           }
          ],
          "pie": [
           {
            "automargin": true,
            "type": "pie"
           }
          ],
          "scatter": [
           {
            "fillpattern": {
             "fillmode": "overlay",
             "size": 10,
             "solidity": 0.2
            },
            "type": "scatter"
           }
          ],
          "scatter3d": [
           {
            "line": {
             "colorbar": {
              "outlinewidth": 0,
              "ticks": ""
             }
            },
            "marker": {
             "colorbar": {
              "outlinewidth": 0,
              "ticks": ""
             }
            },
            "type": "scatter3d"
           }
          ],
          "scattercarpet": [
           {
            "marker": {
             "colorbar": {
              "outlinewidth": 0,
              "ticks": ""
             }
            },
            "type": "scattercarpet"
           }
          ],
          "scattergeo": [
           {
            "marker": {
             "colorbar": {
              "outlinewidth": 0,
              "ticks": ""
             }
            },
            "type": "scattergeo"
           }
          ],
          "scattergl": [
           {
            "marker": {
             "colorbar": {
              "outlinewidth": 0,
              "ticks": ""
             }
            },
            "type": "scattergl"
           }
          ],
          "scattermapbox": [
           {
            "marker": {
             "colorbar": {
              "outlinewidth": 0,
              "ticks": ""
             }
            },
            "type": "scattermapbox"
           }
          ],
          "scatterpolar": [
           {
            "marker": {
             "colorbar": {
              "outlinewidth": 0,
              "ticks": ""
             }
            },
            "type": "scatterpolar"
           }
          ],
          "scatterpolargl": [
           {
            "marker": {
             "colorbar": {
              "outlinewidth": 0,
              "ticks": ""
             }
            },
            "type": "scatterpolargl"
           }
          ],
          "scatterternary": [
           {
            "marker": {
             "colorbar": {
              "outlinewidth": 0,
              "ticks": ""
             }
            },
            "type": "scatterternary"
           }
          ],
          "surface": [
           {
            "colorbar": {
             "outlinewidth": 0,
             "ticks": ""
            },
            "colorscale": [
             [
              0,
              "#0d0887"
             ],
             [
              0.1111111111111111,
              "#46039f"
             ],
             [
              0.2222222222222222,
              "#7201a8"
             ],
             [
              0.3333333333333333,
              "#9c179e"
             ],
             [
              0.4444444444444444,
              "#bd3786"
             ],
             [
              0.5555555555555556,
              "#d8576b"
             ],
             [
              0.6666666666666666,
              "#ed7953"
             ],
             [
              0.7777777777777778,
              "#fb9f3a"
             ],
             [
              0.8888888888888888,
              "#fdca26"
             ],
             [
              1,
              "#f0f921"
             ]
            ],
            "type": "surface"
           }
          ],
          "table": [
           {
            "cells": {
             "fill": {
              "color": "#EBF0F8"
             },
             "line": {
              "color": "white"
             }
            },
            "header": {
             "fill": {
              "color": "#C8D4E3"
             },
             "line": {
              "color": "white"
             }
            },
            "type": "table"
           }
          ]
         },
         "layout": {
          "annotationdefaults": {
           "arrowcolor": "#2a3f5f",
           "arrowhead": 0,
           "arrowwidth": 1
          },
          "autotypenumbers": "strict",
          "coloraxis": {
           "colorbar": {
            "outlinewidth": 0,
            "ticks": ""
           }
          },
          "colorscale": {
           "diverging": [
            [
             0,
             "#8e0152"
            ],
            [
             0.1,
             "#c51b7d"
            ],
            [
             0.2,
             "#de77ae"
            ],
            [
             0.3,
             "#f1b6da"
            ],
            [
             0.4,
             "#fde0ef"
            ],
            [
             0.5,
             "#f7f7f7"
            ],
            [
             0.6,
             "#e6f5d0"
            ],
            [
             0.7,
             "#b8e186"
            ],
            [
             0.8,
             "#7fbc41"
            ],
            [
             0.9,
             "#4d9221"
            ],
            [
             1,
             "#276419"
            ]
           ],
           "sequential": [
            [
             0,
             "#0d0887"
            ],
            [
             0.1111111111111111,
             "#46039f"
            ],
            [
             0.2222222222222222,
             "#7201a8"
            ],
            [
             0.3333333333333333,
             "#9c179e"
            ],
            [
             0.4444444444444444,
             "#bd3786"
            ],
            [
             0.5555555555555556,
             "#d8576b"
            ],
            [
             0.6666666666666666,
             "#ed7953"
            ],
            [
             0.7777777777777778,
             "#fb9f3a"
            ],
            [
             0.8888888888888888,
             "#fdca26"
            ],
            [
             1,
             "#f0f921"
            ]
           ],
           "sequentialminus": [
            [
             0,
             "#0d0887"
            ],
            [
             0.1111111111111111,
             "#46039f"
            ],
            [
             0.2222222222222222,
             "#7201a8"
            ],
            [
             0.3333333333333333,
             "#9c179e"
            ],
            [
             0.4444444444444444,
             "#bd3786"
            ],
            [
             0.5555555555555556,
             "#d8576b"
            ],
            [
             0.6666666666666666,
             "#ed7953"
            ],
            [
             0.7777777777777778,
             "#fb9f3a"
            ],
            [
             0.8888888888888888,
             "#fdca26"
            ],
            [
             1,
             "#f0f921"
            ]
           ]
          },
          "colorway": [
           "#636efa",
           "#EF553B",
           "#00cc96",
           "#ab63fa",
           "#FFA15A",
           "#19d3f3",
           "#FF6692",
           "#B6E880",
           "#FF97FF",
           "#FECB52"
          ],
          "font": {
           "color": "#2a3f5f"
          },
          "geo": {
           "bgcolor": "white",
           "lakecolor": "white",
           "landcolor": "#E5ECF6",
           "showlakes": true,
           "showland": true,
           "subunitcolor": "white"
          },
          "hoverlabel": {
           "align": "left"
          },
          "hovermode": "closest",
          "mapbox": {
           "style": "light"
          },
          "paper_bgcolor": "white",
          "plot_bgcolor": "#E5ECF6",
          "polar": {
           "angularaxis": {
            "gridcolor": "white",
            "linecolor": "white",
            "ticks": ""
           },
           "bgcolor": "#E5ECF6",
           "radialaxis": {
            "gridcolor": "white",
            "linecolor": "white",
            "ticks": ""
           }
          },
          "scene": {
           "xaxis": {
            "backgroundcolor": "#E5ECF6",
            "gridcolor": "white",
            "gridwidth": 2,
            "linecolor": "white",
            "showbackground": true,
            "ticks": "",
            "zerolinecolor": "white"
           },
           "yaxis": {
            "backgroundcolor": "#E5ECF6",
            "gridcolor": "white",
            "gridwidth": 2,
            "linecolor": "white",
            "showbackground": true,
            "ticks": "",
            "zerolinecolor": "white"
           },
           "zaxis": {
            "backgroundcolor": "#E5ECF6",
            "gridcolor": "white",
            "gridwidth": 2,
            "linecolor": "white",
            "showbackground": true,
            "ticks": "",
            "zerolinecolor": "white"
           }
          },
          "shapedefaults": {
           "line": {
            "color": "#2a3f5f"
           }
          },
          "ternary": {
           "aaxis": {
            "gridcolor": "white",
            "linecolor": "white",
            "ticks": ""
           },
           "baxis": {
            "gridcolor": "white",
            "linecolor": "white",
            "ticks": ""
           },
           "bgcolor": "#E5ECF6",
           "caxis": {
            "gridcolor": "white",
            "linecolor": "white",
            "ticks": ""
           }
          },
          "title": {
           "x": 0.05
          },
          "xaxis": {
           "automargin": true,
           "gridcolor": "white",
           "linecolor": "white",
           "ticks": "",
           "title": {
            "standoff": 15
           },
           "zerolinecolor": "white",
           "zerolinewidth": 2
          },
          "yaxis": {
           "automargin": true,
           "gridcolor": "white",
           "linecolor": "white",
           "ticks": "",
           "title": {
            "standoff": 15
           },
           "zerolinecolor": "white",
           "zerolinewidth": 2
          }
         }
        },
        "title": {
         "text": "distribution 'number of top 10 diagnoses per consultation'"
        },
        "xaxis": {
         "anchor": "y",
         "domain": [
          0,
          1
         ],
         "title": {
          "text": "number diagnoses per consultation"
         }
        },
        "yaxis": {
         "anchor": "x",
         "domain": [
          0,
          1
         ],
         "title": {
          "text": "count"
         }
        }
       }
      }
     },
     "metadata": {},
     "output_type": "display_data"
    }
   ],
   "source": [
    "# distribution \"number of top 10 diagnoses per consultation\" \n",
    "number_top10_diagnoses_per_consultation = rw_diagnoses[top10_diagnoses[\"diagnosis\"]].sum(axis=1).value_counts().to_frame().reset_index()\n",
    "number_top10_diagnoses_per_consultation.columns = [\"number diagnoses per consultation\", \"count\"]\n",
    "fg = px.bar(number_top10_diagnoses_per_consultation, x=\"number diagnoses per consultation\", y=\"count\", title=\"distribution 'number of top 10 diagnoses per consultation'\" )\n",
    "fg.show()"
   ]
  },
  {
   "cell_type": "code",
   "execution_count": 12,
   "metadata": {},
   "outputs": [
    {
     "name": "stdout",
     "output_type": "stream",
     "text": [
      "share of consultations with at least one top 10 diagnosis: 0.48421250469865934 --> n = 23187\n"
     ]
    }
   ],
   "source": [
    "#filter for patients diagnosed with at last one of the top 10\n",
    "idx_consultations_with_top10_diagnoses = rw_diagnoses[top10_diagnoses[\"diagnosis\"]].sum(axis=1) > 0\n",
    "consultations_with_top10_diagnoses = rw_diagnoses[idx_consultations_with_top10_diagnoses]\n",
    "print(\"share of consultations with at least one top 10 diagnosis:\", consultations_with_top10_diagnoses.shape[0]/rw_diagnoses.shape[0], \"--> n =\", consultations_with_top10_diagnoses.shape[0])"
   ]
  },
  {
   "attachments": {},
   "cell_type": "markdown",
   "metadata": {},
   "source": [
    "## cluster consultations with at least one top 10 into 10-20 groups based on their demographics (age, gender) and symptoms as features\n",
    "- preprocess\n",
    "    - one hot encode non-numerical features (binary, categorical) - maintaining NAN as category\n",
    "    - impute NAN values of numerical features (binary/categorical: median, continues: mean)\n",
    "    - scale numerical features to avoid favouring of higher magnitude features in euclidian distance\n",
    "- cluster with k-means - k = 10\n",
    "- "
   ]
  },
  {
   "cell_type": "code",
   "execution_count": 13,
   "metadata": {},
   "outputs": [
    {
     "name": "stderr",
     "output_type": "stream",
     "text": [
      "C:\\Users\\sidla\\AppData\\Local\\Temp\\ipykernel_21984\\2710960412.py:27: PerformanceWarning:\n",
      "\n",
      "DataFrame is highly fragmented.  This is usually the result of calling `frame.insert` many times, which has poor performance.  Consider joining all columns at once using pd.concat(axis=1) instead. To get a de-fragmented frame, use `newframe = frame.copy()`\n",
      "\n",
      "C:\\Users\\sidla\\AppData\\Local\\Temp\\ipykernel_21984\\2710960412.py:27: PerformanceWarning:\n",
      "\n",
      "DataFrame is highly fragmented.  This is usually the result of calling `frame.insert` many times, which has poor performance.  Consider joining all columns at once using pd.concat(axis=1) instead. To get a de-fragmented frame, use `newframe = frame.copy()`\n",
      "\n",
      "C:\\Users\\sidla\\AppData\\Local\\Temp\\ipykernel_21984\\2710960412.py:27: PerformanceWarning:\n",
      "\n",
      "DataFrame is highly fragmented.  This is usually the result of calling `frame.insert` many times, which has poor performance.  Consider joining all columns at once using pd.concat(axis=1) instead. To get a de-fragmented frame, use `newframe = frame.copy()`\n",
      "\n",
      "C:\\Users\\sidla\\AppData\\Local\\Temp\\ipykernel_21984\\2710960412.py:27: PerformanceWarning:\n",
      "\n",
      "DataFrame is highly fragmented.  This is usually the result of calling `frame.insert` many times, which has poor performance.  Consider joining all columns at once using pd.concat(axis=1) instead. To get a de-fragmented frame, use `newframe = frame.copy()`\n",
      "\n",
      "C:\\Users\\sidla\\AppData\\Local\\Temp\\ipykernel_21984\\2710960412.py:27: PerformanceWarning:\n",
      "\n",
      "DataFrame is highly fragmented.  This is usually the result of calling `frame.insert` many times, which has poor performance.  Consider joining all columns at once using pd.concat(axis=1) instead. To get a de-fragmented frame, use `newframe = frame.copy()`\n",
      "\n",
      "C:\\Users\\sidla\\AppData\\Local\\Temp\\ipykernel_21984\\2710960412.py:27: PerformanceWarning:\n",
      "\n",
      "DataFrame is highly fragmented.  This is usually the result of calling `frame.insert` many times, which has poor performance.  Consider joining all columns at once using pd.concat(axis=1) instead. To get a de-fragmented frame, use `newframe = frame.copy()`\n",
      "\n",
      "C:\\Users\\sidla\\AppData\\Local\\Temp\\ipykernel_21984\\2710960412.py:27: PerformanceWarning:\n",
      "\n",
      "DataFrame is highly fragmented.  This is usually the result of calling `frame.insert` many times, which has poor performance.  Consider joining all columns at once using pd.concat(axis=1) instead. To get a de-fragmented frame, use `newframe = frame.copy()`\n",
      "\n",
      "C:\\Users\\sidla\\AppData\\Local\\Temp\\ipykernel_21984\\2710960412.py:27: PerformanceWarning:\n",
      "\n",
      "DataFrame is highly fragmented.  This is usually the result of calling `frame.insert` many times, which has poor performance.  Consider joining all columns at once using pd.concat(axis=1) instead. To get a de-fragmented frame, use `newframe = frame.copy()`\n",
      "\n",
      "C:\\Users\\sidla\\AppData\\Local\\Temp\\ipykernel_21984\\2710960412.py:27: PerformanceWarning:\n",
      "\n",
      "DataFrame is highly fragmented.  This is usually the result of calling `frame.insert` many times, which has poor performance.  Consider joining all columns at once using pd.concat(axis=1) instead. To get a de-fragmented frame, use `newframe = frame.copy()`\n",
      "\n",
      "C:\\Users\\sidla\\AppData\\Local\\Temp\\ipykernel_21984\\2710960412.py:27: PerformanceWarning:\n",
      "\n",
      "DataFrame is highly fragmented.  This is usually the result of calling `frame.insert` many times, which has poor performance.  Consider joining all columns at once using pd.concat(axis=1) instead. To get a de-fragmented frame, use `newframe = frame.copy()`\n",
      "\n",
      "C:\\Users\\sidla\\AppData\\Local\\Temp\\ipykernel_21984\\2710960412.py:27: PerformanceWarning:\n",
      "\n",
      "DataFrame is highly fragmented.  This is usually the result of calling `frame.insert` many times, which has poor performance.  Consider joining all columns at once using pd.concat(axis=1) instead. To get a de-fragmented frame, use `newframe = frame.copy()`\n",
      "\n",
      "C:\\Users\\sidla\\AppData\\Local\\Temp\\ipykernel_21984\\2710960412.py:27: PerformanceWarning:\n",
      "\n",
      "DataFrame is highly fragmented.  This is usually the result of calling `frame.insert` many times, which has poor performance.  Consider joining all columns at once using pd.concat(axis=1) instead. To get a de-fragmented frame, use `newframe = frame.copy()`\n",
      "\n",
      "C:\\Users\\sidla\\AppData\\Local\\Temp\\ipykernel_21984\\2710960412.py:27: PerformanceWarning:\n",
      "\n",
      "DataFrame is highly fragmented.  This is usually the result of calling `frame.insert` many times, which has poor performance.  Consider joining all columns at once using pd.concat(axis=1) instead. To get a de-fragmented frame, use `newframe = frame.copy()`\n",
      "\n",
      "C:\\Users\\sidla\\AppData\\Local\\Temp\\ipykernel_21984\\2710960412.py:27: PerformanceWarning:\n",
      "\n",
      "DataFrame is highly fragmented.  This is usually the result of calling `frame.insert` many times, which has poor performance.  Consider joining all columns at once using pd.concat(axis=1) instead. To get a de-fragmented frame, use `newframe = frame.copy()`\n",
      "\n",
      "C:\\Users\\sidla\\AppData\\Local\\Temp\\ipykernel_21984\\2710960412.py:27: PerformanceWarning:\n",
      "\n",
      "DataFrame is highly fragmented.  This is usually the result of calling `frame.insert` many times, which has poor performance.  Consider joining all columns at once using pd.concat(axis=1) instead. To get a de-fragmented frame, use `newframe = frame.copy()`\n",
      "\n",
      "C:\\Users\\sidla\\AppData\\Local\\Temp\\ipykernel_21984\\2710960412.py:27: PerformanceWarning:\n",
      "\n",
      "DataFrame is highly fragmented.  This is usually the result of calling `frame.insert` many times, which has poor performance.  Consider joining all columns at once using pd.concat(axis=1) instead. To get a de-fragmented frame, use `newframe = frame.copy()`\n",
      "\n",
      "C:\\Users\\sidla\\AppData\\Local\\Temp\\ipykernel_21984\\2710960412.py:27: PerformanceWarning:\n",
      "\n",
      "DataFrame is highly fragmented.  This is usually the result of calling `frame.insert` many times, which has poor performance.  Consider joining all columns at once using pd.concat(axis=1) instead. To get a de-fragmented frame, use `newframe = frame.copy()`\n",
      "\n",
      "C:\\Users\\sidla\\AppData\\Local\\Temp\\ipykernel_21984\\2710960412.py:27: PerformanceWarning:\n",
      "\n",
      "DataFrame is highly fragmented.  This is usually the result of calling `frame.insert` many times, which has poor performance.  Consider joining all columns at once using pd.concat(axis=1) instead. To get a de-fragmented frame, use `newframe = frame.copy()`\n",
      "\n",
      "C:\\Users\\sidla\\AppData\\Local\\Temp\\ipykernel_21984\\2710960412.py:27: PerformanceWarning:\n",
      "\n",
      "DataFrame is highly fragmented.  This is usually the result of calling `frame.insert` many times, which has poor performance.  Consider joining all columns at once using pd.concat(axis=1) instead. To get a de-fragmented frame, use `newframe = frame.copy()`\n",
      "\n",
      "C:\\Users\\sidla\\AppData\\Local\\Temp\\ipykernel_21984\\2710960412.py:27: PerformanceWarning:\n",
      "\n",
      "DataFrame is highly fragmented.  This is usually the result of calling `frame.insert` many times, which has poor performance.  Consider joining all columns at once using pd.concat(axis=1) instead. To get a de-fragmented frame, use `newframe = frame.copy()`\n",
      "\n"
     ]
    }
   ],
   "source": [
    "from sklearn.preprocessing import MinMaxScaler # alternatively one could use StandardScaler but with MinMaxScaler outliers maintain their significance\n",
    "\n",
    "# get features for clusterng\n",
    "features = data[idx_consultations_with_top10_diagnoses]\n",
    "preprocessed_features = features\n",
    "\n",
    "# impute numerical features with mean \n",
    "# assume: numerical --> continunues\n",
    "numerical_features = [preprocessed_features.dtypes.index[i] for i, e in enumerate(preprocessed_features.dtypes) if e == \"float64\"]\n",
    "for f in numerical_features:\n",
    "    mean = np.mean(preprocessed_features[f])\n",
    "    preprocessed_features.loc[preprocessed_features[f].isna(), f] = mean\n",
    "\n",
    "# stringify NAN values in all other features making it an additional category\n",
    "preprocessed_features = preprocessed_features.fillna(\"NaN\") \n",
    "\n",
    "# scale numerical features to avoid favouring of features in euclidian distance\n",
    "for feature in numerical_features:\n",
    "  min_max_scaler = MinMaxScaler() # TODO try from sklearn.preprocessing import StandardScaler on ALLL features\n",
    "  preprocessed_features[[feature]] = min_max_scaler.fit_transform(preprocessed_features[[feature]])\n",
    "\n",
    "# one hot encode all non-numerical features\n",
    "non_numerical_features = [preprocessed_features.dtypes.index[i] for i, e in enumerate(preprocessed_features.dtypes) if e != \"float64\"]\n",
    "for feature in non_numerical_features:\n",
    "    encoded_feature = pd.get_dummies(preprocessed_features[feature], prefix=feature+\"_\")\n",
    "    for new_feature in encoded_feature.columns:\n",
    "        preprocessed_features[new_feature] = encoded_feature[new_feature]\n",
    "\n",
    "# drop original columns of non-numerical features\n",
    "preprocessed_features = preprocessed_features.drop(non_numerical_features, axis=1)"
   ]
  },
  {
   "cell_type": "code",
   "execution_count": null,
   "metadata": {},
   "outputs": [],
   "source": [
    "!pip install yellowbrick"
   ]
  },
  {
   "cell_type": "code",
   "execution_count": 14,
   "metadata": {},
   "outputs": [
    {
     "data": {
      "image/png": "[encoded data removed]",
      "text/plain": [
       "<Figure size 800x550 with 2 Axes>"
      ]
     },
     "metadata": {},
     "output_type": "display_data"
    },
    {
     "data": {
      "text/plain": [
       "<AxesSubplot:title={'center':'Distortion Score Elbow for KMeans Clustering'}, xlabel='k', ylabel='distortion score'>"
      ]
     },
     "execution_count": 14,
     "metadata": {},
     "output_type": "execute_result"
    }
   ],
   "source": [
    "from sklearn.cluster import KMeans\n",
    "from yellowbrick.cluster import KElbowVisualizer\n",
    "\n",
    "# Finding the optimal number of clusters using the Elbow method with yellowbrick\n",
    "model = KMeans(n_init=10)\n",
    "visualizer = KElbowVisualizer(model, k=(1,20))\n",
    "visualizer.fit(preprocessed_features)\n",
    "n_clusters = visualizer.elbow_value_ # optimal number of clusters\n",
    "visualizer.show()"
   ]
  },
  {
   "cell_type": "code",
   "execution_count": 50,
   "metadata": {},
   "outputs": [],
   "source": [
    "# cluster with k-means - k = 10\n",
    "# hyperparam: see here for more info: https://towardsdatascience.com/kmeans-hyper-parameters-explained-with-examples-c93505820cd3\n",
    "# numbers of clusters, \n",
    "# init: approx centroids of each cluster/diagnosis by setting each cluster's centroid close to high values of symptoms underlying the diagnosis -->  issue: clustering algo not generic anymore\n",
    "# initialization strategy,\n",
    "# convergence criteria,\n",
    "# distance metric\n",
    "kmeans = KMeans(n_clusters=5, n_init=100, random_state=2).fit(preprocessed_features)\n",
    "\n",
    "# Adding the column 'cluster' to the dataframe\n",
    "preprocessed_features[\"cluster\"] = kmeans.labels_"
   ]
  },
  {
   "attachments": {},
   "cell_type": "markdown",
   "metadata": {},
   "source": [
    "## examine diagnoses per cluster: clusters decided by one diagnoses particularly?"
   ]
  },
  {
   "cell_type": "code",
   "execution_count": 51,
   "metadata": {},
   "outputs": [
    {
     "name": "stdout",
     "output_type": "stream",
     "text": [
      "Diagnoses determining clusters: Empty DataFrame\n",
      "Columns: [diagnosis, number_cluster_appearance]\n",
      "Index: []\n"
     ]
    },
    {
     "data": {
      "application/vnd.plotly.v1+json": {
       "config": {
        "plotlyServerURL": "https://plot.ly"
       },
       "data": [
        {
         "alignmentgroup": "True",
         "hovertemplate": "diagnosis=common cold<br>cluster=%{x}<br>number_consultations=%{y}<extra></extra>",
         "legendgroup": "",
         "marker": {
          "color": "#636efa",
          "pattern": {
           "shape": ""
          }
         },
         "name": "",
         "offsetgroup": "",
         "orientation": "v",
         "showlegend": false,
         "textposition": "auto",
         "type": "bar",
         "x": [
          0,
          1,
          2,
          3,
          4
         ],
         "xaxis": "x",
         "y": [
          352,
          6846,
          4877,
          1158,
          805
         ],
         "yaxis": "y"
        }
       ],
       "frames": [
        {
         "data": [
          {
           "alignmentgroup": "True",
           "hovertemplate": "diagnosis=common cold<br>cluster=%{x}<br>number_consultations=%{y}<extra></extra>",
           "legendgroup": "",
           "marker": {
            "color": "#636efa",
            "pattern": {
             "shape": ""
            }
           },
           "name": "",
           "offsetgroup": "",
           "orientation": "v",
           "showlegend": false,
           "textposition": "auto",
           "type": "bar",
           "x": [
            0,
            1,
            2,
            3,
            4
           ],
           "xaxis": "x",
           "y": [
            352,
            6846,
            4877,
            1158,
            805
           ],
           "yaxis": "y"
          }
         ],
         "name": "common cold"
        },
        {
         "data": [
          {
           "alignmentgroup": "True",
           "hovertemplate": "diagnosis=non-severe abdominal condition<br>cluster=%{x}<br>number_consultations=%{y}<extra></extra>",
           "legendgroup": "",
           "marker": {
            "color": "#636efa",
            "pattern": {
             "shape": ""
            }
           },
           "name": "",
           "offsetgroup": "",
           "orientation": "v",
           "showlegend": false,
           "textposition": "auto",
           "type": "bar",
           "x": [
            0,
            1,
            2,
            3,
            4
           ],
           "xaxis": "x",
           "y": [
            1026,
            2364,
            2742,
            2568,
            1646
           ],
           "yaxis": "y"
          }
         ],
         "name": "non-severe abdominal condition"
        },
        {
         "data": [
          {
           "alignmentgroup": "True",
           "hovertemplate": "diagnosis=viral pneumonia<br>cluster=%{x}<br>number_consultations=%{y}<extra></extra>",
           "legendgroup": "",
           "marker": {
            "color": "#636efa",
            "pattern": {
             "shape": ""
            }
           },
           "name": "",
           "offsetgroup": "",
           "orientation": "v",
           "showlegend": false,
           "textposition": "auto",
           "type": "bar",
           "x": [
            0,
            1,
            2,
            3,
            4
           ],
           "xaxis": "x",
           "y": [
            20,
            2156,
            2710,
            22,
            22
           ],
           "yaxis": "y"
          }
         ],
         "name": "viral pneumonia"
        },
        {
         "data": [
          {
           "alignmentgroup": "True",
           "hovertemplate": "diagnosis=bacterial pneumonia<br>cluster=%{x}<br>number_consultations=%{y}<extra></extra>",
           "legendgroup": "",
           "marker": {
            "color": "#636efa",
            "pattern": {
             "shape": ""
            }
           },
           "name": "",
           "offsetgroup": "",
           "orientation": "v",
           "showlegend": false,
           "textposition": "auto",
           "type": "bar",
           "x": [
            0,
            1,
            2,
            3,
            4
           ],
           "xaxis": "x",
           "y": [
            120,
            654,
            1914,
            24,
            52
           ],
           "yaxis": "y"
          }
         ],
         "name": "bacterial pneumonia"
        },
        {
         "data": [
          {
           "alignmentgroup": "True",
           "hovertemplate": "diagnosis=mild/moderate anemia<br>cluster=%{x}<br>number_consultations=%{y}<extra></extra>",
           "legendgroup": "",
           "marker": {
            "color": "#636efa",
            "pattern": {
             "shape": ""
            }
           },
           "name": "",
           "offsetgroup": "",
           "orientation": "v",
           "showlegend": false,
           "textposition": "auto",
           "type": "bar",
           "x": [
            0,
            1,
            2,
            3,
            4
           ],
           "xaxis": "x",
           "y": [
            1,
            223,
            1551,
            184,
            699
           ],
           "yaxis": "y"
          }
         ],
         "name": "mild/moderate anemia"
        },
        {
         "data": [
          {
           "alignmentgroup": "True",
           "hovertemplate": "diagnosis=acute diarrhea<br>cluster=%{x}<br>number_consultations=%{y}<extra></extra>",
           "legendgroup": "",
           "marker": {
            "color": "#636efa",
            "pattern": {
             "shape": ""
            }
           },
           "name": "",
           "offsetgroup": "",
           "orientation": "v",
           "showlegend": false,
           "textposition": "auto",
           "type": "bar",
           "x": [
            0,
            1,
            2,
            3,
            4
           ],
           "xaxis": "x",
           "y": [
            35,
            469,
            427,
            1000,
            360
           ],
           "yaxis": "y"
          }
         ],
         "name": "acute diarrhea"
        },
        {
         "data": [
          {
           "alignmentgroup": "True",
           "hovertemplate": "diagnosis=bacterial conjunctivitis (< 5 y)<br>cluster=%{x}<br>number_consultations=%{y}<extra></extra>",
           "legendgroup": "",
           "marker": {
            "color": "#636efa",
            "pattern": {
             "shape": ""
            }
           },
           "name": "",
           "offsetgroup": "",
           "orientation": "v",
           "showlegend": false,
           "textposition": "auto",
           "type": "bar",
           "x": [
            0,
            1,
            2,
            3,
            4
           ],
           "xaxis": "x",
           "y": [
            54,
            477,
            243,
            993,
            120
           ],
           "yaxis": "y"
          }
         ],
         "name": "bacterial conjunctivitis (< 5 y)"
        },
        {
         "data": [
          {
           "alignmentgroup": "True",
           "hovertemplate": "diagnosis=non-severe headache<br>cluster=%{x}<br>number_consultations=%{y}<extra></extra>",
           "legendgroup": "",
           "marker": {
            "color": "#636efa",
            "pattern": {
             "shape": ""
            }
           },
           "name": "",
           "offsetgroup": "",
           "orientation": "v",
           "showlegend": false,
           "textposition": "auto",
           "type": "bar",
           "x": [
            0,
            1,
            2,
            3,
            4
           ],
           "xaxis": "x",
           "y": [
            1,
            412,
            587,
            374,
            404
           ],
           "yaxis": "y"
          }
         ],
         "name": "non-severe headache"
        },
        {
         "data": [
          {
           "alignmentgroup": "True",
           "hovertemplate": "diagnosis=intestinal parasitic infection: protozoa<br>cluster=%{x}<br>number_consultations=%{y}<extra></extra>",
           "legendgroup": "",
           "marker": {
            "color": "#636efa",
            "pattern": {
             "shape": ""
            }
           },
           "name": "",
           "offsetgroup": "",
           "orientation": "v",
           "showlegend": false,
           "textposition": "auto",
           "type": "bar",
           "x": [
            0,
            1,
            2,
            3,
            4
           ],
           "xaxis": "x",
           "y": [
            36,
            269,
            375,
            362,
            209
           ],
           "yaxis": "y"
          }
         ],
         "name": "intestinal parasitic infection: protozoa"
        },
        {
         "data": [
          {
           "alignmentgroup": "True",
           "hovertemplate": "diagnosis=viral conjunctivitis (< 5y)<br>cluster=%{x}<br>number_consultations=%{y}<extra></extra>",
           "legendgroup": "",
           "marker": {
            "color": "#636efa",
            "pattern": {
             "shape": ""
            }
           },
           "name": "",
           "offsetgroup": "",
           "orientation": "v",
           "showlegend": false,
           "textposition": "auto",
           "type": "bar",
           "x": [
            0,
            1,
            2,
            3,
            4
           ],
           "xaxis": "x",
           "y": [
            0,
            267,
            105,
            753,
            48
           ],
           "yaxis": "y"
          }
         ],
         "name": "viral conjunctivitis (< 5y)"
        }
       ],
       "layout": {
        "barmode": "group",
        "legend": {
         "tracegroupgap": 0
        },
        "sliders": [
         {
          "active": 0,
          "currentvalue": {
           "prefix": "diagnosis="
          },
          "len": 0.9,
          "pad": {
           "b": 10,
           "t": 60
          },
          "steps": [
           {
            "args": [
             [
              "common cold"
             ],
             {
              "frame": {
               "duration": 0,
               "redraw": true
              },
              "fromcurrent": true,
              "mode": "immediate",
              "transition": {
               "duration": 0,
               "easing": "linear"
              }
             }
            ],
            "label": "common cold",
            "method": "animate"
           },
           {
            "args": [
             [
              "non-severe abdominal condition"
             ],
             {
              "frame": {
               "duration": 0,
               "redraw": true
              },
              "fromcurrent": true,
              "mode": "immediate",
              "transition": {
               "duration": 0,
               "easing": "linear"
              }
             }
            ],
            "label": "non-severe abdominal condition",
            "method": "animate"
           },
           {
            "args": [
             [
              "viral pneumonia"
             ],
             {
              "frame": {
               "duration": 0,
               "redraw": true
              },
              "fromcurrent": true,
              "mode": "immediate",
              "transition": {
               "duration": 0,
               "easing": "linear"
              }
             }
            ],
            "label": "viral pneumonia",
            "method": "animate"
           },
           {
            "args": [
             [
              "bacterial pneumonia"
             ],
             {
              "frame": {
               "duration": 0,
               "redraw": true
              },
              "fromcurrent": true,
              "mode": "immediate",
              "transition": {
               "duration": 0,
               "easing": "linear"
              }
             }
            ],
            "label": "bacterial pneumonia",
            "method": "animate"
           },
           {
            "args": [
             [
              "mild/moderate anemia"
             ],
             {
              "frame": {
               "duration": 0,
               "redraw": true
              },
              "fromcurrent": true,
              "mode": "immediate",
              "transition": {
               "duration": 0,
               "easing": "linear"
              }
             }
            ],
            "label": "mild/moderate anemia",
            "method": "animate"
           },
           {
            "args": [
             [
              "acute diarrhea"
             ],
             {
              "frame": {
               "duration": 0,
               "redraw": true
              },
              "fromcurrent": true,
              "mode": "immediate",
              "transition": {
               "duration": 0,
               "easing": "linear"
              }
             }
            ],
            "label": "acute diarrhea",
            "method": "animate"
           },
           {
            "args": [
             [
              "bacterial conjunctivitis (< 5 y)"
             ],
             {
              "frame": {
               "duration": 0,
               "redraw": true
              },
              "fromcurrent": true,
              "mode": "immediate",
              "transition": {
               "duration": 0,
               "easing": "linear"
              }
             }
            ],
            "label": "bacterial conjunctivitis (< 5 y)",
            "method": "animate"
           },
           {
            "args": [
             [
              "non-severe headache"
             ],
             {
              "frame": {
               "duration": 0,
               "redraw": true
              },
              "fromcurrent": true,
              "mode": "immediate",
              "transition": {
               "duration": 0,
               "easing": "linear"
              }
             }
            ],
            "label": "non-severe headache",
            "method": "animate"
           },
           {
            "args": [
             [
              "intestinal parasitic infection: protozoa"
             ],
             {
              "frame": {
               "duration": 0,
               "redraw": true
              },
              "fromcurrent": true,
              "mode": "immediate",
              "transition": {
               "duration": 0,
               "easing": "linear"
              }
             }
            ],
            "label": "intestinal parasitic infection: protozoa",
            "method": "animate"
           },
           {
            "args": [
             [
              "viral conjunctivitis (< 5y)"
             ],
             {
              "frame": {
               "duration": 0,
               "redraw": true
              },
              "fromcurrent": true,
              "mode": "immediate",
              "transition": {
               "duration": 0,
               "easing": "linear"
              }
             }
            ],
            "label": "viral conjunctivitis (< 5y)",
            "method": "animate"
           }
          ],
          "x": 0.1,
          "xanchor": "left",
          "y": 0,
          "yanchor": "top"
         }
        ],
        "template": {
         "data": {
          "bar": [
           {
            "error_x": {
             "color": "#2a3f5f"
            },
            "error_y": {
             "color": "#2a3f5f"
            },
            "marker": {
             "line": {
              "color": "#E5ECF6",
              "width": 0.5
             },
             "pattern": {
              "fillmode": "overlay",
              "size": 10,
              "solidity": 0.2
             }
            },
            "type": "bar"
           }
          ],
          "barpolar": [
           {
            "marker": {
             "line": {
              "color": "#E5ECF6",
              "width": 0.5
             },
             "pattern": {
              "fillmode": "overlay",
              "size": 10,
              "solidity": 0.2
             }
            },
            "type": "barpolar"
           }
          ],
          "carpet": [
           {
            "aaxis": {
             "endlinecolor": "#2a3f5f",
             "gridcolor": "white",
             "linecolor": "white",
             "minorgridcolor": "white",
             "startlinecolor": "#2a3f5f"
            },
            "baxis": {
             "endlinecolor": "#2a3f5f",
             "gridcolor": "white",
             "linecolor": "white",
             "minorgridcolor": "white",
             "startlinecolor": "#2a3f5f"
            },
            "type": "carpet"
           }
          ],
          "choropleth": [
           {
            "colorbar": {
             "outlinewidth": 0,
             "ticks": ""
            },
            "type": "choropleth"
           }
          ],
          "contour": [
           {
            "colorbar": {
             "outlinewidth": 0,
             "ticks": ""
            },
            "colorscale": [
             [
              0,
              "#0d0887"
             ],
             [
              0.1111111111111111,
              "#46039f"
             ],
             [
              0.2222222222222222,
              "#7201a8"
             ],
             [
              0.3333333333333333,
              "#9c179e"
             ],
             [
              0.4444444444444444,
              "#bd3786"
             ],
             [
              0.5555555555555556,
              "#d8576b"
             ],
             [
              0.6666666666666666,
              "#ed7953"
             ],
             [
              0.7777777777777778,
              "#fb9f3a"
             ],
             [
              0.8888888888888888,
              "#fdca26"
             ],
             [
              1,
              "#f0f921"
             ]
            ],
            "type": "contour"
           }
          ],
          "contourcarpet": [
           {
            "colorbar": {
             "outlinewidth": 0,
             "ticks": ""
            },
            "type": "contourcarpet"
           }
          ],
          "heatmap": [
           {
            "colorbar": {
             "outlinewidth": 0,
             "ticks": ""
            },
            "colorscale": [
             [
              0,
              "#0d0887"
             ],
             [
              0.1111111111111111,
              "#46039f"
             ],
             [
              0.2222222222222222,
              "#7201a8"
             ],
             [
              0.3333333333333333,
              "#9c179e"
             ],
             [
              0.4444444444444444,
              "#bd3786"
             ],
             [
              0.5555555555555556,
              "#d8576b"
             ],
             [
              0.6666666666666666,
              "#ed7953"
             ],
             [
              0.7777777777777778,
              "#fb9f3a"
             ],
             [
              0.8888888888888888,
              "#fdca26"
             ],
             [
              1,
              "#f0f921"
             ]
            ],
            "type": "heatmap"
           }
          ],
          "heatmapgl": [
           {
            "colorbar": {
             "outlinewidth": 0,
             "ticks": ""
            },
            "colorscale": [
             [
              0,
              "#0d0887"
             ],
             [
              0.1111111111111111,
              "#46039f"
             ],
             [
              0.2222222222222222,
              "#7201a8"
             ],
             [
              0.3333333333333333,
              "#9c179e"
             ],
             [
              0.4444444444444444,
              "#bd3786"
             ],
             [
              0.5555555555555556,
              "#d8576b"
             ],
             [
              0.6666666666666666,
              "#ed7953"
             ],
             [
              0.7777777777777778,
              "#fb9f3a"
             ],
             [
              0.8888888888888888,
              "#fdca26"
             ],
             [
              1,
              "#f0f921"
             ]
            ],
            "type": "heatmapgl"
           }
          ],
          "histogram": [
           {
            "marker": {
             "pattern": {
              "fillmode": "overlay",
              "size": 10,
              "solidity": 0.2
             }
            },
            "type": "histogram"
           }
          ],
          "histogram2d": [
           {
            "colorbar": {
             "outlinewidth": 0,
             "ticks": ""
            },
            "colorscale": [
             [
              0,
              "#0d0887"
             ],
             [
              0.1111111111111111,
              "#46039f"
             ],
             [
              0.2222222222222222,
              "#7201a8"
             ],
             [
              0.3333333333333333,
              "#9c179e"
             ],
             [
              0.4444444444444444,
              "#bd3786"
             ],
             [
              0.5555555555555556,
              "#d8576b"
             ],
             [
              0.6666666666666666,
              "#ed7953"
             ],
             [
              0.7777777777777778,
              "#fb9f3a"
             ],
             [
              0.8888888888888888,
              "#fdca26"
             ],
             [
              1,
              "#f0f921"
             ]
            ],
            "type": "histogram2d"
           }
          ],
          "histogram2dcontour": [
           {
            "colorbar": {
             "outlinewidth": 0,
             "ticks": ""
            },
            "colorscale": [
             [
              0,
              "#0d0887"
             ],
             [
              0.1111111111111111,
              "#46039f"
             ],
             [
              0.2222222222222222,
              "#7201a8"
             ],
             [
              0.3333333333333333,
              "#9c179e"
             ],
             [
              0.4444444444444444,
              "#bd3786"
             ],
             [
              0.5555555555555556,
              "#d8576b"
             ],
             [
              0.6666666666666666,
              "#ed7953"
             ],
             [
              0.7777777777777778,
              "#fb9f3a"
             ],
             [
              0.8888888888888888,
              "#fdca26"
             ],
             [
              1,
              "#f0f921"
             ]
            ],
            "type": "histogram2dcontour"
           }
          ],
          "mesh3d": [
           {
            "colorbar": {
             "outlinewidth": 0,
             "ticks": ""
            },
            "type": "mesh3d"
           }
          ],
          "parcoords": [
           {
            "line": {
             "colorbar": {
              "outlinewidth": 0,
              "ticks": ""
             }
            },
            "type": "parcoords"
           }
          ],
          "pie": [
           {
            "automargin": true,
            "type": "pie"
           }
          ],
          "scatter": [
           {
            "fillpattern": {
             "fillmode": "overlay",
             "size": 10,
             "solidity": 0.2
            },
            "type": "scatter"
           }
          ],
          "scatter3d": [
           {
            "line": {
             "colorbar": {
              "outlinewidth": 0,
              "ticks": ""
             }
            },
            "marker": {
             "colorbar": {
              "outlinewidth": 0,
              "ticks": ""
             }
            },
            "type": "scatter3d"
           }
          ],
          "scattercarpet": [
           {
            "marker": {
             "colorbar": {
              "outlinewidth": 0,
              "ticks": ""
             }
            },
            "type": "scattercarpet"
           }
          ],
          "scattergeo": [
           {
            "marker": {
             "colorbar": {
              "outlinewidth": 0,
              "ticks": ""
             }
            },
            "type": "scattergeo"
           }
          ],
          "scattergl": [
           {
            "marker": {
             "colorbar": {
              "outlinewidth": 0,
              "ticks": ""
             }
            },
            "type": "scattergl"
           }
          ],
          "scattermapbox": [
           {
            "marker": {
             "colorbar": {
              "outlinewidth": 0,
              "ticks": ""
             }
            },
            "type": "scattermapbox"
           }
          ],
          "scatterpolar": [
           {
            "marker": {
             "colorbar": {
              "outlinewidth": 0,
              "ticks": ""
             }
            },
            "type": "scatterpolar"
           }
          ],
          "scatterpolargl": [
           {
            "marker": {
             "colorbar": {
              "outlinewidth": 0,
              "ticks": ""
             }
            },
            "type": "scatterpolargl"
           }
          ],
          "scatterternary": [
           {
            "marker": {
             "colorbar": {
              "outlinewidth": 0,
              "ticks": ""
             }
            },
            "type": "scatterternary"
           }
          ],
          "surface": [
           {
            "colorbar": {
             "outlinewidth": 0,
             "ticks": ""
            },
            "colorscale": [
             [
              0,
              "#0d0887"
             ],
             [
              0.1111111111111111,
              "#46039f"
             ],
             [
              0.2222222222222222,
              "#7201a8"
             ],
             [
              0.3333333333333333,
              "#9c179e"
             ],
             [
              0.4444444444444444,
              "#bd3786"
             ],
             [
              0.5555555555555556,
              "#d8576b"
             ],
             [
              0.6666666666666666,
              "#ed7953"
             ],
             [
              0.7777777777777778,
              "#fb9f3a"
             ],
             [
              0.8888888888888888,
              "#fdca26"
             ],
             [
              1,
              "#f0f921"
             ]
            ],
            "type": "surface"
           }
          ],
          "table": [
           {
            "cells": {
             "fill": {
              "color": "#EBF0F8"
             },
             "line": {
              "color": "white"
             }
            },
            "header": {
             "fill": {
              "color": "#C8D4E3"
             },
             "line": {
              "color": "white"
             }
            },
            "type": "table"
           }
          ]
         },
         "layout": {
          "annotationdefaults": {
           "arrowcolor": "#2a3f5f",
           "arrowhead": 0,
           "arrowwidth": 1
          },
          "autotypenumbers": "strict",
          "coloraxis": {
           "colorbar": {
            "outlinewidth": 0,
            "ticks": ""
           }
          },
          "colorscale": {
           "diverging": [
            [
             0,
             "#8e0152"
            ],
            [
             0.1,
             "#c51b7d"
            ],
            [
             0.2,
             "#de77ae"
            ],
            [
             0.3,
             "#f1b6da"
            ],
            [
             0.4,
             "#fde0ef"
            ],
            [
             0.5,
             "#f7f7f7"
            ],
            [
             0.6,
             "#e6f5d0"
            ],
            [
             0.7,
             "#b8e186"
            ],
            [
             0.8,
             "#7fbc41"
            ],
            [
             0.9,
             "#4d9221"
            ],
            [
             1,
             "#276419"
            ]
           ],
           "sequential": [
            [
             0,
             "#0d0887"
            ],
            [
             0.1111111111111111,
             "#46039f"
            ],
            [
             0.2222222222222222,
             "#7201a8"
            ],
            [
             0.3333333333333333,
             "#9c179e"
            ],
            [
             0.4444444444444444,
             "#bd3786"
            ],
            [
             0.5555555555555556,
             "#d8576b"
            ],
            [
             0.6666666666666666,
             "#ed7953"
            ],
            [
             0.7777777777777778,
             "#fb9f3a"
            ],
            [
             0.8888888888888888,
             "#fdca26"
            ],
            [
             1,
             "#f0f921"
            ]
           ],
           "sequentialminus": [
            [
             0,
             "#0d0887"
            ],
            [
             0.1111111111111111,
             "#46039f"
            ],
            [
             0.2222222222222222,
             "#7201a8"
            ],
            [
             0.3333333333333333,
             "#9c179e"
            ],
            [
             0.4444444444444444,
             "#bd3786"
            ],
            [
             0.5555555555555556,
             "#d8576b"
            ],
            [
             0.6666666666666666,
             "#ed7953"
            ],
            [
             0.7777777777777778,
             "#fb9f3a"
            ],
            [
             0.8888888888888888,
             "#fdca26"
            ],
            [
             1,
             "#f0f921"
            ]
           ]
          },
          "colorway": [
           "#636efa",
           "#EF553B",
           "#00cc96",
           "#ab63fa",
           "#FFA15A",
           "#19d3f3",
           "#FF6692",
           "#B6E880",
           "#FF97FF",
           "#FECB52"
          ],
          "font": {
           "color": "#2a3f5f"
          },
          "geo": {
           "bgcolor": "white",
           "lakecolor": "white",
           "landcolor": "#E5ECF6",
           "showlakes": true,
           "showland": true,
           "subunitcolor": "white"
          },
          "hoverlabel": {
           "align": "left"
          },
          "hovermode": "closest",
          "mapbox": {
           "style": "light"
          },
          "paper_bgcolor": "white",
          "plot_bgcolor": "#E5ECF6",
          "polar": {
           "angularaxis": {
            "gridcolor": "white",
            "linecolor": "white",
            "ticks": ""
           },
           "bgcolor": "#E5ECF6",
           "radialaxis": {
            "gridcolor": "white",
            "linecolor": "white",
            "ticks": ""
           }
          },
          "scene": {
           "xaxis": {
            "backgroundcolor": "#E5ECF6",
            "gridcolor": "white",
            "gridwidth": 2,
            "linecolor": "white",
            "showbackground": true,
            "ticks": "",
            "zerolinecolor": "white"
           },
           "yaxis": {
            "backgroundcolor": "#E5ECF6",
            "gridcolor": "white",
            "gridwidth": 2,
            "linecolor": "white",
            "showbackground": true,
            "ticks": "",
            "zerolinecolor": "white"
           },
           "zaxis": {
            "backgroundcolor": "#E5ECF6",
            "gridcolor": "white",
            "gridwidth": 2,
            "linecolor": "white",
            "showbackground": true,
            "ticks": "",
            "zerolinecolor": "white"
           }
          },
          "shapedefaults": {
           "line": {
            "color": "#2a3f5f"
           }
          },
          "ternary": {
           "aaxis": {
            "gridcolor": "white",
            "linecolor": "white",
            "ticks": ""
           },
           "baxis": {
            "gridcolor": "white",
            "linecolor": "white",
            "ticks": ""
           },
           "bgcolor": "#E5ECF6",
           "caxis": {
            "gridcolor": "white",
            "linecolor": "white",
            "ticks": ""
           }
          },
          "title": {
           "x": 0.05
          },
          "xaxis": {
           "automargin": true,
           "gridcolor": "white",
           "linecolor": "white",
           "ticks": "",
           "title": {
            "standoff": 15
           },
           "zerolinecolor": "white",
           "zerolinewidth": 2
          },
          "yaxis": {
           "automargin": true,
           "gridcolor": "white",
           "linecolor": "white",
           "ticks": "",
           "title": {
            "standoff": 15
           },
           "zerolinecolor": "white",
           "zerolinewidth": 2
          }
         }
        },
        "title": {
         "text": "Number of consultations with respective diagnosis per cluster"
        },
        "updatemenus": [
         {
          "buttons": [
           {
            "args": [
             null,
             {
              "frame": {
               "duration": 500,
               "redraw": true
              },
              "fromcurrent": true,
              "mode": "immediate",
              "transition": {
               "duration": 500,
               "easing": "linear"
              }
             }
            ],
            "label": "&#9654;",
            "method": "animate"
           },
           {
            "args": [
             [
              null
             ],
             {
              "frame": {
               "duration": 0,
               "redraw": true
              },
              "fromcurrent": true,
              "mode": "immediate",
              "transition": {
               "duration": 0,
               "easing": "linear"
              }
             }
            ],
            "label": "&#9724;",
            "method": "animate"
           }
          ],
          "direction": "left",
          "pad": {
           "r": 10,
           "t": 70
          },
          "showactive": false,
          "type": "buttons",
          "x": 0.1,
          "xanchor": "right",
          "y": 0,
          "yanchor": "top"
         }
        ],
        "xaxis": {
         "anchor": "y",
         "domain": [
          0,
          1
         ],
         "title": {
          "text": "cluster"
         }
        },
        "yaxis": {
         "anchor": "x",
         "domain": [
          0,
          1
         ],
         "title": {
          "text": "number_consultations"
         }
        }
       }
      }
     },
     "metadata": {},
     "output_type": "display_data"
    },
    {
     "data": {
      "application/vnd.plotly.v1+json": {
       "config": {
        "plotlyServerURL": "https://plot.ly"
       },
       "data": [
        {
         "domain": {
          "x": [
           0,
           0.16799999999999998
          ],
          "y": [
           0,
           1
          ]
         },
         "hoverinfo": "label+percent+name",
         "labels": [
          "non-severe abdominal condition",
          "common cold",
          "bacterial pneumonia",
          "bacterial conjunctivitis (< 5 y)",
          "intestinal parasitic infection: protozoa",
          "acute diarrhea",
          "viral pneumonia",
          "mild/moderate anemia",
          "non-severe headache",
          "viral conjunctivitis (< 5y)",
          "other"
         ],
         "name": "Cluster 0",
         "type": "pie",
         "values": [
          1026,
          352,
          120,
          54,
          36,
          35,
          20,
          1,
          1,
          0,
          0
         ]
        },
        {
         "domain": {
          "x": [
           0.208,
           0.376
          ],
          "y": [
           0,
           1
          ]
         },
         "hoverinfo": "label+percent+name",
         "labels": [
          "common cold",
          "non-severe abdominal condition",
          "viral pneumonia",
          "bacterial pneumonia",
          "bacterial conjunctivitis (< 5 y)",
          "acute diarrhea",
          "non-severe headache",
          "intestinal parasitic infection: protozoa",
          "viral conjunctivitis (< 5y)",
          "mild/moderate anemia",
          "other"
         ],
         "name": "Cluster 1",
         "type": "pie",
         "values": [
          6846,
          2364,
          2156,
          654,
          477,
          469,
          412,
          269,
          267,
          223,
          0
         ]
        },
        {
         "domain": {
          "x": [
           0.416,
           0.584
          ],
          "y": [
           0,
           1
          ]
         },
         "hoverinfo": "label+percent+name",
         "labels": [
          "common cold",
          "non-severe abdominal condition",
          "viral pneumonia",
          "bacterial pneumonia",
          "mild/moderate anemia",
          "non-severe headache",
          "acute diarrhea",
          "intestinal parasitic infection: protozoa",
          "bacterial conjunctivitis (< 5 y)",
          "viral conjunctivitis (< 5y)",
          "other"
         ],
         "name": "Cluster 2",
         "type": "pie",
         "values": [
          4877,
          2742,
          2710,
          1914,
          1551,
          587,
          427,
          375,
          243,
          105,
          0
         ]
        },
        {
         "domain": {
          "x": [
           0.624,
           0.792
          ],
          "y": [
           0,
           1
          ]
         },
         "hoverinfo": "label+percent+name",
         "labels": [
          "non-severe abdominal condition",
          "common cold",
          "acute diarrhea",
          "bacterial conjunctivitis (< 5 y)",
          "viral conjunctivitis (< 5y)",
          "non-severe headache",
          "intestinal parasitic infection: protozoa",
          "mild/moderate anemia",
          "bacterial pneumonia",
          "viral pneumonia",
          "other"
         ],
         "name": "Cluster 3",
         "type": "pie",
         "values": [
          2568,
          1158,
          1000,
          993,
          753,
          374,
          362,
          184,
          24,
          22,
          0
         ]
        },
        {
         "domain": {
          "x": [
           0.832,
           1
          ],
          "y": [
           0,
           1
          ]
         },
         "hoverinfo": "label+percent+name",
         "labels": [
          "non-severe abdominal condition",
          "common cold",
          "mild/moderate anemia",
          "non-severe headache",
          "acute diarrhea",
          "intestinal parasitic infection: protozoa",
          "bacterial conjunctivitis (< 5 y)",
          "bacterial pneumonia",
          "viral conjunctivitis (< 5y)",
          "viral pneumonia",
          "other"
         ],
         "name": "Cluster 4",
         "type": "pie",
         "values": [
          1646,
          805,
          699,
          404,
          360,
          209,
          120,
          52,
          48,
          22,
          0
         ]
        }
       ],
       "layout": {
        "template": {
         "data": {
          "bar": [
           {
            "error_x": {
             "color": "#2a3f5f"
            },
            "error_y": {
             "color": "#2a3f5f"
            },
            "marker": {
             "line": {
              "color": "#E5ECF6",
              "width": 0.5
             },
             "pattern": {
              "fillmode": "overlay",
              "size": 10,
              "solidity": 0.2
             }
            },
            "type": "bar"
           }
          ],
          "barpolar": [
           {
            "marker": {
             "line": {
              "color": "#E5ECF6",
              "width": 0.5
             },
             "pattern": {
              "fillmode": "overlay",
              "size": 10,
              "solidity": 0.2
             }
            },
            "type": "barpolar"
           }
          ],
          "carpet": [
           {
            "aaxis": {
             "endlinecolor": "#2a3f5f",
             "gridcolor": "white",
             "linecolor": "white",
             "minorgridcolor": "white",
             "startlinecolor": "#2a3f5f"
            },
            "baxis": {
             "endlinecolor": "#2a3f5f",
             "gridcolor": "white",
             "linecolor": "white",
             "minorgridcolor": "white",
             "startlinecolor": "#2a3f5f"
            },
            "type": "carpet"
           }
          ],
          "choropleth": [
           {
            "colorbar": {
             "outlinewidth": 0,
             "ticks": ""
            },
            "type": "choropleth"
           }
          ],
          "contour": [
           {
            "colorbar": {
             "outlinewidth": 0,
             "ticks": ""
            },
            "colorscale": [
             [
              0,
              "#0d0887"
             ],
             [
              0.1111111111111111,
              "#46039f"
             ],
             [
              0.2222222222222222,
              "#7201a8"
             ],
             [
              0.3333333333333333,
              "#9c179e"
             ],
             [
              0.4444444444444444,
              "#bd3786"
             ],
             [
              0.5555555555555556,
              "#d8576b"
             ],
             [
              0.6666666666666666,
              "#ed7953"
             ],
             [
              0.7777777777777778,
              "#fb9f3a"
             ],
             [
              0.8888888888888888,
              "#fdca26"
             ],
             [
              1,
              "#f0f921"
             ]
            ],
            "type": "contour"
           }
          ],
          "contourcarpet": [
           {
            "colorbar": {
             "outlinewidth": 0,
             "ticks": ""
            },
            "type": "contourcarpet"
           }
          ],
          "heatmap": [
           {
            "colorbar": {
             "outlinewidth": 0,
             "ticks": ""
            },
            "colorscale": [
             [
              0,
              "#0d0887"
             ],
             [
              0.1111111111111111,
              "#46039f"
             ],
             [
              0.2222222222222222,
              "#7201a8"
             ],
             [
              0.3333333333333333,
              "#9c179e"
             ],
             [
              0.4444444444444444,
              "#bd3786"
             ],
             [
              0.5555555555555556,
              "#d8576b"
             ],
             [
              0.6666666666666666,
              "#ed7953"
             ],
             [
              0.7777777777777778,
              "#fb9f3a"
             ],
             [
              0.8888888888888888,
              "#fdca26"
             ],
             [
              1,
              "#f0f921"
             ]
            ],
            "type": "heatmap"
           }
          ],
          "heatmapgl": [
           {
            "colorbar": {
             "outlinewidth": 0,
             "ticks": ""
            },
            "colorscale": [
             [
              0,
              "#0d0887"
             ],
             [
              0.1111111111111111,
              "#46039f"
             ],
             [
              0.2222222222222222,
              "#7201a8"
             ],
             [
              0.3333333333333333,
              "#9c179e"
             ],
             [
              0.4444444444444444,
              "#bd3786"
             ],
             [
              0.5555555555555556,
              "#d8576b"
             ],
             [
              0.6666666666666666,
              "#ed7953"
             ],
             [
              0.7777777777777778,
              "#fb9f3a"
             ],
             [
              0.8888888888888888,
              "#fdca26"
             ],
             [
              1,
              "#f0f921"
             ]
            ],
            "type": "heatmapgl"
           }
          ],
          "histogram": [
           {
            "marker": {
             "pattern": {
              "fillmode": "overlay",
              "size": 10,
              "solidity": 0.2
             }
            },
            "type": "histogram"
           }
          ],
          "histogram2d": [
           {
            "colorbar": {
             "outlinewidth": 0,
             "ticks": ""
            },
            "colorscale": [
             [
              0,
              "#0d0887"
             ],
             [
              0.1111111111111111,
              "#46039f"
             ],
             [
              0.2222222222222222,
              "#7201a8"
             ],
             [
              0.3333333333333333,
              "#9c179e"
             ],
             [
              0.4444444444444444,
              "#bd3786"
             ],
             [
              0.5555555555555556,
              "#d8576b"
             ],
             [
              0.6666666666666666,
              "#ed7953"
             ],
             [
              0.7777777777777778,
              "#fb9f3a"
             ],
             [
              0.8888888888888888,
              "#fdca26"
             ],
             [
              1,
              "#f0f921"
             ]
            ],
            "type": "histogram2d"
           }
          ],
          "histogram2dcontour": [
           {
            "colorbar": {
             "outlinewidth": 0,
             "ticks": ""
            },
            "colorscale": [
             [
              0,
              "#0d0887"
             ],
             [
              0.1111111111111111,
              "#46039f"
             ],
             [
              0.2222222222222222,
              "#7201a8"
             ],
             [
              0.3333333333333333,
              "#9c179e"
             ],
             [
              0.4444444444444444,
              "#bd3786"
             ],
             [
              0.5555555555555556,
              "#d8576b"
             ],
             [
              0.6666666666666666,
              "#ed7953"
             ],
             [
              0.7777777777777778,
              "#fb9f3a"
             ],
             [
              0.8888888888888888,
              "#fdca26"
             ],
             [
              1,
              "#f0f921"
             ]
            ],
            "type": "histogram2dcontour"
           }
          ],
          "mesh3d": [
           {
            "colorbar": {
             "outlinewidth": 0,
             "ticks": ""
            },
            "type": "mesh3d"
           }
          ],
          "parcoords": [
           {
            "line": {
             "colorbar": {
              "outlinewidth": 0,
              "ticks": ""
             }
            },
            "type": "parcoords"
           }
          ],
          "pie": [
           {
            "automargin": true,
            "type": "pie"
           }
          ],
          "scatter": [
           {
            "fillpattern": {
             "fillmode": "overlay",
             "size": 10,
             "solidity": 0.2
            },
            "type": "scatter"
           }
          ],
          "scatter3d": [
           {
            "line": {
             "colorbar": {
              "outlinewidth": 0,
              "ticks": ""
             }
            },
            "marker": {
             "colorbar": {
              "outlinewidth": 0,
              "ticks": ""
             }
            },
            "type": "scatter3d"
           }
          ],
          "scattercarpet": [
           {
            "marker": {
             "colorbar": {
              "outlinewidth": 0,
              "ticks": ""
             }
            },
            "type": "scattercarpet"
           }
          ],
          "scattergeo": [
           {
            "marker": {
             "colorbar": {
              "outlinewidth": 0,
              "ticks": ""
             }
            },
            "type": "scattergeo"
           }
          ],
          "scattergl": [
           {
            "marker": {
             "colorbar": {
              "outlinewidth": 0,
              "ticks": ""
             }
            },
            "type": "scattergl"
           }
          ],
          "scattermapbox": [
           {
            "marker": {
             "colorbar": {
              "outlinewidth": 0,
              "ticks": ""
             }
            },
            "type": "scattermapbox"
           }
          ],
          "scatterpolar": [
           {
            "marker": {
             "colorbar": {
              "outlinewidth": 0,
              "ticks": ""
             }
            },
            "type": "scatterpolar"
           }
          ],
          "scatterpolargl": [
           {
            "marker": {
             "colorbar": {
              "outlinewidth": 0,
              "ticks": ""
             }
            },
            "type": "scatterpolargl"
           }
          ],
          "scatterternary": [
           {
            "marker": {
             "colorbar": {
              "outlinewidth": 0,
              "ticks": ""
             }
            },
            "type": "scatterternary"
           }
          ],
          "surface": [
           {
            "colorbar": {
             "outlinewidth": 0,
             "ticks": ""
            },
            "colorscale": [
             [
              0,
              "#0d0887"
             ],
             [
              0.1111111111111111,
              "#46039f"
             ],
             [
              0.2222222222222222,
              "#7201a8"
             ],
             [
              0.3333333333333333,
              "#9c179e"
             ],
             [
              0.4444444444444444,
              "#bd3786"
             ],
             [
              0.5555555555555556,
              "#d8576b"
             ],
             [
              0.6666666666666666,
              "#ed7953"
             ],
             [
              0.7777777777777778,
              "#fb9f3a"
             ],
             [
              0.8888888888888888,
              "#fdca26"
             ],
             [
              1,
              "#f0f921"
             ]
            ],
            "type": "surface"
           }
          ],
          "table": [
           {
            "cells": {
             "fill": {
              "color": "#EBF0F8"
             },
             "line": {
              "color": "white"
             }
            },
            "header": {
             "fill": {
              "color": "#C8D4E3"
             },
             "line": {
              "color": "white"
             }
            },
            "type": "table"
           }
          ]
         },
         "layout": {
          "annotationdefaults": {
           "arrowcolor": "#2a3f5f",
           "arrowhead": 0,
           "arrowwidth": 1
          },
          "autotypenumbers": "strict",
          "coloraxis": {
           "colorbar": {
            "outlinewidth": 0,
            "ticks": ""
           }
          },
          "colorscale": {
           "diverging": [
            [
             0,
             "#8e0152"
            ],
            [
             0.1,
             "#c51b7d"
            ],
            [
             0.2,
             "#de77ae"
            ],
            [
             0.3,
             "#f1b6da"
            ],
            [
             0.4,
             "#fde0ef"
            ],
            [
             0.5,
             "#f7f7f7"
            ],
            [
             0.6,
             "#e6f5d0"
            ],
            [
             0.7,
             "#b8e186"
            ],
            [
             0.8,
             "#7fbc41"
            ],
            [
             0.9,
             "#4d9221"
            ],
            [
             1,
             "#276419"
            ]
           ],
           "sequential": [
            [
             0,
             "#0d0887"
            ],
            [
             0.1111111111111111,
             "#46039f"
            ],
            [
             0.2222222222222222,
             "#7201a8"
            ],
            [
             0.3333333333333333,
             "#9c179e"
            ],
            [
             0.4444444444444444,
             "#bd3786"
            ],
            [
             0.5555555555555556,
             "#d8576b"
            ],
            [
             0.6666666666666666,
             "#ed7953"
            ],
            [
             0.7777777777777778,
             "#fb9f3a"
            ],
            [
             0.8888888888888888,
             "#fdca26"
            ],
            [
             1,
             "#f0f921"
            ]
           ],
           "sequentialminus": [
            [
             0,
             "#0d0887"
            ],
            [
             0.1111111111111111,
             "#46039f"
            ],
            [
             0.2222222222222222,
             "#7201a8"
            ],
            [
             0.3333333333333333,
             "#9c179e"
            ],
            [
             0.4444444444444444,
             "#bd3786"
            ],
            [
             0.5555555555555556,
             "#d8576b"
            ],
            [
             0.6666666666666666,
             "#ed7953"
            ],
            [
             0.7777777777777778,
             "#fb9f3a"
            ],
            [
             0.8888888888888888,
             "#fdca26"
            ],
            [
             1,
             "#f0f921"
            ]
           ]
          },
          "colorway": [
           "#636efa",
           "#EF553B",
           "#00cc96",
           "#ab63fa",
           "#FFA15A",
           "#19d3f3",
           "#FF6692",
           "#B6E880",
           "#FF97FF",
           "#FECB52"
          ],
          "font": {
           "color": "#2a3f5f"
          },
          "geo": {
           "bgcolor": "white",
           "lakecolor": "white",
           "landcolor": "#E5ECF6",
           "showlakes": true,
           "showland": true,
           "subunitcolor": "white"
          },
          "hoverlabel": {
           "align": "left"
          },
          "hovermode": "closest",
          "mapbox": {
           "style": "light"
          },
          "paper_bgcolor": "white",
          "plot_bgcolor": "#E5ECF6",
          "polar": {
           "angularaxis": {
            "gridcolor": "white",
            "linecolor": "white",
            "ticks": ""
           },
           "bgcolor": "#E5ECF6",
           "radialaxis": {
            "gridcolor": "white",
            "linecolor": "white",
            "ticks": ""
           }
          },
          "scene": {
           "xaxis": {
            "backgroundcolor": "#E5ECF6",
            "gridcolor": "white",
            "gridwidth": 2,
            "linecolor": "white",
            "showbackground": true,
            "ticks": "",
            "zerolinecolor": "white"
           },
           "yaxis": {
            "backgroundcolor": "#E5ECF6",
            "gridcolor": "white",
            "gridwidth": 2,
            "linecolor": "white",
            "showbackground": true,
            "ticks": "",
            "zerolinecolor": "white"
           },
           "zaxis": {
            "backgroundcolor": "#E5ECF6",
            "gridcolor": "white",
            "gridwidth": 2,
            "linecolor": "white",
            "showbackground": true,
            "ticks": "",
            "zerolinecolor": "white"
           }
          },
          "shapedefaults": {
           "line": {
            "color": "#2a3f5f"
           }
          },
          "ternary": {
           "aaxis": {
            "gridcolor": "white",
            "linecolor": "white",
            "ticks": ""
           },
           "baxis": {
            "gridcolor": "white",
            "linecolor": "white",
            "ticks": ""
           },
           "bgcolor": "#E5ECF6",
           "caxis": {
            "gridcolor": "white",
            "linecolor": "white",
            "ticks": ""
           }
          },
          "title": {
           "x": 0.05
          },
          "xaxis": {
           "automargin": true,
           "gridcolor": "white",
           "linecolor": "white",
           "ticks": "",
           "title": {
            "standoff": 15
           },
           "zerolinecolor": "white",
           "zerolinewidth": 2
          },
          "yaxis": {
           "automargin": true,
           "gridcolor": "white",
           "linecolor": "white",
           "ticks": "",
           "title": {
            "standoff": 15
           },
           "zerolinecolor": "white",
           "zerolinewidth": 2
          }
         }
        },
        "title": {
         "text": "Top 10 diagnoses per cluster"
        }
       }
      }
     },
     "metadata": {},
     "output_type": "display_data"
    }
   ],
   "source": [
    "import plotly.graph_objects as go\n",
    "from plotly.subplots import make_subplots\n",
    "\n",
    "# get consultatons whch have at least one diagnoss from top 10\n",
    "diagnoses_per_cluster = rw_diagnoses[top10_diagnoses[\"diagnosis\"]]\n",
    "diagnoses_per_cluster = diagnoses_per_cluster[idx_consultations_with_top10_diagnoses]\n",
    "\n",
    "# add cluster result to diagnoses\n",
    "diagnoses_per_cluster[\"cluster\"] = preprocessed_features[\"cluster\"]\n",
    "diagnoses_per_cluster = diagnoses_per_cluster.groupby(\"cluster\").sum().reset_index()\n",
    "diagnoses_per_cluster = pd.melt(\n",
    "    diagnoses_per_cluster,\n",
    "    id_vars=[\"cluster\"], \n",
    "    value_vars=diagnoses_per_cluster.columns.drop(\"cluster\"),\n",
    "    var_name=\"diagnosis\", value_name=\"number_consultations\"\n",
    ")\n",
    "\n",
    "clusters = sorted(diagnoses_per_cluster[\"cluster\"].unique())\n",
    "\n",
    "# print diagnoses and the clusters they are in if they are not present in every cluster\n",
    "diagnoses_cluster_appearance = diagnoses_per_cluster.groupby(\"diagnosis\").size().reset_index(name=\"number_cluster_appearance\")\n",
    "print(\"Diagnoses determining clusters:\", diagnoses_cluster_appearance[diagnoses_cluster_appearance[\"number_cluster_appearance\"]<len(clusters)])\n",
    "\n",
    "# plot diagnoses distribution\n",
    "fig_diagnoses = px.bar(\n",
    "    diagnoses_per_cluster, \n",
    "    x=\"cluster\", \n",
    "    y=\"number_consultations\", \n",
    "    animation_frame=\"diagnosis\",\n",
    "    barmode=\"group\", \n",
    "    title=\"Number of consultations with respective diagnosis per cluster\",  \n",
    ")\n",
    "fig_diagnoses.show()\n",
    "\n",
    "# plot top 10 diagnosis per cluster and other diagnoses are summarized as \"Other\"\n",
    "# create subplots: use 'domain' type for Pie subplot for each cluster\n",
    "fig = make_subplots(rows=1, cols=len(clusters), specs=[[{'type':'domain'} for c in clusters]])\n",
    "for cluster in clusters:\n",
    "    diagnoses_composition = diagnoses_per_cluster.loc[diagnoses_per_cluster[\"cluster\"] == cluster, [\"diagnosis\", \"number_consultations\"]].sort_values(by=\"number_consultations\", ascending=False).reset_index(drop=True)\n",
    "    \n",
    "    # get only top 10 and compute \"other\" diagnoses\n",
    "    sum_other_diagnoses = diagnoses_composition.loc[11:,\"number_consultations\"].sum()\n",
    "    diagnoses_composition = diagnoses_composition[:10]\n",
    "    diagnoses_composition.loc[diagnoses_composition.shape[0]] = {\"diagnosis\":\"other\", \"number_consultations\":sum_other_diagnoses}\n",
    "    fig.add_trace(\n",
    "        go.Pie(labels=diagnoses_composition[\"diagnosis\"], values=diagnoses_composition[\"number_consultations\"], name=\"Cluster \"+str(cluster)), \n",
    "        1, [int(cluster+1)]\n",
    "    )\n",
    "\n",
    "# Use `hole` to create a donut-like pie chart\n",
    "fig.update_traces(hoverinfo=\"label+percent+name\")\n",
    "\n",
    "fig.update_layout(\n",
    "    title_text=\"Top 10 diagnoses per cluster\",\n",
    ")\n",
    "fig.show()"
   ]
  },
  {
   "cell_type": "code",
   "execution_count": 52,
   "metadata": {},
   "outputs": [
    {
     "name": "stdout",
     "output_type": "stream",
     "text": [
      "CV F1 score of diagnoses based classifier for clustering is 0.5317279937521867\n"
     ]
    },
    {
     "data": {
      "image/png": "[encoded data removed]",
      "text/plain": [
       "<Figure size 1500x1000 with 1 Axes>"
      ]
     },
     "metadata": {},
     "output_type": "display_data"
    }
   ],
   "source": [
    "# build lgbm classifier with diagnoses as features to see how well they explain the labels\n",
    "import lightgbm as lgb # was chosen as mutlinominal regression did not converge and because it is later used due to its advantage of being able to take in categorical values\n",
    "from sklearn.model_selection import cross_val_score\n",
    "import shap\n",
    "import re\n",
    "\n",
    "# get features for lgbm classifier\n",
    "diagnoses_features = rw_diagnoses[top10_diagnoses[\"diagnosis\"]]\n",
    "diagnoses_features = diagnoses_features[idx_consultations_with_top10_diagnoses]\n",
    "\n",
    "# rename columns so that lgb can read them\n",
    "diagnoses_features.columns = [re.sub('[^A-Za-z0-9_]+', ' ', c) for c in diagnoses_features.columns]\n",
    "\n",
    "# get labels\n",
    "labels = preprocessed_features[\"cluster\"]\n",
    "\n",
    "# check how good dagnoses explan clusters: the higher F1 the better\n",
    "clf = lgb.LGBMClassifier() # did not converge: LogisticRegression(multi_class=\"multinomial\", penalty=None, solver=\"saga\", max_iter=1000) \n",
    "cv_scores = cross_val_score(clf, diagnoses_features, labels, scoring='f1_weighted')\n",
    "print(f\"CV F1 score of diagnoses based classifier for clustering is {np.mean(cv_scores)}\")\n",
    "\n",
    "# check how diagnoses_features are used to explain the label\n",
    "clf.fit(diagnoses_features, labels) # fit model\n",
    "\n",
    "#SHAP values to determine how features are used for classification\n",
    "explainer = shap.TreeExplainer(clf)\n",
    "shap_values = explainer.shap_values(diagnoses_features)\n",
    "shap.summary_plot(\n",
    "    shap_values, \n",
    "    diagnoses_features, \n",
    "    plot_type=\"bar\", \n",
    "    plot_size=(15, 10), \n",
    "    title=\"Average impact of diagnoses on classification of labels from clustering\"\n",
    ")"
   ]
  },
  {
   "attachments": {},
   "cell_type": "markdown",
   "metadata": {},
   "source": [
    "## examine symptoms per cluster:\n",
    "- do symptoms in cluster match the diagnosis of the same cluster found in step before? --> Are patients correctly assigned to diagnoses?\n",
    "- do clusters not assignable to diagnoses in step before have symptoms that indicate a diagnoses that has been missed by the decision tree?"
   ]
  },
  {
   "cell_type": "code",
   "execution_count": 49,
   "metadata": {},
   "outputs": [
    {
     "name": "stdout",
     "output_type": "stream",
     "text": [
      "CV F1 score of feature based classifier for clustering is 0.9991375932535442\n"
     ]
    },
    {
     "data": {
      "image/png": "[encoded data removed]",
      "text/plain": [
       "<Figure size 1500x1000 with 1 Axes>"
      ]
     },
     "metadata": {},
     "output_type": "display_data"
    }
   ],
   "source": [
    "# get how symptoms explain clusters\n",
    "lgbm_data = preprocessed_features.drop(columns=[\"cluster\"])\n",
    "\n",
    "# rename columns so that lgb can read them\n",
    "lgbm_data.columns = [re.sub(r'(>)|(<)', lambda m: 'higher' if m.group(1) else 'lower', c) for c in lgbm_data.columns] # essental to ensure that columns are stll dstnct after next lne of code\n",
    "lgbm_data.columns = [re.sub('[^A-Za-z0-9_]+', ' ', c) for c in lgbm_data.columns]\n",
    "\n",
    "# check how good the clusters are: the higher F1 the better\n",
    "clf = lgb.LGBMClassifier() #colsample_by_tree=0.8\n",
    "cv_scores = cross_val_score(clf, lgbm_data, labels, scoring='f1_weighted')\n",
    "print(f\"CV F1 score of feature based classifier for clustering is {np.mean(cv_scores)}\")\n",
    "\n",
    "# check how features are used to explain the label\n",
    "clf.fit(lgbm_data, labels) # fit model\n",
    "\n",
    "#SHAP values to determine how features are used for classification\n",
    "explainer = shap.TreeExplainer(clf)\n",
    "shap_values = explainer.shap_values(lgbm_data)\n",
    "shap.summary_plot(shap_values, lgbm_data, plot_type=\"bar\", plot_size=(15, 10), show=False)\n",
    "plt.title(\"Average impact of feature on classification of labels\", y=1.75)\n",
    "plt.show()"
   ]
  },
  {
   "attachments": {},
   "cell_type": "markdown",
   "metadata": {},
   "source": [
    "# Conclusion"
   ]
  }
 ],
 "metadata": {
  "kernelspec": {
   "display_name": "Python 3",
   "language": "python",
   "name": "python3"
  },
  "language_info": {
   "codemirror_mode": {
    "name": "ipython",
    "version": 3
   },
   "file_extension": ".py",
   "mimetype": "text/x-python",
   "name": "python",
   "nbconvert_exporter": "python",
   "pygments_lexer": "ipython3",
   "version": "3.10.5"
  },
  "orig_nbformat": 4
 },
 "nbformat": 4,
 "nbformat_minor": 2
}
