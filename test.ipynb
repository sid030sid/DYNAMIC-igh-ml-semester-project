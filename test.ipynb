{
 "cells": [
  {
   "cell_type": "code",
   "execution_count": 2,
   "metadata": {},
   "outputs": [],
   "source": [
    "import pandas as pd\n",
    "import numpy as np\n",
    "import matplotlib.pyplot as plt\n",
    "import plotly.express as px\n",
    "import seaborn as sb"
   ]
  },
  {
   "cell_type": "code",
   "execution_count": 3,
   "metadata": {},
   "outputs": [],
   "source": [
    "rw_data = pd.read_pickle(\"data/rw-cleaned-prepared-dynamic-data-phase1.pickle\")"
   ]
  },
  {
   "cell_type": "code",
   "execution_count": 16,
   "metadata": {},
   "outputs": [
    {
     "name": "stdout",
     "output_type": "stream",
     "text": [
      "number of diagnoses considered by CDSS: 267\n",
      "number of signs and symptoms considered by CDSS: 917\n"
     ]
    }
   ],
   "source": [
    "# count diagnoses\n",
    "diagnoses_columns = [col for col in rw_data.columns if \"DF\" == col[0:2]]\n",
    "diagnoses = np.unique([col.split(\" - \")[1] for col in diagnoses_columns])\n",
    "print(\"number of diagnoses considered by CDSS:\", len(diagnoses))\n",
    "\n",
    "# count signs and symptoms = total number columns - count diagnoses columns - count columns for administration\n",
    "print(\"number of signs and symptoms considered by CDSS:\", rw_data.shape[1] - len(diagnoses_columns) - len([col for col in rw_data.columns if not \"-\" in col]))"
   ]
  }
 ],
 "metadata": {
  "kernelspec": {
   "display_name": "Python 3",
   "language": "python",
   "name": "python3"
  },
  "language_info": {
   "codemirror_mode": {
    "name": "ipython",
    "version": 3
   },
   "file_extension": ".py",
   "mimetype": "text/x-python",
   "name": "python",
   "nbconvert_exporter": "python",
   "pygments_lexer": "ipython3",
   "version": "3.10.5"
  },
  "orig_nbformat": 4
 },
 "nbformat": 4,
 "nbformat_minor": 2
}
